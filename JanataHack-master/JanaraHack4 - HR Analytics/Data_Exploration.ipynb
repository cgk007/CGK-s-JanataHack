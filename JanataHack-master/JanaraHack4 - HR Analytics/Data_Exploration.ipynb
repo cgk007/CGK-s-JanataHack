{
  "nbformat": 4,
  "nbformat_minor": 0,
  "metadata": {
    "kernelspec": {
      "display_name": "Python 3",
      "language": "python",
      "name": "python3"
    },
    "language_info": {
      "codemirror_mode": {
        "name": "ipython",
        "version": 3
      },
      "file_extension": ".py",
      "mimetype": "text/x-python",
      "name": "python",
      "nbconvert_exporter": "python",
      "pygments_lexer": "ipython3",
      "version": "3.7.4"
    },
    "colab": {
      "name": "Data Exploration.ipynb",
      "provenance": [],
      "collapsed_sections": []
    },
    "accelerator": "GPU"
  },
  "cells": [
    {
      "cell_type": "code",
      "metadata": {
        "id": "pgKSjpMlew1G",
        "colab_type": "code",
        "outputId": "4eb35904-96fb-44a0-e088-9e61256d93c8",
        "colab": {
          "base_uri": "https://localhost:8080/",
          "height": 122
        }
      },
      "source": [
        "from google.colab import drive\n",
        "drive.mount('/content/drive')"
      ],
      "execution_count": 0,
      "outputs": [
        {
          "output_type": "stream",
          "text": [
            "Go to this URL in a browser: https://accounts.google.com/o/oauth2/auth?client_id=947318989803-6bn6qk8qdgf4n4g3pfee6491hc0brc4i.apps.googleusercontent.com&redirect_uri=urn%3aietf%3awg%3aoauth%3a2.0%3aoob&response_type=code&scope=email%20https%3a%2f%2fwww.googleapis.com%2fauth%2fdocs.test%20https%3a%2f%2fwww.googleapis.com%2fauth%2fdrive%20https%3a%2f%2fwww.googleapis.com%2fauth%2fdrive.photos.readonly%20https%3a%2f%2fwww.googleapis.com%2fauth%2fpeopleapi.readonly\n",
            "\n",
            "Enter your authorization code:\n",
            "··········\n",
            "Mounted at /content/drive\n"
          ],
          "name": "stdout"
        }
      ]
    },
    {
      "cell_type": "code",
      "metadata": {
        "id": "LKFCXA7pep7x",
        "colab_type": "code",
        "colab": {}
      },
      "source": [
        "import pandas as pd\n",
        "import seaborn as sns\n",
        "import matplotlib.pyplot as plt\n",
        "import numpy as np\n",
        "\n",
        "%matplotlib inline"
      ],
      "execution_count": 0,
      "outputs": []
    },
    {
      "cell_type": "code",
      "metadata": {
        "id": "EJcLlXMlep74",
        "colab_type": "code",
        "outputId": "c3ad4dc6-a443-47fe-bb65-e9d042136497",
        "colab": {
          "base_uri": "https://localhost:8080/",
          "height": 224
        }
      },
      "source": [
        "df = pd.read_csv('/content/drive/My Drive/train_1.csv')\n",
        "df.head()"
      ],
      "execution_count": 349,
      "outputs": [
        {
          "output_type": "execute_result",
          "data": {
            "text/html": [
              "<div>\n",
              "<style scoped>\n",
              "    .dataframe tbody tr th:only-of-type {\n",
              "        vertical-align: middle;\n",
              "    }\n",
              "\n",
              "    .dataframe tbody tr th {\n",
              "        vertical-align: top;\n",
              "    }\n",
              "\n",
              "    .dataframe thead th {\n",
              "        text-align: right;\n",
              "    }\n",
              "</style>\n",
              "<table border=\"1\" class=\"dataframe\">\n",
              "  <thead>\n",
              "    <tr style=\"text-align: right;\">\n",
              "      <th></th>\n",
              "      <th>enrollee_id</th>\n",
              "      <th>city</th>\n",
              "      <th>city_development_index</th>\n",
              "      <th>gender</th>\n",
              "      <th>relevent_experience</th>\n",
              "      <th>enrolled_university</th>\n",
              "      <th>education_level</th>\n",
              "      <th>major_discipline</th>\n",
              "      <th>experience</th>\n",
              "      <th>company_size</th>\n",
              "      <th>company_type</th>\n",
              "      <th>last_new_job</th>\n",
              "      <th>training_hours</th>\n",
              "      <th>target</th>\n",
              "    </tr>\n",
              "  </thead>\n",
              "  <tbody>\n",
              "    <tr>\n",
              "      <th>0</th>\n",
              "      <td>23798</td>\n",
              "      <td>city_149</td>\n",
              "      <td>0.689</td>\n",
              "      <td>Male</td>\n",
              "      <td>Has relevent experience</td>\n",
              "      <td>no_enrollment</td>\n",
              "      <td>Graduate</td>\n",
              "      <td>STEM</td>\n",
              "      <td>3</td>\n",
              "      <td>100-500</td>\n",
              "      <td>Pvt Ltd</td>\n",
              "      <td>1</td>\n",
              "      <td>106</td>\n",
              "      <td>0</td>\n",
              "    </tr>\n",
              "    <tr>\n",
              "      <th>1</th>\n",
              "      <td>29166</td>\n",
              "      <td>city_83</td>\n",
              "      <td>0.923</td>\n",
              "      <td>Male</td>\n",
              "      <td>Has relevent experience</td>\n",
              "      <td>no_enrollment</td>\n",
              "      <td>Graduate</td>\n",
              "      <td>STEM</td>\n",
              "      <td>14</td>\n",
              "      <td>&lt;10</td>\n",
              "      <td>Funded Startup</td>\n",
              "      <td>1</td>\n",
              "      <td>69</td>\n",
              "      <td>0</td>\n",
              "    </tr>\n",
              "    <tr>\n",
              "      <th>2</th>\n",
              "      <td>46</td>\n",
              "      <td>city_16</td>\n",
              "      <td>0.910</td>\n",
              "      <td>NaN</td>\n",
              "      <td>Has relevent experience</td>\n",
              "      <td>no_enrollment</td>\n",
              "      <td>Graduate</td>\n",
              "      <td>STEM</td>\n",
              "      <td>6</td>\n",
              "      <td>50-99</td>\n",
              "      <td>Public Sector</td>\n",
              "      <td>2</td>\n",
              "      <td>4</td>\n",
              "      <td>0</td>\n",
              "    </tr>\n",
              "    <tr>\n",
              "      <th>3</th>\n",
              "      <td>18527</td>\n",
              "      <td>city_64</td>\n",
              "      <td>0.666</td>\n",
              "      <td>Male</td>\n",
              "      <td>Has relevent experience</td>\n",
              "      <td>no_enrollment</td>\n",
              "      <td>Graduate</td>\n",
              "      <td>STEM</td>\n",
              "      <td>14</td>\n",
              "      <td>50-99</td>\n",
              "      <td>Pvt Ltd</td>\n",
              "      <td>1</td>\n",
              "      <td>26</td>\n",
              "      <td>0</td>\n",
              "    </tr>\n",
              "    <tr>\n",
              "      <th>4</th>\n",
              "      <td>21751</td>\n",
              "      <td>city_100</td>\n",
              "      <td>0.887</td>\n",
              "      <td>NaN</td>\n",
              "      <td>No relevent experience</td>\n",
              "      <td>no_enrollment</td>\n",
              "      <td>Masters</td>\n",
              "      <td>STEM</td>\n",
              "      <td>8</td>\n",
              "      <td>NaN</td>\n",
              "      <td>NaN</td>\n",
              "      <td>2</td>\n",
              "      <td>88</td>\n",
              "      <td>1</td>\n",
              "    </tr>\n",
              "  </tbody>\n",
              "</table>\n",
              "</div>"
            ],
            "text/plain": [
              "   enrollee_id      city  ...  training_hours target\n",
              "0        23798  city_149  ...             106      0\n",
              "1        29166   city_83  ...              69      0\n",
              "2           46   city_16  ...               4      0\n",
              "3        18527   city_64  ...              26      0\n",
              "4        21751  city_100  ...              88      1\n",
              "\n",
              "[5 rows x 14 columns]"
            ]
          },
          "metadata": {
            "tags": []
          },
          "execution_count": 349
        }
      ]
    },
    {
      "cell_type": "code",
      "metadata": {
        "id": "DCakC-Abep79",
        "colab_type": "code",
        "outputId": "24f2eee9-4480-4151-e42c-e0437b60d03a",
        "colab": {
          "base_uri": "https://localhost:8080/",
          "height": 272
        }
      },
      "source": [
        "df.isnull().sum()"
      ],
      "execution_count": 350,
      "outputs": [
        {
          "output_type": "execute_result",
          "data": {
            "text/plain": [
              "enrollee_id                  0\n",
              "city                         0\n",
              "city_development_index       0\n",
              "gender                    4098\n",
              "relevent_experience          0\n",
              "enrolled_university        342\n",
              "education_level            457\n",
              "major_discipline          2838\n",
              "experience                  59\n",
              "company_size              4779\n",
              "company_type              5039\n",
              "last_new_job               367\n",
              "training_hours               0\n",
              "target                       0\n",
              "dtype: int64"
            ]
          },
          "metadata": {
            "tags": []
          },
          "execution_count": 350
        }
      ]
    },
    {
      "cell_type": "code",
      "metadata": {
        "id": "FhmCwU31ep8C",
        "colab_type": "code",
        "outputId": "52ea5745-5ade-424a-f555-164fea19bc90",
        "colab": {
          "base_uri": "https://localhost:8080/",
          "height": 374
        }
      },
      "source": [
        "df.info()"
      ],
      "execution_count": 351,
      "outputs": [
        {
          "output_type": "stream",
          "text": [
            "<class 'pandas.core.frame.DataFrame'>\n",
            "RangeIndex: 18359 entries, 0 to 18358\n",
            "Data columns (total 14 columns):\n",
            " #   Column                  Non-Null Count  Dtype  \n",
            "---  ------                  --------------  -----  \n",
            " 0   enrollee_id             18359 non-null  int64  \n",
            " 1   city                    18359 non-null  object \n",
            " 2   city_development_index  18359 non-null  float64\n",
            " 3   gender                  14261 non-null  object \n",
            " 4   relevent_experience     18359 non-null  object \n",
            " 5   enrolled_university     18017 non-null  object \n",
            " 6   education_level         17902 non-null  object \n",
            " 7   major_discipline        15521 non-null  object \n",
            " 8   experience              18300 non-null  object \n",
            " 9   company_size            13580 non-null  object \n",
            " 10  company_type            13320 non-null  object \n",
            " 11  last_new_job            17992 non-null  object \n",
            " 12  training_hours          18359 non-null  int64  \n",
            " 13  target                  18359 non-null  int64  \n",
            "dtypes: float64(1), int64(3), object(10)\n",
            "memory usage: 2.0+ MB\n"
          ],
          "name": "stdout"
        }
      ]
    },
    {
      "cell_type": "code",
      "metadata": {
        "id": "ixIw2Js_ep8G",
        "colab_type": "code",
        "outputId": "4f96ed87-de4f-4653-8d06-a5e2988c25b7",
        "colab": {
          "base_uri": "https://localhost:8080/",
          "height": 286
        }
      },
      "source": [
        "df.groupby(['gender','target']).count()"
      ],
      "execution_count": 352,
      "outputs": [
        {
          "output_type": "execute_result",
          "data": {
            "text/html": [
              "<div>\n",
              "<style scoped>\n",
              "    .dataframe tbody tr th:only-of-type {\n",
              "        vertical-align: middle;\n",
              "    }\n",
              "\n",
              "    .dataframe tbody tr th {\n",
              "        vertical-align: top;\n",
              "    }\n",
              "\n",
              "    .dataframe thead th {\n",
              "        text-align: right;\n",
              "    }\n",
              "</style>\n",
              "<table border=\"1\" class=\"dataframe\">\n",
              "  <thead>\n",
              "    <tr style=\"text-align: right;\">\n",
              "      <th></th>\n",
              "      <th></th>\n",
              "      <th>enrollee_id</th>\n",
              "      <th>city</th>\n",
              "      <th>city_development_index</th>\n",
              "      <th>relevent_experience</th>\n",
              "      <th>enrolled_university</th>\n",
              "      <th>education_level</th>\n",
              "      <th>major_discipline</th>\n",
              "      <th>experience</th>\n",
              "      <th>company_size</th>\n",
              "      <th>company_type</th>\n",
              "      <th>last_new_job</th>\n",
              "      <th>training_hours</th>\n",
              "    </tr>\n",
              "    <tr>\n",
              "      <th>gender</th>\n",
              "      <th>target</th>\n",
              "      <th></th>\n",
              "      <th></th>\n",
              "      <th></th>\n",
              "      <th></th>\n",
              "      <th></th>\n",
              "      <th></th>\n",
              "      <th></th>\n",
              "      <th></th>\n",
              "      <th></th>\n",
              "      <th></th>\n",
              "      <th></th>\n",
              "      <th></th>\n",
              "    </tr>\n",
              "  </thead>\n",
              "  <tbody>\n",
              "    <tr>\n",
              "      <th rowspan=\"2\" valign=\"top\">Female</th>\n",
              "      <th>0</th>\n",
              "      <td>1009</td>\n",
              "      <td>1009</td>\n",
              "      <td>1009</td>\n",
              "      <td>1009</td>\n",
              "      <td>999</td>\n",
              "      <td>1002</td>\n",
              "      <td>944</td>\n",
              "      <td>1006</td>\n",
              "      <td>832</td>\n",
              "      <td>795</td>\n",
              "      <td>1006</td>\n",
              "      <td>1009</td>\n",
              "    </tr>\n",
              "    <tr>\n",
              "      <th>1</th>\n",
              "      <td>179</td>\n",
              "      <td>179</td>\n",
              "      <td>179</td>\n",
              "      <td>179</td>\n",
              "      <td>177</td>\n",
              "      <td>178</td>\n",
              "      <td>165</td>\n",
              "      <td>179</td>\n",
              "      <td>107</td>\n",
              "      <td>113</td>\n",
              "      <td>178</td>\n",
              "      <td>179</td>\n",
              "    </tr>\n",
              "    <tr>\n",
              "      <th rowspan=\"2\" valign=\"top\">Male</th>\n",
              "      <th>0</th>\n",
              "      <td>11306</td>\n",
              "      <td>11306</td>\n",
              "      <td>11306</td>\n",
              "      <td>11306</td>\n",
              "      <td>11166</td>\n",
              "      <td>11085</td>\n",
              "      <td>9617</td>\n",
              "      <td>11298</td>\n",
              "      <td>8700</td>\n",
              "      <td>8569</td>\n",
              "      <td>11255</td>\n",
              "      <td>11306</td>\n",
              "    </tr>\n",
              "    <tr>\n",
              "      <th>1</th>\n",
              "      <td>1578</td>\n",
              "      <td>1578</td>\n",
              "      <td>1578</td>\n",
              "      <td>1578</td>\n",
              "      <td>1553</td>\n",
              "      <td>1548</td>\n",
              "      <td>1370</td>\n",
              "      <td>1576</td>\n",
              "      <td>1016</td>\n",
              "      <td>1013</td>\n",
              "      <td>1570</td>\n",
              "      <td>1578</td>\n",
              "    </tr>\n",
              "    <tr>\n",
              "      <th rowspan=\"2\" valign=\"top\">Other</th>\n",
              "      <th>0</th>\n",
              "      <td>160</td>\n",
              "      <td>160</td>\n",
              "      <td>160</td>\n",
              "      <td>160</td>\n",
              "      <td>152</td>\n",
              "      <td>153</td>\n",
              "      <td>117</td>\n",
              "      <td>158</td>\n",
              "      <td>109</td>\n",
              "      <td>102</td>\n",
              "      <td>160</td>\n",
              "      <td>160</td>\n",
              "    </tr>\n",
              "    <tr>\n",
              "      <th>1</th>\n",
              "      <td>29</td>\n",
              "      <td>29</td>\n",
              "      <td>29</td>\n",
              "      <td>29</td>\n",
              "      <td>25</td>\n",
              "      <td>27</td>\n",
              "      <td>22</td>\n",
              "      <td>28</td>\n",
              "      <td>16</td>\n",
              "      <td>15</td>\n",
              "      <td>29</td>\n",
              "      <td>29</td>\n",
              "    </tr>\n",
              "  </tbody>\n",
              "</table>\n",
              "</div>"
            ],
            "text/plain": [
              "               enrollee_id   city  ...  last_new_job  training_hours\n",
              "gender target                      ...                              \n",
              "Female 0              1009   1009  ...          1006            1009\n",
              "       1               179    179  ...           178             179\n",
              "Male   0             11306  11306  ...         11255           11306\n",
              "       1              1578   1578  ...          1570            1578\n",
              "Other  0               160    160  ...           160             160\n",
              "       1                29     29  ...            29              29\n",
              "\n",
              "[6 rows x 12 columns]"
            ]
          },
          "metadata": {
            "tags": []
          },
          "execution_count": 352
        }
      ]
    },
    {
      "cell_type": "code",
      "metadata": {
        "id": "Soo-EnxYep8K",
        "colab_type": "code",
        "outputId": "df9013ad-aeb8-4b38-98d9-09a738f3257e",
        "colab": {
          "base_uri": "https://localhost:8080/",
          "height": 193
        }
      },
      "source": [
        "df.groupby('gender').count()"
      ],
      "execution_count": 353,
      "outputs": [
        {
          "output_type": "execute_result",
          "data": {
            "text/html": [
              "<div>\n",
              "<style scoped>\n",
              "    .dataframe tbody tr th:only-of-type {\n",
              "        vertical-align: middle;\n",
              "    }\n",
              "\n",
              "    .dataframe tbody tr th {\n",
              "        vertical-align: top;\n",
              "    }\n",
              "\n",
              "    .dataframe thead th {\n",
              "        text-align: right;\n",
              "    }\n",
              "</style>\n",
              "<table border=\"1\" class=\"dataframe\">\n",
              "  <thead>\n",
              "    <tr style=\"text-align: right;\">\n",
              "      <th></th>\n",
              "      <th>enrollee_id</th>\n",
              "      <th>city</th>\n",
              "      <th>city_development_index</th>\n",
              "      <th>relevent_experience</th>\n",
              "      <th>enrolled_university</th>\n",
              "      <th>education_level</th>\n",
              "      <th>major_discipline</th>\n",
              "      <th>experience</th>\n",
              "      <th>company_size</th>\n",
              "      <th>company_type</th>\n",
              "      <th>last_new_job</th>\n",
              "      <th>training_hours</th>\n",
              "      <th>target</th>\n",
              "    </tr>\n",
              "    <tr>\n",
              "      <th>gender</th>\n",
              "      <th></th>\n",
              "      <th></th>\n",
              "      <th></th>\n",
              "      <th></th>\n",
              "      <th></th>\n",
              "      <th></th>\n",
              "      <th></th>\n",
              "      <th></th>\n",
              "      <th></th>\n",
              "      <th></th>\n",
              "      <th></th>\n",
              "      <th></th>\n",
              "      <th></th>\n",
              "    </tr>\n",
              "  </thead>\n",
              "  <tbody>\n",
              "    <tr>\n",
              "      <th>Female</th>\n",
              "      <td>1188</td>\n",
              "      <td>1188</td>\n",
              "      <td>1188</td>\n",
              "      <td>1188</td>\n",
              "      <td>1176</td>\n",
              "      <td>1180</td>\n",
              "      <td>1109</td>\n",
              "      <td>1185</td>\n",
              "      <td>939</td>\n",
              "      <td>908</td>\n",
              "      <td>1184</td>\n",
              "      <td>1188</td>\n",
              "      <td>1188</td>\n",
              "    </tr>\n",
              "    <tr>\n",
              "      <th>Male</th>\n",
              "      <td>12884</td>\n",
              "      <td>12884</td>\n",
              "      <td>12884</td>\n",
              "      <td>12884</td>\n",
              "      <td>12719</td>\n",
              "      <td>12633</td>\n",
              "      <td>10987</td>\n",
              "      <td>12874</td>\n",
              "      <td>9716</td>\n",
              "      <td>9582</td>\n",
              "      <td>12825</td>\n",
              "      <td>12884</td>\n",
              "      <td>12884</td>\n",
              "    </tr>\n",
              "    <tr>\n",
              "      <th>Other</th>\n",
              "      <td>189</td>\n",
              "      <td>189</td>\n",
              "      <td>189</td>\n",
              "      <td>189</td>\n",
              "      <td>177</td>\n",
              "      <td>180</td>\n",
              "      <td>139</td>\n",
              "      <td>186</td>\n",
              "      <td>125</td>\n",
              "      <td>117</td>\n",
              "      <td>189</td>\n",
              "      <td>189</td>\n",
              "      <td>189</td>\n",
              "    </tr>\n",
              "  </tbody>\n",
              "</table>\n",
              "</div>"
            ],
            "text/plain": [
              "        enrollee_id   city  ...  training_hours  target\n",
              "gender                      ...                        \n",
              "Female         1188   1188  ...            1188    1188\n",
              "Male          12884  12884  ...           12884   12884\n",
              "Other           189    189  ...             189     189\n",
              "\n",
              "[3 rows x 13 columns]"
            ]
          },
          "metadata": {
            "tags": []
          },
          "execution_count": 353
        }
      ]
    },
    {
      "cell_type": "markdown",
      "metadata": {
        "id": "Vvu6Z9oqep8O",
        "colab_type": "text"
      },
      "source": [
        "df.groupby('target').count()"
      ]
    },
    {
      "cell_type": "markdown",
      "metadata": {
        "id": "xk7463e4ep8P",
        "colab_type": "text"
      },
      "source": [
        "12884/1188 = 10.845 (M/F ratio) <br>\n",
        "11306/1009 = 11.205 (M/F for 0 ratio)<br>\n",
        "1578/179 = 8.81 (M/F for 1 ratio)<br>\n",
        "1786/12475 = 0.14316 (0/1 ratio)<br>\n",
        "1578/11306 = 0.1395 (0/1 for men)<br>\n",
        "179/1009 = 0.1774 (0/1 for women)<br>\n",
        "\n",
        "# Can Conclude gender doesn't play a significant role in deciding the target as all 0/1 ratios are very close"
      ]
    },
    {
      "cell_type": "markdown",
      "metadata": {
        "id": "vn9o07HVep8P",
        "colab_type": "text"
      },
      "source": [
        "## Removing Nan in Experience"
      ]
    },
    {
      "cell_type": "code",
      "metadata": {
        "id": "ZrCWlL5_ep8R",
        "colab_type": "code",
        "outputId": "1ebfc139-11ef-4ad8-a681-4cc491195c51",
        "colab": {
          "base_uri": "https://localhost:8080/",
          "height": 224
        }
      },
      "source": [
        "df.head()"
      ],
      "execution_count": 354,
      "outputs": [
        {
          "output_type": "execute_result",
          "data": {
            "text/html": [
              "<div>\n",
              "<style scoped>\n",
              "    .dataframe tbody tr th:only-of-type {\n",
              "        vertical-align: middle;\n",
              "    }\n",
              "\n",
              "    .dataframe tbody tr th {\n",
              "        vertical-align: top;\n",
              "    }\n",
              "\n",
              "    .dataframe thead th {\n",
              "        text-align: right;\n",
              "    }\n",
              "</style>\n",
              "<table border=\"1\" class=\"dataframe\">\n",
              "  <thead>\n",
              "    <tr style=\"text-align: right;\">\n",
              "      <th></th>\n",
              "      <th>enrollee_id</th>\n",
              "      <th>city</th>\n",
              "      <th>city_development_index</th>\n",
              "      <th>gender</th>\n",
              "      <th>relevent_experience</th>\n",
              "      <th>enrolled_university</th>\n",
              "      <th>education_level</th>\n",
              "      <th>major_discipline</th>\n",
              "      <th>experience</th>\n",
              "      <th>company_size</th>\n",
              "      <th>company_type</th>\n",
              "      <th>last_new_job</th>\n",
              "      <th>training_hours</th>\n",
              "      <th>target</th>\n",
              "    </tr>\n",
              "  </thead>\n",
              "  <tbody>\n",
              "    <tr>\n",
              "      <th>0</th>\n",
              "      <td>23798</td>\n",
              "      <td>city_149</td>\n",
              "      <td>0.689</td>\n",
              "      <td>Male</td>\n",
              "      <td>Has relevent experience</td>\n",
              "      <td>no_enrollment</td>\n",
              "      <td>Graduate</td>\n",
              "      <td>STEM</td>\n",
              "      <td>3</td>\n",
              "      <td>100-500</td>\n",
              "      <td>Pvt Ltd</td>\n",
              "      <td>1</td>\n",
              "      <td>106</td>\n",
              "      <td>0</td>\n",
              "    </tr>\n",
              "    <tr>\n",
              "      <th>1</th>\n",
              "      <td>29166</td>\n",
              "      <td>city_83</td>\n",
              "      <td>0.923</td>\n",
              "      <td>Male</td>\n",
              "      <td>Has relevent experience</td>\n",
              "      <td>no_enrollment</td>\n",
              "      <td>Graduate</td>\n",
              "      <td>STEM</td>\n",
              "      <td>14</td>\n",
              "      <td>&lt;10</td>\n",
              "      <td>Funded Startup</td>\n",
              "      <td>1</td>\n",
              "      <td>69</td>\n",
              "      <td>0</td>\n",
              "    </tr>\n",
              "    <tr>\n",
              "      <th>2</th>\n",
              "      <td>46</td>\n",
              "      <td>city_16</td>\n",
              "      <td>0.910</td>\n",
              "      <td>NaN</td>\n",
              "      <td>Has relevent experience</td>\n",
              "      <td>no_enrollment</td>\n",
              "      <td>Graduate</td>\n",
              "      <td>STEM</td>\n",
              "      <td>6</td>\n",
              "      <td>50-99</td>\n",
              "      <td>Public Sector</td>\n",
              "      <td>2</td>\n",
              "      <td>4</td>\n",
              "      <td>0</td>\n",
              "    </tr>\n",
              "    <tr>\n",
              "      <th>3</th>\n",
              "      <td>18527</td>\n",
              "      <td>city_64</td>\n",
              "      <td>0.666</td>\n",
              "      <td>Male</td>\n",
              "      <td>Has relevent experience</td>\n",
              "      <td>no_enrollment</td>\n",
              "      <td>Graduate</td>\n",
              "      <td>STEM</td>\n",
              "      <td>14</td>\n",
              "      <td>50-99</td>\n",
              "      <td>Pvt Ltd</td>\n",
              "      <td>1</td>\n",
              "      <td>26</td>\n",
              "      <td>0</td>\n",
              "    </tr>\n",
              "    <tr>\n",
              "      <th>4</th>\n",
              "      <td>21751</td>\n",
              "      <td>city_100</td>\n",
              "      <td>0.887</td>\n",
              "      <td>NaN</td>\n",
              "      <td>No relevent experience</td>\n",
              "      <td>no_enrollment</td>\n",
              "      <td>Masters</td>\n",
              "      <td>STEM</td>\n",
              "      <td>8</td>\n",
              "      <td>NaN</td>\n",
              "      <td>NaN</td>\n",
              "      <td>2</td>\n",
              "      <td>88</td>\n",
              "      <td>1</td>\n",
              "    </tr>\n",
              "  </tbody>\n",
              "</table>\n",
              "</div>"
            ],
            "text/plain": [
              "   enrollee_id      city  ...  training_hours target\n",
              "0        23798  city_149  ...             106      0\n",
              "1        29166   city_83  ...              69      0\n",
              "2           46   city_16  ...               4      0\n",
              "3        18527   city_64  ...              26      0\n",
              "4        21751  city_100  ...              88      1\n",
              "\n",
              "[5 rows x 14 columns]"
            ]
          },
          "metadata": {
            "tags": []
          },
          "execution_count": 354
        }
      ]
    },
    {
      "cell_type": "code",
      "metadata": {
        "id": "hY-FKmfaep8V",
        "colab_type": "code",
        "colab": {}
      },
      "source": [
        "def check(x):\n",
        "    if x == '>20':\n",
        "        return 20\n",
        "    elif x == '<1':\n",
        "        return 0\n",
        "    else:\n",
        "        return x"
      ],
      "execution_count": 0,
      "outputs": []
    },
    {
      "cell_type": "code",
      "metadata": {
        "id": "pCAc5YGuep8Y",
        "colab_type": "code",
        "colab": {}
      },
      "source": [
        "def convertint(x):\n",
        "    if isinstance(x,str):\n",
        "        return int(x)\n",
        "    else:\n",
        "        return x\n",
        "    "
      ],
      "execution_count": 0,
      "outputs": []
    },
    {
      "cell_type": "code",
      "metadata": {
        "id": "_l73XveVep8c",
        "colab_type": "code",
        "colab": {}
      },
      "source": [
        "df['experience'] = df['experience'].apply(lambda x : check(x))"
      ],
      "execution_count": 0,
      "outputs": []
    },
    {
      "cell_type": "code",
      "metadata": {
        "id": "eJDFoftoep8g",
        "colab_type": "code",
        "outputId": "c53e0c13-f6eb-4720-a699-95106ed11255",
        "colab": {
          "base_uri": "https://localhost:8080/",
          "height": 68
        }
      },
      "source": [
        "df['experience'].unique()"
      ],
      "execution_count": 358,
      "outputs": [
        {
          "output_type": "execute_result",
          "data": {
            "text/plain": [
              "array(['3', '14', '6', '8', 20, '4', '9', '15', '10', '1', '5', '16',\n",
              "       '11', '12', '7', '2', '13', 0, '19', '18', '17', nan, '20'],\n",
              "      dtype=object)"
            ]
          },
          "metadata": {
            "tags": []
          },
          "execution_count": 358
        }
      ]
    },
    {
      "cell_type": "code",
      "metadata": {
        "id": "kKU_JTP9ep8k",
        "colab_type": "code",
        "colab": {}
      },
      "source": [
        "df['experience'] = df['experience'].apply(lambda x : convertint(x))"
      ],
      "execution_count": 0,
      "outputs": []
    },
    {
      "cell_type": "code",
      "metadata": {
        "id": "xySTzP4bep8o",
        "colab_type": "code",
        "colab": {}
      },
      "source": [
        "tempdf = df[['relevent_experience','experience']]"
      ],
      "execution_count": 0,
      "outputs": []
    },
    {
      "cell_type": "code",
      "metadata": {
        "id": "6ILY9MMwep8r",
        "colab_type": "code",
        "outputId": "b8899a22-9a72-48c3-c742-d277a9bfb842",
        "colab": {
          "base_uri": "https://localhost:8080/",
          "height": 204
        }
      },
      "source": [
        "tempdf.head()"
      ],
      "execution_count": 361,
      "outputs": [
        {
          "output_type": "execute_result",
          "data": {
            "text/html": [
              "<div>\n",
              "<style scoped>\n",
              "    .dataframe tbody tr th:only-of-type {\n",
              "        vertical-align: middle;\n",
              "    }\n",
              "\n",
              "    .dataframe tbody tr th {\n",
              "        vertical-align: top;\n",
              "    }\n",
              "\n",
              "    .dataframe thead th {\n",
              "        text-align: right;\n",
              "    }\n",
              "</style>\n",
              "<table border=\"1\" class=\"dataframe\">\n",
              "  <thead>\n",
              "    <tr style=\"text-align: right;\">\n",
              "      <th></th>\n",
              "      <th>relevent_experience</th>\n",
              "      <th>experience</th>\n",
              "    </tr>\n",
              "  </thead>\n",
              "  <tbody>\n",
              "    <tr>\n",
              "      <th>0</th>\n",
              "      <td>Has relevent experience</td>\n",
              "      <td>3.0</td>\n",
              "    </tr>\n",
              "    <tr>\n",
              "      <th>1</th>\n",
              "      <td>Has relevent experience</td>\n",
              "      <td>14.0</td>\n",
              "    </tr>\n",
              "    <tr>\n",
              "      <th>2</th>\n",
              "      <td>Has relevent experience</td>\n",
              "      <td>6.0</td>\n",
              "    </tr>\n",
              "    <tr>\n",
              "      <th>3</th>\n",
              "      <td>Has relevent experience</td>\n",
              "      <td>14.0</td>\n",
              "    </tr>\n",
              "    <tr>\n",
              "      <th>4</th>\n",
              "      <td>No relevent experience</td>\n",
              "      <td>8.0</td>\n",
              "    </tr>\n",
              "  </tbody>\n",
              "</table>\n",
              "</div>"
            ],
            "text/plain": [
              "       relevent_experience  experience\n",
              "0  Has relevent experience         3.0\n",
              "1  Has relevent experience        14.0\n",
              "2  Has relevent experience         6.0\n",
              "3  Has relevent experience        14.0\n",
              "4   No relevent experience         8.0"
            ]
          },
          "metadata": {
            "tags": []
          },
          "execution_count": 361
        }
      ]
    },
    {
      "cell_type": "code",
      "metadata": {
        "id": "4rzeiZBFep8w",
        "colab_type": "code",
        "colab": {}
      },
      "source": [
        "tempdf = tempdf.dropna()"
      ],
      "execution_count": 0,
      "outputs": []
    },
    {
      "cell_type": "code",
      "metadata": {
        "id": "e8aGzAXdzId8",
        "colab_type": "code",
        "colab": {}
      },
      "source": [
        "\n"
      ],
      "execution_count": 0,
      "outputs": []
    },
    {
      "cell_type": "code",
      "metadata": {
        "id": "irUM7hcmep81",
        "colab_type": "code",
        "outputId": "9c1d1822-010e-43ed-a042-0c884098268e",
        "colab": {
          "base_uri": "https://localhost:8080/",
          "height": 142
        }
      },
      "source": [
        "tempdf.groupby('relevent_experience').mean()"
      ],
      "execution_count": 363,
      "outputs": [
        {
          "output_type": "execute_result",
          "data": {
            "text/html": [
              "<div>\n",
              "<style scoped>\n",
              "    .dataframe tbody tr th:only-of-type {\n",
              "        vertical-align: middle;\n",
              "    }\n",
              "\n",
              "    .dataframe tbody tr th {\n",
              "        vertical-align: top;\n",
              "    }\n",
              "\n",
              "    .dataframe thead th {\n",
              "        text-align: right;\n",
              "    }\n",
              "</style>\n",
              "<table border=\"1\" class=\"dataframe\">\n",
              "  <thead>\n",
              "    <tr style=\"text-align: right;\">\n",
              "      <th></th>\n",
              "      <th>experience</th>\n",
              "    </tr>\n",
              "    <tr>\n",
              "      <th>relevent_experience</th>\n",
              "      <th></th>\n",
              "    </tr>\n",
              "  </thead>\n",
              "  <tbody>\n",
              "    <tr>\n",
              "      <th>Has relevent experience</th>\n",
              "      <td>11.706381</td>\n",
              "    </tr>\n",
              "    <tr>\n",
              "      <th>No relevent experience</th>\n",
              "      <td>6.649526</td>\n",
              "    </tr>\n",
              "  </tbody>\n",
              "</table>\n",
              "</div>"
            ],
            "text/plain": [
              "                         experience\n",
              "relevent_experience                \n",
              "Has relevent experience   11.706381\n",
              "No relevent experience     6.649526"
            ]
          },
          "metadata": {
            "tags": []
          },
          "execution_count": 363
        }
      ]
    },
    {
      "cell_type": "code",
      "metadata": {
        "id": "ycdOEuICep85",
        "colab_type": "code",
        "outputId": "96b33819-f386-43d2-c425-ecc4f848c7f9",
        "colab": {
          "base_uri": "https://localhost:8080/",
          "height": 1000
        }
      },
      "source": [
        "df[df['experience'].isnull()== True]"
      ],
      "execution_count": 364,
      "outputs": [
        {
          "output_type": "execute_result",
          "data": {
            "text/html": [
              "<div>\n",
              "<style scoped>\n",
              "    .dataframe tbody tr th:only-of-type {\n",
              "        vertical-align: middle;\n",
              "    }\n",
              "\n",
              "    .dataframe tbody tr th {\n",
              "        vertical-align: top;\n",
              "    }\n",
              "\n",
              "    .dataframe thead th {\n",
              "        text-align: right;\n",
              "    }\n",
              "</style>\n",
              "<table border=\"1\" class=\"dataframe\">\n",
              "  <thead>\n",
              "    <tr style=\"text-align: right;\">\n",
              "      <th></th>\n",
              "      <th>enrollee_id</th>\n",
              "      <th>city</th>\n",
              "      <th>city_development_index</th>\n",
              "      <th>gender</th>\n",
              "      <th>relevent_experience</th>\n",
              "      <th>enrolled_university</th>\n",
              "      <th>education_level</th>\n",
              "      <th>major_discipline</th>\n",
              "      <th>experience</th>\n",
              "      <th>company_size</th>\n",
              "      <th>company_type</th>\n",
              "      <th>last_new_job</th>\n",
              "      <th>training_hours</th>\n",
              "      <th>target</th>\n",
              "    </tr>\n",
              "  </thead>\n",
              "  <tbody>\n",
              "    <tr>\n",
              "      <th>149</th>\n",
              "      <td>17077</td>\n",
              "      <td>city_134</td>\n",
              "      <td>0.698</td>\n",
              "      <td>NaN</td>\n",
              "      <td>No relevent experience</td>\n",
              "      <td>no_enrollment</td>\n",
              "      <td>NaN</td>\n",
              "      <td>NaN</td>\n",
              "      <td>NaN</td>\n",
              "      <td>NaN</td>\n",
              "      <td>NaN</td>\n",
              "      <td>never</td>\n",
              "      <td>106</td>\n",
              "      <td>0</td>\n",
              "    </tr>\n",
              "    <tr>\n",
              "      <th>940</th>\n",
              "      <td>23806</td>\n",
              "      <td>city_114</td>\n",
              "      <td>0.926</td>\n",
              "      <td>NaN</td>\n",
              "      <td>Has relevent experience</td>\n",
              "      <td>Full time course</td>\n",
              "      <td>NaN</td>\n",
              "      <td>NaN</td>\n",
              "      <td>NaN</td>\n",
              "      <td>100-500</td>\n",
              "      <td>NaN</td>\n",
              "      <td>1</td>\n",
              "      <td>35</td>\n",
              "      <td>0</td>\n",
              "    </tr>\n",
              "    <tr>\n",
              "      <th>1336</th>\n",
              "      <td>4823</td>\n",
              "      <td>city_123</td>\n",
              "      <td>0.738</td>\n",
              "      <td>NaN</td>\n",
              "      <td>Has relevent experience</td>\n",
              "      <td>no_enrollment</td>\n",
              "      <td>Graduate</td>\n",
              "      <td>STEM</td>\n",
              "      <td>NaN</td>\n",
              "      <td>100-500</td>\n",
              "      <td>Pvt Ltd</td>\n",
              "      <td>NaN</td>\n",
              "      <td>9</td>\n",
              "      <td>1</td>\n",
              "    </tr>\n",
              "    <tr>\n",
              "      <th>1445</th>\n",
              "      <td>17123</td>\n",
              "      <td>city_21</td>\n",
              "      <td>0.624</td>\n",
              "      <td>NaN</td>\n",
              "      <td>No relevent experience</td>\n",
              "      <td>Full time course</td>\n",
              "      <td>Graduate</td>\n",
              "      <td>STEM</td>\n",
              "      <td>NaN</td>\n",
              "      <td>NaN</td>\n",
              "      <td>NaN</td>\n",
              "      <td>NaN</td>\n",
              "      <td>32</td>\n",
              "      <td>0</td>\n",
              "    </tr>\n",
              "    <tr>\n",
              "      <th>2031</th>\n",
              "      <td>19353</td>\n",
              "      <td>city_73</td>\n",
              "      <td>0.754</td>\n",
              "      <td>NaN</td>\n",
              "      <td>Has relevent experience</td>\n",
              "      <td>Full time course</td>\n",
              "      <td>Graduate</td>\n",
              "      <td>STEM</td>\n",
              "      <td>NaN</td>\n",
              "      <td>NaN</td>\n",
              "      <td>NaN</td>\n",
              "      <td>1</td>\n",
              "      <td>12</td>\n",
              "      <td>1</td>\n",
              "    </tr>\n",
              "    <tr>\n",
              "      <th>2627</th>\n",
              "      <td>20332</td>\n",
              "      <td>city_103</td>\n",
              "      <td>0.920</td>\n",
              "      <td>NaN</td>\n",
              "      <td>Has relevent experience</td>\n",
              "      <td>Full time course</td>\n",
              "      <td>Phd</td>\n",
              "      <td>STEM</td>\n",
              "      <td>NaN</td>\n",
              "      <td>10000+</td>\n",
              "      <td>Public Sector</td>\n",
              "      <td>never</td>\n",
              "      <td>56</td>\n",
              "      <td>0</td>\n",
              "    </tr>\n",
              "    <tr>\n",
              "      <th>2830</th>\n",
              "      <td>10582</td>\n",
              "      <td>city_36</td>\n",
              "      <td>0.893</td>\n",
              "      <td>NaN</td>\n",
              "      <td>No relevent experience</td>\n",
              "      <td>no_enrollment</td>\n",
              "      <td>High School</td>\n",
              "      <td>NaN</td>\n",
              "      <td>NaN</td>\n",
              "      <td>NaN</td>\n",
              "      <td>NaN</td>\n",
              "      <td>never</td>\n",
              "      <td>44</td>\n",
              "      <td>0</td>\n",
              "    </tr>\n",
              "    <tr>\n",
              "      <th>2905</th>\n",
              "      <td>14965</td>\n",
              "      <td>city_103</td>\n",
              "      <td>0.920</td>\n",
              "      <td>NaN</td>\n",
              "      <td>Has relevent experience</td>\n",
              "      <td>no_enrollment</td>\n",
              "      <td>Masters</td>\n",
              "      <td>STEM</td>\n",
              "      <td>NaN</td>\n",
              "      <td>NaN</td>\n",
              "      <td>NaN</td>\n",
              "      <td>NaN</td>\n",
              "      <td>70</td>\n",
              "      <td>0</td>\n",
              "    </tr>\n",
              "    <tr>\n",
              "      <th>3103</th>\n",
              "      <td>20153</td>\n",
              "      <td>city_103</td>\n",
              "      <td>0.920</td>\n",
              "      <td>NaN</td>\n",
              "      <td>No relevent experience</td>\n",
              "      <td>Full time course</td>\n",
              "      <td>Graduate</td>\n",
              "      <td>STEM</td>\n",
              "      <td>NaN</td>\n",
              "      <td>10000+</td>\n",
              "      <td>NaN</td>\n",
              "      <td>NaN</td>\n",
              "      <td>20</td>\n",
              "      <td>1</td>\n",
              "    </tr>\n",
              "    <tr>\n",
              "      <th>3306</th>\n",
              "      <td>21617</td>\n",
              "      <td>city_134</td>\n",
              "      <td>0.698</td>\n",
              "      <td>NaN</td>\n",
              "      <td>No relevent experience</td>\n",
              "      <td>no_enrollment</td>\n",
              "      <td>NaN</td>\n",
              "      <td>NaN</td>\n",
              "      <td>NaN</td>\n",
              "      <td>NaN</td>\n",
              "      <td>NaN</td>\n",
              "      <td>never</td>\n",
              "      <td>45</td>\n",
              "      <td>0</td>\n",
              "    </tr>\n",
              "    <tr>\n",
              "      <th>3551</th>\n",
              "      <td>17799</td>\n",
              "      <td>city_103</td>\n",
              "      <td>0.920</td>\n",
              "      <td>NaN</td>\n",
              "      <td>Has relevent experience</td>\n",
              "      <td>no_enrollment</td>\n",
              "      <td>Masters</td>\n",
              "      <td>STEM</td>\n",
              "      <td>NaN</td>\n",
              "      <td>10000+</td>\n",
              "      <td>NaN</td>\n",
              "      <td>NaN</td>\n",
              "      <td>64</td>\n",
              "      <td>0</td>\n",
              "    </tr>\n",
              "    <tr>\n",
              "      <th>3801</th>\n",
              "      <td>3816</td>\n",
              "      <td>city_138</td>\n",
              "      <td>0.836</td>\n",
              "      <td>Male</td>\n",
              "      <td>Has relevent experience</td>\n",
              "      <td>no_enrollment</td>\n",
              "      <td>Masters</td>\n",
              "      <td>STEM</td>\n",
              "      <td>NaN</td>\n",
              "      <td>500-999</td>\n",
              "      <td>NaN</td>\n",
              "      <td>1</td>\n",
              "      <td>21</td>\n",
              "      <td>0</td>\n",
              "    </tr>\n",
              "    <tr>\n",
              "      <th>4115</th>\n",
              "      <td>10645</td>\n",
              "      <td>city_21</td>\n",
              "      <td>0.624</td>\n",
              "      <td>NaN</td>\n",
              "      <td>Has relevent experience</td>\n",
              "      <td>no_enrollment</td>\n",
              "      <td>Graduate</td>\n",
              "      <td>STEM</td>\n",
              "      <td>NaN</td>\n",
              "      <td>100-500</td>\n",
              "      <td>Pvt Ltd</td>\n",
              "      <td>1</td>\n",
              "      <td>60</td>\n",
              "      <td>1</td>\n",
              "    </tr>\n",
              "    <tr>\n",
              "      <th>4419</th>\n",
              "      <td>17871</td>\n",
              "      <td>city_134</td>\n",
              "      <td>0.698</td>\n",
              "      <td>Other</td>\n",
              "      <td>No relevent experience</td>\n",
              "      <td>NaN</td>\n",
              "      <td>NaN</td>\n",
              "      <td>NaN</td>\n",
              "      <td>NaN</td>\n",
              "      <td>NaN</td>\n",
              "      <td>NaN</td>\n",
              "      <td>never</td>\n",
              "      <td>49</td>\n",
              "      <td>0</td>\n",
              "    </tr>\n",
              "    <tr>\n",
              "      <th>5608</th>\n",
              "      <td>21635</td>\n",
              "      <td>city_21</td>\n",
              "      <td>0.624</td>\n",
              "      <td>NaN</td>\n",
              "      <td>Has relevent experience</td>\n",
              "      <td>Full time course</td>\n",
              "      <td>Graduate</td>\n",
              "      <td>STEM</td>\n",
              "      <td>NaN</td>\n",
              "      <td>5000-9999</td>\n",
              "      <td>Pvt Ltd</td>\n",
              "      <td>1</td>\n",
              "      <td>242</td>\n",
              "      <td>0</td>\n",
              "    </tr>\n",
              "    <tr>\n",
              "      <th>5633</th>\n",
              "      <td>12786</td>\n",
              "      <td>city_136</td>\n",
              "      <td>0.897</td>\n",
              "      <td>NaN</td>\n",
              "      <td>Has relevent experience</td>\n",
              "      <td>Full time course</td>\n",
              "      <td>Graduate</td>\n",
              "      <td>STEM</td>\n",
              "      <td>NaN</td>\n",
              "      <td>10/49</td>\n",
              "      <td>NGO</td>\n",
              "      <td>NaN</td>\n",
              "      <td>26</td>\n",
              "      <td>1</td>\n",
              "    </tr>\n",
              "    <tr>\n",
              "      <th>6489</th>\n",
              "      <td>16308</td>\n",
              "      <td>city_21</td>\n",
              "      <td>0.624</td>\n",
              "      <td>Female</td>\n",
              "      <td>Has relevent experience</td>\n",
              "      <td>no_enrollment</td>\n",
              "      <td>Masters</td>\n",
              "      <td>STEM</td>\n",
              "      <td>NaN</td>\n",
              "      <td>5000-9999</td>\n",
              "      <td>Pvt Ltd</td>\n",
              "      <td>NaN</td>\n",
              "      <td>216</td>\n",
              "      <td>0</td>\n",
              "    </tr>\n",
              "    <tr>\n",
              "      <th>7033</th>\n",
              "      <td>24318</td>\n",
              "      <td>city_126</td>\n",
              "      <td>0.479</td>\n",
              "      <td>NaN</td>\n",
              "      <td>No relevent experience</td>\n",
              "      <td>NaN</td>\n",
              "      <td>High School</td>\n",
              "      <td>NaN</td>\n",
              "      <td>NaN</td>\n",
              "      <td>&lt;10</td>\n",
              "      <td>Early Stage Startup</td>\n",
              "      <td>1</td>\n",
              "      <td>38</td>\n",
              "      <td>0</td>\n",
              "    </tr>\n",
              "    <tr>\n",
              "      <th>7427</th>\n",
              "      <td>12038</td>\n",
              "      <td>city_90</td>\n",
              "      <td>0.698</td>\n",
              "      <td>Male</td>\n",
              "      <td>Has relevent experience</td>\n",
              "      <td>Full time course</td>\n",
              "      <td>Masters</td>\n",
              "      <td>NaN</td>\n",
              "      <td>NaN</td>\n",
              "      <td>NaN</td>\n",
              "      <td>NaN</td>\n",
              "      <td>NaN</td>\n",
              "      <td>44</td>\n",
              "      <td>1</td>\n",
              "    </tr>\n",
              "    <tr>\n",
              "      <th>7577</th>\n",
              "      <td>4417</td>\n",
              "      <td>city_103</td>\n",
              "      <td>0.920</td>\n",
              "      <td>NaN</td>\n",
              "      <td>No relevent experience</td>\n",
              "      <td>no_enrollment</td>\n",
              "      <td>NaN</td>\n",
              "      <td>NaN</td>\n",
              "      <td>NaN</td>\n",
              "      <td>NaN</td>\n",
              "      <td>NaN</td>\n",
              "      <td>NaN</td>\n",
              "      <td>99</td>\n",
              "      <td>0</td>\n",
              "    </tr>\n",
              "    <tr>\n",
              "      <th>8443</th>\n",
              "      <td>3113</td>\n",
              "      <td>city_16</td>\n",
              "      <td>0.910</td>\n",
              "      <td>Male</td>\n",
              "      <td>Has relevent experience</td>\n",
              "      <td>no_enrollment</td>\n",
              "      <td>Graduate</td>\n",
              "      <td>STEM</td>\n",
              "      <td>NaN</td>\n",
              "      <td>1000-4999</td>\n",
              "      <td>Pvt Ltd</td>\n",
              "      <td>1</td>\n",
              "      <td>94</td>\n",
              "      <td>0</td>\n",
              "    </tr>\n",
              "    <tr>\n",
              "      <th>8490</th>\n",
              "      <td>21042</td>\n",
              "      <td>city_103</td>\n",
              "      <td>0.920</td>\n",
              "      <td>NaN</td>\n",
              "      <td>Has relevent experience</td>\n",
              "      <td>Full time course</td>\n",
              "      <td>Graduate</td>\n",
              "      <td>STEM</td>\n",
              "      <td>NaN</td>\n",
              "      <td>50-99</td>\n",
              "      <td>Funded Startup</td>\n",
              "      <td>&gt;4</td>\n",
              "      <td>24</td>\n",
              "      <td>0</td>\n",
              "    </tr>\n",
              "    <tr>\n",
              "      <th>8617</th>\n",
              "      <td>15516</td>\n",
              "      <td>city_136</td>\n",
              "      <td>0.897</td>\n",
              "      <td>Male</td>\n",
              "      <td>Has relevent experience</td>\n",
              "      <td>no_enrollment</td>\n",
              "      <td>Masters</td>\n",
              "      <td>STEM</td>\n",
              "      <td>NaN</td>\n",
              "      <td>100-500</td>\n",
              "      <td>NaN</td>\n",
              "      <td>NaN</td>\n",
              "      <td>46</td>\n",
              "      <td>0</td>\n",
              "    </tr>\n",
              "    <tr>\n",
              "      <th>8838</th>\n",
              "      <td>25035</td>\n",
              "      <td>city_116</td>\n",
              "      <td>0.743</td>\n",
              "      <td>NaN</td>\n",
              "      <td>Has relevent experience</td>\n",
              "      <td>no_enrollment</td>\n",
              "      <td>Masters</td>\n",
              "      <td>STEM</td>\n",
              "      <td>NaN</td>\n",
              "      <td>NaN</td>\n",
              "      <td>NaN</td>\n",
              "      <td>2</td>\n",
              "      <td>144</td>\n",
              "      <td>0</td>\n",
              "    </tr>\n",
              "    <tr>\n",
              "      <th>9009</th>\n",
              "      <td>8082</td>\n",
              "      <td>city_16</td>\n",
              "      <td>0.910</td>\n",
              "      <td>NaN</td>\n",
              "      <td>Has relevent experience</td>\n",
              "      <td>no_enrollment</td>\n",
              "      <td>Masters</td>\n",
              "      <td>Other</td>\n",
              "      <td>NaN</td>\n",
              "      <td>50-99</td>\n",
              "      <td>Pvt Ltd</td>\n",
              "      <td>2</td>\n",
              "      <td>40</td>\n",
              "      <td>0</td>\n",
              "    </tr>\n",
              "    <tr>\n",
              "      <th>9089</th>\n",
              "      <td>16736</td>\n",
              "      <td>city_103</td>\n",
              "      <td>0.920</td>\n",
              "      <td>NaN</td>\n",
              "      <td>No relevent experience</td>\n",
              "      <td>no_enrollment</td>\n",
              "      <td>Masters</td>\n",
              "      <td>STEM</td>\n",
              "      <td>NaN</td>\n",
              "      <td>10000+</td>\n",
              "      <td>NaN</td>\n",
              "      <td>NaN</td>\n",
              "      <td>103</td>\n",
              "      <td>0</td>\n",
              "    </tr>\n",
              "    <tr>\n",
              "      <th>9199</th>\n",
              "      <td>32626</td>\n",
              "      <td>city_150</td>\n",
              "      <td>0.698</td>\n",
              "      <td>Other</td>\n",
              "      <td>Has relevent experience</td>\n",
              "      <td>NaN</td>\n",
              "      <td>NaN</td>\n",
              "      <td>NaN</td>\n",
              "      <td>NaN</td>\n",
              "      <td>10/49</td>\n",
              "      <td>NaN</td>\n",
              "      <td>1</td>\n",
              "      <td>51</td>\n",
              "      <td>1</td>\n",
              "    </tr>\n",
              "    <tr>\n",
              "      <th>9396</th>\n",
              "      <td>15198</td>\n",
              "      <td>city_103</td>\n",
              "      <td>0.920</td>\n",
              "      <td>Male</td>\n",
              "      <td>No relevent experience</td>\n",
              "      <td>Full time course</td>\n",
              "      <td>NaN</td>\n",
              "      <td>NaN</td>\n",
              "      <td>NaN</td>\n",
              "      <td>NaN</td>\n",
              "      <td>NaN</td>\n",
              "      <td>NaN</td>\n",
              "      <td>21</td>\n",
              "      <td>0</td>\n",
              "    </tr>\n",
              "    <tr>\n",
              "      <th>9558</th>\n",
              "      <td>7811</td>\n",
              "      <td>city_36</td>\n",
              "      <td>0.893</td>\n",
              "      <td>NaN</td>\n",
              "      <td>Has relevent experience</td>\n",
              "      <td>Part time course</td>\n",
              "      <td>High School</td>\n",
              "      <td>NaN</td>\n",
              "      <td>NaN</td>\n",
              "      <td>100-500</td>\n",
              "      <td>NaN</td>\n",
              "      <td>NaN</td>\n",
              "      <td>94</td>\n",
              "      <td>0</td>\n",
              "    </tr>\n",
              "    <tr>\n",
              "      <th>9635</th>\n",
              "      <td>25181</td>\n",
              "      <td>city_100</td>\n",
              "      <td>0.887</td>\n",
              "      <td>NaN</td>\n",
              "      <td>Has relevent experience</td>\n",
              "      <td>no_enrollment</td>\n",
              "      <td>Masters</td>\n",
              "      <td>STEM</td>\n",
              "      <td>NaN</td>\n",
              "      <td>10/49</td>\n",
              "      <td>Funded Startup</td>\n",
              "      <td>3</td>\n",
              "      <td>4</td>\n",
              "      <td>0</td>\n",
              "    </tr>\n",
              "    <tr>\n",
              "      <th>9982</th>\n",
              "      <td>9306</td>\n",
              "      <td>city_67</td>\n",
              "      <td>0.855</td>\n",
              "      <td>Male</td>\n",
              "      <td>Has relevent experience</td>\n",
              "      <td>no_enrollment</td>\n",
              "      <td>Masters</td>\n",
              "      <td>Business Degree</td>\n",
              "      <td>NaN</td>\n",
              "      <td>NaN</td>\n",
              "      <td>Pvt Ltd</td>\n",
              "      <td>&gt;4</td>\n",
              "      <td>96</td>\n",
              "      <td>1</td>\n",
              "    </tr>\n",
              "    <tr>\n",
              "      <th>10006</th>\n",
              "      <td>21862</td>\n",
              "      <td>city_114</td>\n",
              "      <td>0.926</td>\n",
              "      <td>NaN</td>\n",
              "      <td>Has relevent experience</td>\n",
              "      <td>NaN</td>\n",
              "      <td>Graduate</td>\n",
              "      <td>STEM</td>\n",
              "      <td>NaN</td>\n",
              "      <td>50-99</td>\n",
              "      <td>NGO</td>\n",
              "      <td>1</td>\n",
              "      <td>138</td>\n",
              "      <td>0</td>\n",
              "    </tr>\n",
              "    <tr>\n",
              "      <th>10646</th>\n",
              "      <td>27758</td>\n",
              "      <td>city_103</td>\n",
              "      <td>0.920</td>\n",
              "      <td>NaN</td>\n",
              "      <td>Has relevent experience</td>\n",
              "      <td>no_enrollment</td>\n",
              "      <td>Graduate</td>\n",
              "      <td>STEM</td>\n",
              "      <td>NaN</td>\n",
              "      <td>&lt;10</td>\n",
              "      <td>Pvt Ltd</td>\n",
              "      <td>&gt;4</td>\n",
              "      <td>19</td>\n",
              "      <td>0</td>\n",
              "    </tr>\n",
              "    <tr>\n",
              "      <th>10936</th>\n",
              "      <td>31348</td>\n",
              "      <td>city_99</td>\n",
              "      <td>0.915</td>\n",
              "      <td>Other</td>\n",
              "      <td>Has relevent experience</td>\n",
              "      <td>no_enrollment</td>\n",
              "      <td>Phd</td>\n",
              "      <td>STEM</td>\n",
              "      <td>NaN</td>\n",
              "      <td>1000-4999</td>\n",
              "      <td>Pvt Ltd</td>\n",
              "      <td>&gt;4</td>\n",
              "      <td>35</td>\n",
              "      <td>0</td>\n",
              "    </tr>\n",
              "    <tr>\n",
              "      <th>11049</th>\n",
              "      <td>17642</td>\n",
              "      <td>city_134</td>\n",
              "      <td>0.698</td>\n",
              "      <td>NaN</td>\n",
              "      <td>No relevent experience</td>\n",
              "      <td>no_enrollment</td>\n",
              "      <td>NaN</td>\n",
              "      <td>NaN</td>\n",
              "      <td>NaN</td>\n",
              "      <td>NaN</td>\n",
              "      <td>NaN</td>\n",
              "      <td>never</td>\n",
              "      <td>33</td>\n",
              "      <td>0</td>\n",
              "    </tr>\n",
              "    <tr>\n",
              "      <th>11356</th>\n",
              "      <td>10798</td>\n",
              "      <td>city_73</td>\n",
              "      <td>0.754</td>\n",
              "      <td>NaN</td>\n",
              "      <td>Has relevent experience</td>\n",
              "      <td>no_enrollment</td>\n",
              "      <td>Masters</td>\n",
              "      <td>NaN</td>\n",
              "      <td>NaN</td>\n",
              "      <td>50-99</td>\n",
              "      <td>Pvt Ltd</td>\n",
              "      <td>NaN</td>\n",
              "      <td>5</td>\n",
              "      <td>0</td>\n",
              "    </tr>\n",
              "    <tr>\n",
              "      <th>11386</th>\n",
              "      <td>12373</td>\n",
              "      <td>city_103</td>\n",
              "      <td>0.920</td>\n",
              "      <td>NaN</td>\n",
              "      <td>Has relevent experience</td>\n",
              "      <td>Full time course</td>\n",
              "      <td>NaN</td>\n",
              "      <td>NaN</td>\n",
              "      <td>NaN</td>\n",
              "      <td>NaN</td>\n",
              "      <td>NaN</td>\n",
              "      <td>&gt;4</td>\n",
              "      <td>96</td>\n",
              "      <td>1</td>\n",
              "    </tr>\n",
              "    <tr>\n",
              "      <th>11462</th>\n",
              "      <td>11963</td>\n",
              "      <td>city_61</td>\n",
              "      <td>0.913</td>\n",
              "      <td>Female</td>\n",
              "      <td>Has relevent experience</td>\n",
              "      <td>no_enrollment</td>\n",
              "      <td>Masters</td>\n",
              "      <td>Humanities</td>\n",
              "      <td>NaN</td>\n",
              "      <td>50-99</td>\n",
              "      <td>NaN</td>\n",
              "      <td>1</td>\n",
              "      <td>24</td>\n",
              "      <td>0</td>\n",
              "    </tr>\n",
              "    <tr>\n",
              "      <th>11651</th>\n",
              "      <td>17052</td>\n",
              "      <td>city_90</td>\n",
              "      <td>0.698</td>\n",
              "      <td>NaN</td>\n",
              "      <td>Has relevent experience</td>\n",
              "      <td>no_enrollment</td>\n",
              "      <td>NaN</td>\n",
              "      <td>NaN</td>\n",
              "      <td>NaN</td>\n",
              "      <td>NaN</td>\n",
              "      <td>NaN</td>\n",
              "      <td>&gt;4</td>\n",
              "      <td>118</td>\n",
              "      <td>1</td>\n",
              "    </tr>\n",
              "    <tr>\n",
              "      <th>11871</th>\n",
              "      <td>22849</td>\n",
              "      <td>city_116</td>\n",
              "      <td>0.743</td>\n",
              "      <td>NaN</td>\n",
              "      <td>Has relevent experience</td>\n",
              "      <td>no_enrollment</td>\n",
              "      <td>NaN</td>\n",
              "      <td>NaN</td>\n",
              "      <td>NaN</td>\n",
              "      <td>50-99</td>\n",
              "      <td>Pvt Ltd</td>\n",
              "      <td>never</td>\n",
              "      <td>12</td>\n",
              "      <td>0</td>\n",
              "    </tr>\n",
              "    <tr>\n",
              "      <th>11934</th>\n",
              "      <td>6473</td>\n",
              "      <td>city_21</td>\n",
              "      <td>0.624</td>\n",
              "      <td>Male</td>\n",
              "      <td>Has relevent experience</td>\n",
              "      <td>Full time course</td>\n",
              "      <td>Graduate</td>\n",
              "      <td>STEM</td>\n",
              "      <td>NaN</td>\n",
              "      <td>1000-4999</td>\n",
              "      <td>Pvt Ltd</td>\n",
              "      <td>1</td>\n",
              "      <td>18</td>\n",
              "      <td>0</td>\n",
              "    </tr>\n",
              "    <tr>\n",
              "      <th>13036</th>\n",
              "      <td>10761</td>\n",
              "      <td>city_21</td>\n",
              "      <td>0.624</td>\n",
              "      <td>Male</td>\n",
              "      <td>Has relevent experience</td>\n",
              "      <td>Full time course</td>\n",
              "      <td>Graduate</td>\n",
              "      <td>STEM</td>\n",
              "      <td>NaN</td>\n",
              "      <td>100-500</td>\n",
              "      <td>Pvt Ltd</td>\n",
              "      <td>1</td>\n",
              "      <td>52</td>\n",
              "      <td>0</td>\n",
              "    </tr>\n",
              "    <tr>\n",
              "      <th>13197</th>\n",
              "      <td>15273</td>\n",
              "      <td>city_103</td>\n",
              "      <td>0.920</td>\n",
              "      <td>NaN</td>\n",
              "      <td>Has relevent experience</td>\n",
              "      <td>no_enrollment</td>\n",
              "      <td>Masters</td>\n",
              "      <td>STEM</td>\n",
              "      <td>NaN</td>\n",
              "      <td>NaN</td>\n",
              "      <td>NaN</td>\n",
              "      <td>NaN</td>\n",
              "      <td>34</td>\n",
              "      <td>0</td>\n",
              "    </tr>\n",
              "    <tr>\n",
              "      <th>13561</th>\n",
              "      <td>24875</td>\n",
              "      <td>city_103</td>\n",
              "      <td>0.920</td>\n",
              "      <td>NaN</td>\n",
              "      <td>No relevent experience</td>\n",
              "      <td>Full time course</td>\n",
              "      <td>Graduate</td>\n",
              "      <td>STEM</td>\n",
              "      <td>NaN</td>\n",
              "      <td>10/49</td>\n",
              "      <td>NaN</td>\n",
              "      <td>1</td>\n",
              "      <td>41</td>\n",
              "      <td>1</td>\n",
              "    </tr>\n",
              "    <tr>\n",
              "      <th>13839</th>\n",
              "      <td>19780</td>\n",
              "      <td>city_105</td>\n",
              "      <td>0.794</td>\n",
              "      <td>Female</td>\n",
              "      <td>Has relevent experience</td>\n",
              "      <td>no_enrollment</td>\n",
              "      <td>Masters</td>\n",
              "      <td>NaN</td>\n",
              "      <td>NaN</td>\n",
              "      <td>500-999</td>\n",
              "      <td>NaN</td>\n",
              "      <td>1</td>\n",
              "      <td>53</td>\n",
              "      <td>0</td>\n",
              "    </tr>\n",
              "    <tr>\n",
              "      <th>13921</th>\n",
              "      <td>8470</td>\n",
              "      <td>city_103</td>\n",
              "      <td>0.920</td>\n",
              "      <td>NaN</td>\n",
              "      <td>Has relevent experience</td>\n",
              "      <td>no_enrollment</td>\n",
              "      <td>Graduate</td>\n",
              "      <td>STEM</td>\n",
              "      <td>NaN</td>\n",
              "      <td>500-999</td>\n",
              "      <td>Pvt Ltd</td>\n",
              "      <td>NaN</td>\n",
              "      <td>11</td>\n",
              "      <td>0</td>\n",
              "    </tr>\n",
              "    <tr>\n",
              "      <th>14366</th>\n",
              "      <td>1435</td>\n",
              "      <td>city_103</td>\n",
              "      <td>0.920</td>\n",
              "      <td>NaN</td>\n",
              "      <td>No relevent experience</td>\n",
              "      <td>no_enrollment</td>\n",
              "      <td>High School</td>\n",
              "      <td>NaN</td>\n",
              "      <td>NaN</td>\n",
              "      <td>NaN</td>\n",
              "      <td>NaN</td>\n",
              "      <td>NaN</td>\n",
              "      <td>4</td>\n",
              "      <td>0</td>\n",
              "    </tr>\n",
              "    <tr>\n",
              "      <th>14652</th>\n",
              "      <td>2978</td>\n",
              "      <td>city_21</td>\n",
              "      <td>0.624</td>\n",
              "      <td>NaN</td>\n",
              "      <td>Has relevent experience</td>\n",
              "      <td>Full time course</td>\n",
              "      <td>Graduate</td>\n",
              "      <td>Other</td>\n",
              "      <td>NaN</td>\n",
              "      <td>10000+</td>\n",
              "      <td>Public Sector</td>\n",
              "      <td>NaN</td>\n",
              "      <td>91</td>\n",
              "      <td>0</td>\n",
              "    </tr>\n",
              "    <tr>\n",
              "      <th>14715</th>\n",
              "      <td>5876</td>\n",
              "      <td>city_21</td>\n",
              "      <td>0.624</td>\n",
              "      <td>NaN</td>\n",
              "      <td>Has relevent experience</td>\n",
              "      <td>no_enrollment</td>\n",
              "      <td>Graduate</td>\n",
              "      <td>STEM</td>\n",
              "      <td>NaN</td>\n",
              "      <td>100-500</td>\n",
              "      <td>Pvt Ltd</td>\n",
              "      <td>NaN</td>\n",
              "      <td>256</td>\n",
              "      <td>0</td>\n",
              "    </tr>\n",
              "    <tr>\n",
              "      <th>14837</th>\n",
              "      <td>30800</td>\n",
              "      <td>city_16</td>\n",
              "      <td>0.910</td>\n",
              "      <td>Male</td>\n",
              "      <td>No relevent experience</td>\n",
              "      <td>Full time course</td>\n",
              "      <td>Graduate</td>\n",
              "      <td>STEM</td>\n",
              "      <td>NaN</td>\n",
              "      <td>500-999</td>\n",
              "      <td>NaN</td>\n",
              "      <td>1</td>\n",
              "      <td>153</td>\n",
              "      <td>0</td>\n",
              "    </tr>\n",
              "    <tr>\n",
              "      <th>15075</th>\n",
              "      <td>16148</td>\n",
              "      <td>city_103</td>\n",
              "      <td>0.920</td>\n",
              "      <td>Male</td>\n",
              "      <td>Has relevent experience</td>\n",
              "      <td>no_enrollment</td>\n",
              "      <td>Masters</td>\n",
              "      <td>STEM</td>\n",
              "      <td>NaN</td>\n",
              "      <td>10000+</td>\n",
              "      <td>Pvt Ltd</td>\n",
              "      <td>1</td>\n",
              "      <td>136</td>\n",
              "      <td>0</td>\n",
              "    </tr>\n",
              "    <tr>\n",
              "      <th>15500</th>\n",
              "      <td>20587</td>\n",
              "      <td>city_91</td>\n",
              "      <td>0.691</td>\n",
              "      <td>NaN</td>\n",
              "      <td>Has relevent experience</td>\n",
              "      <td>no_enrollment</td>\n",
              "      <td>Graduate</td>\n",
              "      <td>STEM</td>\n",
              "      <td>NaN</td>\n",
              "      <td>100-500</td>\n",
              "      <td>Pvt Ltd</td>\n",
              "      <td>1</td>\n",
              "      <td>56</td>\n",
              "      <td>0</td>\n",
              "    </tr>\n",
              "    <tr>\n",
              "      <th>15585</th>\n",
              "      <td>23156</td>\n",
              "      <td>city_103</td>\n",
              "      <td>0.920</td>\n",
              "      <td>NaN</td>\n",
              "      <td>Has relevent experience</td>\n",
              "      <td>no_enrollment</td>\n",
              "      <td>Graduate</td>\n",
              "      <td>STEM</td>\n",
              "      <td>NaN</td>\n",
              "      <td>10000+</td>\n",
              "      <td>Pvt Ltd</td>\n",
              "      <td>1</td>\n",
              "      <td>83</td>\n",
              "      <td>0</td>\n",
              "    </tr>\n",
              "    <tr>\n",
              "      <th>15844</th>\n",
              "      <td>30213</td>\n",
              "      <td>city_21</td>\n",
              "      <td>0.624</td>\n",
              "      <td>NaN</td>\n",
              "      <td>No relevent experience</td>\n",
              "      <td>no_enrollment</td>\n",
              "      <td>NaN</td>\n",
              "      <td>NaN</td>\n",
              "      <td>NaN</td>\n",
              "      <td>NaN</td>\n",
              "      <td>NaN</td>\n",
              "      <td>never</td>\n",
              "      <td>44</td>\n",
              "      <td>0</td>\n",
              "    </tr>\n",
              "    <tr>\n",
              "      <th>16186</th>\n",
              "      <td>23947</td>\n",
              "      <td>city_103</td>\n",
              "      <td>0.920</td>\n",
              "      <td>NaN</td>\n",
              "      <td>No relevent experience</td>\n",
              "      <td>no_enrollment</td>\n",
              "      <td>Phd</td>\n",
              "      <td>STEM</td>\n",
              "      <td>NaN</td>\n",
              "      <td>NaN</td>\n",
              "      <td>NaN</td>\n",
              "      <td>NaN</td>\n",
              "      <td>70</td>\n",
              "      <td>0</td>\n",
              "    </tr>\n",
              "    <tr>\n",
              "      <th>16270</th>\n",
              "      <td>7907</td>\n",
              "      <td>city_21</td>\n",
              "      <td>0.624</td>\n",
              "      <td>NaN</td>\n",
              "      <td>Has relevent experience</td>\n",
              "      <td>no_enrollment</td>\n",
              "      <td>Graduate</td>\n",
              "      <td>STEM</td>\n",
              "      <td>NaN</td>\n",
              "      <td>NaN</td>\n",
              "      <td>Funded Startup</td>\n",
              "      <td>NaN</td>\n",
              "      <td>27</td>\n",
              "      <td>0</td>\n",
              "    </tr>\n",
              "    <tr>\n",
              "      <th>16327</th>\n",
              "      <td>16915</td>\n",
              "      <td>city_103</td>\n",
              "      <td>0.920</td>\n",
              "      <td>NaN</td>\n",
              "      <td>No relevent experience</td>\n",
              "      <td>no_enrollment</td>\n",
              "      <td>Graduate</td>\n",
              "      <td>Arts</td>\n",
              "      <td>NaN</td>\n",
              "      <td>NaN</td>\n",
              "      <td>Pvt Ltd</td>\n",
              "      <td>3</td>\n",
              "      <td>34</td>\n",
              "      <td>0</td>\n",
              "    </tr>\n",
              "    <tr>\n",
              "      <th>16414</th>\n",
              "      <td>11099</td>\n",
              "      <td>city_11</td>\n",
              "      <td>0.550</td>\n",
              "      <td>NaN</td>\n",
              "      <td>Has relevent experience</td>\n",
              "      <td>no_enrollment</td>\n",
              "      <td>Graduate</td>\n",
              "      <td>STEM</td>\n",
              "      <td>NaN</td>\n",
              "      <td>1000-4999</td>\n",
              "      <td>NaN</td>\n",
              "      <td>NaN</td>\n",
              "      <td>46</td>\n",
              "      <td>0</td>\n",
              "    </tr>\n",
              "    <tr>\n",
              "      <th>18014</th>\n",
              "      <td>24137</td>\n",
              "      <td>city_21</td>\n",
              "      <td>0.624</td>\n",
              "      <td>NaN</td>\n",
              "      <td>No relevent experience</td>\n",
              "      <td>NaN</td>\n",
              "      <td>Graduate</td>\n",
              "      <td>STEM</td>\n",
              "      <td>NaN</td>\n",
              "      <td>&lt;10</td>\n",
              "      <td>NaN</td>\n",
              "      <td>NaN</td>\n",
              "      <td>36</td>\n",
              "      <td>1</td>\n",
              "    </tr>\n",
              "  </tbody>\n",
              "</table>\n",
              "</div>"
            ],
            "text/plain": [
              "       enrollee_id      city  ...  training_hours target\n",
              "149          17077  city_134  ...             106      0\n",
              "940          23806  city_114  ...              35      0\n",
              "1336          4823  city_123  ...               9      1\n",
              "1445         17123   city_21  ...              32      0\n",
              "2031         19353   city_73  ...              12      1\n",
              "2627         20332  city_103  ...              56      0\n",
              "2830         10582   city_36  ...              44      0\n",
              "2905         14965  city_103  ...              70      0\n",
              "3103         20153  city_103  ...              20      1\n",
              "3306         21617  city_134  ...              45      0\n",
              "3551         17799  city_103  ...              64      0\n",
              "3801          3816  city_138  ...              21      0\n",
              "4115         10645   city_21  ...              60      1\n",
              "4419         17871  city_134  ...              49      0\n",
              "5608         21635   city_21  ...             242      0\n",
              "5633         12786  city_136  ...              26      1\n",
              "6489         16308   city_21  ...             216      0\n",
              "7033         24318  city_126  ...              38      0\n",
              "7427         12038   city_90  ...              44      1\n",
              "7577          4417  city_103  ...              99      0\n",
              "8443          3113   city_16  ...              94      0\n",
              "8490         21042  city_103  ...              24      0\n",
              "8617         15516  city_136  ...              46      0\n",
              "8838         25035  city_116  ...             144      0\n",
              "9009          8082   city_16  ...              40      0\n",
              "9089         16736  city_103  ...             103      0\n",
              "9199         32626  city_150  ...              51      1\n",
              "9396         15198  city_103  ...              21      0\n",
              "9558          7811   city_36  ...              94      0\n",
              "9635         25181  city_100  ...               4      0\n",
              "9982          9306   city_67  ...              96      1\n",
              "10006        21862  city_114  ...             138      0\n",
              "10646        27758  city_103  ...              19      0\n",
              "10936        31348   city_99  ...              35      0\n",
              "11049        17642  city_134  ...              33      0\n",
              "11356        10798   city_73  ...               5      0\n",
              "11386        12373  city_103  ...              96      1\n",
              "11462        11963   city_61  ...              24      0\n",
              "11651        17052   city_90  ...             118      1\n",
              "11871        22849  city_116  ...              12      0\n",
              "11934         6473   city_21  ...              18      0\n",
              "13036        10761   city_21  ...              52      0\n",
              "13197        15273  city_103  ...              34      0\n",
              "13561        24875  city_103  ...              41      1\n",
              "13839        19780  city_105  ...              53      0\n",
              "13921         8470  city_103  ...              11      0\n",
              "14366         1435  city_103  ...               4      0\n",
              "14652         2978   city_21  ...              91      0\n",
              "14715         5876   city_21  ...             256      0\n",
              "14837        30800   city_16  ...             153      0\n",
              "15075        16148  city_103  ...             136      0\n",
              "15500        20587   city_91  ...              56      0\n",
              "15585        23156  city_103  ...              83      0\n",
              "15844        30213   city_21  ...              44      0\n",
              "16186        23947  city_103  ...              70      0\n",
              "16270         7907   city_21  ...              27      0\n",
              "16327        16915  city_103  ...              34      0\n",
              "16414        11099   city_11  ...              46      0\n",
              "18014        24137   city_21  ...              36      1\n",
              "\n",
              "[59 rows x 14 columns]"
            ]
          },
          "metadata": {
            "tags": []
          },
          "execution_count": 364
        }
      ]
    },
    {
      "cell_type": "code",
      "metadata": {
        "id": "kA_dylmyep89",
        "colab_type": "code",
        "outputId": "4da611b0-a55a-4557-fc50-a1ce7ed467c4",
        "colab": {
          "base_uri": "https://localhost:8080/",
          "height": 221
        }
      },
      "source": [
        "np.isnan(df['experience'])"
      ],
      "execution_count": 365,
      "outputs": [
        {
          "output_type": "execute_result",
          "data": {
            "text/plain": [
              "0        False\n",
              "1        False\n",
              "2        False\n",
              "3        False\n",
              "4        False\n",
              "         ...  \n",
              "18354    False\n",
              "18355    False\n",
              "18356    False\n",
              "18357    False\n",
              "18358    False\n",
              "Name: experience, Length: 18359, dtype: bool"
            ]
          },
          "metadata": {
            "tags": []
          },
          "execution_count": 365
        }
      ]
    },
    {
      "cell_type": "code",
      "metadata": {
        "id": "kAp0dNH_ep9B",
        "colab_type": "code",
        "colab": {}
      },
      "source": [
        "def update(year,exp):\n",
        "    if np.isnan(year)==False:\n",
        "        return year\n",
        "    else:\n",
        "        if exp == \"Has relevent experience\":\n",
        "            return float(11.706381)\n",
        "        else:\n",
        "            return float(6.649526)\n",
        "\n",
        "    "
      ],
      "execution_count": 0,
      "outputs": []
    },
    {
      "cell_type": "code",
      "metadata": {
        "id": "5-T69mY3ep9D",
        "colab_type": "code",
        "colab": {}
      },
      "source": [
        ""
      ],
      "execution_count": 0,
      "outputs": []
    },
    {
      "cell_type": "code",
      "metadata": {
        "scrolled": true,
        "id": "8G5LfJ-Hep9G",
        "colab_type": "code",
        "colab": {}
      },
      "source": [
        "df['experience'] = df.apply(lambda x : update(x['experience'],x['relevent_experience']), axis= 1)"
      ],
      "execution_count": 0,
      "outputs": []
    },
    {
      "cell_type": "code",
      "metadata": {
        "id": "UZa2y9aFep9J",
        "colab_type": "code",
        "outputId": "d8a65c11-6cf4-443e-bece-f7305ce5152f",
        "colab": {
          "base_uri": "https://localhost:8080/",
          "height": 34
        }
      },
      "source": [
        "type(df['experience'][1])"
      ],
      "execution_count": 368,
      "outputs": [
        {
          "output_type": "execute_result",
          "data": {
            "text/plain": [
              "numpy.float64"
            ]
          },
          "metadata": {
            "tags": []
          },
          "execution_count": 368
        }
      ]
    },
    {
      "cell_type": "code",
      "metadata": {
        "id": "laDToa27ep9N",
        "colab_type": "code",
        "outputId": "f8800215-84bb-44f8-ee3a-ee28f07bdd39",
        "colab": {
          "base_uri": "https://localhost:8080/",
          "height": 272
        }
      },
      "source": [
        "df.isnull().sum()"
      ],
      "execution_count": 369,
      "outputs": [
        {
          "output_type": "execute_result",
          "data": {
            "text/plain": [
              "enrollee_id                  0\n",
              "city                         0\n",
              "city_development_index       0\n",
              "gender                    4098\n",
              "relevent_experience          0\n",
              "enrolled_university        342\n",
              "education_level            457\n",
              "major_discipline          2838\n",
              "experience                   0\n",
              "company_size              4779\n",
              "company_type              5039\n",
              "last_new_job               367\n",
              "training_hours               0\n",
              "target                       0\n",
              "dtype: int64"
            ]
          },
          "metadata": {
            "tags": []
          },
          "execution_count": 369
        }
      ]
    },
    {
      "cell_type": "markdown",
      "metadata": {
        "id": "EyI6IsWhep9Q",
        "colab_type": "text"
      },
      "source": [
        "## Removing Nan in last_new_job"
      ]
    },
    {
      "cell_type": "code",
      "metadata": {
        "scrolled": true,
        "id": "ZOeiiHZMep9Q",
        "colab_type": "code",
        "outputId": "49bb6241-97e1-4f7a-b64b-76e376e8750f",
        "colab": {
          "base_uri": "https://localhost:8080/",
          "height": 258
        }
      },
      "source": [
        "appenddf = pd.get_dummies(df['relevent_experience'])\n",
        "appenddf = appenddf[['Has relevent experience']]\n",
        "appenddf.head()\n",
        "\n",
        "df = pd.concat([df.drop('relevent_experience',axis=1),appenddf], axis=1)\n",
        "\n",
        "df.head()"
      ],
      "execution_count": 370,
      "outputs": [
        {
          "output_type": "execute_result",
          "data": {
            "text/html": [
              "<div>\n",
              "<style scoped>\n",
              "    .dataframe tbody tr th:only-of-type {\n",
              "        vertical-align: middle;\n",
              "    }\n",
              "\n",
              "    .dataframe tbody tr th {\n",
              "        vertical-align: top;\n",
              "    }\n",
              "\n",
              "    .dataframe thead th {\n",
              "        text-align: right;\n",
              "    }\n",
              "</style>\n",
              "<table border=\"1\" class=\"dataframe\">\n",
              "  <thead>\n",
              "    <tr style=\"text-align: right;\">\n",
              "      <th></th>\n",
              "      <th>enrollee_id</th>\n",
              "      <th>city</th>\n",
              "      <th>city_development_index</th>\n",
              "      <th>gender</th>\n",
              "      <th>enrolled_university</th>\n",
              "      <th>education_level</th>\n",
              "      <th>major_discipline</th>\n",
              "      <th>experience</th>\n",
              "      <th>company_size</th>\n",
              "      <th>company_type</th>\n",
              "      <th>last_new_job</th>\n",
              "      <th>training_hours</th>\n",
              "      <th>target</th>\n",
              "      <th>Has relevent experience</th>\n",
              "    </tr>\n",
              "  </thead>\n",
              "  <tbody>\n",
              "    <tr>\n",
              "      <th>0</th>\n",
              "      <td>23798</td>\n",
              "      <td>city_149</td>\n",
              "      <td>0.689</td>\n",
              "      <td>Male</td>\n",
              "      <td>no_enrollment</td>\n",
              "      <td>Graduate</td>\n",
              "      <td>STEM</td>\n",
              "      <td>3.0</td>\n",
              "      <td>100-500</td>\n",
              "      <td>Pvt Ltd</td>\n",
              "      <td>1</td>\n",
              "      <td>106</td>\n",
              "      <td>0</td>\n",
              "      <td>1</td>\n",
              "    </tr>\n",
              "    <tr>\n",
              "      <th>1</th>\n",
              "      <td>29166</td>\n",
              "      <td>city_83</td>\n",
              "      <td>0.923</td>\n",
              "      <td>Male</td>\n",
              "      <td>no_enrollment</td>\n",
              "      <td>Graduate</td>\n",
              "      <td>STEM</td>\n",
              "      <td>14.0</td>\n",
              "      <td>&lt;10</td>\n",
              "      <td>Funded Startup</td>\n",
              "      <td>1</td>\n",
              "      <td>69</td>\n",
              "      <td>0</td>\n",
              "      <td>1</td>\n",
              "    </tr>\n",
              "    <tr>\n",
              "      <th>2</th>\n",
              "      <td>46</td>\n",
              "      <td>city_16</td>\n",
              "      <td>0.910</td>\n",
              "      <td>NaN</td>\n",
              "      <td>no_enrollment</td>\n",
              "      <td>Graduate</td>\n",
              "      <td>STEM</td>\n",
              "      <td>6.0</td>\n",
              "      <td>50-99</td>\n",
              "      <td>Public Sector</td>\n",
              "      <td>2</td>\n",
              "      <td>4</td>\n",
              "      <td>0</td>\n",
              "      <td>1</td>\n",
              "    </tr>\n",
              "    <tr>\n",
              "      <th>3</th>\n",
              "      <td>18527</td>\n",
              "      <td>city_64</td>\n",
              "      <td>0.666</td>\n",
              "      <td>Male</td>\n",
              "      <td>no_enrollment</td>\n",
              "      <td>Graduate</td>\n",
              "      <td>STEM</td>\n",
              "      <td>14.0</td>\n",
              "      <td>50-99</td>\n",
              "      <td>Pvt Ltd</td>\n",
              "      <td>1</td>\n",
              "      <td>26</td>\n",
              "      <td>0</td>\n",
              "      <td>1</td>\n",
              "    </tr>\n",
              "    <tr>\n",
              "      <th>4</th>\n",
              "      <td>21751</td>\n",
              "      <td>city_100</td>\n",
              "      <td>0.887</td>\n",
              "      <td>NaN</td>\n",
              "      <td>no_enrollment</td>\n",
              "      <td>Masters</td>\n",
              "      <td>STEM</td>\n",
              "      <td>8.0</td>\n",
              "      <td>NaN</td>\n",
              "      <td>NaN</td>\n",
              "      <td>2</td>\n",
              "      <td>88</td>\n",
              "      <td>1</td>\n",
              "      <td>0</td>\n",
              "    </tr>\n",
              "  </tbody>\n",
              "</table>\n",
              "</div>"
            ],
            "text/plain": [
              "   enrollee_id      city  ...  target Has relevent experience\n",
              "0        23798  city_149  ...       0                       1\n",
              "1        29166   city_83  ...       0                       1\n",
              "2           46   city_16  ...       0                       1\n",
              "3        18527   city_64  ...       0                       1\n",
              "4        21751  city_100  ...       1                       0\n",
              "\n",
              "[5 rows x 14 columns]"
            ]
          },
          "metadata": {
            "tags": []
          },
          "execution_count": 370
        }
      ]
    },
    {
      "cell_type": "code",
      "metadata": {
        "id": "rYIi2CbPep9T",
        "colab_type": "code",
        "outputId": "a27ee01c-6337-463d-90a7-00c8496510fc",
        "colab": {
          "base_uri": "https://localhost:8080/",
          "height": 258
        }
      },
      "source": [
        "df.head()"
      ],
      "execution_count": 371,
      "outputs": [
        {
          "output_type": "execute_result",
          "data": {
            "text/html": [
              "<div>\n",
              "<style scoped>\n",
              "    .dataframe tbody tr th:only-of-type {\n",
              "        vertical-align: middle;\n",
              "    }\n",
              "\n",
              "    .dataframe tbody tr th {\n",
              "        vertical-align: top;\n",
              "    }\n",
              "\n",
              "    .dataframe thead th {\n",
              "        text-align: right;\n",
              "    }\n",
              "</style>\n",
              "<table border=\"1\" class=\"dataframe\">\n",
              "  <thead>\n",
              "    <tr style=\"text-align: right;\">\n",
              "      <th></th>\n",
              "      <th>enrollee_id</th>\n",
              "      <th>city</th>\n",
              "      <th>city_development_index</th>\n",
              "      <th>gender</th>\n",
              "      <th>enrolled_university</th>\n",
              "      <th>education_level</th>\n",
              "      <th>major_discipline</th>\n",
              "      <th>experience</th>\n",
              "      <th>company_size</th>\n",
              "      <th>company_type</th>\n",
              "      <th>last_new_job</th>\n",
              "      <th>training_hours</th>\n",
              "      <th>target</th>\n",
              "      <th>Has relevent experience</th>\n",
              "    </tr>\n",
              "  </thead>\n",
              "  <tbody>\n",
              "    <tr>\n",
              "      <th>0</th>\n",
              "      <td>23798</td>\n",
              "      <td>city_149</td>\n",
              "      <td>0.689</td>\n",
              "      <td>Male</td>\n",
              "      <td>no_enrollment</td>\n",
              "      <td>Graduate</td>\n",
              "      <td>STEM</td>\n",
              "      <td>3.0</td>\n",
              "      <td>100-500</td>\n",
              "      <td>Pvt Ltd</td>\n",
              "      <td>1</td>\n",
              "      <td>106</td>\n",
              "      <td>0</td>\n",
              "      <td>1</td>\n",
              "    </tr>\n",
              "    <tr>\n",
              "      <th>1</th>\n",
              "      <td>29166</td>\n",
              "      <td>city_83</td>\n",
              "      <td>0.923</td>\n",
              "      <td>Male</td>\n",
              "      <td>no_enrollment</td>\n",
              "      <td>Graduate</td>\n",
              "      <td>STEM</td>\n",
              "      <td>14.0</td>\n",
              "      <td>&lt;10</td>\n",
              "      <td>Funded Startup</td>\n",
              "      <td>1</td>\n",
              "      <td>69</td>\n",
              "      <td>0</td>\n",
              "      <td>1</td>\n",
              "    </tr>\n",
              "    <tr>\n",
              "      <th>2</th>\n",
              "      <td>46</td>\n",
              "      <td>city_16</td>\n",
              "      <td>0.910</td>\n",
              "      <td>NaN</td>\n",
              "      <td>no_enrollment</td>\n",
              "      <td>Graduate</td>\n",
              "      <td>STEM</td>\n",
              "      <td>6.0</td>\n",
              "      <td>50-99</td>\n",
              "      <td>Public Sector</td>\n",
              "      <td>2</td>\n",
              "      <td>4</td>\n",
              "      <td>0</td>\n",
              "      <td>1</td>\n",
              "    </tr>\n",
              "    <tr>\n",
              "      <th>3</th>\n",
              "      <td>18527</td>\n",
              "      <td>city_64</td>\n",
              "      <td>0.666</td>\n",
              "      <td>Male</td>\n",
              "      <td>no_enrollment</td>\n",
              "      <td>Graduate</td>\n",
              "      <td>STEM</td>\n",
              "      <td>14.0</td>\n",
              "      <td>50-99</td>\n",
              "      <td>Pvt Ltd</td>\n",
              "      <td>1</td>\n",
              "      <td>26</td>\n",
              "      <td>0</td>\n",
              "      <td>1</td>\n",
              "    </tr>\n",
              "    <tr>\n",
              "      <th>4</th>\n",
              "      <td>21751</td>\n",
              "      <td>city_100</td>\n",
              "      <td>0.887</td>\n",
              "      <td>NaN</td>\n",
              "      <td>no_enrollment</td>\n",
              "      <td>Masters</td>\n",
              "      <td>STEM</td>\n",
              "      <td>8.0</td>\n",
              "      <td>NaN</td>\n",
              "      <td>NaN</td>\n",
              "      <td>2</td>\n",
              "      <td>88</td>\n",
              "      <td>1</td>\n",
              "      <td>0</td>\n",
              "    </tr>\n",
              "  </tbody>\n",
              "</table>\n",
              "</div>"
            ],
            "text/plain": [
              "   enrollee_id      city  ...  target Has relevent experience\n",
              "0        23798  city_149  ...       0                       1\n",
              "1        29166   city_83  ...       0                       1\n",
              "2           46   city_16  ...       0                       1\n",
              "3        18527   city_64  ...       0                       1\n",
              "4        21751  city_100  ...       1                       0\n",
              "\n",
              "[5 rows x 14 columns]"
            ]
          },
          "metadata": {
            "tags": []
          },
          "execution_count": 371
        }
      ]
    },
    {
      "cell_type": "code",
      "metadata": {
        "scrolled": false,
        "id": "scjUuXk3ep9Y",
        "colab_type": "code",
        "outputId": "57bc641d-d268-4f65-d7f9-78bb378c5c15",
        "colab": {
          "base_uri": "https://localhost:8080/",
          "height": 473
        }
      },
      "source": [
        "df[df['last_new_job'].isnull()]"
      ],
      "execution_count": 372,
      "outputs": [
        {
          "output_type": "execute_result",
          "data": {
            "text/html": [
              "<div>\n",
              "<style scoped>\n",
              "    .dataframe tbody tr th:only-of-type {\n",
              "        vertical-align: middle;\n",
              "    }\n",
              "\n",
              "    .dataframe tbody tr th {\n",
              "        vertical-align: top;\n",
              "    }\n",
              "\n",
              "    .dataframe thead th {\n",
              "        text-align: right;\n",
              "    }\n",
              "</style>\n",
              "<table border=\"1\" class=\"dataframe\">\n",
              "  <thead>\n",
              "    <tr style=\"text-align: right;\">\n",
              "      <th></th>\n",
              "      <th>enrollee_id</th>\n",
              "      <th>city</th>\n",
              "      <th>city_development_index</th>\n",
              "      <th>gender</th>\n",
              "      <th>enrolled_university</th>\n",
              "      <th>education_level</th>\n",
              "      <th>major_discipline</th>\n",
              "      <th>experience</th>\n",
              "      <th>company_size</th>\n",
              "      <th>company_type</th>\n",
              "      <th>last_new_job</th>\n",
              "      <th>training_hours</th>\n",
              "      <th>target</th>\n",
              "      <th>Has relevent experience</th>\n",
              "    </tr>\n",
              "  </thead>\n",
              "  <tbody>\n",
              "    <tr>\n",
              "      <th>30</th>\n",
              "      <td>23129</td>\n",
              "      <td>city_103</td>\n",
              "      <td>0.920</td>\n",
              "      <td>NaN</td>\n",
              "      <td>no_enrollment</td>\n",
              "      <td>Graduate</td>\n",
              "      <td>STEM</td>\n",
              "      <td>8.0</td>\n",
              "      <td>10000+</td>\n",
              "      <td>Pvt Ltd</td>\n",
              "      <td>NaN</td>\n",
              "      <td>104</td>\n",
              "      <td>0</td>\n",
              "      <td>0</td>\n",
              "    </tr>\n",
              "    <tr>\n",
              "      <th>67</th>\n",
              "      <td>23783</td>\n",
              "      <td>city_90</td>\n",
              "      <td>0.698</td>\n",
              "      <td>NaN</td>\n",
              "      <td>Full time course</td>\n",
              "      <td>Graduate</td>\n",
              "      <td>STEM</td>\n",
              "      <td>2.0</td>\n",
              "      <td>100-500</td>\n",
              "      <td>Pvt Ltd</td>\n",
              "      <td>NaN</td>\n",
              "      <td>145</td>\n",
              "      <td>0</td>\n",
              "      <td>0</td>\n",
              "    </tr>\n",
              "    <tr>\n",
              "      <th>112</th>\n",
              "      <td>12449</td>\n",
              "      <td>city_176</td>\n",
              "      <td>0.764</td>\n",
              "      <td>NaN</td>\n",
              "      <td>NaN</td>\n",
              "      <td>Masters</td>\n",
              "      <td>STEM</td>\n",
              "      <td>4.0</td>\n",
              "      <td>NaN</td>\n",
              "      <td>NaN</td>\n",
              "      <td>NaN</td>\n",
              "      <td>24</td>\n",
              "      <td>0</td>\n",
              "      <td>1</td>\n",
              "    </tr>\n",
              "    <tr>\n",
              "      <th>198</th>\n",
              "      <td>1980</td>\n",
              "      <td>city_21</td>\n",
              "      <td>0.624</td>\n",
              "      <td>NaN</td>\n",
              "      <td>Full time course</td>\n",
              "      <td>Graduate</td>\n",
              "      <td>STEM</td>\n",
              "      <td>0.0</td>\n",
              "      <td>&lt;10</td>\n",
              "      <td>Pvt Ltd</td>\n",
              "      <td>NaN</td>\n",
              "      <td>92</td>\n",
              "      <td>0</td>\n",
              "      <td>1</td>\n",
              "    </tr>\n",
              "    <tr>\n",
              "      <th>224</th>\n",
              "      <td>21814</td>\n",
              "      <td>city_100</td>\n",
              "      <td>0.887</td>\n",
              "      <td>NaN</td>\n",
              "      <td>no_enrollment</td>\n",
              "      <td>Graduate</td>\n",
              "      <td>STEM</td>\n",
              "      <td>10.0</td>\n",
              "      <td>5000-9999</td>\n",
              "      <td>NaN</td>\n",
              "      <td>NaN</td>\n",
              "      <td>23</td>\n",
              "      <td>0</td>\n",
              "      <td>1</td>\n",
              "    </tr>\n",
              "    <tr>\n",
              "      <th>...</th>\n",
              "      <td>...</td>\n",
              "      <td>...</td>\n",
              "      <td>...</td>\n",
              "      <td>...</td>\n",
              "      <td>...</td>\n",
              "      <td>...</td>\n",
              "      <td>...</td>\n",
              "      <td>...</td>\n",
              "      <td>...</td>\n",
              "      <td>...</td>\n",
              "      <td>...</td>\n",
              "      <td>...</td>\n",
              "      <td>...</td>\n",
              "      <td>...</td>\n",
              "    </tr>\n",
              "    <tr>\n",
              "      <th>18130</th>\n",
              "      <td>18444</td>\n",
              "      <td>city_114</td>\n",
              "      <td>0.926</td>\n",
              "      <td>NaN</td>\n",
              "      <td>Full time course</td>\n",
              "      <td>High School</td>\n",
              "      <td>NaN</td>\n",
              "      <td>4.0</td>\n",
              "      <td>NaN</td>\n",
              "      <td>NaN</td>\n",
              "      <td>NaN</td>\n",
              "      <td>4</td>\n",
              "      <td>0</td>\n",
              "      <td>0</td>\n",
              "    </tr>\n",
              "    <tr>\n",
              "      <th>18211</th>\n",
              "      <td>19128</td>\n",
              "      <td>city_61</td>\n",
              "      <td>0.913</td>\n",
              "      <td>Male</td>\n",
              "      <td>Full time course</td>\n",
              "      <td>Graduate</td>\n",
              "      <td>STEM</td>\n",
              "      <td>4.0</td>\n",
              "      <td>NaN</td>\n",
              "      <td>NaN</td>\n",
              "      <td>NaN</td>\n",
              "      <td>140</td>\n",
              "      <td>0</td>\n",
              "      <td>0</td>\n",
              "    </tr>\n",
              "    <tr>\n",
              "      <th>18246</th>\n",
              "      <td>18493</td>\n",
              "      <td>city_99</td>\n",
              "      <td>0.915</td>\n",
              "      <td>NaN</td>\n",
              "      <td>Full time course</td>\n",
              "      <td>Graduate</td>\n",
              "      <td>STEM</td>\n",
              "      <td>11.0</td>\n",
              "      <td>NaN</td>\n",
              "      <td>NaN</td>\n",
              "      <td>NaN</td>\n",
              "      <td>24</td>\n",
              "      <td>0</td>\n",
              "      <td>0</td>\n",
              "    </tr>\n",
              "    <tr>\n",
              "      <th>18292</th>\n",
              "      <td>28252</td>\n",
              "      <td>city_21</td>\n",
              "      <td>0.624</td>\n",
              "      <td>NaN</td>\n",
              "      <td>no_enrollment</td>\n",
              "      <td>Graduate</td>\n",
              "      <td>STEM</td>\n",
              "      <td>5.0</td>\n",
              "      <td>NaN</td>\n",
              "      <td>Public Sector</td>\n",
              "      <td>NaN</td>\n",
              "      <td>81</td>\n",
              "      <td>0</td>\n",
              "      <td>0</td>\n",
              "    </tr>\n",
              "    <tr>\n",
              "      <th>18338</th>\n",
              "      <td>7017</td>\n",
              "      <td>city_173</td>\n",
              "      <td>0.878</td>\n",
              "      <td>NaN</td>\n",
              "      <td>Full time course</td>\n",
              "      <td>Masters</td>\n",
              "      <td>STEM</td>\n",
              "      <td>20.0</td>\n",
              "      <td>NaN</td>\n",
              "      <td>NaN</td>\n",
              "      <td>NaN</td>\n",
              "      <td>28</td>\n",
              "      <td>0</td>\n",
              "      <td>1</td>\n",
              "    </tr>\n",
              "  </tbody>\n",
              "</table>\n",
              "<p>367 rows × 14 columns</p>\n",
              "</div>"
            ],
            "text/plain": [
              "       enrollee_id      city  ...  target Has relevent experience\n",
              "30           23129  city_103  ...       0                       0\n",
              "67           23783   city_90  ...       0                       0\n",
              "112          12449  city_176  ...       0                       1\n",
              "198           1980   city_21  ...       0                       1\n",
              "224          21814  city_100  ...       0                       1\n",
              "...            ...       ...  ...     ...                     ...\n",
              "18130        18444  city_114  ...       0                       0\n",
              "18211        19128   city_61  ...       0                       0\n",
              "18246        18493   city_99  ...       0                       0\n",
              "18292        28252   city_21  ...       0                       0\n",
              "18338         7017  city_173  ...       0                       1\n",
              "\n",
              "[367 rows x 14 columns]"
            ]
          },
          "metadata": {
            "tags": []
          },
          "execution_count": 372
        }
      ]
    },
    {
      "cell_type": "code",
      "metadata": {
        "id": "rJFxGtOiep9b",
        "colab_type": "code",
        "outputId": "77ed3a86-2e4c-4132-cefc-61c1ebcdccb0",
        "colab": {
          "base_uri": "https://localhost:8080/",
          "height": 34
        }
      },
      "source": [
        "df['last_new_job'].unique()"
      ],
      "execution_count": 373,
      "outputs": [
        {
          "output_type": "execute_result",
          "data": {
            "text/plain": [
              "array(['1', '2', '3', '>4', 'never', '4', nan], dtype=object)"
            ]
          },
          "metadata": {
            "tags": []
          },
          "execution_count": 373
        }
      ]
    },
    {
      "cell_type": "code",
      "metadata": {
        "id": "YiLmk_Faep9e",
        "colab_type": "code",
        "colab": {}
      },
      "source": [
        "def check1(x):\n",
        "    if x == '>4':\n",
        "        return 5\n",
        "    elif x == 'never':\n",
        "        return 0\n",
        "    else:\n",
        "        return x"
      ],
      "execution_count": 0,
      "outputs": []
    },
    {
      "cell_type": "code",
      "metadata": {
        "id": "XDl1x4Whep9h",
        "colab_type": "code",
        "colab": {}
      },
      "source": [
        "def convertint1(x):\n",
        "    if isinstance(x,str):\n",
        "        return int(x)\n",
        "    else:\n",
        "        return x\n",
        "    "
      ],
      "execution_count": 0,
      "outputs": []
    },
    {
      "cell_type": "code",
      "metadata": {
        "id": "gJ_UqQfwep9l",
        "colab_type": "code",
        "colab": {}
      },
      "source": [
        "df['last_new_job'] = df['last_new_job'].apply(lambda x : check1(x))"
      ],
      "execution_count": 0,
      "outputs": []
    },
    {
      "cell_type": "code",
      "metadata": {
        "id": "vgXrluSZep9o",
        "colab_type": "code",
        "colab": {}
      },
      "source": [
        "df['last_new_job'] = df['last_new_job'].apply(lambda x : convertint1(x))"
      ],
      "execution_count": 0,
      "outputs": []
    },
    {
      "cell_type": "code",
      "metadata": {
        "id": "FDNTVz07ep9r",
        "colab_type": "code",
        "outputId": "b94fd5a5-f7b0-49c3-c1da-6aecdb60958d",
        "colab": {
          "base_uri": "https://localhost:8080/",
          "height": 102
        }
      },
      "source": [
        "df.columns"
      ],
      "execution_count": 378,
      "outputs": [
        {
          "output_type": "execute_result",
          "data": {
            "text/plain": [
              "Index(['enrollee_id', 'city', 'city_development_index', 'gender',\n",
              "       'enrolled_university', 'education_level', 'major_discipline',\n",
              "       'experience', 'company_size', 'company_type', 'last_new_job',\n",
              "       'training_hours', 'target', 'Has relevent experience'],\n",
              "      dtype='object')"
            ]
          },
          "metadata": {
            "tags": []
          },
          "execution_count": 378
        }
      ]
    },
    {
      "cell_type": "code",
      "metadata": {
        "id": "oaEap4JXep9u",
        "colab_type": "code",
        "outputId": "345a3d4c-c4ea-46e9-d646-91f88862d902",
        "colab": {
          "base_uri": "https://localhost:8080/",
          "height": 204
        }
      },
      "source": [
        "X = df[['city_development_index','experience','Has relevent experience','last_new_job']]\n",
        "X.head()"
      ],
      "execution_count": 379,
      "outputs": [
        {
          "output_type": "execute_result",
          "data": {
            "text/html": [
              "<div>\n",
              "<style scoped>\n",
              "    .dataframe tbody tr th:only-of-type {\n",
              "        vertical-align: middle;\n",
              "    }\n",
              "\n",
              "    .dataframe tbody tr th {\n",
              "        vertical-align: top;\n",
              "    }\n",
              "\n",
              "    .dataframe thead th {\n",
              "        text-align: right;\n",
              "    }\n",
              "</style>\n",
              "<table border=\"1\" class=\"dataframe\">\n",
              "  <thead>\n",
              "    <tr style=\"text-align: right;\">\n",
              "      <th></th>\n",
              "      <th>city_development_index</th>\n",
              "      <th>experience</th>\n",
              "      <th>Has relevent experience</th>\n",
              "      <th>last_new_job</th>\n",
              "    </tr>\n",
              "  </thead>\n",
              "  <tbody>\n",
              "    <tr>\n",
              "      <th>0</th>\n",
              "      <td>0.689</td>\n",
              "      <td>3.0</td>\n",
              "      <td>1</td>\n",
              "      <td>1.0</td>\n",
              "    </tr>\n",
              "    <tr>\n",
              "      <th>1</th>\n",
              "      <td>0.923</td>\n",
              "      <td>14.0</td>\n",
              "      <td>1</td>\n",
              "      <td>1.0</td>\n",
              "    </tr>\n",
              "    <tr>\n",
              "      <th>2</th>\n",
              "      <td>0.910</td>\n",
              "      <td>6.0</td>\n",
              "      <td>1</td>\n",
              "      <td>2.0</td>\n",
              "    </tr>\n",
              "    <tr>\n",
              "      <th>3</th>\n",
              "      <td>0.666</td>\n",
              "      <td>14.0</td>\n",
              "      <td>1</td>\n",
              "      <td>1.0</td>\n",
              "    </tr>\n",
              "    <tr>\n",
              "      <th>4</th>\n",
              "      <td>0.887</td>\n",
              "      <td>8.0</td>\n",
              "      <td>0</td>\n",
              "      <td>2.0</td>\n",
              "    </tr>\n",
              "  </tbody>\n",
              "</table>\n",
              "</div>"
            ],
            "text/plain": [
              "   city_development_index  experience  Has relevent experience  last_new_job\n",
              "0                   0.689         3.0                        1           1.0\n",
              "1                   0.923        14.0                        1           1.0\n",
              "2                   0.910         6.0                        1           2.0\n",
              "3                   0.666        14.0                        1           1.0\n",
              "4                   0.887         8.0                        0           2.0"
            ]
          },
          "metadata": {
            "tags": []
          },
          "execution_count": 379
        }
      ]
    },
    {
      "cell_type": "code",
      "metadata": {
        "scrolled": true,
        "id": "88Vls2u8ep9x",
        "colab_type": "code",
        "outputId": "5997378a-cae1-4054-9b84-dc90c0f90f37",
        "colab": {
          "base_uri": "https://localhost:8080/",
          "height": 419
        }
      },
      "source": [
        "X"
      ],
      "execution_count": 380,
      "outputs": [
        {
          "output_type": "execute_result",
          "data": {
            "text/html": [
              "<div>\n",
              "<style scoped>\n",
              "    .dataframe tbody tr th:only-of-type {\n",
              "        vertical-align: middle;\n",
              "    }\n",
              "\n",
              "    .dataframe tbody tr th {\n",
              "        vertical-align: top;\n",
              "    }\n",
              "\n",
              "    .dataframe thead th {\n",
              "        text-align: right;\n",
              "    }\n",
              "</style>\n",
              "<table border=\"1\" class=\"dataframe\">\n",
              "  <thead>\n",
              "    <tr style=\"text-align: right;\">\n",
              "      <th></th>\n",
              "      <th>city_development_index</th>\n",
              "      <th>experience</th>\n",
              "      <th>Has relevent experience</th>\n",
              "      <th>last_new_job</th>\n",
              "    </tr>\n",
              "  </thead>\n",
              "  <tbody>\n",
              "    <tr>\n",
              "      <th>0</th>\n",
              "      <td>0.689</td>\n",
              "      <td>3.0</td>\n",
              "      <td>1</td>\n",
              "      <td>1.0</td>\n",
              "    </tr>\n",
              "    <tr>\n",
              "      <th>1</th>\n",
              "      <td>0.923</td>\n",
              "      <td>14.0</td>\n",
              "      <td>1</td>\n",
              "      <td>1.0</td>\n",
              "    </tr>\n",
              "    <tr>\n",
              "      <th>2</th>\n",
              "      <td>0.910</td>\n",
              "      <td>6.0</td>\n",
              "      <td>1</td>\n",
              "      <td>2.0</td>\n",
              "    </tr>\n",
              "    <tr>\n",
              "      <th>3</th>\n",
              "      <td>0.666</td>\n",
              "      <td>14.0</td>\n",
              "      <td>1</td>\n",
              "      <td>1.0</td>\n",
              "    </tr>\n",
              "    <tr>\n",
              "      <th>4</th>\n",
              "      <td>0.887</td>\n",
              "      <td>8.0</td>\n",
              "      <td>0</td>\n",
              "      <td>2.0</td>\n",
              "    </tr>\n",
              "    <tr>\n",
              "      <th>...</th>\n",
              "      <td>...</td>\n",
              "      <td>...</td>\n",
              "      <td>...</td>\n",
              "      <td>...</td>\n",
              "    </tr>\n",
              "    <tr>\n",
              "      <th>18354</th>\n",
              "      <td>0.920</td>\n",
              "      <td>5.0</td>\n",
              "      <td>1</td>\n",
              "      <td>1.0</td>\n",
              "    </tr>\n",
              "    <tr>\n",
              "      <th>18355</th>\n",
              "      <td>0.920</td>\n",
              "      <td>15.0</td>\n",
              "      <td>0</td>\n",
              "      <td>1.0</td>\n",
              "    </tr>\n",
              "    <tr>\n",
              "      <th>18356</th>\n",
              "      <td>0.926</td>\n",
              "      <td>11.0</td>\n",
              "      <td>1</td>\n",
              "      <td>3.0</td>\n",
              "    </tr>\n",
              "    <tr>\n",
              "      <th>18357</th>\n",
              "      <td>0.939</td>\n",
              "      <td>20.0</td>\n",
              "      <td>1</td>\n",
              "      <td>3.0</td>\n",
              "    </tr>\n",
              "    <tr>\n",
              "      <th>18358</th>\n",
              "      <td>0.794</td>\n",
              "      <td>20.0</td>\n",
              "      <td>1</td>\n",
              "      <td>2.0</td>\n",
              "    </tr>\n",
              "  </tbody>\n",
              "</table>\n",
              "<p>18359 rows × 4 columns</p>\n",
              "</div>"
            ],
            "text/plain": [
              "       city_development_index  ...  last_new_job\n",
              "0                       0.689  ...           1.0\n",
              "1                       0.923  ...           1.0\n",
              "2                       0.910  ...           2.0\n",
              "3                       0.666  ...           1.0\n",
              "4                       0.887  ...           2.0\n",
              "...                       ...  ...           ...\n",
              "18354                   0.920  ...           1.0\n",
              "18355                   0.920  ...           1.0\n",
              "18356                   0.926  ...           3.0\n",
              "18357                   0.939  ...           3.0\n",
              "18358                   0.794  ...           2.0\n",
              "\n",
              "[18359 rows x 4 columns]"
            ]
          },
          "metadata": {
            "tags": []
          },
          "execution_count": 380
        }
      ]
    },
    {
      "cell_type": "code",
      "metadata": {
        "id": "1sF5-pc7ep91",
        "colab_type": "code",
        "colab": {}
      },
      "source": [
        "nullindexlist=X[X['last_new_job'].isnull()].index.tolist()"
      ],
      "execution_count": 0,
      "outputs": []
    },
    {
      "cell_type": "code",
      "metadata": {
        "id": "-lwwu0NFep95",
        "colab_type": "code",
        "outputId": "38d798b1-0a9c-49b8-87c2-ae5608f8347e",
        "colab": {
          "base_uri": "https://localhost:8080/",
          "height": 80
        }
      },
      "source": [
        "pd.DataFrame(X.iloc[nullindexlist[0]]).transpose()"
      ],
      "execution_count": 382,
      "outputs": [
        {
          "output_type": "execute_result",
          "data": {
            "text/html": [
              "<div>\n",
              "<style scoped>\n",
              "    .dataframe tbody tr th:only-of-type {\n",
              "        vertical-align: middle;\n",
              "    }\n",
              "\n",
              "    .dataframe tbody tr th {\n",
              "        vertical-align: top;\n",
              "    }\n",
              "\n",
              "    .dataframe thead th {\n",
              "        text-align: right;\n",
              "    }\n",
              "</style>\n",
              "<table border=\"1\" class=\"dataframe\">\n",
              "  <thead>\n",
              "    <tr style=\"text-align: right;\">\n",
              "      <th></th>\n",
              "      <th>city_development_index</th>\n",
              "      <th>experience</th>\n",
              "      <th>Has relevent experience</th>\n",
              "      <th>last_new_job</th>\n",
              "    </tr>\n",
              "  </thead>\n",
              "  <tbody>\n",
              "    <tr>\n",
              "      <th>30</th>\n",
              "      <td>0.92</td>\n",
              "      <td>8.0</td>\n",
              "      <td>0.0</td>\n",
              "      <td>NaN</td>\n",
              "    </tr>\n",
              "  </tbody>\n",
              "</table>\n",
              "</div>"
            ],
            "text/plain": [
              "    city_development_index  experience  Has relevent experience  last_new_job\n",
              "30                    0.92         8.0                      0.0           NaN"
            ]
          },
          "metadata": {
            "tags": []
          },
          "execution_count": 382
        }
      ]
    },
    {
      "cell_type": "code",
      "metadata": {
        "id": "9TDhNhn9ep99",
        "colab_type": "code",
        "colab": {}
      },
      "source": [
        "predictdf = pd.DataFrame(columns=['city_development_index','experience', 'Has relevent experience','last_new_job'])"
      ],
      "execution_count": 0,
      "outputs": []
    },
    {
      "cell_type": "code",
      "metadata": {
        "id": "O6986TYaep-A",
        "colab_type": "code",
        "outputId": "66797c36-109d-4005-f1f4-12a1c5ccbafe",
        "colab": {
          "base_uri": "https://localhost:8080/",
          "height": 49
        }
      },
      "source": [
        "predictdf"
      ],
      "execution_count": 384,
      "outputs": [
        {
          "output_type": "execute_result",
          "data": {
            "text/html": [
              "<div>\n",
              "<style scoped>\n",
              "    .dataframe tbody tr th:only-of-type {\n",
              "        vertical-align: middle;\n",
              "    }\n",
              "\n",
              "    .dataframe tbody tr th {\n",
              "        vertical-align: top;\n",
              "    }\n",
              "\n",
              "    .dataframe thead th {\n",
              "        text-align: right;\n",
              "    }\n",
              "</style>\n",
              "<table border=\"1\" class=\"dataframe\">\n",
              "  <thead>\n",
              "    <tr style=\"text-align: right;\">\n",
              "      <th></th>\n",
              "      <th>city_development_index</th>\n",
              "      <th>experience</th>\n",
              "      <th>Has relevent experience</th>\n",
              "      <th>last_new_job</th>\n",
              "    </tr>\n",
              "  </thead>\n",
              "  <tbody>\n",
              "  </tbody>\n",
              "</table>\n",
              "</div>"
            ],
            "text/plain": [
              "Empty DataFrame\n",
              "Columns: [city_development_index, experience, Has relevent experience, last_new_job]\n",
              "Index: []"
            ]
          },
          "metadata": {
            "tags": []
          },
          "execution_count": 384
        }
      ]
    },
    {
      "cell_type": "code",
      "metadata": {
        "id": "uh5uWPRCep-E",
        "colab_type": "code",
        "colab": {}
      },
      "source": [
        "for num in nullindexlist:\n",
        "    predictdf = pd.concat([predictdf,pd.DataFrame(X.iloc[num]).transpose()],sort=False)"
      ],
      "execution_count": 0,
      "outputs": []
    },
    {
      "cell_type": "code",
      "metadata": {
        "id": "ZlN-qL9Nep-M",
        "colab_type": "code",
        "colab": {}
      },
      "source": [
        "predictdf.drop('last_new_job',axis=1,inplace=True)"
      ],
      "execution_count": 0,
      "outputs": []
    },
    {
      "cell_type": "code",
      "metadata": {
        "id": "Sy4XaR_1ep-Q",
        "colab_type": "code",
        "outputId": "5a4b4222-53c7-4c56-dd19-63b0dea5d132",
        "colab": {
          "base_uri": "https://localhost:8080/",
          "height": 1000
        }
      },
      "source": [
        "nullindexlist"
      ],
      "execution_count": 387,
      "outputs": [
        {
          "output_type": "execute_result",
          "data": {
            "text/plain": [
              "[30,\n",
              " 67,\n",
              " 112,\n",
              " 198,\n",
              " 224,\n",
              " 244,\n",
              " 263,\n",
              " 319,\n",
              " 342,\n",
              " 508,\n",
              " 613,\n",
              " 659,\n",
              " 729,\n",
              " 789,\n",
              " 818,\n",
              " 955,\n",
              " 974,\n",
              " 1105,\n",
              " 1112,\n",
              " 1185,\n",
              " 1242,\n",
              " 1322,\n",
              " 1336,\n",
              " 1379,\n",
              " 1390,\n",
              " 1442,\n",
              " 1445,\n",
              " 1502,\n",
              " 1520,\n",
              " 1550,\n",
              " 1592,\n",
              " 1620,\n",
              " 1622,\n",
              " 1661,\n",
              " 1674,\n",
              " 1814,\n",
              " 2012,\n",
              " 2072,\n",
              " 2086,\n",
              " 2090,\n",
              " 2174,\n",
              " 2289,\n",
              " 2296,\n",
              " 2408,\n",
              " 2450,\n",
              " 2525,\n",
              " 2545,\n",
              " 2555,\n",
              " 2630,\n",
              " 2784,\n",
              " 2812,\n",
              " 2829,\n",
              " 2905,\n",
              " 2911,\n",
              " 2955,\n",
              " 2959,\n",
              " 3022,\n",
              " 3066,\n",
              " 3103,\n",
              " 3211,\n",
              " 3218,\n",
              " 3234,\n",
              " 3310,\n",
              " 3322,\n",
              " 3551,\n",
              " 3574,\n",
              " 3585,\n",
              " 3627,\n",
              " 3638,\n",
              " 3654,\n",
              " 3656,\n",
              " 3665,\n",
              " 3773,\n",
              " 3870,\n",
              " 3903,\n",
              " 3909,\n",
              " 3920,\n",
              " 3995,\n",
              " 4031,\n",
              " 4139,\n",
              " 4194,\n",
              " 4305,\n",
              " 4377,\n",
              " 4461,\n",
              " 4464,\n",
              " 4469,\n",
              " 4582,\n",
              " 4678,\n",
              " 4749,\n",
              " 4800,\n",
              " 4813,\n",
              " 4856,\n",
              " 4877,\n",
              " 4927,\n",
              " 5015,\n",
              " 5021,\n",
              " 5022,\n",
              " 5034,\n",
              " 5066,\n",
              " 5180,\n",
              " 5189,\n",
              " 5191,\n",
              " 5197,\n",
              " 5198,\n",
              " 5200,\n",
              " 5250,\n",
              " 5399,\n",
              " 5417,\n",
              " 5506,\n",
              " 5606,\n",
              " 5633,\n",
              " 5661,\n",
              " 5670,\n",
              " 5671,\n",
              " 5756,\n",
              " 5769,\n",
              " 5927,\n",
              " 5971,\n",
              " 6015,\n",
              " 6069,\n",
              " 6152,\n",
              " 6198,\n",
              " 6263,\n",
              " 6319,\n",
              " 6404,\n",
              " 6475,\n",
              " 6489,\n",
              " 6505,\n",
              " 6774,\n",
              " 6826,\n",
              " 6845,\n",
              " 6846,\n",
              " 6955,\n",
              " 7019,\n",
              " 7078,\n",
              " 7082,\n",
              " 7173,\n",
              " 7175,\n",
              " 7206,\n",
              " 7245,\n",
              " 7302,\n",
              " 7356,\n",
              " 7424,\n",
              " 7427,\n",
              " 7451,\n",
              " 7463,\n",
              " 7464,\n",
              " 7472,\n",
              " 7506,\n",
              " 7577,\n",
              " 7770,\n",
              " 7775,\n",
              " 7855,\n",
              " 7986,\n",
              " 7999,\n",
              " 8004,\n",
              " 8084,\n",
              " 8239,\n",
              " 8241,\n",
              " 8337,\n",
              " 8347,\n",
              " 8437,\n",
              " 8482,\n",
              " 8506,\n",
              " 8611,\n",
              " 8617,\n",
              " 8662,\n",
              " 8673,\n",
              " 8708,\n",
              " 8930,\n",
              " 8957,\n",
              " 8983,\n",
              " 9055,\n",
              " 9057,\n",
              " 9082,\n",
              " 9089,\n",
              " 9277,\n",
              " 9279,\n",
              " 9318,\n",
              " 9367,\n",
              " 9396,\n",
              " 9534,\n",
              " 9558,\n",
              " 9667,\n",
              " 9727,\n",
              " 9888,\n",
              " 9923,\n",
              " 9975,\n",
              " 10090,\n",
              " 10310,\n",
              " 10378,\n",
              " 10387,\n",
              " 10507,\n",
              " 10516,\n",
              " 10545,\n",
              " 10570,\n",
              " 10597,\n",
              " 10619,\n",
              " 10666,\n",
              " 10689,\n",
              " 10758,\n",
              " 10851,\n",
              " 10857,\n",
              " 10891,\n",
              " 10937,\n",
              " 10939,\n",
              " 10955,\n",
              " 10966,\n",
              " 11038,\n",
              " 11046,\n",
              " 11050,\n",
              " 11057,\n",
              " 11255,\n",
              " 11256,\n",
              " 11356,\n",
              " 11429,\n",
              " 11447,\n",
              " 11495,\n",
              " 11582,\n",
              " 11608,\n",
              " 11634,\n",
              " 11659,\n",
              " 11677,\n",
              " 11713,\n",
              " 11714,\n",
              " 11727,\n",
              " 11815,\n",
              " 11893,\n",
              " 11979,\n",
              " 12029,\n",
              " 12117,\n",
              " 12178,\n",
              " 12307,\n",
              " 12319,\n",
              " 12459,\n",
              " 12467,\n",
              " 12595,\n",
              " 12605,\n",
              " 12621,\n",
              " 12653,\n",
              " 12713,\n",
              " 12947,\n",
              " 12984,\n",
              " 12996,\n",
              " 13044,\n",
              " 13079,\n",
              " 13089,\n",
              " 13095,\n",
              " 13197,\n",
              " 13252,\n",
              " 13254,\n",
              " 13285,\n",
              " 13401,\n",
              " 13422,\n",
              " 13472,\n",
              " 13475,\n",
              " 13523,\n",
              " 13526,\n",
              " 13534,\n",
              " 13600,\n",
              " 13605,\n",
              " 13643,\n",
              " 13657,\n",
              " 13694,\n",
              " 13723,\n",
              " 13749,\n",
              " 13784,\n",
              " 13796,\n",
              " 13802,\n",
              " 13878,\n",
              " 13921,\n",
              " 13942,\n",
              " 13998,\n",
              " 14056,\n",
              " 14091,\n",
              " 14121,\n",
              " 14141,\n",
              " 14183,\n",
              " 14262,\n",
              " 14301,\n",
              " 14366,\n",
              " 14405,\n",
              " 14433,\n",
              " 14493,\n",
              " 14578,\n",
              " 14580,\n",
              " 14635,\n",
              " 14652,\n",
              " 14697,\n",
              " 14700,\n",
              " 14715,\n",
              " 14765,\n",
              " 14781,\n",
              " 14790,\n",
              " 14799,\n",
              " 14818,\n",
              " 14948,\n",
              " 14961,\n",
              " 15254,\n",
              " 15261,\n",
              " 15272,\n",
              " 15396,\n",
              " 15464,\n",
              " 15473,\n",
              " 15600,\n",
              " 15612,\n",
              " 15630,\n",
              " 15703,\n",
              " 15726,\n",
              " 15769,\n",
              " 15855,\n",
              " 15889,\n",
              " 15918,\n",
              " 16086,\n",
              " 16107,\n",
              " 16137,\n",
              " 16186,\n",
              " 16270,\n",
              " 16402,\n",
              " 16414,\n",
              " 16467,\n",
              " 16477,\n",
              " 16485,\n",
              " 16487,\n",
              " 16503,\n",
              " 16533,\n",
              " 16563,\n",
              " 16656,\n",
              " 16804,\n",
              " 16851,\n",
              " 16856,\n",
              " 16911,\n",
              " 16966,\n",
              " 17002,\n",
              " 17110,\n",
              " 17157,\n",
              " 17194,\n",
              " 17225,\n",
              " 17258,\n",
              " 17268,\n",
              " 17280,\n",
              " 17292,\n",
              " 17563,\n",
              " 17571,\n",
              " 17584,\n",
              " 17586,\n",
              " 17604,\n",
              " 17643,\n",
              " 17648,\n",
              " 17652,\n",
              " 17730,\n",
              " 17741,\n",
              " 17805,\n",
              " 17817,\n",
              " 17822,\n",
              " 17835,\n",
              " 17931,\n",
              " 17968,\n",
              " 17977,\n",
              " 18014,\n",
              " 18103,\n",
              " 18116,\n",
              " 18130,\n",
              " 18211,\n",
              " 18246,\n",
              " 18292,\n",
              " 18338]"
            ]
          },
          "metadata": {
            "tags": []
          },
          "execution_count": 387
        }
      ]
    },
    {
      "cell_type": "code",
      "metadata": {
        "id": "PD6CAcHPep-U",
        "colab_type": "code",
        "colab": {}
      },
      "source": [
        "newX = X.dropna()"
      ],
      "execution_count": 0,
      "outputs": []
    },
    {
      "cell_type": "code",
      "metadata": {
        "id": "pVcA6LSAep-Y",
        "colab_type": "code",
        "colab": {}
      },
      "source": [
        "variable = newX.drop('last_new_job',axis=1)\n",
        "target = newX['last_new_job']"
      ],
      "execution_count": 0,
      "outputs": []
    },
    {
      "cell_type": "code",
      "metadata": {
        "id": "qnFoOURpep-a",
        "colab_type": "code",
        "colab": {}
      },
      "source": [
        "from sklearn.linear_model import LinearRegression\n",
        "\n",
        "lr = LinearRegression()"
      ],
      "execution_count": 0,
      "outputs": []
    },
    {
      "cell_type": "code",
      "metadata": {
        "id": "Zdl2MbO3ep-f",
        "colab_type": "code",
        "outputId": "1c2500a7-83d9-4645-c6e2-1b5f4aa96673",
        "colab": {
          "base_uri": "https://localhost:8080/",
          "height": 34
        }
      },
      "source": [
        "lr.fit(variable,target)"
      ],
      "execution_count": 391,
      "outputs": [
        {
          "output_type": "execute_result",
          "data": {
            "text/plain": [
              "LinearRegression(copy_X=True, fit_intercept=True, n_jobs=None, normalize=False)"
            ]
          },
          "metadata": {
            "tags": []
          },
          "execution_count": 391
        }
      ]
    },
    {
      "cell_type": "code",
      "metadata": {
        "id": "PCiq3vGSep-l",
        "colab_type": "code",
        "colab": {}
      },
      "source": [
        "ans = pd.DataFrame(lr.predict(predictdf),columns=['last_new_job'])"
      ],
      "execution_count": 0,
      "outputs": []
    },
    {
      "cell_type": "code",
      "metadata": {
        "scrolled": true,
        "id": "xaqGJ1yDep-o",
        "colab_type": "code",
        "outputId": "430f01e0-2dae-44b5-e7ed-b8dc8dacaf0d",
        "colab": {
          "base_uri": "https://localhost:8080/",
          "height": 419
        }
      },
      "source": [
        "ans"
      ],
      "execution_count": 393,
      "outputs": [
        {
          "output_type": "execute_result",
          "data": {
            "text/html": [
              "<div>\n",
              "<style scoped>\n",
              "    .dataframe tbody tr th:only-of-type {\n",
              "        vertical-align: middle;\n",
              "    }\n",
              "\n",
              "    .dataframe tbody tr th {\n",
              "        vertical-align: top;\n",
              "    }\n",
              "\n",
              "    .dataframe thead th {\n",
              "        text-align: right;\n",
              "    }\n",
              "</style>\n",
              "<table border=\"1\" class=\"dataframe\">\n",
              "  <thead>\n",
              "    <tr style=\"text-align: right;\">\n",
              "      <th></th>\n",
              "      <th>last_new_job</th>\n",
              "    </tr>\n",
              "  </thead>\n",
              "  <tbody>\n",
              "    <tr>\n",
              "      <th>0</th>\n",
              "      <td>1.573468</td>\n",
              "    </tr>\n",
              "    <tr>\n",
              "      <th>1</th>\n",
              "      <td>0.767102</td>\n",
              "    </tr>\n",
              "    <tr>\n",
              "      <th>2</th>\n",
              "      <td>1.382369</td>\n",
              "    </tr>\n",
              "    <tr>\n",
              "      <th>3</th>\n",
              "      <td>0.849716</td>\n",
              "    </tr>\n",
              "    <tr>\n",
              "      <th>4</th>\n",
              "      <td>2.127805</td>\n",
              "    </tr>\n",
              "    <tr>\n",
              "      <th>...</th>\n",
              "      <td>...</td>\n",
              "    </tr>\n",
              "    <tr>\n",
              "      <th>362</th>\n",
              "      <td>1.130670</td>\n",
              "    </tr>\n",
              "    <tr>\n",
              "      <th>363</th>\n",
              "      <td>1.122669</td>\n",
              "    </tr>\n",
              "    <tr>\n",
              "      <th>364</th>\n",
              "      <td>1.905258</td>\n",
              "    </tr>\n",
              "    <tr>\n",
              "      <th>365</th>\n",
              "      <td>1.056426</td>\n",
              "    </tr>\n",
              "    <tr>\n",
              "      <th>366</th>\n",
              "      <td>3.238492</td>\n",
              "    </tr>\n",
              "  </tbody>\n",
              "</table>\n",
              "<p>367 rows × 1 columns</p>\n",
              "</div>"
            ],
            "text/plain": [
              "     last_new_job\n",
              "0        1.573468\n",
              "1        0.767102\n",
              "2        1.382369\n",
              "3        0.849716\n",
              "4        2.127805\n",
              "..            ...\n",
              "362      1.130670\n",
              "363      1.122669\n",
              "364      1.905258\n",
              "365      1.056426\n",
              "366      3.238492\n",
              "\n",
              "[367 rows x 1 columns]"
            ]
          },
          "metadata": {
            "tags": []
          },
          "execution_count": 393
        }
      ]
    },
    {
      "cell_type": "code",
      "metadata": {
        "id": "2Ddkq64lep-q",
        "colab_type": "code",
        "outputId": "7e2e44bb-6e38-4424-bf2b-bf91d50209e5",
        "colab": {
          "base_uri": "https://localhost:8080/",
          "height": 122
        }
      },
      "source": [
        "for i,num in enumerate(nullindexlist):\n",
        "    df['last_new_job'].iloc[num] = ans.iloc[i].values"
      ],
      "execution_count": 394,
      "outputs": [
        {
          "output_type": "stream",
          "text": [
            "/usr/local/lib/python3.6/dist-packages/pandas/core/indexing.py:671: SettingWithCopyWarning: \n",
            "A value is trying to be set on a copy of a slice from a DataFrame\n",
            "\n",
            "See the caveats in the documentation: https://pandas.pydata.org/pandas-docs/stable/user_guide/indexing.html#returning-a-view-versus-a-copy\n",
            "  self._setitem_with_indexer(indexer, value)\n"
          ],
          "name": "stderr"
        }
      ]
    },
    {
      "cell_type": "code",
      "metadata": {
        "scrolled": false,
        "id": "lzrZk1ucep-t",
        "colab_type": "code",
        "outputId": "06ed85fc-a4b7-4cfd-8f1e-54898449a09a",
        "colab": {
          "base_uri": "https://localhost:8080/",
          "height": 272
        }
      },
      "source": [
        "df.isnull().sum()"
      ],
      "execution_count": 395,
      "outputs": [
        {
          "output_type": "execute_result",
          "data": {
            "text/plain": [
              "enrollee_id                   0\n",
              "city                          0\n",
              "city_development_index        0\n",
              "gender                     4098\n",
              "enrolled_university         342\n",
              "education_level             457\n",
              "major_discipline           2838\n",
              "experience                    0\n",
              "company_size               4779\n",
              "company_type               5039\n",
              "last_new_job                  0\n",
              "training_hours                0\n",
              "target                        0\n",
              "Has relevent experience       0\n",
              "dtype: int64"
            ]
          },
          "metadata": {
            "tags": []
          },
          "execution_count": 395
        }
      ]
    },
    {
      "cell_type": "code",
      "metadata": {
        "scrolled": true,
        "id": "qUFaCl8Zep-w",
        "colab_type": "code",
        "outputId": "4ccbbdb2-9f5d-410a-eb4d-770e6f7ee14d",
        "colab": {
          "base_uri": "https://localhost:8080/",
          "height": 258
        }
      },
      "source": [
        "df.head()"
      ],
      "execution_count": 396,
      "outputs": [
        {
          "output_type": "execute_result",
          "data": {
            "text/html": [
              "<div>\n",
              "<style scoped>\n",
              "    .dataframe tbody tr th:only-of-type {\n",
              "        vertical-align: middle;\n",
              "    }\n",
              "\n",
              "    .dataframe tbody tr th {\n",
              "        vertical-align: top;\n",
              "    }\n",
              "\n",
              "    .dataframe thead th {\n",
              "        text-align: right;\n",
              "    }\n",
              "</style>\n",
              "<table border=\"1\" class=\"dataframe\">\n",
              "  <thead>\n",
              "    <tr style=\"text-align: right;\">\n",
              "      <th></th>\n",
              "      <th>enrollee_id</th>\n",
              "      <th>city</th>\n",
              "      <th>city_development_index</th>\n",
              "      <th>gender</th>\n",
              "      <th>enrolled_university</th>\n",
              "      <th>education_level</th>\n",
              "      <th>major_discipline</th>\n",
              "      <th>experience</th>\n",
              "      <th>company_size</th>\n",
              "      <th>company_type</th>\n",
              "      <th>last_new_job</th>\n",
              "      <th>training_hours</th>\n",
              "      <th>target</th>\n",
              "      <th>Has relevent experience</th>\n",
              "    </tr>\n",
              "  </thead>\n",
              "  <tbody>\n",
              "    <tr>\n",
              "      <th>0</th>\n",
              "      <td>23798</td>\n",
              "      <td>city_149</td>\n",
              "      <td>0.689</td>\n",
              "      <td>Male</td>\n",
              "      <td>no_enrollment</td>\n",
              "      <td>Graduate</td>\n",
              "      <td>STEM</td>\n",
              "      <td>3.0</td>\n",
              "      <td>100-500</td>\n",
              "      <td>Pvt Ltd</td>\n",
              "      <td>1.0</td>\n",
              "      <td>106</td>\n",
              "      <td>0</td>\n",
              "      <td>1</td>\n",
              "    </tr>\n",
              "    <tr>\n",
              "      <th>1</th>\n",
              "      <td>29166</td>\n",
              "      <td>city_83</td>\n",
              "      <td>0.923</td>\n",
              "      <td>Male</td>\n",
              "      <td>no_enrollment</td>\n",
              "      <td>Graduate</td>\n",
              "      <td>STEM</td>\n",
              "      <td>14.0</td>\n",
              "      <td>&lt;10</td>\n",
              "      <td>Funded Startup</td>\n",
              "      <td>1.0</td>\n",
              "      <td>69</td>\n",
              "      <td>0</td>\n",
              "      <td>1</td>\n",
              "    </tr>\n",
              "    <tr>\n",
              "      <th>2</th>\n",
              "      <td>46</td>\n",
              "      <td>city_16</td>\n",
              "      <td>0.910</td>\n",
              "      <td>NaN</td>\n",
              "      <td>no_enrollment</td>\n",
              "      <td>Graduate</td>\n",
              "      <td>STEM</td>\n",
              "      <td>6.0</td>\n",
              "      <td>50-99</td>\n",
              "      <td>Public Sector</td>\n",
              "      <td>2.0</td>\n",
              "      <td>4</td>\n",
              "      <td>0</td>\n",
              "      <td>1</td>\n",
              "    </tr>\n",
              "    <tr>\n",
              "      <th>3</th>\n",
              "      <td>18527</td>\n",
              "      <td>city_64</td>\n",
              "      <td>0.666</td>\n",
              "      <td>Male</td>\n",
              "      <td>no_enrollment</td>\n",
              "      <td>Graduate</td>\n",
              "      <td>STEM</td>\n",
              "      <td>14.0</td>\n",
              "      <td>50-99</td>\n",
              "      <td>Pvt Ltd</td>\n",
              "      <td>1.0</td>\n",
              "      <td>26</td>\n",
              "      <td>0</td>\n",
              "      <td>1</td>\n",
              "    </tr>\n",
              "    <tr>\n",
              "      <th>4</th>\n",
              "      <td>21751</td>\n",
              "      <td>city_100</td>\n",
              "      <td>0.887</td>\n",
              "      <td>NaN</td>\n",
              "      <td>no_enrollment</td>\n",
              "      <td>Masters</td>\n",
              "      <td>STEM</td>\n",
              "      <td>8.0</td>\n",
              "      <td>NaN</td>\n",
              "      <td>NaN</td>\n",
              "      <td>2.0</td>\n",
              "      <td>88</td>\n",
              "      <td>1</td>\n",
              "      <td>0</td>\n",
              "    </tr>\n",
              "  </tbody>\n",
              "</table>\n",
              "</div>"
            ],
            "text/plain": [
              "   enrollee_id      city  ...  target Has relevent experience\n",
              "0        23798  city_149  ...       0                       1\n",
              "1        29166   city_83  ...       0                       1\n",
              "2           46   city_16  ...       0                       1\n",
              "3        18527   city_64  ...       0                       1\n",
              "4        21751  city_100  ...       1                       0\n",
              "\n",
              "[5 rows x 14 columns]"
            ]
          },
          "metadata": {
            "tags": []
          },
          "execution_count": 396
        }
      ]
    },
    {
      "cell_type": "code",
      "metadata": {
        "scrolled": true,
        "id": "HMyfM8l3ep-z",
        "colab_type": "code",
        "outputId": "cca54495-1d64-40d6-c0b0-08128f44ffcc",
        "colab": {
          "base_uri": "https://localhost:8080/",
          "height": 272
        }
      },
      "source": [
        "df.isnull().sum()"
      ],
      "execution_count": 397,
      "outputs": [
        {
          "output_type": "execute_result",
          "data": {
            "text/plain": [
              "enrollee_id                   0\n",
              "city                          0\n",
              "city_development_index        0\n",
              "gender                     4098\n",
              "enrolled_university         342\n",
              "education_level             457\n",
              "major_discipline           2838\n",
              "experience                    0\n",
              "company_size               4779\n",
              "company_type               5039\n",
              "last_new_job                  0\n",
              "training_hours                0\n",
              "target                        0\n",
              "Has relevent experience       0\n",
              "dtype: int64"
            ]
          },
          "metadata": {
            "tags": []
          },
          "execution_count": 397
        }
      ]
    },
    {
      "cell_type": "code",
      "metadata": {
        "id": "yBP5AAhSep-5",
        "colab_type": "code",
        "outputId": "da9ec5ab-08fb-440b-cffc-ef616c28ca2a",
        "colab": {
          "base_uri": "https://localhost:8080/",
          "height": 320
        }
      },
      "source": [
        "df.corr()"
      ],
      "execution_count": 398,
      "outputs": [
        {
          "output_type": "execute_result",
          "data": {
            "text/html": [
              "<div>\n",
              "<style scoped>\n",
              "    .dataframe tbody tr th:only-of-type {\n",
              "        vertical-align: middle;\n",
              "    }\n",
              "\n",
              "    .dataframe tbody tr th {\n",
              "        vertical-align: top;\n",
              "    }\n",
              "\n",
              "    .dataframe thead th {\n",
              "        text-align: right;\n",
              "    }\n",
              "</style>\n",
              "<table border=\"1\" class=\"dataframe\">\n",
              "  <thead>\n",
              "    <tr style=\"text-align: right;\">\n",
              "      <th></th>\n",
              "      <th>enrollee_id</th>\n",
              "      <th>city_development_index</th>\n",
              "      <th>experience</th>\n",
              "      <th>last_new_job</th>\n",
              "      <th>training_hours</th>\n",
              "      <th>target</th>\n",
              "      <th>Has relevent experience</th>\n",
              "    </tr>\n",
              "  </thead>\n",
              "  <tbody>\n",
              "    <tr>\n",
              "      <th>enrollee_id</th>\n",
              "      <td>1.000000</td>\n",
              "      <td>-0.033466</td>\n",
              "      <td>-0.026451</td>\n",
              "      <td>-0.023903</td>\n",
              "      <td>0.001248</td>\n",
              "      <td>0.033873</td>\n",
              "      <td>-0.034196</td>\n",
              "    </tr>\n",
              "    <tr>\n",
              "      <th>city_development_index</th>\n",
              "      <td>-0.033466</td>\n",
              "      <td>1.000000</td>\n",
              "      <td>0.296727</td>\n",
              "      <td>0.174462</td>\n",
              "      <td>-0.006193</td>\n",
              "      <td>-0.135700</td>\n",
              "      <td>0.063763</td>\n",
              "    </tr>\n",
              "    <tr>\n",
              "      <th>experience</th>\n",
              "      <td>-0.026451</td>\n",
              "      <td>0.296727</td>\n",
              "      <td>1.000000</td>\n",
              "      <td>0.475401</td>\n",
              "      <td>0.000014</td>\n",
              "      <td>-0.088644</td>\n",
              "      <td>0.340952</td>\n",
              "    </tr>\n",
              "    <tr>\n",
              "      <th>last_new_job</th>\n",
              "      <td>-0.023903</td>\n",
              "      <td>0.174462</td>\n",
              "      <td>0.475401</td>\n",
              "      <td>1.000000</td>\n",
              "      <td>-0.006617</td>\n",
              "      <td>-0.029555</td>\n",
              "      <td>0.241642</td>\n",
              "    </tr>\n",
              "    <tr>\n",
              "      <th>training_hours</th>\n",
              "      <td>0.001248</td>\n",
              "      <td>-0.006193</td>\n",
              "      <td>0.000014</td>\n",
              "      <td>-0.006617</td>\n",
              "      <td>1.000000</td>\n",
              "      <td>-0.004735</td>\n",
              "      <td>0.006397</td>\n",
              "    </tr>\n",
              "    <tr>\n",
              "      <th>target</th>\n",
              "      <td>0.033873</td>\n",
              "      <td>-0.135700</td>\n",
              "      <td>-0.088644</td>\n",
              "      <td>-0.029555</td>\n",
              "      <td>-0.004735</td>\n",
              "      <td>1.000000</td>\n",
              "      <td>-0.074088</td>\n",
              "    </tr>\n",
              "    <tr>\n",
              "      <th>Has relevent experience</th>\n",
              "      <td>-0.034196</td>\n",
              "      <td>0.063763</td>\n",
              "      <td>0.340952</td>\n",
              "      <td>0.241642</td>\n",
              "      <td>0.006397</td>\n",
              "      <td>-0.074088</td>\n",
              "      <td>1.000000</td>\n",
              "    </tr>\n",
              "  </tbody>\n",
              "</table>\n",
              "</div>"
            ],
            "text/plain": [
              "                         enrollee_id  ...  Has relevent experience\n",
              "enrollee_id                 1.000000  ...                -0.034196\n",
              "city_development_index     -0.033466  ...                 0.063763\n",
              "experience                 -0.026451  ...                 0.340952\n",
              "last_new_job               -0.023903  ...                 0.241642\n",
              "training_hours              0.001248  ...                 0.006397\n",
              "target                      0.033873  ...                -0.074088\n",
              "Has relevent experience    -0.034196  ...                 1.000000\n",
              "\n",
              "[7 rows x 7 columns]"
            ]
          },
          "metadata": {
            "tags": []
          },
          "execution_count": 398
        }
      ]
    },
    {
      "cell_type": "code",
      "metadata": {
        "id": "ptV-0cxIep_A",
        "colab_type": "code",
        "colab": {}
      },
      "source": [
        "df = df.dropna(thresh=df.shape[1]-3, axis=0)"
      ],
      "execution_count": 0,
      "outputs": []
    },
    {
      "cell_type": "code",
      "metadata": {
        "id": "1W85U-kAep_F",
        "colab_type": "code",
        "outputId": "2996fcc4-e3b0-4b47-81ee-c654ca3ba4c8",
        "colab": {
          "base_uri": "https://localhost:8080/",
          "height": 473
        }
      },
      "source": [
        "df"
      ],
      "execution_count": 400,
      "outputs": [
        {
          "output_type": "execute_result",
          "data": {
            "text/html": [
              "<div>\n",
              "<style scoped>\n",
              "    .dataframe tbody tr th:only-of-type {\n",
              "        vertical-align: middle;\n",
              "    }\n",
              "\n",
              "    .dataframe tbody tr th {\n",
              "        vertical-align: top;\n",
              "    }\n",
              "\n",
              "    .dataframe thead th {\n",
              "        text-align: right;\n",
              "    }\n",
              "</style>\n",
              "<table border=\"1\" class=\"dataframe\">\n",
              "  <thead>\n",
              "    <tr style=\"text-align: right;\">\n",
              "      <th></th>\n",
              "      <th>enrollee_id</th>\n",
              "      <th>city</th>\n",
              "      <th>city_development_index</th>\n",
              "      <th>gender</th>\n",
              "      <th>enrolled_university</th>\n",
              "      <th>education_level</th>\n",
              "      <th>major_discipline</th>\n",
              "      <th>experience</th>\n",
              "      <th>company_size</th>\n",
              "      <th>company_type</th>\n",
              "      <th>last_new_job</th>\n",
              "      <th>training_hours</th>\n",
              "      <th>target</th>\n",
              "      <th>Has relevent experience</th>\n",
              "    </tr>\n",
              "  </thead>\n",
              "  <tbody>\n",
              "    <tr>\n",
              "      <th>0</th>\n",
              "      <td>23798</td>\n",
              "      <td>city_149</td>\n",
              "      <td>0.689</td>\n",
              "      <td>Male</td>\n",
              "      <td>no_enrollment</td>\n",
              "      <td>Graduate</td>\n",
              "      <td>STEM</td>\n",
              "      <td>3.0</td>\n",
              "      <td>100-500</td>\n",
              "      <td>Pvt Ltd</td>\n",
              "      <td>1.0</td>\n",
              "      <td>106</td>\n",
              "      <td>0</td>\n",
              "      <td>1</td>\n",
              "    </tr>\n",
              "    <tr>\n",
              "      <th>1</th>\n",
              "      <td>29166</td>\n",
              "      <td>city_83</td>\n",
              "      <td>0.923</td>\n",
              "      <td>Male</td>\n",
              "      <td>no_enrollment</td>\n",
              "      <td>Graduate</td>\n",
              "      <td>STEM</td>\n",
              "      <td>14.0</td>\n",
              "      <td>&lt;10</td>\n",
              "      <td>Funded Startup</td>\n",
              "      <td>1.0</td>\n",
              "      <td>69</td>\n",
              "      <td>0</td>\n",
              "      <td>1</td>\n",
              "    </tr>\n",
              "    <tr>\n",
              "      <th>2</th>\n",
              "      <td>46</td>\n",
              "      <td>city_16</td>\n",
              "      <td>0.910</td>\n",
              "      <td>NaN</td>\n",
              "      <td>no_enrollment</td>\n",
              "      <td>Graduate</td>\n",
              "      <td>STEM</td>\n",
              "      <td>6.0</td>\n",
              "      <td>50-99</td>\n",
              "      <td>Public Sector</td>\n",
              "      <td>2.0</td>\n",
              "      <td>4</td>\n",
              "      <td>0</td>\n",
              "      <td>1</td>\n",
              "    </tr>\n",
              "    <tr>\n",
              "      <th>3</th>\n",
              "      <td>18527</td>\n",
              "      <td>city_64</td>\n",
              "      <td>0.666</td>\n",
              "      <td>Male</td>\n",
              "      <td>no_enrollment</td>\n",
              "      <td>Graduate</td>\n",
              "      <td>STEM</td>\n",
              "      <td>14.0</td>\n",
              "      <td>50-99</td>\n",
              "      <td>Pvt Ltd</td>\n",
              "      <td>1.0</td>\n",
              "      <td>26</td>\n",
              "      <td>0</td>\n",
              "      <td>1</td>\n",
              "    </tr>\n",
              "    <tr>\n",
              "      <th>4</th>\n",
              "      <td>21751</td>\n",
              "      <td>city_100</td>\n",
              "      <td>0.887</td>\n",
              "      <td>NaN</td>\n",
              "      <td>no_enrollment</td>\n",
              "      <td>Masters</td>\n",
              "      <td>STEM</td>\n",
              "      <td>8.0</td>\n",
              "      <td>NaN</td>\n",
              "      <td>NaN</td>\n",
              "      <td>2.0</td>\n",
              "      <td>88</td>\n",
              "      <td>1</td>\n",
              "      <td>0</td>\n",
              "    </tr>\n",
              "    <tr>\n",
              "      <th>...</th>\n",
              "      <td>...</td>\n",
              "      <td>...</td>\n",
              "      <td>...</td>\n",
              "      <td>...</td>\n",
              "      <td>...</td>\n",
              "      <td>...</td>\n",
              "      <td>...</td>\n",
              "      <td>...</td>\n",
              "      <td>...</td>\n",
              "      <td>...</td>\n",
              "      <td>...</td>\n",
              "      <td>...</td>\n",
              "      <td>...</td>\n",
              "      <td>...</td>\n",
              "    </tr>\n",
              "    <tr>\n",
              "      <th>18354</th>\n",
              "      <td>25366</td>\n",
              "      <td>city_103</td>\n",
              "      <td>0.920</td>\n",
              "      <td>Male</td>\n",
              "      <td>Full time course</td>\n",
              "      <td>Graduate</td>\n",
              "      <td>STEM</td>\n",
              "      <td>5.0</td>\n",
              "      <td>&lt;10</td>\n",
              "      <td>Pvt Ltd</td>\n",
              "      <td>1.0</td>\n",
              "      <td>71</td>\n",
              "      <td>0</td>\n",
              "      <td>1</td>\n",
              "    </tr>\n",
              "    <tr>\n",
              "      <th>18355</th>\n",
              "      <td>25545</td>\n",
              "      <td>city_160</td>\n",
              "      <td>0.920</td>\n",
              "      <td>Male</td>\n",
              "      <td>no_enrollment</td>\n",
              "      <td>Graduate</td>\n",
              "      <td>Humanities</td>\n",
              "      <td>15.0</td>\n",
              "      <td>50-99</td>\n",
              "      <td>Pvt Ltd</td>\n",
              "      <td>1.0</td>\n",
              "      <td>160</td>\n",
              "      <td>0</td>\n",
              "      <td>0</td>\n",
              "    </tr>\n",
              "    <tr>\n",
              "      <th>18356</th>\n",
              "      <td>11514</td>\n",
              "      <td>city_114</td>\n",
              "      <td>0.926</td>\n",
              "      <td>Male</td>\n",
              "      <td>no_enrollment</td>\n",
              "      <td>Masters</td>\n",
              "      <td>STEM</td>\n",
              "      <td>11.0</td>\n",
              "      <td>50-99</td>\n",
              "      <td>Pvt Ltd</td>\n",
              "      <td>3.0</td>\n",
              "      <td>18</td>\n",
              "      <td>0</td>\n",
              "      <td>1</td>\n",
              "    </tr>\n",
              "    <tr>\n",
              "      <th>18357</th>\n",
              "      <td>1689</td>\n",
              "      <td>city_75</td>\n",
              "      <td>0.939</td>\n",
              "      <td>Male</td>\n",
              "      <td>no_enrollment</td>\n",
              "      <td>Graduate</td>\n",
              "      <td>STEM</td>\n",
              "      <td>20.0</td>\n",
              "      <td>10/49</td>\n",
              "      <td>Pvt Ltd</td>\n",
              "      <td>3.0</td>\n",
              "      <td>41</td>\n",
              "      <td>0</td>\n",
              "      <td>1</td>\n",
              "    </tr>\n",
              "    <tr>\n",
              "      <th>18358</th>\n",
              "      <td>5995</td>\n",
              "      <td>city_105</td>\n",
              "      <td>0.794</td>\n",
              "      <td>Female</td>\n",
              "      <td>no_enrollment</td>\n",
              "      <td>Graduate</td>\n",
              "      <td>STEM</td>\n",
              "      <td>20.0</td>\n",
              "      <td>100-500</td>\n",
              "      <td>Pvt Ltd</td>\n",
              "      <td>2.0</td>\n",
              "      <td>84</td>\n",
              "      <td>0</td>\n",
              "      <td>1</td>\n",
              "    </tr>\n",
              "  </tbody>\n",
              "</table>\n",
              "<p>17640 rows × 14 columns</p>\n",
              "</div>"
            ],
            "text/plain": [
              "       enrollee_id      city  ...  target Has relevent experience\n",
              "0            23798  city_149  ...       0                       1\n",
              "1            29166   city_83  ...       0                       1\n",
              "2               46   city_16  ...       0                       1\n",
              "3            18527   city_64  ...       0                       1\n",
              "4            21751  city_100  ...       1                       0\n",
              "...            ...       ...  ...     ...                     ...\n",
              "18354        25366  city_103  ...       0                       1\n",
              "18355        25545  city_160  ...       0                       0\n",
              "18356        11514  city_114  ...       0                       1\n",
              "18357         1689   city_75  ...       0                       1\n",
              "18358         5995  city_105  ...       0                       1\n",
              "\n",
              "[17640 rows x 14 columns]"
            ]
          },
          "metadata": {
            "tags": []
          },
          "execution_count": 400
        }
      ]
    },
    {
      "cell_type": "markdown",
      "metadata": {
        "id": "F7NXWb7jep_J",
        "colab_type": "text"
      },
      "source": [
        "# enrolled univeristy "
      ]
    },
    {
      "cell_type": "code",
      "metadata": {
        "id": "rSJKZCnyep_J",
        "colab_type": "code",
        "outputId": "45d9f900-edfd-459d-b65e-f754557d6b12",
        "colab": {
          "base_uri": "https://localhost:8080/",
          "height": 51
        }
      },
      "source": [
        "df['enrolled_university'].unique()"
      ],
      "execution_count": 401,
      "outputs": [
        {
          "output_type": "execute_result",
          "data": {
            "text/plain": [
              "array(['no_enrollment', 'Full time course', 'Part time course', nan],\n",
              "      dtype=object)"
            ]
          },
          "metadata": {
            "tags": []
          },
          "execution_count": 401
        }
      ]
    },
    {
      "cell_type": "code",
      "metadata": {
        "id": "6k3yQgTtep_M",
        "colab_type": "code",
        "colab": {}
      },
      "source": [
        "tempdf = df[['enrolled_university','education_level']]"
      ],
      "execution_count": 0,
      "outputs": []
    },
    {
      "cell_type": "code",
      "metadata": {
        "id": "UyTEST0uep_O",
        "colab_type": "code",
        "outputId": "16849369-bf90-4552-82ea-0f3310211b1d",
        "colab": {
          "base_uri": "https://localhost:8080/",
          "height": 68
        }
      },
      "source": [
        "tempdf.isnull().sum()"
      ],
      "execution_count": 403,
      "outputs": [
        {
          "output_type": "execute_result",
          "data": {
            "text/plain": [
              "enrolled_university    174\n",
              "education_level        162\n",
              "dtype: int64"
            ]
          },
          "metadata": {
            "tags": []
          },
          "execution_count": 403
        }
      ]
    },
    {
      "cell_type": "code",
      "metadata": {
        "id": "5lSqmRbgep_R",
        "colab_type": "code",
        "colab": {}
      },
      "source": [
        "tempdf = tempdf.dropna()"
      ],
      "execution_count": 0,
      "outputs": []
    },
    {
      "cell_type": "code",
      "metadata": {
        "id": "Ga14LknKep_U",
        "colab_type": "code",
        "outputId": "44214061-db8e-4f67-fa98-26a54d6f7bac",
        "colab": {
          "base_uri": "https://localhost:8080/",
          "height": 68
        }
      },
      "source": [
        "tempdf.isnull().sum()"
      ],
      "execution_count": 405,
      "outputs": [
        {
          "output_type": "execute_result",
          "data": {
            "text/plain": [
              "enrolled_university    0\n",
              "education_level        0\n",
              "dtype: int64"
            ]
          },
          "metadata": {
            "tags": []
          },
          "execution_count": 405
        }
      ]
    },
    {
      "cell_type": "code",
      "metadata": {
        "id": "TW8fBc8Pep_Y",
        "colab_type": "code",
        "colab": {}
      },
      "source": [
        "appenddf = pd.get_dummies(tempdf['enrolled_university'])\n",
        "appenddf.head()\n",
        "\n",
        "tempdf = pd.concat([tempdf.drop('enrolled_university',axis=1),appenddf], axis=1)"
      ],
      "execution_count": 0,
      "outputs": []
    },
    {
      "cell_type": "code",
      "metadata": {
        "id": "BIITX4i6ep_a",
        "colab_type": "code",
        "colab": {}
      },
      "source": [
        "appenddf = pd.get_dummies(tempdf['education_level'])\n",
        "appenddf.head()\n",
        "\n",
        "tempdf = pd.concat([tempdf.drop('education_level',axis=1),appenddf], axis=1)"
      ],
      "execution_count": 0,
      "outputs": []
    },
    {
      "cell_type": "code",
      "metadata": {
        "id": "C4EtcD4cep_d",
        "colab_type": "code",
        "outputId": "de9958e1-d2f0-45fa-c617-3f5e5266c85b",
        "colab": {
          "base_uri": "https://localhost:8080/",
          "height": 221
        }
      },
      "source": [
        "tempdf.head()"
      ],
      "execution_count": 408,
      "outputs": [
        {
          "output_type": "execute_result",
          "data": {
            "text/html": [
              "<div>\n",
              "<style scoped>\n",
              "    .dataframe tbody tr th:only-of-type {\n",
              "        vertical-align: middle;\n",
              "    }\n",
              "\n",
              "    .dataframe tbody tr th {\n",
              "        vertical-align: top;\n",
              "    }\n",
              "\n",
              "    .dataframe thead th {\n",
              "        text-align: right;\n",
              "    }\n",
              "</style>\n",
              "<table border=\"1\" class=\"dataframe\">\n",
              "  <thead>\n",
              "    <tr style=\"text-align: right;\">\n",
              "      <th></th>\n",
              "      <th>Full time course</th>\n",
              "      <th>Part time course</th>\n",
              "      <th>no_enrollment</th>\n",
              "      <th>Graduate</th>\n",
              "      <th>High School</th>\n",
              "      <th>Masters</th>\n",
              "      <th>Phd</th>\n",
              "      <th>Primary School</th>\n",
              "    </tr>\n",
              "  </thead>\n",
              "  <tbody>\n",
              "    <tr>\n",
              "      <th>0</th>\n",
              "      <td>0</td>\n",
              "      <td>0</td>\n",
              "      <td>1</td>\n",
              "      <td>1</td>\n",
              "      <td>0</td>\n",
              "      <td>0</td>\n",
              "      <td>0</td>\n",
              "      <td>0</td>\n",
              "    </tr>\n",
              "    <tr>\n",
              "      <th>1</th>\n",
              "      <td>0</td>\n",
              "      <td>0</td>\n",
              "      <td>1</td>\n",
              "      <td>1</td>\n",
              "      <td>0</td>\n",
              "      <td>0</td>\n",
              "      <td>0</td>\n",
              "      <td>0</td>\n",
              "    </tr>\n",
              "    <tr>\n",
              "      <th>2</th>\n",
              "      <td>0</td>\n",
              "      <td>0</td>\n",
              "      <td>1</td>\n",
              "      <td>1</td>\n",
              "      <td>0</td>\n",
              "      <td>0</td>\n",
              "      <td>0</td>\n",
              "      <td>0</td>\n",
              "    </tr>\n",
              "    <tr>\n",
              "      <th>3</th>\n",
              "      <td>0</td>\n",
              "      <td>0</td>\n",
              "      <td>1</td>\n",
              "      <td>1</td>\n",
              "      <td>0</td>\n",
              "      <td>0</td>\n",
              "      <td>0</td>\n",
              "      <td>0</td>\n",
              "    </tr>\n",
              "    <tr>\n",
              "      <th>4</th>\n",
              "      <td>0</td>\n",
              "      <td>0</td>\n",
              "      <td>1</td>\n",
              "      <td>0</td>\n",
              "      <td>0</td>\n",
              "      <td>1</td>\n",
              "      <td>0</td>\n",
              "      <td>0</td>\n",
              "    </tr>\n",
              "  </tbody>\n",
              "</table>\n",
              "</div>"
            ],
            "text/plain": [
              "   Full time course  Part time course  ...  Phd  Primary School\n",
              "0                 0                 0  ...    0               0\n",
              "1                 0                 0  ...    0               0\n",
              "2                 0                 0  ...    0               0\n",
              "3                 0                 0  ...    0               0\n",
              "4                 0                 0  ...    0               0\n",
              "\n",
              "[5 rows x 8 columns]"
            ]
          },
          "metadata": {
            "tags": []
          },
          "execution_count": 408
        }
      ]
    },
    {
      "cell_type": "code",
      "metadata": {
        "scrolled": false,
        "id": "Rf4COEWLep_g",
        "colab_type": "code",
        "outputId": "d1734868-271d-4a0f-e12d-bb1ff6ec0eea",
        "colab": {
          "base_uri": "https://localhost:8080/",
          "height": 365
        }
      },
      "source": [
        "tempdf.corr()"
      ],
      "execution_count": 409,
      "outputs": [
        {
          "output_type": "execute_result",
          "data": {
            "text/html": [
              "<div>\n",
              "<style scoped>\n",
              "    .dataframe tbody tr th:only-of-type {\n",
              "        vertical-align: middle;\n",
              "    }\n",
              "\n",
              "    .dataframe tbody tr th {\n",
              "        vertical-align: top;\n",
              "    }\n",
              "\n",
              "    .dataframe thead th {\n",
              "        text-align: right;\n",
              "    }\n",
              "</style>\n",
              "<table border=\"1\" class=\"dataframe\">\n",
              "  <thead>\n",
              "    <tr style=\"text-align: right;\">\n",
              "      <th></th>\n",
              "      <th>Full time course</th>\n",
              "      <th>Part time course</th>\n",
              "      <th>no_enrollment</th>\n",
              "      <th>Graduate</th>\n",
              "      <th>High School</th>\n",
              "      <th>Masters</th>\n",
              "      <th>Phd</th>\n",
              "      <th>Primary School</th>\n",
              "    </tr>\n",
              "  </thead>\n",
              "  <tbody>\n",
              "    <tr>\n",
              "      <th>Full time course</th>\n",
              "      <td>1.000000</td>\n",
              "      <td>-0.120969</td>\n",
              "      <td>-0.816598</td>\n",
              "      <td>-0.019215</td>\n",
              "      <td>0.197075</td>\n",
              "      <td>-0.089035</td>\n",
              "      <td>-0.049804</td>\n",
              "      <td>-0.026206</td>\n",
              "    </tr>\n",
              "    <tr>\n",
              "      <th>Part time course</th>\n",
              "      <td>-0.120969</td>\n",
              "      <td>1.000000</td>\n",
              "      <td>-0.474185</td>\n",
              "      <td>0.027558</td>\n",
              "      <td>0.035062</td>\n",
              "      <td>-0.041973</td>\n",
              "      <td>-0.025846</td>\n",
              "      <td>-0.013984</td>\n",
              "    </tr>\n",
              "    <tr>\n",
              "      <th>no_enrollment</th>\n",
              "      <td>-0.816598</td>\n",
              "      <td>-0.474185</td>\n",
              "      <td>1.000000</td>\n",
              "      <td>0.001018</td>\n",
              "      <td>-0.195181</td>\n",
              "      <td>0.103375</td>\n",
              "      <td>0.059202</td>\n",
              "      <td>0.031374</td>\n",
              "    </tr>\n",
              "    <tr>\n",
              "      <th>Graduate</th>\n",
              "      <td>-0.019215</td>\n",
              "      <td>0.027558</td>\n",
              "      <td>0.001018</td>\n",
              "      <td>1.000000</td>\n",
              "      <td>-0.417453</td>\n",
              "      <td>-0.722321</td>\n",
              "      <td>-0.206527</td>\n",
              "      <td>-0.151126</td>\n",
              "    </tr>\n",
              "    <tr>\n",
              "      <th>High School</th>\n",
              "      <td>0.197075</td>\n",
              "      <td>0.035062</td>\n",
              "      <td>-0.195181</td>\n",
              "      <td>-0.417453</td>\n",
              "      <td>1.000000</td>\n",
              "      <td>-0.189570</td>\n",
              "      <td>-0.054202</td>\n",
              "      <td>-0.039662</td>\n",
              "    </tr>\n",
              "    <tr>\n",
              "      <th>Masters</th>\n",
              "      <td>-0.089035</td>\n",
              "      <td>-0.041973</td>\n",
              "      <td>0.103375</td>\n",
              "      <td>-0.722321</td>\n",
              "      <td>-0.189570</td>\n",
              "      <td>1.000000</td>\n",
              "      <td>-0.093786</td>\n",
              "      <td>-0.068628</td>\n",
              "    </tr>\n",
              "    <tr>\n",
              "      <th>Phd</th>\n",
              "      <td>-0.049804</td>\n",
              "      <td>-0.025846</td>\n",
              "      <td>0.059202</td>\n",
              "      <td>-0.206527</td>\n",
              "      <td>-0.054202</td>\n",
              "      <td>-0.093786</td>\n",
              "      <td>1.000000</td>\n",
              "      <td>-0.019622</td>\n",
              "    </tr>\n",
              "    <tr>\n",
              "      <th>Primary School</th>\n",
              "      <td>-0.026206</td>\n",
              "      <td>-0.013984</td>\n",
              "      <td>0.031374</td>\n",
              "      <td>-0.151126</td>\n",
              "      <td>-0.039662</td>\n",
              "      <td>-0.068628</td>\n",
              "      <td>-0.019622</td>\n",
              "      <td>1.000000</td>\n",
              "    </tr>\n",
              "  </tbody>\n",
              "</table>\n",
              "</div>"
            ],
            "text/plain": [
              "                  Full time course  Part time course  ...       Phd  Primary School\n",
              "Full time course          1.000000         -0.120969  ... -0.049804       -0.026206\n",
              "Part time course         -0.120969          1.000000  ... -0.025846       -0.013984\n",
              "no_enrollment            -0.816598         -0.474185  ...  0.059202        0.031374\n",
              "Graduate                 -0.019215          0.027558  ... -0.206527       -0.151126\n",
              "High School               0.197075          0.035062  ... -0.054202       -0.039662\n",
              "Masters                  -0.089035         -0.041973  ... -0.093786       -0.068628\n",
              "Phd                      -0.049804         -0.025846  ...  1.000000       -0.019622\n",
              "Primary School           -0.026206         -0.013984  ... -0.019622        1.000000\n",
              "\n",
              "[8 rows x 8 columns]"
            ]
          },
          "metadata": {
            "tags": []
          },
          "execution_count": 409
        }
      ]
    },
    {
      "cell_type": "code",
      "metadata": {
        "id": "hC6Myszjep_i",
        "colab_type": "code",
        "colab": {}
      },
      "source": [
        "def putedulevel(lev,uni):\n",
        "    if isinstance(lev,str):\n",
        "        return lev\n",
        "    else:\n",
        "        if uni == 'Full time course':\n",
        "            return 'High School'\n",
        "        elif uni == 'Part time course':\n",
        "            return 'High School'\n",
        "        else:\n",
        "            return 'Masters'"
      ],
      "execution_count": 0,
      "outputs": []
    },
    {
      "cell_type": "code",
      "metadata": {
        "id": "41E8roJdep_k",
        "colab_type": "code",
        "colab": {}
      },
      "source": [
        "def puttype(uni,lev):\n",
        "    if isinstance(uni,str):\n",
        "        return uni\n",
        "    else:\n",
        "        if lev == 'Graduate':\n",
        "            return 'Part time course'\n",
        "        elif lev == 'High School':\n",
        "            return 'Full time course'\n",
        "        elif lev == 'Masters':\n",
        "            return 'no_enrollment'\n",
        "        elif lev == 'Phd':\n",
        "            return 'no_enrollment'\n",
        "        elif lev == 'Primary School':\n",
        "            return 'no_enrollment'\n",
        "        else:\n",
        "            return 'no_enrollment'"
      ],
      "execution_count": 0,
      "outputs": []
    },
    {
      "cell_type": "code",
      "metadata": {
        "id": "G6MHErXxep_o",
        "colab_type": "code",
        "colab": {}
      },
      "source": [
        "df['enrolled_university'] = df.apply(lambda x : puttype(x['enrolled_university'],x['education_level']),axis=1)"
      ],
      "execution_count": 0,
      "outputs": []
    },
    {
      "cell_type": "code",
      "metadata": {
        "id": "MPbk7NTDep_r",
        "colab_type": "code",
        "colab": {}
      },
      "source": [
        "df['education_level'] = df.apply(lambda x : putedulevel(x['education_level'],x['enrolled_university']),axis=1)"
      ],
      "execution_count": 0,
      "outputs": []
    },
    {
      "cell_type": "code",
      "metadata": {
        "id": "LoQ9Tomiep_v",
        "colab_type": "code",
        "outputId": "5a4f8759-f17b-403f-e17d-0fff45198df1",
        "colab": {
          "base_uri": "https://localhost:8080/",
          "height": 272
        }
      },
      "source": [
        "df.isnull().sum()"
      ],
      "execution_count": 414,
      "outputs": [
        {
          "output_type": "execute_result",
          "data": {
            "text/plain": [
              "enrollee_id                   0\n",
              "city                          0\n",
              "city_development_index        0\n",
              "gender                     3563\n",
              "enrolled_university           0\n",
              "education_level               0\n",
              "major_discipline           2145\n",
              "experience                    0\n",
              "company_size               4075\n",
              "company_type               4337\n",
              "last_new_job                  0\n",
              "training_hours                0\n",
              "target                        0\n",
              "Has relevent experience       0\n",
              "dtype: int64"
            ]
          },
          "metadata": {
            "tags": []
          },
          "execution_count": 414
        }
      ]
    },
    {
      "cell_type": "code",
      "metadata": {
        "id": "9qvEhd3_ep_y",
        "colab_type": "code",
        "outputId": "891dedeb-d808-4e6f-a912-3225a5dd2524",
        "colab": {
          "base_uri": "https://localhost:8080/",
          "height": 374
        }
      },
      "source": [
        "df.info()"
      ],
      "execution_count": 415,
      "outputs": [
        {
          "output_type": "stream",
          "text": [
            "<class 'pandas.core.frame.DataFrame'>\n",
            "Int64Index: 17640 entries, 0 to 18358\n",
            "Data columns (total 14 columns):\n",
            " #   Column                   Non-Null Count  Dtype  \n",
            "---  ------                   --------------  -----  \n",
            " 0   enrollee_id              17640 non-null  int64  \n",
            " 1   city                     17640 non-null  object \n",
            " 2   city_development_index   17640 non-null  float64\n",
            " 3   gender                   14077 non-null  object \n",
            " 4   enrolled_university      17640 non-null  object \n",
            " 5   education_level          17640 non-null  object \n",
            " 6   major_discipline         15495 non-null  object \n",
            " 7   experience               17640 non-null  float64\n",
            " 8   company_size             13565 non-null  object \n",
            " 9   company_type             13303 non-null  object \n",
            " 10  last_new_job             17640 non-null  float64\n",
            " 11  training_hours           17640 non-null  int64  \n",
            " 12  target                   17640 non-null  int64  \n",
            " 13  Has relevent experience  17640 non-null  uint8  \n",
            "dtypes: float64(3), int64(3), object(7), uint8(1)\n",
            "memory usage: 1.9+ MB\n"
          ],
          "name": "stdout"
        }
      ]
    },
    {
      "cell_type": "markdown",
      "metadata": {
        "id": "1ibE8VPrep_3",
        "colab_type": "text"
      },
      "source": [
        "## Major Discipline"
      ]
    },
    {
      "cell_type": "code",
      "metadata": {
        "id": "ZoplatCHep_3",
        "colab_type": "code",
        "outputId": "2f5fc223-2927-49e6-cde5-edb8ba6325e7",
        "colab": {
          "base_uri": "https://localhost:8080/",
          "height": 51
        }
      },
      "source": [
        "df['education_level'].unique()"
      ],
      "execution_count": 416,
      "outputs": [
        {
          "output_type": "execute_result",
          "data": {
            "text/plain": [
              "array(['Graduate', 'Masters', 'High School', 'Phd', 'Primary School'],\n",
              "      dtype=object)"
            ]
          },
          "metadata": {
            "tags": []
          },
          "execution_count": 416
        }
      ]
    },
    {
      "cell_type": "code",
      "metadata": {
        "id": "yZfAoETHep_9",
        "colab_type": "code",
        "colab": {}
      },
      "source": [
        "#tempdf.groupby(['enrolled_university','education_level','major_discipline']).count()"
      ],
      "execution_count": 0,
      "outputs": []
    },
    {
      "cell_type": "code",
      "metadata": {
        "id": "7OB-izTwep__",
        "colab_type": "code",
        "outputId": "710a3c95-281b-4d2e-dae3-2596168dccbc",
        "colab": {
          "base_uri": "https://localhost:8080/",
          "height": 473
        }
      },
      "source": [
        "df[(df['major_discipline'].isnull()) & ((df['education_level'] == 'High School') | (df['education_level'] == 'Primary School'))]"
      ],
      "execution_count": 418,
      "outputs": [
        {
          "output_type": "execute_result",
          "data": {
            "text/html": [
              "<div>\n",
              "<style scoped>\n",
              "    .dataframe tbody tr th:only-of-type {\n",
              "        vertical-align: middle;\n",
              "    }\n",
              "\n",
              "    .dataframe tbody tr th {\n",
              "        vertical-align: top;\n",
              "    }\n",
              "\n",
              "    .dataframe thead th {\n",
              "        text-align: right;\n",
              "    }\n",
              "</style>\n",
              "<table border=\"1\" class=\"dataframe\">\n",
              "  <thead>\n",
              "    <tr style=\"text-align: right;\">\n",
              "      <th></th>\n",
              "      <th>enrollee_id</th>\n",
              "      <th>city</th>\n",
              "      <th>city_development_index</th>\n",
              "      <th>gender</th>\n",
              "      <th>enrolled_university</th>\n",
              "      <th>education_level</th>\n",
              "      <th>major_discipline</th>\n",
              "      <th>experience</th>\n",
              "      <th>company_size</th>\n",
              "      <th>company_type</th>\n",
              "      <th>last_new_job</th>\n",
              "      <th>training_hours</th>\n",
              "      <th>target</th>\n",
              "      <th>Has relevent experience</th>\n",
              "    </tr>\n",
              "  </thead>\n",
              "  <tbody>\n",
              "    <tr>\n",
              "      <th>15</th>\n",
              "      <td>19752</td>\n",
              "      <td>city_75</td>\n",
              "      <td>0.939</td>\n",
              "      <td>Male</td>\n",
              "      <td>Full time course</td>\n",
              "      <td>High School</td>\n",
              "      <td>NaN</td>\n",
              "      <td>9.0</td>\n",
              "      <td>NaN</td>\n",
              "      <td>NaN</td>\n",
              "      <td>1.0</td>\n",
              "      <td>28</td>\n",
              "      <td>0</td>\n",
              "      <td>1</td>\n",
              "    </tr>\n",
              "    <tr>\n",
              "      <th>24</th>\n",
              "      <td>3472</td>\n",
              "      <td>city_16</td>\n",
              "      <td>0.910</td>\n",
              "      <td>Male</td>\n",
              "      <td>no_enrollment</td>\n",
              "      <td>High School</td>\n",
              "      <td>NaN</td>\n",
              "      <td>20.0</td>\n",
              "      <td>500-999</td>\n",
              "      <td>Pvt Ltd</td>\n",
              "      <td>5.0</td>\n",
              "      <td>54</td>\n",
              "      <td>1</td>\n",
              "      <td>1</td>\n",
              "    </tr>\n",
              "    <tr>\n",
              "      <th>25</th>\n",
              "      <td>30466</td>\n",
              "      <td>city_10</td>\n",
              "      <td>0.895</td>\n",
              "      <td>Male</td>\n",
              "      <td>Full time course</td>\n",
              "      <td>High School</td>\n",
              "      <td>NaN</td>\n",
              "      <td>4.0</td>\n",
              "      <td>10/49</td>\n",
              "      <td>Pvt Ltd</td>\n",
              "      <td>1.0</td>\n",
              "      <td>89</td>\n",
              "      <td>0</td>\n",
              "      <td>0</td>\n",
              "    </tr>\n",
              "    <tr>\n",
              "      <th>41</th>\n",
              "      <td>4653</td>\n",
              "      <td>city_114</td>\n",
              "      <td>0.926</td>\n",
              "      <td>Male</td>\n",
              "      <td>no_enrollment</td>\n",
              "      <td>High School</td>\n",
              "      <td>NaN</td>\n",
              "      <td>7.0</td>\n",
              "      <td>NaN</td>\n",
              "      <td>Pvt Ltd</td>\n",
              "      <td>0.0</td>\n",
              "      <td>22</td>\n",
              "      <td>0</td>\n",
              "      <td>0</td>\n",
              "    </tr>\n",
              "    <tr>\n",
              "      <th>42</th>\n",
              "      <td>18048</td>\n",
              "      <td>city_27</td>\n",
              "      <td>0.848</td>\n",
              "      <td>Male</td>\n",
              "      <td>Full time course</td>\n",
              "      <td>High School</td>\n",
              "      <td>NaN</td>\n",
              "      <td>6.0</td>\n",
              "      <td>50-99</td>\n",
              "      <td>Pvt Ltd</td>\n",
              "      <td>2.0</td>\n",
              "      <td>67</td>\n",
              "      <td>0</td>\n",
              "      <td>1</td>\n",
              "    </tr>\n",
              "    <tr>\n",
              "      <th>...</th>\n",
              "      <td>...</td>\n",
              "      <td>...</td>\n",
              "      <td>...</td>\n",
              "      <td>...</td>\n",
              "      <td>...</td>\n",
              "      <td>...</td>\n",
              "      <td>...</td>\n",
              "      <td>...</td>\n",
              "      <td>...</td>\n",
              "      <td>...</td>\n",
              "      <td>...</td>\n",
              "      <td>...</td>\n",
              "      <td>...</td>\n",
              "      <td>...</td>\n",
              "    </tr>\n",
              "    <tr>\n",
              "      <th>18263</th>\n",
              "      <td>17388</td>\n",
              "      <td>city_173</td>\n",
              "      <td>0.878</td>\n",
              "      <td>Male</td>\n",
              "      <td>no_enrollment</td>\n",
              "      <td>Primary School</td>\n",
              "      <td>NaN</td>\n",
              "      <td>6.0</td>\n",
              "      <td>NaN</td>\n",
              "      <td>NaN</td>\n",
              "      <td>0.0</td>\n",
              "      <td>106</td>\n",
              "      <td>0</td>\n",
              "      <td>0</td>\n",
              "    </tr>\n",
              "    <tr>\n",
              "      <th>18275</th>\n",
              "      <td>28328</td>\n",
              "      <td>city_16</td>\n",
              "      <td>0.910</td>\n",
              "      <td>Male</td>\n",
              "      <td>no_enrollment</td>\n",
              "      <td>High School</td>\n",
              "      <td>NaN</td>\n",
              "      <td>10.0</td>\n",
              "      <td>NaN</td>\n",
              "      <td>NaN</td>\n",
              "      <td>4.0</td>\n",
              "      <td>38</td>\n",
              "      <td>0</td>\n",
              "      <td>1</td>\n",
              "    </tr>\n",
              "    <tr>\n",
              "      <th>18280</th>\n",
              "      <td>3285</td>\n",
              "      <td>city_102</td>\n",
              "      <td>0.804</td>\n",
              "      <td>Male</td>\n",
              "      <td>Full time course</td>\n",
              "      <td>High School</td>\n",
              "      <td>NaN</td>\n",
              "      <td>10.0</td>\n",
              "      <td>5000-9999</td>\n",
              "      <td>NaN</td>\n",
              "      <td>1.0</td>\n",
              "      <td>69</td>\n",
              "      <td>0</td>\n",
              "      <td>1</td>\n",
              "    </tr>\n",
              "    <tr>\n",
              "      <th>18319</th>\n",
              "      <td>8467</td>\n",
              "      <td>city_160</td>\n",
              "      <td>0.920</td>\n",
              "      <td>Male</td>\n",
              "      <td>Full time course</td>\n",
              "      <td>High School</td>\n",
              "      <td>NaN</td>\n",
              "      <td>5.0</td>\n",
              "      <td>100-500</td>\n",
              "      <td>Funded Startup</td>\n",
              "      <td>1.0</td>\n",
              "      <td>6</td>\n",
              "      <td>0</td>\n",
              "      <td>1</td>\n",
              "    </tr>\n",
              "    <tr>\n",
              "      <th>18343</th>\n",
              "      <td>8128</td>\n",
              "      <td>city_11</td>\n",
              "      <td>0.550</td>\n",
              "      <td>Male</td>\n",
              "      <td>no_enrollment</td>\n",
              "      <td>High School</td>\n",
              "      <td>NaN</td>\n",
              "      <td>6.0</td>\n",
              "      <td>NaN</td>\n",
              "      <td>NaN</td>\n",
              "      <td>0.0</td>\n",
              "      <td>41</td>\n",
              "      <td>0</td>\n",
              "      <td>1</td>\n",
              "    </tr>\n",
              "  </tbody>\n",
              "</table>\n",
              "<p>2007 rows × 14 columns</p>\n",
              "</div>"
            ],
            "text/plain": [
              "       enrollee_id      city  ...  target Has relevent experience\n",
              "15           19752   city_75  ...       0                       1\n",
              "24            3472   city_16  ...       1                       1\n",
              "25           30466   city_10  ...       0                       0\n",
              "41            4653  city_114  ...       0                       0\n",
              "42           18048   city_27  ...       0                       1\n",
              "...            ...       ...  ...     ...                     ...\n",
              "18263        17388  city_173  ...       0                       0\n",
              "18275        28328   city_16  ...       0                       1\n",
              "18280         3285  city_102  ...       0                       1\n",
              "18319         8467  city_160  ...       0                       1\n",
              "18343         8128   city_11  ...       0                       1\n",
              "\n",
              "[2007 rows x 14 columns]"
            ]
          },
          "metadata": {
            "tags": []
          },
          "execution_count": 418
        }
      ]
    },
    {
      "cell_type": "code",
      "metadata": {
        "id": "iQtSEvGEeqAC",
        "colab_type": "code",
        "colab": {}
      },
      "source": [
        "def applymajor(edulev,dis):\n",
        "    if isinstance(dis,str):\n",
        "        return dis\n",
        "    else:\n",
        "        if edulev == 'High School':\n",
        "            return 'No Major'\n",
        "        elif edulev == 'Primary School':\n",
        "            return 'No Major'\n",
        "        else:\n",
        "            return 'STEM'"
      ],
      "execution_count": 0,
      "outputs": []
    },
    {
      "cell_type": "code",
      "metadata": {
        "id": "z-mTUvTeep_6",
        "colab_type": "code",
        "colab": {}
      },
      "source": [
        ""
      ],
      "execution_count": 0,
      "outputs": []
    },
    {
      "cell_type": "code",
      "metadata": {
        "id": "7txOlei0eqAH",
        "colab_type": "code",
        "colab": {}
      },
      "source": [
        "df['major_discipline'] = df.apply(lambda x : applymajor(x['education_level'],x['major_discipline']),axis=1)"
      ],
      "execution_count": 0,
      "outputs": []
    },
    {
      "cell_type": "code",
      "metadata": {
        "id": "i8GW2yX_eqAJ",
        "colab_type": "code",
        "outputId": "fa4ad925-d714-45e1-be8d-c30ae60607d5",
        "colab": {
          "base_uri": "https://localhost:8080/",
          "height": 272
        }
      },
      "source": [
        "df.isnull().sum()"
      ],
      "execution_count": 421,
      "outputs": [
        {
          "output_type": "execute_result",
          "data": {
            "text/plain": [
              "enrollee_id                   0\n",
              "city                          0\n",
              "city_development_index        0\n",
              "gender                     3563\n",
              "enrolled_university           0\n",
              "education_level               0\n",
              "major_discipline              0\n",
              "experience                    0\n",
              "company_size               4075\n",
              "company_type               4337\n",
              "last_new_job                  0\n",
              "training_hours                0\n",
              "target                        0\n",
              "Has relevent experience       0\n",
              "dtype: int64"
            ]
          },
          "metadata": {
            "tags": []
          },
          "execution_count": 421
        }
      ]
    },
    {
      "cell_type": "markdown",
      "metadata": {
        "id": "XhU4anBXjnTP",
        "colab_type": "text"
      },
      "source": [
        "# Company Size and Company Type\n"
      ]
    },
    {
      "cell_type": "code",
      "metadata": {
        "id": "R-qNcOUpeqAM",
        "colab_type": "code",
        "outputId": "2b0c5679-d9e4-4f01-ae62-95cef24cabc3",
        "colab": {
          "base_uri": "https://localhost:8080/",
          "height": 51
        }
      },
      "source": [
        "df['company_size'].unique()"
      ],
      "execution_count": 422,
      "outputs": [
        {
          "output_type": "execute_result",
          "data": {
            "text/plain": [
              "array(['100-500', '<10', '50-99', nan, '5000-9999', '10000+', '1000-4999',\n",
              "       '500-999', '10/49'], dtype=object)"
            ]
          },
          "metadata": {
            "tags": []
          },
          "execution_count": 422
        }
      ]
    },
    {
      "cell_type": "code",
      "metadata": {
        "id": "YhP9htgLkWDO",
        "colab_type": "code",
        "outputId": "a318a7c7-5943-44f0-a93d-3e2b8a14d23d",
        "colab": {
          "base_uri": "https://localhost:8080/",
          "height": 51
        }
      },
      "source": [
        "df['company_type'].unique()"
      ],
      "execution_count": 423,
      "outputs": [
        {
          "output_type": "execute_result",
          "data": {
            "text/plain": [
              "array(['Pvt Ltd', 'Funded Startup', 'Public Sector', nan,\n",
              "       'Early Stage Startup', 'NGO', 'Other'], dtype=object)"
            ]
          },
          "metadata": {
            "tags": []
          },
          "execution_count": 423
        }
      ]
    },
    {
      "cell_type": "code",
      "metadata": {
        "id": "6bs-O3eopyRl",
        "colab_type": "code",
        "outputId": "50632a1a-1071-4d26-8929-26605e760809",
        "colab": {
          "base_uri": "https://localhost:8080/",
          "height": 136
        }
      },
      "source": [
        "df['company_type'].value_counts()"
      ],
      "execution_count": 424,
      "outputs": [
        {
          "output_type": "execute_result",
          "data": {
            "text/plain": [
              "Pvt Ltd                10040\n",
              "Funded Startup          1037\n",
              "Public Sector            993\n",
              "Early Stage Startup      580\n",
              "NGO                      534\n",
              "Other                    119\n",
              "Name: company_type, dtype: int64"
            ]
          },
          "metadata": {
            "tags": []
          },
          "execution_count": 424
        }
      ]
    },
    {
      "cell_type": "code",
      "metadata": {
        "id": "rAYvFpdpkwhb",
        "colab_type": "code",
        "colab": {}
      },
      "source": [
        "# First giving company type as other for nan values\n",
        "def applycomtype(com_type):\n",
        "    if isinstance(com_type,str):\n",
        "        return com_type\n",
        "    else:\n",
        "        return \"Pvt Ltd\"\n"
      ],
      "execution_count": 0,
      "outputs": []
    },
    {
      "cell_type": "code",
      "metadata": {
        "id": "wtCoMvQ3lktD",
        "colab_type": "code",
        "colab": {}
      },
      "source": [
        "df['company_type'] = df.apply(lambda x : applycomtype(x['company_type']),axis=1)"
      ],
      "execution_count": 0,
      "outputs": []
    },
    {
      "cell_type": "code",
      "metadata": {
        "id": "NTrsoY-Zl3oE",
        "colab_type": "code",
        "outputId": "f0a5c63d-7a35-4974-b881-9677c6135849",
        "colab": {
          "base_uri": "https://localhost:8080/",
          "height": 272
        }
      },
      "source": [
        "df.isnull().sum()"
      ],
      "execution_count": 427,
      "outputs": [
        {
          "output_type": "execute_result",
          "data": {
            "text/plain": [
              "enrollee_id                   0\n",
              "city                          0\n",
              "city_development_index        0\n",
              "gender                     3563\n",
              "enrolled_university           0\n",
              "education_level               0\n",
              "major_discipline              0\n",
              "experience                    0\n",
              "company_size               4075\n",
              "company_type                  0\n",
              "last_new_job                  0\n",
              "training_hours                0\n",
              "target                        0\n",
              "Has relevent experience       0\n",
              "dtype: int64"
            ]
          },
          "metadata": {
            "tags": []
          },
          "execution_count": 427
        }
      ]
    },
    {
      "cell_type": "code",
      "metadata": {
        "id": "OTUf3orzl7hL",
        "colab_type": "code",
        "outputId": "7cf46600-a65c-44e5-9912-b86d1cc8decf",
        "colab": {
          "base_uri": "https://localhost:8080/",
          "height": 51
        }
      },
      "source": [
        "df['company_type'].unique()"
      ],
      "execution_count": 428,
      "outputs": [
        {
          "output_type": "execute_result",
          "data": {
            "text/plain": [
              "array(['Pvt Ltd', 'Funded Startup', 'Public Sector',\n",
              "       'Early Stage Startup', 'NGO', 'Other'], dtype=object)"
            ]
          },
          "metadata": {
            "tags": []
          },
          "execution_count": 428
        }
      ]
    },
    {
      "cell_type": "code",
      "metadata": {
        "id": "-0HlnKa0nW1Q",
        "colab_type": "code",
        "outputId": "cf682a66-ab68-414d-ba73-679b44a62d7d",
        "colab": {
          "base_uri": "https://localhost:8080/",
          "height": 51
        }
      },
      "source": [
        "df['company_size'].unique()"
      ],
      "execution_count": 429,
      "outputs": [
        {
          "output_type": "execute_result",
          "data": {
            "text/plain": [
              "array(['100-500', '<10', '50-99', nan, '5000-9999', '10000+', '1000-4999',\n",
              "       '500-999', '10/49'], dtype=object)"
            ]
          },
          "metadata": {
            "tags": []
          },
          "execution_count": 429
        }
      ]
    },
    {
      "cell_type": "code",
      "metadata": {
        "id": "QmUcyInXmAAM",
        "colab_type": "code",
        "colab": {}
      },
      "source": [
        "# Now Placing Company Size based on Company Type\n",
        "\n",
        "def applycomsize(comtype, size):\n",
        "      if isinstance(size,str):\n",
        "        return size\n",
        "      else:\n",
        "        if comtype == \"Early Stage Startup\" or comtype == \"Other\":\n",
        "          return \"<10\"\n",
        "        elif comtype == \"NGO\":\n",
        "          return \"100-500\"\n",
        "        elif comtype == \"Pvt Ltd\":\n",
        "          return \"1000-4999\"\n",
        "        elif comtype == \"Funded Startup\":\n",
        "          return \"500-999\"\n",
        "        elif comtype == \"Public Sector\":\n",
        "          return \"10000+\"\n",
        "        \n"
      ],
      "execution_count": 0,
      "outputs": []
    },
    {
      "cell_type": "code",
      "metadata": {
        "id": "H7TzsF-toiV3",
        "colab_type": "code",
        "colab": {}
      },
      "source": [
        "df['company_size'] = df.apply(lambda x : applycomsize(x['company_type'], x['company_size']),axis=1)"
      ],
      "execution_count": 0,
      "outputs": []
    },
    {
      "cell_type": "code",
      "metadata": {
        "id": "GuFp_tqXo16s",
        "colab_type": "code",
        "outputId": "94b12d1d-d3c8-4f8e-c74c-e64906f28dc1",
        "colab": {
          "base_uri": "https://localhost:8080/",
          "height": 272
        }
      },
      "source": [
        "df.isnull().sum()"
      ],
      "execution_count": 432,
      "outputs": [
        {
          "output_type": "execute_result",
          "data": {
            "text/plain": [
              "enrollee_id                   0\n",
              "city                          0\n",
              "city_development_index        0\n",
              "gender                     3563\n",
              "enrolled_university           0\n",
              "education_level               0\n",
              "major_discipline              0\n",
              "experience                    0\n",
              "company_size                  0\n",
              "company_type                  0\n",
              "last_new_job                  0\n",
              "training_hours                0\n",
              "target                        0\n",
              "Has relevent experience       0\n",
              "dtype: int64"
            ]
          },
          "metadata": {
            "tags": []
          },
          "execution_count": 432
        }
      ]
    },
    {
      "cell_type": "code",
      "metadata": {
        "id": "CDDnO0njo77B",
        "colab_type": "code",
        "colab": {}
      },
      "source": [
        "# for column in ['company_size','company_type']:\n",
        "#     df[column].fillna(df[column].mode()[0], inplace=True)\n",
        "#     testdf[column].fillna(testdf[column].mode()[0], inplace=True)\n"
      ],
      "execution_count": 0,
      "outputs": []
    },
    {
      "cell_type": "markdown",
      "metadata": {
        "id": "f5CF7zPJsVW2",
        "colab_type": "text"
      },
      "source": [
        "One hot encoding of all variables\n"
      ]
    },
    {
      "cell_type": "code",
      "metadata": {
        "id": "BkzfpJgnsSfN",
        "colab_type": "code",
        "outputId": "34901821-e0ab-437e-93ef-f91179383f8c",
        "colab": {
          "base_uri": "https://localhost:8080/",
          "height": 258
        }
      },
      "source": [
        "appenddf = pd.get_dummies(df['enrolled_university'])\n",
        "\n",
        "\n",
        "df = pd.concat([df.drop('enrolled_university',axis=1),appenddf], axis=1)\n",
        "\n",
        "df.head()"
      ],
      "execution_count": 433,
      "outputs": [
        {
          "output_type": "execute_result",
          "data": {
            "text/html": [
              "<div>\n",
              "<style scoped>\n",
              "    .dataframe tbody tr th:only-of-type {\n",
              "        vertical-align: middle;\n",
              "    }\n",
              "\n",
              "    .dataframe tbody tr th {\n",
              "        vertical-align: top;\n",
              "    }\n",
              "\n",
              "    .dataframe thead th {\n",
              "        text-align: right;\n",
              "    }\n",
              "</style>\n",
              "<table border=\"1\" class=\"dataframe\">\n",
              "  <thead>\n",
              "    <tr style=\"text-align: right;\">\n",
              "      <th></th>\n",
              "      <th>enrollee_id</th>\n",
              "      <th>city</th>\n",
              "      <th>city_development_index</th>\n",
              "      <th>gender</th>\n",
              "      <th>education_level</th>\n",
              "      <th>major_discipline</th>\n",
              "      <th>experience</th>\n",
              "      <th>company_size</th>\n",
              "      <th>company_type</th>\n",
              "      <th>last_new_job</th>\n",
              "      <th>training_hours</th>\n",
              "      <th>target</th>\n",
              "      <th>Has relevent experience</th>\n",
              "      <th>Full time course</th>\n",
              "      <th>Part time course</th>\n",
              "      <th>no_enrollment</th>\n",
              "    </tr>\n",
              "  </thead>\n",
              "  <tbody>\n",
              "    <tr>\n",
              "      <th>0</th>\n",
              "      <td>23798</td>\n",
              "      <td>city_149</td>\n",
              "      <td>0.689</td>\n",
              "      <td>Male</td>\n",
              "      <td>Graduate</td>\n",
              "      <td>STEM</td>\n",
              "      <td>3.0</td>\n",
              "      <td>100-500</td>\n",
              "      <td>Pvt Ltd</td>\n",
              "      <td>1.0</td>\n",
              "      <td>106</td>\n",
              "      <td>0</td>\n",
              "      <td>1</td>\n",
              "      <td>0</td>\n",
              "      <td>0</td>\n",
              "      <td>1</td>\n",
              "    </tr>\n",
              "    <tr>\n",
              "      <th>1</th>\n",
              "      <td>29166</td>\n",
              "      <td>city_83</td>\n",
              "      <td>0.923</td>\n",
              "      <td>Male</td>\n",
              "      <td>Graduate</td>\n",
              "      <td>STEM</td>\n",
              "      <td>14.0</td>\n",
              "      <td>&lt;10</td>\n",
              "      <td>Funded Startup</td>\n",
              "      <td>1.0</td>\n",
              "      <td>69</td>\n",
              "      <td>0</td>\n",
              "      <td>1</td>\n",
              "      <td>0</td>\n",
              "      <td>0</td>\n",
              "      <td>1</td>\n",
              "    </tr>\n",
              "    <tr>\n",
              "      <th>2</th>\n",
              "      <td>46</td>\n",
              "      <td>city_16</td>\n",
              "      <td>0.910</td>\n",
              "      <td>NaN</td>\n",
              "      <td>Graduate</td>\n",
              "      <td>STEM</td>\n",
              "      <td>6.0</td>\n",
              "      <td>50-99</td>\n",
              "      <td>Public Sector</td>\n",
              "      <td>2.0</td>\n",
              "      <td>4</td>\n",
              "      <td>0</td>\n",
              "      <td>1</td>\n",
              "      <td>0</td>\n",
              "      <td>0</td>\n",
              "      <td>1</td>\n",
              "    </tr>\n",
              "    <tr>\n",
              "      <th>3</th>\n",
              "      <td>18527</td>\n",
              "      <td>city_64</td>\n",
              "      <td>0.666</td>\n",
              "      <td>Male</td>\n",
              "      <td>Graduate</td>\n",
              "      <td>STEM</td>\n",
              "      <td>14.0</td>\n",
              "      <td>50-99</td>\n",
              "      <td>Pvt Ltd</td>\n",
              "      <td>1.0</td>\n",
              "      <td>26</td>\n",
              "      <td>0</td>\n",
              "      <td>1</td>\n",
              "      <td>0</td>\n",
              "      <td>0</td>\n",
              "      <td>1</td>\n",
              "    </tr>\n",
              "    <tr>\n",
              "      <th>4</th>\n",
              "      <td>21751</td>\n",
              "      <td>city_100</td>\n",
              "      <td>0.887</td>\n",
              "      <td>NaN</td>\n",
              "      <td>Masters</td>\n",
              "      <td>STEM</td>\n",
              "      <td>8.0</td>\n",
              "      <td>1000-4999</td>\n",
              "      <td>Pvt Ltd</td>\n",
              "      <td>2.0</td>\n",
              "      <td>88</td>\n",
              "      <td>1</td>\n",
              "      <td>0</td>\n",
              "      <td>0</td>\n",
              "      <td>0</td>\n",
              "      <td>1</td>\n",
              "    </tr>\n",
              "  </tbody>\n",
              "</table>\n",
              "</div>"
            ],
            "text/plain": [
              "   enrollee_id      city  ...  Part time course no_enrollment\n",
              "0        23798  city_149  ...                 0             1\n",
              "1        29166   city_83  ...                 0             1\n",
              "2           46   city_16  ...                 0             1\n",
              "3        18527   city_64  ...                 0             1\n",
              "4        21751  city_100  ...                 0             1\n",
              "\n",
              "[5 rows x 16 columns]"
            ]
          },
          "metadata": {
            "tags": []
          },
          "execution_count": 433
        }
      ]
    },
    {
      "cell_type": "code",
      "metadata": {
        "id": "oIoJNjJ1sb0C",
        "colab_type": "code",
        "outputId": "a71fb435-5a0d-472f-9d2e-538a588ef23e",
        "colab": {
          "base_uri": "https://localhost:8080/",
          "height": 258
        }
      },
      "source": [
        "df.drop('Full time course',inplace = True,axis=1)\n",
        "appenddf = pd.get_dummies(df['education_level'],drop_first=True)\n",
        "\n",
        "\n",
        "df = pd.concat([df.drop('education_level',axis=1),appenddf], axis=1)\n",
        "\n",
        "df.head()"
      ],
      "execution_count": 434,
      "outputs": [
        {
          "output_type": "execute_result",
          "data": {
            "text/html": [
              "<div>\n",
              "<style scoped>\n",
              "    .dataframe tbody tr th:only-of-type {\n",
              "        vertical-align: middle;\n",
              "    }\n",
              "\n",
              "    .dataframe tbody tr th {\n",
              "        vertical-align: top;\n",
              "    }\n",
              "\n",
              "    .dataframe thead th {\n",
              "        text-align: right;\n",
              "    }\n",
              "</style>\n",
              "<table border=\"1\" class=\"dataframe\">\n",
              "  <thead>\n",
              "    <tr style=\"text-align: right;\">\n",
              "      <th></th>\n",
              "      <th>enrollee_id</th>\n",
              "      <th>city</th>\n",
              "      <th>city_development_index</th>\n",
              "      <th>gender</th>\n",
              "      <th>major_discipline</th>\n",
              "      <th>experience</th>\n",
              "      <th>company_size</th>\n",
              "      <th>company_type</th>\n",
              "      <th>last_new_job</th>\n",
              "      <th>training_hours</th>\n",
              "      <th>target</th>\n",
              "      <th>Has relevent experience</th>\n",
              "      <th>Part time course</th>\n",
              "      <th>no_enrollment</th>\n",
              "      <th>High School</th>\n",
              "      <th>Masters</th>\n",
              "      <th>Phd</th>\n",
              "      <th>Primary School</th>\n",
              "    </tr>\n",
              "  </thead>\n",
              "  <tbody>\n",
              "    <tr>\n",
              "      <th>0</th>\n",
              "      <td>23798</td>\n",
              "      <td>city_149</td>\n",
              "      <td>0.689</td>\n",
              "      <td>Male</td>\n",
              "      <td>STEM</td>\n",
              "      <td>3.0</td>\n",
              "      <td>100-500</td>\n",
              "      <td>Pvt Ltd</td>\n",
              "      <td>1.0</td>\n",
              "      <td>106</td>\n",
              "      <td>0</td>\n",
              "      <td>1</td>\n",
              "      <td>0</td>\n",
              "      <td>1</td>\n",
              "      <td>0</td>\n",
              "      <td>0</td>\n",
              "      <td>0</td>\n",
              "      <td>0</td>\n",
              "    </tr>\n",
              "    <tr>\n",
              "      <th>1</th>\n",
              "      <td>29166</td>\n",
              "      <td>city_83</td>\n",
              "      <td>0.923</td>\n",
              "      <td>Male</td>\n",
              "      <td>STEM</td>\n",
              "      <td>14.0</td>\n",
              "      <td>&lt;10</td>\n",
              "      <td>Funded Startup</td>\n",
              "      <td>1.0</td>\n",
              "      <td>69</td>\n",
              "      <td>0</td>\n",
              "      <td>1</td>\n",
              "      <td>0</td>\n",
              "      <td>1</td>\n",
              "      <td>0</td>\n",
              "      <td>0</td>\n",
              "      <td>0</td>\n",
              "      <td>0</td>\n",
              "    </tr>\n",
              "    <tr>\n",
              "      <th>2</th>\n",
              "      <td>46</td>\n",
              "      <td>city_16</td>\n",
              "      <td>0.910</td>\n",
              "      <td>NaN</td>\n",
              "      <td>STEM</td>\n",
              "      <td>6.0</td>\n",
              "      <td>50-99</td>\n",
              "      <td>Public Sector</td>\n",
              "      <td>2.0</td>\n",
              "      <td>4</td>\n",
              "      <td>0</td>\n",
              "      <td>1</td>\n",
              "      <td>0</td>\n",
              "      <td>1</td>\n",
              "      <td>0</td>\n",
              "      <td>0</td>\n",
              "      <td>0</td>\n",
              "      <td>0</td>\n",
              "    </tr>\n",
              "    <tr>\n",
              "      <th>3</th>\n",
              "      <td>18527</td>\n",
              "      <td>city_64</td>\n",
              "      <td>0.666</td>\n",
              "      <td>Male</td>\n",
              "      <td>STEM</td>\n",
              "      <td>14.0</td>\n",
              "      <td>50-99</td>\n",
              "      <td>Pvt Ltd</td>\n",
              "      <td>1.0</td>\n",
              "      <td>26</td>\n",
              "      <td>0</td>\n",
              "      <td>1</td>\n",
              "      <td>0</td>\n",
              "      <td>1</td>\n",
              "      <td>0</td>\n",
              "      <td>0</td>\n",
              "      <td>0</td>\n",
              "      <td>0</td>\n",
              "    </tr>\n",
              "    <tr>\n",
              "      <th>4</th>\n",
              "      <td>21751</td>\n",
              "      <td>city_100</td>\n",
              "      <td>0.887</td>\n",
              "      <td>NaN</td>\n",
              "      <td>STEM</td>\n",
              "      <td>8.0</td>\n",
              "      <td>1000-4999</td>\n",
              "      <td>Pvt Ltd</td>\n",
              "      <td>2.0</td>\n",
              "      <td>88</td>\n",
              "      <td>1</td>\n",
              "      <td>0</td>\n",
              "      <td>0</td>\n",
              "      <td>1</td>\n",
              "      <td>0</td>\n",
              "      <td>1</td>\n",
              "      <td>0</td>\n",
              "      <td>0</td>\n",
              "    </tr>\n",
              "  </tbody>\n",
              "</table>\n",
              "</div>"
            ],
            "text/plain": [
              "   enrollee_id      city  city_development_index  ... Masters Phd  Primary School\n",
              "0        23798  city_149                   0.689  ...       0   0               0\n",
              "1        29166   city_83                   0.923  ...       0   0               0\n",
              "2           46   city_16                   0.910  ...       0   0               0\n",
              "3        18527   city_64                   0.666  ...       0   0               0\n",
              "4        21751  city_100                   0.887  ...       1   0               0\n",
              "\n",
              "[5 rows x 18 columns]"
            ]
          },
          "metadata": {
            "tags": []
          },
          "execution_count": 434
        }
      ]
    },
    {
      "cell_type": "code",
      "metadata": {
        "id": "2ozRKuN5sfW5",
        "colab_type": "code",
        "outputId": "e7dd7ac8-8004-4768-9bd3-71278cbc5c73",
        "colab": {
          "base_uri": "https://localhost:8080/",
          "height": 258
        }
      },
      "source": [
        "appenddf = pd.get_dummies(df['major_discipline'],drop_first=True)\n",
        "\n",
        "\n",
        "df = pd.concat([df.drop('major_discipline',axis=1),appenddf], axis=1)\n",
        "\n",
        "df.head()"
      ],
      "execution_count": 435,
      "outputs": [
        {
          "output_type": "execute_result",
          "data": {
            "text/html": [
              "<div>\n",
              "<style scoped>\n",
              "    .dataframe tbody tr th:only-of-type {\n",
              "        vertical-align: middle;\n",
              "    }\n",
              "\n",
              "    .dataframe tbody tr th {\n",
              "        vertical-align: top;\n",
              "    }\n",
              "\n",
              "    .dataframe thead th {\n",
              "        text-align: right;\n",
              "    }\n",
              "</style>\n",
              "<table border=\"1\" class=\"dataframe\">\n",
              "  <thead>\n",
              "    <tr style=\"text-align: right;\">\n",
              "      <th></th>\n",
              "      <th>enrollee_id</th>\n",
              "      <th>city</th>\n",
              "      <th>city_development_index</th>\n",
              "      <th>gender</th>\n",
              "      <th>experience</th>\n",
              "      <th>company_size</th>\n",
              "      <th>company_type</th>\n",
              "      <th>last_new_job</th>\n",
              "      <th>training_hours</th>\n",
              "      <th>target</th>\n",
              "      <th>Has relevent experience</th>\n",
              "      <th>Part time course</th>\n",
              "      <th>no_enrollment</th>\n",
              "      <th>High School</th>\n",
              "      <th>Masters</th>\n",
              "      <th>Phd</th>\n",
              "      <th>Primary School</th>\n",
              "      <th>Business Degree</th>\n",
              "      <th>Humanities</th>\n",
              "      <th>No Major</th>\n",
              "      <th>Other</th>\n",
              "      <th>STEM</th>\n",
              "    </tr>\n",
              "  </thead>\n",
              "  <tbody>\n",
              "    <tr>\n",
              "      <th>0</th>\n",
              "      <td>23798</td>\n",
              "      <td>city_149</td>\n",
              "      <td>0.689</td>\n",
              "      <td>Male</td>\n",
              "      <td>3.0</td>\n",
              "      <td>100-500</td>\n",
              "      <td>Pvt Ltd</td>\n",
              "      <td>1.0</td>\n",
              "      <td>106</td>\n",
              "      <td>0</td>\n",
              "      <td>1</td>\n",
              "      <td>0</td>\n",
              "      <td>1</td>\n",
              "      <td>0</td>\n",
              "      <td>0</td>\n",
              "      <td>0</td>\n",
              "      <td>0</td>\n",
              "      <td>0</td>\n",
              "      <td>0</td>\n",
              "      <td>0</td>\n",
              "      <td>0</td>\n",
              "      <td>1</td>\n",
              "    </tr>\n",
              "    <tr>\n",
              "      <th>1</th>\n",
              "      <td>29166</td>\n",
              "      <td>city_83</td>\n",
              "      <td>0.923</td>\n",
              "      <td>Male</td>\n",
              "      <td>14.0</td>\n",
              "      <td>&lt;10</td>\n",
              "      <td>Funded Startup</td>\n",
              "      <td>1.0</td>\n",
              "      <td>69</td>\n",
              "      <td>0</td>\n",
              "      <td>1</td>\n",
              "      <td>0</td>\n",
              "      <td>1</td>\n",
              "      <td>0</td>\n",
              "      <td>0</td>\n",
              "      <td>0</td>\n",
              "      <td>0</td>\n",
              "      <td>0</td>\n",
              "      <td>0</td>\n",
              "      <td>0</td>\n",
              "      <td>0</td>\n",
              "      <td>1</td>\n",
              "    </tr>\n",
              "    <tr>\n",
              "      <th>2</th>\n",
              "      <td>46</td>\n",
              "      <td>city_16</td>\n",
              "      <td>0.910</td>\n",
              "      <td>NaN</td>\n",
              "      <td>6.0</td>\n",
              "      <td>50-99</td>\n",
              "      <td>Public Sector</td>\n",
              "      <td>2.0</td>\n",
              "      <td>4</td>\n",
              "      <td>0</td>\n",
              "      <td>1</td>\n",
              "      <td>0</td>\n",
              "      <td>1</td>\n",
              "      <td>0</td>\n",
              "      <td>0</td>\n",
              "      <td>0</td>\n",
              "      <td>0</td>\n",
              "      <td>0</td>\n",
              "      <td>0</td>\n",
              "      <td>0</td>\n",
              "      <td>0</td>\n",
              "      <td>1</td>\n",
              "    </tr>\n",
              "    <tr>\n",
              "      <th>3</th>\n",
              "      <td>18527</td>\n",
              "      <td>city_64</td>\n",
              "      <td>0.666</td>\n",
              "      <td>Male</td>\n",
              "      <td>14.0</td>\n",
              "      <td>50-99</td>\n",
              "      <td>Pvt Ltd</td>\n",
              "      <td>1.0</td>\n",
              "      <td>26</td>\n",
              "      <td>0</td>\n",
              "      <td>1</td>\n",
              "      <td>0</td>\n",
              "      <td>1</td>\n",
              "      <td>0</td>\n",
              "      <td>0</td>\n",
              "      <td>0</td>\n",
              "      <td>0</td>\n",
              "      <td>0</td>\n",
              "      <td>0</td>\n",
              "      <td>0</td>\n",
              "      <td>0</td>\n",
              "      <td>1</td>\n",
              "    </tr>\n",
              "    <tr>\n",
              "      <th>4</th>\n",
              "      <td>21751</td>\n",
              "      <td>city_100</td>\n",
              "      <td>0.887</td>\n",
              "      <td>NaN</td>\n",
              "      <td>8.0</td>\n",
              "      <td>1000-4999</td>\n",
              "      <td>Pvt Ltd</td>\n",
              "      <td>2.0</td>\n",
              "      <td>88</td>\n",
              "      <td>1</td>\n",
              "      <td>0</td>\n",
              "      <td>0</td>\n",
              "      <td>1</td>\n",
              "      <td>0</td>\n",
              "      <td>1</td>\n",
              "      <td>0</td>\n",
              "      <td>0</td>\n",
              "      <td>0</td>\n",
              "      <td>0</td>\n",
              "      <td>0</td>\n",
              "      <td>0</td>\n",
              "      <td>1</td>\n",
              "    </tr>\n",
              "  </tbody>\n",
              "</table>\n",
              "</div>"
            ],
            "text/plain": [
              "   enrollee_id      city  city_development_index  ... No Major  Other STEM\n",
              "0        23798  city_149                   0.689  ...        0      0    1\n",
              "1        29166   city_83                   0.923  ...        0      0    1\n",
              "2           46   city_16                   0.910  ...        0      0    1\n",
              "3        18527   city_64                   0.666  ...        0      0    1\n",
              "4        21751  city_100                   0.887  ...        0      0    1\n",
              "\n",
              "[5 rows x 22 columns]"
            ]
          },
          "metadata": {
            "tags": []
          },
          "execution_count": 435
        }
      ]
    },
    {
      "cell_type": "code",
      "metadata": {
        "id": "Ki4GtsHT3Jra",
        "colab_type": "code",
        "colab": {}
      },
      "source": [
        "\n"
      ],
      "execution_count": 0,
      "outputs": []
    },
    {
      "cell_type": "code",
      "metadata": {
        "id": "18jAyAAGshbU",
        "colab_type": "code",
        "outputId": "8e94fb95-94aa-400d-dfe6-82f8409928c8",
        "colab": {
          "base_uri": "https://localhost:8080/",
          "height": 258
        }
      },
      "source": [
        "appenddf = pd.get_dummies(df['company_size'],drop_first=True)\n",
        "\n",
        "\n",
        "df = pd.concat([df.drop('company_size',axis=1),appenddf], axis=1)\n",
        "\n",
        "df.head()\n",
        "\n",
        "appenddf = pd.get_dummies(df['company_type'],drop_first=True)\n",
        "\n",
        "\n",
        "df = pd.concat([df.drop('company_type',axis=1),appenddf], axis=1)\n",
        "\n",
        "df.head()"
      ],
      "execution_count": 436,
      "outputs": [
        {
          "output_type": "execute_result",
          "data": {
            "text/html": [
              "<div>\n",
              "<style scoped>\n",
              "    .dataframe tbody tr th:only-of-type {\n",
              "        vertical-align: middle;\n",
              "    }\n",
              "\n",
              "    .dataframe tbody tr th {\n",
              "        vertical-align: top;\n",
              "    }\n",
              "\n",
              "    .dataframe thead th {\n",
              "        text-align: right;\n",
              "    }\n",
              "</style>\n",
              "<table border=\"1\" class=\"dataframe\">\n",
              "  <thead>\n",
              "    <tr style=\"text-align: right;\">\n",
              "      <th></th>\n",
              "      <th>enrollee_id</th>\n",
              "      <th>city</th>\n",
              "      <th>city_development_index</th>\n",
              "      <th>gender</th>\n",
              "      <th>experience</th>\n",
              "      <th>last_new_job</th>\n",
              "      <th>training_hours</th>\n",
              "      <th>target</th>\n",
              "      <th>Has relevent experience</th>\n",
              "      <th>Part time course</th>\n",
              "      <th>no_enrollment</th>\n",
              "      <th>High School</th>\n",
              "      <th>Masters</th>\n",
              "      <th>Phd</th>\n",
              "      <th>Primary School</th>\n",
              "      <th>Business Degree</th>\n",
              "      <th>Humanities</th>\n",
              "      <th>No Major</th>\n",
              "      <th>Other</th>\n",
              "      <th>STEM</th>\n",
              "      <th>100-500</th>\n",
              "      <th>1000-4999</th>\n",
              "      <th>10000+</th>\n",
              "      <th>50-99</th>\n",
              "      <th>500-999</th>\n",
              "      <th>5000-9999</th>\n",
              "      <th>&lt;10</th>\n",
              "      <th>Funded Startup</th>\n",
              "      <th>NGO</th>\n",
              "      <th>Other</th>\n",
              "      <th>Public Sector</th>\n",
              "      <th>Pvt Ltd</th>\n",
              "    </tr>\n",
              "  </thead>\n",
              "  <tbody>\n",
              "    <tr>\n",
              "      <th>0</th>\n",
              "      <td>23798</td>\n",
              "      <td>city_149</td>\n",
              "      <td>0.689</td>\n",
              "      <td>Male</td>\n",
              "      <td>3.0</td>\n",
              "      <td>1.0</td>\n",
              "      <td>106</td>\n",
              "      <td>0</td>\n",
              "      <td>1</td>\n",
              "      <td>0</td>\n",
              "      <td>1</td>\n",
              "      <td>0</td>\n",
              "      <td>0</td>\n",
              "      <td>0</td>\n",
              "      <td>0</td>\n",
              "      <td>0</td>\n",
              "      <td>0</td>\n",
              "      <td>0</td>\n",
              "      <td>0</td>\n",
              "      <td>1</td>\n",
              "      <td>1</td>\n",
              "      <td>0</td>\n",
              "      <td>0</td>\n",
              "      <td>0</td>\n",
              "      <td>0</td>\n",
              "      <td>0</td>\n",
              "      <td>0</td>\n",
              "      <td>0</td>\n",
              "      <td>0</td>\n",
              "      <td>0</td>\n",
              "      <td>0</td>\n",
              "      <td>1</td>\n",
              "    </tr>\n",
              "    <tr>\n",
              "      <th>1</th>\n",
              "      <td>29166</td>\n",
              "      <td>city_83</td>\n",
              "      <td>0.923</td>\n",
              "      <td>Male</td>\n",
              "      <td>14.0</td>\n",
              "      <td>1.0</td>\n",
              "      <td>69</td>\n",
              "      <td>0</td>\n",
              "      <td>1</td>\n",
              "      <td>0</td>\n",
              "      <td>1</td>\n",
              "      <td>0</td>\n",
              "      <td>0</td>\n",
              "      <td>0</td>\n",
              "      <td>0</td>\n",
              "      <td>0</td>\n",
              "      <td>0</td>\n",
              "      <td>0</td>\n",
              "      <td>0</td>\n",
              "      <td>1</td>\n",
              "      <td>0</td>\n",
              "      <td>0</td>\n",
              "      <td>0</td>\n",
              "      <td>0</td>\n",
              "      <td>0</td>\n",
              "      <td>0</td>\n",
              "      <td>1</td>\n",
              "      <td>1</td>\n",
              "      <td>0</td>\n",
              "      <td>0</td>\n",
              "      <td>0</td>\n",
              "      <td>0</td>\n",
              "    </tr>\n",
              "    <tr>\n",
              "      <th>2</th>\n",
              "      <td>46</td>\n",
              "      <td>city_16</td>\n",
              "      <td>0.910</td>\n",
              "      <td>NaN</td>\n",
              "      <td>6.0</td>\n",
              "      <td>2.0</td>\n",
              "      <td>4</td>\n",
              "      <td>0</td>\n",
              "      <td>1</td>\n",
              "      <td>0</td>\n",
              "      <td>1</td>\n",
              "      <td>0</td>\n",
              "      <td>0</td>\n",
              "      <td>0</td>\n",
              "      <td>0</td>\n",
              "      <td>0</td>\n",
              "      <td>0</td>\n",
              "      <td>0</td>\n",
              "      <td>0</td>\n",
              "      <td>1</td>\n",
              "      <td>0</td>\n",
              "      <td>0</td>\n",
              "      <td>0</td>\n",
              "      <td>1</td>\n",
              "      <td>0</td>\n",
              "      <td>0</td>\n",
              "      <td>0</td>\n",
              "      <td>0</td>\n",
              "      <td>0</td>\n",
              "      <td>0</td>\n",
              "      <td>1</td>\n",
              "      <td>0</td>\n",
              "    </tr>\n",
              "    <tr>\n",
              "      <th>3</th>\n",
              "      <td>18527</td>\n",
              "      <td>city_64</td>\n",
              "      <td>0.666</td>\n",
              "      <td>Male</td>\n",
              "      <td>14.0</td>\n",
              "      <td>1.0</td>\n",
              "      <td>26</td>\n",
              "      <td>0</td>\n",
              "      <td>1</td>\n",
              "      <td>0</td>\n",
              "      <td>1</td>\n",
              "      <td>0</td>\n",
              "      <td>0</td>\n",
              "      <td>0</td>\n",
              "      <td>0</td>\n",
              "      <td>0</td>\n",
              "      <td>0</td>\n",
              "      <td>0</td>\n",
              "      <td>0</td>\n",
              "      <td>1</td>\n",
              "      <td>0</td>\n",
              "      <td>0</td>\n",
              "      <td>0</td>\n",
              "      <td>1</td>\n",
              "      <td>0</td>\n",
              "      <td>0</td>\n",
              "      <td>0</td>\n",
              "      <td>0</td>\n",
              "      <td>0</td>\n",
              "      <td>0</td>\n",
              "      <td>0</td>\n",
              "      <td>1</td>\n",
              "    </tr>\n",
              "    <tr>\n",
              "      <th>4</th>\n",
              "      <td>21751</td>\n",
              "      <td>city_100</td>\n",
              "      <td>0.887</td>\n",
              "      <td>NaN</td>\n",
              "      <td>8.0</td>\n",
              "      <td>2.0</td>\n",
              "      <td>88</td>\n",
              "      <td>1</td>\n",
              "      <td>0</td>\n",
              "      <td>0</td>\n",
              "      <td>1</td>\n",
              "      <td>0</td>\n",
              "      <td>1</td>\n",
              "      <td>0</td>\n",
              "      <td>0</td>\n",
              "      <td>0</td>\n",
              "      <td>0</td>\n",
              "      <td>0</td>\n",
              "      <td>0</td>\n",
              "      <td>1</td>\n",
              "      <td>0</td>\n",
              "      <td>1</td>\n",
              "      <td>0</td>\n",
              "      <td>0</td>\n",
              "      <td>0</td>\n",
              "      <td>0</td>\n",
              "      <td>0</td>\n",
              "      <td>0</td>\n",
              "      <td>0</td>\n",
              "      <td>0</td>\n",
              "      <td>0</td>\n",
              "      <td>1</td>\n",
              "    </tr>\n",
              "  </tbody>\n",
              "</table>\n",
              "</div>"
            ],
            "text/plain": [
              "   enrollee_id      city  city_development_index  ... Other  Public Sector  Pvt Ltd\n",
              "0        23798  city_149                   0.689  ...     0              0        1\n",
              "1        29166   city_83                   0.923  ...     0              0        0\n",
              "2           46   city_16                   0.910  ...     0              1        0\n",
              "3        18527   city_64                   0.666  ...     0              0        1\n",
              "4        21751  city_100                   0.887  ...     0              0        1\n",
              "\n",
              "[5 rows x 32 columns]"
            ]
          },
          "metadata": {
            "tags": []
          },
          "execution_count": 436
        }
      ]
    },
    {
      "cell_type": "markdown",
      "metadata": {
        "id": "z2ILPJxkskyx",
        "colab_type": "text"
      },
      "source": [
        "Models\n"
      ]
    },
    {
      "cell_type": "code",
      "metadata": {
        "id": "eTcvypbcslv2",
        "colab_type": "code",
        "colab": {}
      },
      "source": [
        "from sklearn.model_selection import train_test_split\n",
        "\n",
        "X = df.drop(['gender','city','target','enrollee_id'],axis=1)\n",
        "y = df['target']"
      ],
      "execution_count": 0,
      "outputs": []
    },
    {
      "cell_type": "code",
      "metadata": {
        "id": "Xk6Hqfl_sojg",
        "colab_type": "code",
        "colab": {}
      },
      "source": [
        "X.columns = ['city_development_index', 'experience', 'last_new_job',\n",
        "       'training_hours', 'Has relevent experience', 'Part time course',\n",
        "       'no_enrollment', 'High School', 'Masters', 'Phd', 'Primary School',\n",
        "       'Business Degree', 'Humanities', 'No Major', 'Otherstudies', 'STEM', '100-500',\n",
        "       '1000-4999', '10000+', '50-99', '500-999', '5000-9999', '10',\n",
        "       'Funded Startup', 'NGO', 'Other', 'Public Sector', 'Pvt Ltd']"
      ],
      "execution_count": 0,
      "outputs": []
    },
    {
      "cell_type": "code",
      "metadata": {
        "id": "33Nh7OJssrK6",
        "colab_type": "code",
        "colab": {}
      },
      "source": [
        "X_train, X_test, y_train, y_test = train_test_split(X, y, test_size=0.3, random_state=42)"
      ],
      "execution_count": 0,
      "outputs": []
    },
    {
      "cell_type": "code",
      "metadata": {
        "id": "xFD2OOrJsu0k",
        "colab_type": "code",
        "outputId": "7f8fa410-b857-4257-9e53-bec1a5c4c34c",
        "colab": {
          "base_uri": "https://localhost:8080/",
          "height": 479
        }
      },
      "source": [
        "from sklearn.ensemble import BaggingClassifier\n",
        "from imblearn.ensemble import BalancedBaggingClassifier\n",
        "\n",
        "from imblearn.metrics import classification_report_imbalanced\n",
        "\n",
        "bagging = BaggingClassifier(random_state=0)\n",
        "balanced_bagging = BalancedBaggingClassifier(random_state=0)\n",
        "\n",
        "bagging.fit(X_train, y_train)\n",
        "balanced_bagging.fit(X_train, y_train)"
      ],
      "execution_count": 440,
      "outputs": [
        {
          "output_type": "stream",
          "text": [
            "/usr/local/lib/python3.6/dist-packages/sklearn/utils/deprecation.py:87: FutureWarning: Function safe_indexing is deprecated; safe_indexing is deprecated in version 0.22 and will be removed in version 0.24.\n",
            "  warnings.warn(msg, category=FutureWarning)\n",
            "/usr/local/lib/python3.6/dist-packages/sklearn/utils/deprecation.py:87: FutureWarning: Function safe_indexing is deprecated; safe_indexing is deprecated in version 0.22 and will be removed in version 0.24.\n",
            "  warnings.warn(msg, category=FutureWarning)\n",
            "/usr/local/lib/python3.6/dist-packages/sklearn/utils/deprecation.py:87: FutureWarning: Function safe_indexing is deprecated; safe_indexing is deprecated in version 0.22 and will be removed in version 0.24.\n",
            "  warnings.warn(msg, category=FutureWarning)\n",
            "/usr/local/lib/python3.6/dist-packages/sklearn/utils/deprecation.py:87: FutureWarning: Function safe_indexing is deprecated; safe_indexing is deprecated in version 0.22 and will be removed in version 0.24.\n",
            "  warnings.warn(msg, category=FutureWarning)\n",
            "/usr/local/lib/python3.6/dist-packages/sklearn/utils/deprecation.py:87: FutureWarning: Function safe_indexing is deprecated; safe_indexing is deprecated in version 0.22 and will be removed in version 0.24.\n",
            "  warnings.warn(msg, category=FutureWarning)\n",
            "/usr/local/lib/python3.6/dist-packages/sklearn/utils/deprecation.py:87: FutureWarning: Function safe_indexing is deprecated; safe_indexing is deprecated in version 0.22 and will be removed in version 0.24.\n",
            "  warnings.warn(msg, category=FutureWarning)\n",
            "/usr/local/lib/python3.6/dist-packages/sklearn/utils/deprecation.py:87: FutureWarning: Function safe_indexing is deprecated; safe_indexing is deprecated in version 0.22 and will be removed in version 0.24.\n",
            "  warnings.warn(msg, category=FutureWarning)\n",
            "/usr/local/lib/python3.6/dist-packages/sklearn/utils/deprecation.py:87: FutureWarning: Function safe_indexing is deprecated; safe_indexing is deprecated in version 0.22 and will be removed in version 0.24.\n",
            "  warnings.warn(msg, category=FutureWarning)\n",
            "/usr/local/lib/python3.6/dist-packages/sklearn/utils/deprecation.py:87: FutureWarning: Function safe_indexing is deprecated; safe_indexing is deprecated in version 0.22 and will be removed in version 0.24.\n",
            "  warnings.warn(msg, category=FutureWarning)\n",
            "/usr/local/lib/python3.6/dist-packages/sklearn/utils/deprecation.py:87: FutureWarning: Function safe_indexing is deprecated; safe_indexing is deprecated in version 0.22 and will be removed in version 0.24.\n",
            "  warnings.warn(msg, category=FutureWarning)\n"
          ],
          "name": "stderr"
        },
        {
          "output_type": "execute_result",
          "data": {
            "text/plain": [
              "BalancedBaggingClassifier(base_estimator=None, bootstrap=True,\n",
              "                          bootstrap_features=False, max_features=1.0,\n",
              "                          max_samples=1.0, n_estimators=10, n_jobs=1,\n",
              "                          oob_score=False, random_state=0, ratio=None,\n",
              "                          replacement=False, sampling_strategy='auto',\n",
              "                          verbose=0, warm_start=False)"
            ]
          },
          "metadata": {
            "tags": []
          },
          "execution_count": 440
        }
      ]
    },
    {
      "cell_type": "code",
      "metadata": {
        "id": "nbGT6SgLsyto",
        "colab_type": "code",
        "outputId": "3a3c1fa4-6669-4ae9-ed4c-6875fab6569e",
        "colab": {
          "base_uri": "https://localhost:8080/",
          "height": 34
        }
      },
      "source": [
        "print('Classification of original dataset with Bagging (scikit-learn)')\n",
        "y_pred = bagging.predict(X_test)\n",
        "try:\n",
        "    scores = bagging.decision_function(X_test)\n",
        "except:\n",
        "    scores = bagging.predict_proba(X_test)[:,1]"
      ],
      "execution_count": 441,
      "outputs": [
        {
          "output_type": "stream",
          "text": [
            "Classification of original dataset with Bagging (scikit-learn)\n"
          ],
          "name": "stdout"
        }
      ]
    },
    {
      "cell_type": "code",
      "metadata": {
        "id": "vA1lyK0cs1tn",
        "colab_type": "code",
        "outputId": "b9ae9f2f-2cf4-4db8-9afe-6f86d41bbad1",
        "colab": {
          "base_uri": "https://localhost:8080/",
          "height": 34
        }
      },
      "source": [
        "from sklearn.metrics import roc_auc_score\n",
        "roc_auc_score(y_test,scores)"
      ],
      "execution_count": 442,
      "outputs": [
        {
          "output_type": "execute_result",
          "data": {
            "text/plain": [
              "0.5798778609394328"
            ]
          },
          "metadata": {
            "tags": []
          },
          "execution_count": 442
        }
      ]
    },
    {
      "cell_type": "code",
      "metadata": {
        "id": "KDq0eoNbs3Tj",
        "colab_type": "code",
        "outputId": "6b8f4481-861a-4a9e-f3a7-6c202fe5ce2b",
        "colab": {
          "base_uri": "https://localhost:8080/",
          "height": 34
        }
      },
      "source": [
        "print('Classification of original dataset with BalancedBagging (imbalanced-learn)')\n",
        "y_pred = balanced_bagging.predict(X_test)\n",
        "try:\n",
        "    scores = balanced_bagging.decision_function(X_test)\n",
        "except:\n",
        "    scores = balanced_bagging.predict_proba(X_test)[:,1]"
      ],
      "execution_count": 443,
      "outputs": [
        {
          "output_type": "stream",
          "text": [
            "Classification of original dataset with BalancedBagging (imbalanced-learn)\n"
          ],
          "name": "stdout"
        }
      ]
    },
    {
      "cell_type": "code",
      "metadata": {
        "id": "pbw12LxMs3SA",
        "colab_type": "code",
        "outputId": "1fddd42d-5760-4c51-ce8c-9a6fa438cd52",
        "colab": {
          "base_uri": "https://localhost:8080/",
          "height": 34
        }
      },
      "source": [
        "roc_auc_score(y_test,scores)"
      ],
      "execution_count": 444,
      "outputs": [
        {
          "output_type": "execute_result",
          "data": {
            "text/plain": [
              "0.6055112665526711"
            ]
          },
          "metadata": {
            "tags": []
          },
          "execution_count": 444
        }
      ]
    },
    {
      "cell_type": "code",
      "metadata": {
        "id": "ktiPXe-Ls6kA",
        "colab_type": "code",
        "outputId": "a3949b31-50ea-4233-ea02-cf3060a684db",
        "colab": {
          "base_uri": "https://localhost:8080/",
          "height": 68
        }
      },
      "source": [
        "from sklearn.ensemble import RandomForestClassifier\n",
        "from sklearn.metrics import confusion_matrix\n",
        "\n",
        "pre = RandomForestClassifier(n_jobs=-1, random_state = 42,\n",
        "                             max_features= 'sqrt', \n",
        "                             criterion = 'entropy',n_estimators=100)\n",
        "pre.fit(X_train, y_train)\n",
        "\n",
        "#Make predictions\n",
        "y_pred = pre.predict(X_test)\n",
        "try:\n",
        "    scores = pre.decision_function(X_test)\n",
        "except:\n",
        "    scores = pre.predict_proba(X_test)[:,1]\n",
        "\n",
        "#Make plots\n",
        "print(confusion_matrix(y_test,y_pred))\n",
        "#plot_aucprc(pre, scores)\n",
        "\n",
        "print(roc_auc_score(y_test,scores))"
      ],
      "execution_count": 445,
      "outputs": [
        {
          "output_type": "stream",
          "text": [
            "[[4538   65]\n",
            " [ 660   29]]\n",
            "0.606934267328022\n"
          ],
          "name": "stdout"
        }
      ]
    },
    {
      "cell_type": "code",
      "metadata": {
        "id": "IHKHaBGTtSdI",
        "colab_type": "code",
        "outputId": "cb3b9e70-73d3-4c56-a2d8-7b0a83034a47",
        "colab": {
          "base_uri": "https://localhost:8080/",
          "height": 153
        }
      },
      "source": [
        "rfc = RandomForestClassifier(n_jobs=-1, random_state = 42,\n",
        "                             n_estimators=500, \n",
        "                             max_features='auto',\n",
        "                             min_samples_leaf=2,\n",
        "                             criterion = 'entropy')\n",
        "\n",
        "rfc.fit(X_train, y_train)"
      ],
      "execution_count": 446,
      "outputs": [
        {
          "output_type": "execute_result",
          "data": {
            "text/plain": [
              "RandomForestClassifier(bootstrap=True, ccp_alpha=0.0, class_weight=None,\n",
              "                       criterion='entropy', max_depth=None, max_features='auto',\n",
              "                       max_leaf_nodes=None, max_samples=None,\n",
              "                       min_impurity_decrease=0.0, min_impurity_split=None,\n",
              "                       min_samples_leaf=2, min_samples_split=2,\n",
              "                       min_weight_fraction_leaf=0.0, n_estimators=500,\n",
              "                       n_jobs=-1, oob_score=False, random_state=42, verbose=0,\n",
              "                       warm_start=False)"
            ]
          },
          "metadata": {
            "tags": []
          },
          "execution_count": 446
        }
      ]
    },
    {
      "cell_type": "code",
      "metadata": {
        "id": "ROGQAh2mtUCx",
        "colab_type": "code",
        "outputId": "ebade51b-6012-45eb-bc37-4e8cf2b08c91",
        "colab": {
          "base_uri": "https://localhost:8080/",
          "height": 68
        }
      },
      "source": [
        "y_pred = rfc.predict(X_test)\n",
        "try:\n",
        "    scores = rfc.decision_function(X_test)\n",
        "except:\n",
        "    scores = rfc.predict_proba(X_test)[:,1]\n",
        "\n",
        "print(confusion_matrix(y_test,y_pred))\n",
        "\n",
        "print(roc_auc_score(y_test,scores))"
      ],
      "execution_count": 447,
      "outputs": [
        {
          "output_type": "stream",
          "text": [
            "[[4600    3]\n",
            " [ 680    9]]\n",
            "0.6353316935033536\n"
          ],
          "name": "stdout"
        }
      ]
    },
    {
      "cell_type": "code",
      "metadata": {
        "id": "rZd9q5sZtU8M",
        "colab_type": "code",
        "outputId": "74404475-d314-4fac-f50d-bfc1b046124a",
        "colab": {
          "base_uri": "https://localhost:8080/",
          "height": 136
        }
      },
      "source": [
        "from xgboost import XGBClassifier\n",
        "xgb = XGBClassifier(random_state = 42, n_jobs = -1)\n",
        "xgb.fit(X_train, y_train)"
      ],
      "execution_count": 448,
      "outputs": [
        {
          "output_type": "execute_result",
          "data": {
            "text/plain": [
              "XGBClassifier(base_score=0.5, booster='gbtree', colsample_bylevel=1,\n",
              "              colsample_bynode=1, colsample_bytree=1, gamma=0,\n",
              "              learning_rate=0.1, max_delta_step=0, max_depth=3,\n",
              "              min_child_weight=1, missing=None, n_estimators=100, n_jobs=-1,\n",
              "              nthread=None, objective='binary:logistic', random_state=42,\n",
              "              reg_alpha=0, reg_lambda=1, scale_pos_weight=1, seed=None,\n",
              "              silent=None, subsample=1, verbosity=1)"
            ]
          },
          "metadata": {
            "tags": []
          },
          "execution_count": 448
        }
      ]
    },
    {
      "cell_type": "code",
      "metadata": {
        "id": "0H9qboDPtXem",
        "colab_type": "code",
        "outputId": "ca27fe8d-8b26-4446-fbc9-67147334bf53",
        "colab": {
          "base_uri": "https://localhost:8080/",
          "height": 68
        }
      },
      "source": [
        "y_pred = xgb.predict(X_test)\n",
        "try:\n",
        "    scores = xgb.decision_function(X_test)\n",
        "except:\n",
        "    scores = xgb.predict_proba(X_test)[:,1]\n",
        "#Make plots\n",
        "\n",
        "print(confusion_matrix(y_test,y_pred))\n",
        "\n",
        "print(roc_auc_score(y_test,scores))"
      ],
      "execution_count": 449,
      "outputs": [
        {
          "output_type": "stream",
          "text": [
            "[[4603    0]\n",
            " [ 687    2]]\n",
            "0.6422062723654385\n"
          ],
          "name": "stdout"
        }
      ]
    },
    {
      "cell_type": "code",
      "metadata": {
        "id": "CTiVRkkftZb2",
        "colab_type": "code",
        "outputId": "7b9bbce4-d885-433c-cbb6-43ad901db6b0",
        "colab": {
          "base_uri": "https://localhost:8080/",
          "height": 136
        }
      },
      "source": [
        "fraud_ratio=y_train.value_counts()[1]/y_train.value_counts()[0]\n",
        "optimized_GBM = XGBClassifier(n_jobs=-1, random_state = 42,\n",
        "                             n_estimators=100, \n",
        "                             max_depth=7,\n",
        "                             min_child_weight=2,\n",
        "                             criterion = 'entropy')\n",
        "optimized_GBM.fit(X_train, y_train)"
      ],
      "execution_count": 450,
      "outputs": [
        {
          "output_type": "execute_result",
          "data": {
            "text/plain": [
              "XGBClassifier(base_score=0.5, booster='gbtree', colsample_bylevel=1,\n",
              "              colsample_bynode=1, colsample_bytree=1, criterion='entropy',\n",
              "              gamma=0, learning_rate=0.1, max_delta_step=0, max_depth=7,\n",
              "              min_child_weight=2, missing=None, n_estimators=100, n_jobs=-1,\n",
              "              nthread=None, objective='binary:logistic', random_state=42,\n",
              "              reg_alpha=0, reg_lambda=1, scale_pos_weight=1, seed=None,\n",
              "              silent=None, subsample=1, verbosity=1)"
            ]
          },
          "metadata": {
            "tags": []
          },
          "execution_count": 450
        }
      ]
    },
    {
      "cell_type": "code",
      "metadata": {
        "id": "_m_CuMF-taTH",
        "colab_type": "code",
        "outputId": "eac3276c-91cc-42b2-c910-f0dfdc2f844d",
        "colab": {
          "base_uri": "https://localhost:8080/",
          "height": 68
        }
      },
      "source": [
        "y_pred = optimized_GBM.predict(X_test)\n",
        "try:\n",
        "    scores = optimized_GBM.decision_function(X_test)\n",
        "except:\n",
        "    scores = optimized_GBM.predict_proba(X_test)[:,1]\n",
        "\n",
        "print(confusion_matrix(y_test,y_pred))\n",
        "\n",
        "print(roc_auc_score(y_test,scores))"
      ],
      "execution_count": 451,
      "outputs": [
        {
          "output_type": "stream",
          "text": [
            "[[4582   21]\n",
            " [ 679   10]]\n",
            "0.6252573335935704\n"
          ],
          "name": "stdout"
        }
      ]
    },
    {
      "cell_type": "code",
      "metadata": {
        "id": "kF_Mc6NPvs89",
        "colab_type": "code",
        "outputId": "2a6dbfdd-5f94-4fbf-d0fa-f8dc0c25acc6",
        "colab": {
          "base_uri": "https://localhost:8080/",
          "height": 51
        }
      },
      "source": [
        "from sklearn.preprocessing import StandardScaler\n",
        "sc = StandardScaler()\n",
        "X_train = sc.fit_transform(X_train)\n",
        "X_test = sc.transform(X_test)\n",
        "\n",
        "# Fitting SVM to the Training set\n",
        "from sklearn.svm import OneClassSVM\n",
        "classifier = OneClassSVM(kernel=\"rbf\")\n",
        "classifier.fit(X_train, y_train)"
      ],
      "execution_count": 452,
      "outputs": [
        {
          "output_type": "execute_result",
          "data": {
            "text/plain": [
              "OneClassSVM(cache_size=200, coef0=0.0, degree=3, gamma='scale', kernel='rbf',\n",
              "            max_iter=-1, nu=0.5, shrinking=True, tol=0.001, verbose=False)"
            ]
          },
          "metadata": {
            "tags": []
          },
          "execution_count": 452
        }
      ]
    },
    {
      "cell_type": "code",
      "metadata": {
        "id": "hEJsuSzIvvYK",
        "colab_type": "code",
        "outputId": "9f264c5c-a037-4242-c5ba-11d4605ced8a",
        "colab": {
          "base_uri": "https://localhost:8080/",
          "height": 68
        }
      },
      "source": [
        "y_pred = classifier.predict(X_test)\n",
        "y_pred = np.array([y==-1 for y in y_pred])\n",
        "\n",
        "try:\n",
        "    scores = classifier.decision_function(X_test)\n",
        "except:\n",
        "    scores = classifier.predict_proba(X_test)[:,1]\n",
        "\n",
        "print(confusion_matrix(y_test,y_pred))\n",
        "\n",
        "print(roc_auc_score(y_test,scores))"
      ],
      "execution_count": 453,
      "outputs": [
        {
          "output_type": "stream",
          "text": [
            "[[2267 2336]\n",
            " [ 372  317]]\n",
            "0.5146020753171955\n"
          ],
          "name": "stdout"
        }
      ]
    },
    {
      "cell_type": "code",
      "metadata": {
        "id": "cryZi2E7vyEI",
        "colab_type": "code",
        "outputId": "6f9797ec-bc1c-4558-ae01-d1f47d2318ee",
        "colab": {
          "base_uri": "https://localhost:8080/",
          "height": 139
        }
      },
      "source": [
        "from imblearn.over_sampling import SMOTE\n",
        "\n",
        "smote = SMOTE(random_state=42)\n",
        "X_res, y_res = smote.fit_sample(X, y)\n",
        "\n",
        "X_train, X_test, y_train, y_test = train_test_split(X_res, y_res, test_size = 0.25, random_state = 42)\n",
        "\n",
        "#fit the best models so far\n",
        "xgb.fit(X_train, y_train)\n",
        "rfc.fit(X_train, y_train)\n",
        "\n",
        "#Make predictions\n",
        "print('Classification of SMOTE-resampled dataset with XGboost')\n",
        "y_pred = xgb.predict(X_test)\n",
        "try:\n",
        "    scores = xgb.decision_function(X_test)\n",
        "except:\n",
        "    scores = xgb.predict_proba(X_test)[:,1]\n",
        "#Make plots\n",
        "y_pred = xgb.predict(X_test)\n",
        "\n",
        "print(confusion_matrix(y_test,y_pred))\n",
        "\n",
        "print(roc_auc_score(y_test,scores))"
      ],
      "execution_count": 454,
      "outputs": [
        {
          "output_type": "stream",
          "text": [
            "/usr/local/lib/python3.6/dist-packages/sklearn/utils/deprecation.py:87: FutureWarning: Function safe_indexing is deprecated; safe_indexing is deprecated in version 0.22 and will be removed in version 0.24.\n",
            "  warnings.warn(msg, category=FutureWarning)\n"
          ],
          "name": "stderr"
        },
        {
          "output_type": "stream",
          "text": [
            "Classification of SMOTE-resampled dataset with XGboost\n",
            "[[3778   97]\n",
            " [ 684 3100]]\n",
            "0.9363067926072428\n"
          ],
          "name": "stdout"
        }
      ]
    },
    {
      "cell_type": "code",
      "metadata": {
        "id": "gvMZSCU1vzED",
        "colab_type": "code",
        "outputId": "4031b2d9-22ea-468f-a902-08f6b41552cd",
        "colab": {
          "base_uri": "https://localhost:8080/",
          "height": 85
        }
      },
      "source": [
        "print('Classification of SMOTE-resampled dataset with optimized RF')\n",
        "y_pred = rfc.predict(X_test)\n",
        "try:\n",
        "    scores = rfc.decision_function(X_test)\n",
        "except:\n",
        "    scores = rfc.predict_proba(X_test)[:,1]\n",
        "    \n",
        "print(confusion_matrix(y_test,y_pred))\n",
        "\n",
        "print(roc_auc_score(y_test,scores))"
      ],
      "execution_count": 455,
      "outputs": [
        {
          "output_type": "stream",
          "text": [
            "Classification of SMOTE-resampled dataset with optimized RF\n",
            "[[3828   47]\n",
            " [ 592 3192]]\n",
            "0.9485436131760212\n"
          ],
          "name": "stdout"
        }
      ]
    },
    {
      "cell_type": "code",
      "metadata": {
        "id": "5PbT4zM568D7",
        "colab_type": "code",
        "outputId": "888f20bb-295a-4e41-8556-de9ca022c8b9",
        "colab": {
          "base_uri": "https://localhost:8080/",
          "height": 1000
        }
      },
      "source": [
        "from tensorflow.keras.models import Sequential\n",
        "from tensorflow.keras.layers import Dense, Activation\n",
        "from tensorflow.keras.optimizers import Adam\n",
        "\n",
        "NN_model = Sequential()\n",
        "\n",
        "# The Input Layer :\n",
        "NN_model.add(Dense(28, activation='relu',input_dim = X_train.shape[1]))\n",
        "\n",
        "# The Hidden Layers :\n",
        "NN_model.add(Dense(28,activation='relu'))\n",
        "NN_model.add(Dense(28,activation='relu'))\n",
        "NN_model.add(Dense(28,activation='relu'))\n",
        "\n",
        "\n",
        "# The Output Layer :\n",
        "NN_model.add(Dense(1, kernel_initializer='normal',activation='sigmoid'))\n",
        "\n",
        "# Compile the network :\n",
        "NN_model.compile(loss='binary_crossentropy', optimizer='adam', metrics=['acc'])\n",
        "NN_model.summary()\n",
        "\n",
        "import tensorflow as tf\n",
        "\n",
        "es = tf.keras.callbacks.EarlyStopping(monitor = 'val_loss', patience =10, mode='min')\n",
        "\n",
        "NN_model.fit(X_train, y_train, epochs=500, validation_split = 0.2, callbacks=[es],batch_size=None)\n",
        "\n",
        "scores = NN_model.predict(X_test)\n",
        "\n",
        "y_pred = NN_model.predict_classes(X_test)\n",
        "\n",
        "#scores\n",
        "\n",
        "print(confusion_matrix(y_test,y_pred))\n",
        "#plot_aucprc(pre, scores)\n",
        "\n",
        "print(roc_auc_score(y_test,scores))"
      ],
      "execution_count": 456,
      "outputs": [
        {
          "output_type": "stream",
          "text": [
            "Model: \"sequential_2\"\n",
            "_________________________________________________________________\n",
            "Layer (type)                 Output Shape              Param #   \n",
            "=================================================================\n",
            "dense_10 (Dense)             (None, 28)                812       \n",
            "_________________________________________________________________\n",
            "dense_11 (Dense)             (None, 28)                812       \n",
            "_________________________________________________________________\n",
            "dense_12 (Dense)             (None, 28)                812       \n",
            "_________________________________________________________________\n",
            "dense_13 (Dense)             (None, 28)                812       \n",
            "_________________________________________________________________\n",
            "dense_14 (Dense)             (None, 1)                 29        \n",
            "=================================================================\n",
            "Total params: 3,277\n",
            "Trainable params: 3,277\n",
            "Non-trainable params: 0\n",
            "_________________________________________________________________\n",
            "Epoch 1/500\n",
            "575/575 [==============================] - 2s 3ms/step - loss: 0.6844 - acc: 0.5632 - val_loss: 0.6745 - val_acc: 0.5843\n",
            "Epoch 2/500\n",
            "575/575 [==============================] - 2s 3ms/step - loss: 0.6703 - acc: 0.5878 - val_loss: 0.6763 - val_acc: 0.5926\n",
            "Epoch 3/500\n",
            "575/575 [==============================] - 2s 3ms/step - loss: 0.6651 - acc: 0.5962 - val_loss: 0.6703 - val_acc: 0.5843\n",
            "Epoch 4/500\n",
            "575/575 [==============================] - 2s 3ms/step - loss: 0.6593 - acc: 0.6033 - val_loss: 0.6618 - val_acc: 0.6072\n",
            "Epoch 5/500\n",
            "575/575 [==============================] - 2s 3ms/step - loss: 0.6563 - acc: 0.6081 - val_loss: 0.6579 - val_acc: 0.6174\n",
            "Epoch 6/500\n",
            "575/575 [==============================] - 2s 3ms/step - loss: 0.6535 - acc: 0.6136 - val_loss: 0.6665 - val_acc: 0.5946\n",
            "Epoch 7/500\n",
            "575/575 [==============================] - 2s 3ms/step - loss: 0.6506 - acc: 0.6184 - val_loss: 0.6553 - val_acc: 0.6183\n",
            "Epoch 8/500\n",
            "575/575 [==============================] - 2s 3ms/step - loss: 0.6459 - acc: 0.6247 - val_loss: 0.6566 - val_acc: 0.6087\n",
            "Epoch 9/500\n",
            "575/575 [==============================] - 2s 3ms/step - loss: 0.6419 - acc: 0.6247 - val_loss: 0.6473 - val_acc: 0.6248\n",
            "Epoch 10/500\n",
            "575/575 [==============================] - 2s 3ms/step - loss: 0.6349 - acc: 0.6367 - val_loss: 0.6420 - val_acc: 0.6337\n",
            "Epoch 11/500\n",
            "575/575 [==============================] - 2s 3ms/step - loss: 0.6274 - acc: 0.6445 - val_loss: 0.6341 - val_acc: 0.6450\n",
            "Epoch 12/500\n",
            "575/575 [==============================] - 2s 3ms/step - loss: 0.6146 - acc: 0.6598 - val_loss: 0.6190 - val_acc: 0.6531\n",
            "Epoch 13/500\n",
            "575/575 [==============================] - 2s 3ms/step - loss: 0.6029 - acc: 0.6644 - val_loss: 0.6159 - val_acc: 0.6503\n",
            "Epoch 14/500\n",
            "575/575 [==============================] - 2s 3ms/step - loss: 0.5915 - acc: 0.6749 - val_loss: 0.6074 - val_acc: 0.6542\n",
            "Epoch 15/500\n",
            "575/575 [==============================] - 2s 3ms/step - loss: 0.5800 - acc: 0.6845 - val_loss: 0.5896 - val_acc: 0.6703\n",
            "Epoch 16/500\n",
            "575/575 [==============================] - 2s 3ms/step - loss: 0.5726 - acc: 0.6893 - val_loss: 0.5845 - val_acc: 0.6812\n",
            "Epoch 17/500\n",
            "575/575 [==============================] - 2s 3ms/step - loss: 0.5638 - acc: 0.6954 - val_loss: 0.5855 - val_acc: 0.6690\n",
            "Epoch 18/500\n",
            "575/575 [==============================] - 2s 3ms/step - loss: 0.5623 - acc: 0.6921 - val_loss: 0.5926 - val_acc: 0.6594\n",
            "Epoch 19/500\n",
            "575/575 [==============================] - 2s 3ms/step - loss: 0.5518 - acc: 0.7045 - val_loss: 0.5890 - val_acc: 0.6688\n",
            "Epoch 20/500\n",
            "575/575 [==============================] - 2s 3ms/step - loss: 0.5503 - acc: 0.7043 - val_loss: 0.5782 - val_acc: 0.6814\n",
            "Epoch 21/500\n",
            "575/575 [==============================] - 2s 3ms/step - loss: 0.5431 - acc: 0.7053 - val_loss: 0.5781 - val_acc: 0.6794\n",
            "Epoch 22/500\n",
            "575/575 [==============================] - 2s 3ms/step - loss: 0.5416 - acc: 0.7083 - val_loss: 0.5655 - val_acc: 0.6855\n",
            "Epoch 23/500\n",
            "575/575 [==============================] - 2s 4ms/step - loss: 0.5366 - acc: 0.7099 - val_loss: 0.5624 - val_acc: 0.6918\n",
            "Epoch 24/500\n",
            "575/575 [==============================] - 2s 4ms/step - loss: 0.5347 - acc: 0.7136 - val_loss: 0.5567 - val_acc: 0.6847\n",
            "Epoch 25/500\n",
            "575/575 [==============================] - 2s 3ms/step - loss: 0.5293 - acc: 0.7190 - val_loss: 0.5493 - val_acc: 0.6975\n",
            "Epoch 26/500\n",
            "575/575 [==============================] - 2s 3ms/step - loss: 0.5286 - acc: 0.7177 - val_loss: 0.5770 - val_acc: 0.6788\n",
            "Epoch 27/500\n",
            "575/575 [==============================] - 2s 3ms/step - loss: 0.5273 - acc: 0.7154 - val_loss: 0.5474 - val_acc: 0.7060\n",
            "Epoch 28/500\n",
            "575/575 [==============================] - 2s 3ms/step - loss: 0.5204 - acc: 0.7216 - val_loss: 0.5475 - val_acc: 0.6973\n",
            "Epoch 29/500\n",
            "575/575 [==============================] - 2s 4ms/step - loss: 0.5238 - acc: 0.7182 - val_loss: 0.5586 - val_acc: 0.6884\n",
            "Epoch 30/500\n",
            "575/575 [==============================] - 2s 3ms/step - loss: 0.5232 - acc: 0.7213 - val_loss: 0.5547 - val_acc: 0.6984\n",
            "Epoch 31/500\n",
            "575/575 [==============================] - 2s 3ms/step - loss: 0.5159 - acc: 0.7261 - val_loss: 0.5426 - val_acc: 0.7032\n",
            "Epoch 32/500\n",
            "575/575 [==============================] - 2s 3ms/step - loss: 0.5135 - acc: 0.7272 - val_loss: 0.5560 - val_acc: 0.6968\n",
            "Epoch 33/500\n",
            "575/575 [==============================] - 2s 3ms/step - loss: 0.5153 - acc: 0.7273 - val_loss: 0.5639 - val_acc: 0.6927\n",
            "Epoch 34/500\n",
            "575/575 [==============================] - 2s 3ms/step - loss: 0.5097 - acc: 0.7304 - val_loss: 0.5340 - val_acc: 0.7116\n",
            "Epoch 35/500\n",
            "575/575 [==============================] - 2s 3ms/step - loss: 0.5054 - acc: 0.7335 - val_loss: 0.5393 - val_acc: 0.7173\n",
            "Epoch 36/500\n",
            "575/575 [==============================] - 2s 3ms/step - loss: 0.5080 - acc: 0.7321 - val_loss: 0.5272 - val_acc: 0.7177\n",
            "Epoch 37/500\n",
            "575/575 [==============================] - 2s 3ms/step - loss: 0.4996 - acc: 0.7363 - val_loss: 0.5289 - val_acc: 0.7190\n",
            "Epoch 38/500\n",
            "575/575 [==============================] - 2s 3ms/step - loss: 0.4964 - acc: 0.7388 - val_loss: 0.5435 - val_acc: 0.7034\n",
            "Epoch 39/500\n",
            "575/575 [==============================] - 2s 3ms/step - loss: 0.4952 - acc: 0.7433 - val_loss: 0.5390 - val_acc: 0.7032\n",
            "Epoch 40/500\n",
            "575/575 [==============================] - 2s 3ms/step - loss: 0.4918 - acc: 0.7449 - val_loss: 0.5338 - val_acc: 0.7132\n",
            "Epoch 41/500\n",
            "575/575 [==============================] - 2s 3ms/step - loss: 0.4879 - acc: 0.7458 - val_loss: 0.5510 - val_acc: 0.6973\n",
            "Epoch 42/500\n",
            "575/575 [==============================] - 2s 3ms/step - loss: 0.4853 - acc: 0.7480 - val_loss: 0.5267 - val_acc: 0.7254\n",
            "Epoch 43/500\n",
            "575/575 [==============================] - 2s 3ms/step - loss: 0.4790 - acc: 0.7542 - val_loss: 0.5525 - val_acc: 0.7032\n",
            "Epoch 44/500\n",
            "575/575 [==============================] - 2s 3ms/step - loss: 0.4798 - acc: 0.7546 - val_loss: 0.5208 - val_acc: 0.7193\n",
            "Epoch 45/500\n",
            "575/575 [==============================] - 2s 3ms/step - loss: 0.4764 - acc: 0.7502 - val_loss: 0.5146 - val_acc: 0.7227\n",
            "Epoch 46/500\n",
            "575/575 [==============================] - 2s 3ms/step - loss: 0.4746 - acc: 0.7524 - val_loss: 0.5117 - val_acc: 0.7275\n",
            "Epoch 47/500\n",
            "575/575 [==============================] - 2s 3ms/step - loss: 0.4713 - acc: 0.7561 - val_loss: 0.5085 - val_acc: 0.7277\n",
            "Epoch 48/500\n",
            "575/575 [==============================] - 2s 3ms/step - loss: 0.4760 - acc: 0.7515 - val_loss: 0.5248 - val_acc: 0.7199\n",
            "Epoch 49/500\n",
            "575/575 [==============================] - 2s 3ms/step - loss: 0.4704 - acc: 0.7567 - val_loss: 0.5256 - val_acc: 0.7145\n",
            "Epoch 50/500\n",
            "575/575 [==============================] - 2s 3ms/step - loss: 0.4633 - acc: 0.7614 - val_loss: 0.5627 - val_acc: 0.7088\n",
            "Epoch 51/500\n",
            "575/575 [==============================] - 2s 3ms/step - loss: 0.4660 - acc: 0.7579 - val_loss: 0.5218 - val_acc: 0.7280\n",
            "Epoch 52/500\n",
            "575/575 [==============================] - 2s 3ms/step - loss: 0.4656 - acc: 0.7585 - val_loss: 0.5433 - val_acc: 0.7038\n",
            "Epoch 53/500\n",
            "575/575 [==============================] - 2s 3ms/step - loss: 0.4598 - acc: 0.7644 - val_loss: 0.5509 - val_acc: 0.7225\n",
            "Epoch 54/500\n",
            "575/575 [==============================] - 2s 3ms/step - loss: 0.4601 - acc: 0.7637 - val_loss: 0.5025 - val_acc: 0.7332\n",
            "Epoch 55/500\n",
            "575/575 [==============================] - 2s 3ms/step - loss: 0.4595 - acc: 0.7603 - val_loss: 0.5209 - val_acc: 0.7304\n",
            "Epoch 56/500\n",
            "575/575 [==============================] - 2s 3ms/step - loss: 0.4583 - acc: 0.7633 - val_loss: 0.5104 - val_acc: 0.7304\n",
            "Epoch 57/500\n",
            "575/575 [==============================] - 2s 3ms/step - loss: 0.4552 - acc: 0.7664 - val_loss: 0.5175 - val_acc: 0.7328\n",
            "Epoch 58/500\n",
            "575/575 [==============================] - 2s 3ms/step - loss: 0.4568 - acc: 0.7646 - val_loss: 0.5014 - val_acc: 0.7399\n",
            "Epoch 59/500\n",
            "575/575 [==============================] - 2s 3ms/step - loss: 0.4501 - acc: 0.7698 - val_loss: 0.5446 - val_acc: 0.7177\n",
            "Epoch 60/500\n",
            "575/575 [==============================] - 2s 3ms/step - loss: 0.4526 - acc: 0.7694 - val_loss: 0.5199 - val_acc: 0.7188\n",
            "Epoch 61/500\n",
            "575/575 [==============================] - 2s 3ms/step - loss: 0.4499 - acc: 0.7707 - val_loss: 0.5126 - val_acc: 0.7280\n",
            "Epoch 62/500\n",
            "575/575 [==============================] - 2s 3ms/step - loss: 0.4435 - acc: 0.7764 - val_loss: 0.5257 - val_acc: 0.7308\n",
            "Epoch 63/500\n",
            "575/575 [==============================] - 2s 3ms/step - loss: 0.4470 - acc: 0.7715 - val_loss: 0.5224 - val_acc: 0.7256\n",
            "Epoch 64/500\n",
            "575/575 [==============================] - 2s 3ms/step - loss: 0.4398 - acc: 0.7757 - val_loss: 0.5054 - val_acc: 0.7397\n",
            "Epoch 65/500\n",
            "575/575 [==============================] - 2s 3ms/step - loss: 0.4408 - acc: 0.7758 - val_loss: 0.5078 - val_acc: 0.7369\n",
            "Epoch 66/500\n",
            "575/575 [==============================] - 2s 3ms/step - loss: 0.4401 - acc: 0.7757 - val_loss: 0.5029 - val_acc: 0.7365\n",
            "Epoch 67/500\n",
            "575/575 [==============================] - 2s 3ms/step - loss: 0.4403 - acc: 0.7748 - val_loss: 0.5008 - val_acc: 0.7410\n",
            "Epoch 68/500\n",
            "575/575 [==============================] - 2s 3ms/step - loss: 0.4417 - acc: 0.7762 - val_loss: 0.4915 - val_acc: 0.7439\n",
            "Epoch 69/500\n",
            "575/575 [==============================] - 2s 3ms/step - loss: 0.4415 - acc: 0.7724 - val_loss: 0.5290 - val_acc: 0.7254\n",
            "Epoch 70/500\n",
            "575/575 [==============================] - 2s 3ms/step - loss: 0.4345 - acc: 0.7797 - val_loss: 0.5070 - val_acc: 0.7388\n",
            "Epoch 71/500\n",
            "575/575 [==============================] - 2s 3ms/step - loss: 0.4369 - acc: 0.7740 - val_loss: 0.5068 - val_acc: 0.7380\n",
            "Epoch 72/500\n",
            "575/575 [==============================] - 2s 3ms/step - loss: 0.4332 - acc: 0.7768 - val_loss: 0.5118 - val_acc: 0.7406\n",
            "Epoch 73/500\n",
            "575/575 [==============================] - 2s 3ms/step - loss: 0.4335 - acc: 0.7799 - val_loss: 0.4959 - val_acc: 0.7365\n",
            "Epoch 74/500\n",
            "575/575 [==============================] - 2s 3ms/step - loss: 0.4331 - acc: 0.7805 - val_loss: 0.4941 - val_acc: 0.7460\n",
            "Epoch 75/500\n",
            "575/575 [==============================] - 2s 3ms/step - loss: 0.4314 - acc: 0.7817 - val_loss: 0.5057 - val_acc: 0.7382\n",
            "Epoch 76/500\n",
            "575/575 [==============================] - 2s 3ms/step - loss: 0.4267 - acc: 0.7829 - val_loss: 0.5031 - val_acc: 0.7380\n",
            "Epoch 77/500\n",
            "575/575 [==============================] - 2s 3ms/step - loss: 0.4263 - acc: 0.7810 - val_loss: 0.4953 - val_acc: 0.7345\n",
            "Epoch 78/500\n",
            "575/575 [==============================] - 2s 3ms/step - loss: 0.4284 - acc: 0.7816 - val_loss: 0.4911 - val_acc: 0.7493\n",
            "Epoch 79/500\n",
            "575/575 [==============================] - 2s 3ms/step - loss: 0.4255 - acc: 0.7833 - val_loss: 0.5057 - val_acc: 0.7378\n",
            "Epoch 80/500\n",
            "575/575 [==============================] - 2s 3ms/step - loss: 0.4296 - acc: 0.7845 - val_loss: 0.5396 - val_acc: 0.7258\n",
            "Epoch 81/500\n",
            "575/575 [==============================] - 2s 3ms/step - loss: 0.4301 - acc: 0.7791 - val_loss: 0.4925 - val_acc: 0.7462\n",
            "Epoch 82/500\n",
            "575/575 [==============================] - 2s 3ms/step - loss: 0.4282 - acc: 0.7808 - val_loss: 0.4898 - val_acc: 0.7510\n",
            "Epoch 83/500\n",
            "575/575 [==============================] - 2s 3ms/step - loss: 0.4222 - acc: 0.7868 - val_loss: 0.4885 - val_acc: 0.7508\n",
            "Epoch 84/500\n",
            "575/575 [==============================] - 2s 3ms/step - loss: 0.4189 - acc: 0.7842 - val_loss: 0.5141 - val_acc: 0.7386\n",
            "Epoch 85/500\n",
            "575/575 [==============================] - 2s 3ms/step - loss: 0.4208 - acc: 0.7887 - val_loss: 0.4964 - val_acc: 0.7452\n",
            "Epoch 86/500\n",
            "575/575 [==============================] - 2s 3ms/step - loss: 0.4189 - acc: 0.7862 - val_loss: 0.4935 - val_acc: 0.7499\n",
            "Epoch 87/500\n",
            "575/575 [==============================] - 2s 3ms/step - loss: 0.4171 - acc: 0.7893 - val_loss: 0.5283 - val_acc: 0.7227\n",
            "Epoch 88/500\n",
            "575/575 [==============================] - 2s 3ms/step - loss: 0.4176 - acc: 0.7867 - val_loss: 0.5114 - val_acc: 0.7486\n",
            "Epoch 89/500\n",
            "575/575 [==============================] - 2s 3ms/step - loss: 0.4233 - acc: 0.7850 - val_loss: 0.5124 - val_acc: 0.7362\n",
            "Epoch 90/500\n",
            "575/575 [==============================] - 2s 3ms/step - loss: 0.4169 - acc: 0.7882 - val_loss: 0.5006 - val_acc: 0.7491\n",
            "Epoch 91/500\n",
            "575/575 [==============================] - 2s 3ms/step - loss: 0.4166 - acc: 0.7905 - val_loss: 0.4978 - val_acc: 0.7434\n",
            "Epoch 92/500\n",
            "575/575 [==============================] - 2s 3ms/step - loss: 0.4173 - acc: 0.7909 - val_loss: 0.4811 - val_acc: 0.7556\n",
            "Epoch 93/500\n",
            "575/575 [==============================] - 2s 3ms/step - loss: 0.4136 - acc: 0.7896 - val_loss: 0.4896 - val_acc: 0.7526\n",
            "Epoch 94/500\n",
            "575/575 [==============================] - 2s 3ms/step - loss: 0.4176 - acc: 0.7868 - val_loss: 0.4885 - val_acc: 0.7547\n",
            "Epoch 95/500\n",
            "575/575 [==============================] - 2s 3ms/step - loss: 0.4099 - acc: 0.7946 - val_loss: 0.5161 - val_acc: 0.7404\n",
            "Epoch 96/500\n",
            "575/575 [==============================] - 2s 3ms/step - loss: 0.4131 - acc: 0.7921 - val_loss: 0.4979 - val_acc: 0.7471\n",
            "Epoch 97/500\n",
            "575/575 [==============================] - 2s 3ms/step - loss: 0.4137 - acc: 0.7892 - val_loss: 0.4958 - val_acc: 0.7454\n",
            "Epoch 98/500\n",
            "575/575 [==============================] - 2s 3ms/step - loss: 0.4111 - acc: 0.7908 - val_loss: 0.4972 - val_acc: 0.7491\n",
            "Epoch 99/500\n",
            "575/575 [==============================] - 2s 3ms/step - loss: 0.4095 - acc: 0.7930 - val_loss: 0.5007 - val_acc: 0.7469\n",
            "Epoch 100/500\n",
            "575/575 [==============================] - 2s 3ms/step - loss: 0.4087 - acc: 0.7922 - val_loss: 0.5011 - val_acc: 0.7465\n",
            "Epoch 101/500\n",
            "575/575 [==============================] - 2s 3ms/step - loss: 0.4075 - acc: 0.7941 - val_loss: 0.4874 - val_acc: 0.7504\n",
            "Epoch 102/500\n",
            "575/575 [==============================] - 2s 3ms/step - loss: 0.4086 - acc: 0.7925 - val_loss: 0.4961 - val_acc: 0.7515\n",
            "[[3060  815]\n",
            " [1023 2761]]\n",
            "0.8479263111232355\n"
          ],
          "name": "stdout"
        }
      ]
    },
    {
      "cell_type": "code",
      "metadata": {
        "id": "wIJq3Iqv_pwW",
        "colab_type": "code",
        "colab": {
          "base_uri": "https://localhost:8080/",
          "height": 1000
        },
        "outputId": "7d787eb4-5dd0-4710-9c78-bbf1658b4ddc"
      },
      "source": [
        "!pip3 install catboost\n",
        "from catboost import CatBoostClassifier\n",
        "\n",
        "model = CatBoostClassifier(n_estimators=100)\n",
        "model.fit(X_train,y_train,verbose=True)\n",
        "\n",
        "predict_test = model.predict_proba(X_test)[:,1]\n",
        "\n",
        "print(roc_auc_score(y_test,predict_test))"
      ],
      "execution_count": 458,
      "outputs": [
        {
          "output_type": "stream",
          "text": [
            "Collecting catboost\n",
            "\u001b[?25l  Downloading https://files.pythonhosted.org/packages/b1/61/2b8106c8870601671d99ca94d8b8d180f2b740b7cdb95c930147508abcf9/catboost-0.23-cp36-none-manylinux1_x86_64.whl (64.7MB)\n",
            "\u001b[K     |████████████████████████████████| 64.8MB 49kB/s \n",
            "\u001b[?25hRequirement already satisfied: graphviz in /usr/local/lib/python3.6/dist-packages (from catboost) (0.10.1)\n",
            "Requirement already satisfied: plotly in /usr/local/lib/python3.6/dist-packages (from catboost) (4.4.1)\n",
            "Requirement already satisfied: numpy>=1.16.0 in /usr/local/lib/python3.6/dist-packages (from catboost) (1.18.4)\n",
            "Requirement already satisfied: matplotlib in /usr/local/lib/python3.6/dist-packages (from catboost) (3.2.1)\n",
            "Requirement already satisfied: scipy in /usr/local/lib/python3.6/dist-packages (from catboost) (1.4.1)\n",
            "Requirement already satisfied: six in /usr/local/lib/python3.6/dist-packages (from catboost) (1.12.0)\n",
            "Requirement already satisfied: pandas>=0.24.0 in /usr/local/lib/python3.6/dist-packages (from catboost) (1.0.3)\n",
            "Requirement already satisfied: retrying>=1.3.3 in /usr/local/lib/python3.6/dist-packages (from plotly->catboost) (1.3.3)\n",
            "Requirement already satisfied: cycler>=0.10 in /usr/local/lib/python3.6/dist-packages (from matplotlib->catboost) (0.10.0)\n",
            "Requirement already satisfied: pyparsing!=2.0.4,!=2.1.2,!=2.1.6,>=2.0.1 in /usr/local/lib/python3.6/dist-packages (from matplotlib->catboost) (2.4.7)\n",
            "Requirement already satisfied: python-dateutil>=2.1 in /usr/local/lib/python3.6/dist-packages (from matplotlib->catboost) (2.8.1)\n",
            "Requirement already satisfied: kiwisolver>=1.0.1 in /usr/local/lib/python3.6/dist-packages (from matplotlib->catboost) (1.2.0)\n",
            "Requirement already satisfied: pytz>=2017.2 in /usr/local/lib/python3.6/dist-packages (from pandas>=0.24.0->catboost) (2018.9)\n",
            "Installing collected packages: catboost\n",
            "Successfully installed catboost-0.23\n",
            "Learning rate set to 0.324482\n",
            "0:\tlearn: 0.5319181\ttotal: 68.7ms\tremaining: 6.8s\n",
            "1:\tlearn: 0.4415615\ttotal: 86.3ms\tremaining: 4.23s\n",
            "2:\tlearn: 0.4010206\ttotal: 104ms\tremaining: 3.35s\n",
            "3:\tlearn: 0.3562953\ttotal: 121ms\tremaining: 2.91s\n",
            "4:\tlearn: 0.3364077\ttotal: 139ms\tremaining: 2.64s\n",
            "5:\tlearn: 0.3269482\ttotal: 156ms\tremaining: 2.44s\n",
            "6:\tlearn: 0.3041974\ttotal: 174ms\tremaining: 2.31s\n",
            "7:\tlearn: 0.2963291\ttotal: 193ms\tremaining: 2.22s\n",
            "8:\tlearn: 0.2869074\ttotal: 217ms\tremaining: 2.19s\n",
            "9:\tlearn: 0.2841962\ttotal: 235ms\tremaining: 2.11s\n",
            "10:\tlearn: 0.2829273\ttotal: 252ms\tremaining: 2.04s\n",
            "11:\tlearn: 0.2803236\ttotal: 269ms\tremaining: 1.98s\n",
            "12:\tlearn: 0.2748646\ttotal: 287ms\tremaining: 1.92s\n",
            "13:\tlearn: 0.2718675\ttotal: 305ms\tremaining: 1.87s\n",
            "14:\tlearn: 0.2709721\ttotal: 321ms\tremaining: 1.82s\n",
            "15:\tlearn: 0.2678561\ttotal: 339ms\tremaining: 1.78s\n",
            "16:\tlearn: 0.2666281\ttotal: 357ms\tremaining: 1.74s\n",
            "17:\tlearn: 0.2650877\ttotal: 376ms\tremaining: 1.71s\n",
            "18:\tlearn: 0.2641170\ttotal: 393ms\tremaining: 1.67s\n",
            "19:\tlearn: 0.2622117\ttotal: 409ms\tremaining: 1.64s\n",
            "20:\tlearn: 0.2603462\ttotal: 430ms\tremaining: 1.62s\n",
            "21:\tlearn: 0.2592693\ttotal: 449ms\tremaining: 1.59s\n",
            "22:\tlearn: 0.2584616\ttotal: 468ms\tremaining: 1.57s\n",
            "23:\tlearn: 0.2577125\ttotal: 486ms\tremaining: 1.54s\n",
            "24:\tlearn: 0.2566563\ttotal: 506ms\tremaining: 1.52s\n",
            "25:\tlearn: 0.2558550\ttotal: 524ms\tremaining: 1.49s\n",
            "26:\tlearn: 0.2545438\ttotal: 542ms\tremaining: 1.47s\n",
            "27:\tlearn: 0.2540563\ttotal: 561ms\tremaining: 1.44s\n",
            "28:\tlearn: 0.2535126\ttotal: 584ms\tremaining: 1.43s\n",
            "29:\tlearn: 0.2529917\ttotal: 601ms\tremaining: 1.4s\n",
            "30:\tlearn: 0.2524079\ttotal: 617ms\tremaining: 1.37s\n",
            "31:\tlearn: 0.2508364\ttotal: 638ms\tremaining: 1.36s\n",
            "32:\tlearn: 0.2498846\ttotal: 663ms\tremaining: 1.34s\n",
            "33:\tlearn: 0.2488594\ttotal: 680ms\tremaining: 1.32s\n",
            "34:\tlearn: 0.2465507\ttotal: 701ms\tremaining: 1.3s\n",
            "35:\tlearn: 0.2447542\ttotal: 718ms\tremaining: 1.28s\n",
            "36:\tlearn: 0.2438694\ttotal: 736ms\tremaining: 1.25s\n",
            "37:\tlearn: 0.2430761\ttotal: 755ms\tremaining: 1.23s\n",
            "38:\tlearn: 0.2418841\ttotal: 773ms\tremaining: 1.21s\n",
            "39:\tlearn: 0.2399611\ttotal: 789ms\tremaining: 1.18s\n",
            "40:\tlearn: 0.2388559\ttotal: 807ms\tremaining: 1.16s\n",
            "41:\tlearn: 0.2377774\ttotal: 824ms\tremaining: 1.14s\n",
            "42:\tlearn: 0.2359566\ttotal: 845ms\tremaining: 1.12s\n",
            "43:\tlearn: 0.2347151\ttotal: 863ms\tremaining: 1.1s\n",
            "44:\tlearn: 0.2339967\ttotal: 882ms\tremaining: 1.08s\n",
            "45:\tlearn: 0.2332482\ttotal: 900ms\tremaining: 1.06s\n",
            "46:\tlearn: 0.2326866\ttotal: 919ms\tremaining: 1.04s\n",
            "47:\tlearn: 0.2318138\ttotal: 937ms\tremaining: 1.01s\n",
            "48:\tlearn: 0.2306883\ttotal: 954ms\tremaining: 993ms\n",
            "49:\tlearn: 0.2296619\ttotal: 973ms\tremaining: 973ms\n",
            "50:\tlearn: 0.2280356\ttotal: 992ms\tremaining: 953ms\n",
            "51:\tlearn: 0.2275607\ttotal: 1.01s\tremaining: 931ms\n",
            "52:\tlearn: 0.2269073\ttotal: 1.02s\tremaining: 910ms\n",
            "53:\tlearn: 0.2258256\ttotal: 1.04s\tremaining: 888ms\n",
            "54:\tlearn: 0.2252075\ttotal: 1.06s\tremaining: 871ms\n",
            "55:\tlearn: 0.2242369\ttotal: 1.08s\tremaining: 852ms\n",
            "56:\tlearn: 0.2236109\ttotal: 1.1s\tremaining: 832ms\n",
            "57:\tlearn: 0.2227916\ttotal: 1.12s\tremaining: 813ms\n",
            "58:\tlearn: 0.2222445\ttotal: 1.14s\tremaining: 793ms\n",
            "59:\tlearn: 0.2211915\ttotal: 1.16s\tremaining: 774ms\n",
            "60:\tlearn: 0.2206310\ttotal: 1.18s\tremaining: 754ms\n",
            "61:\tlearn: 0.2199778\ttotal: 1.2s\tremaining: 734ms\n",
            "62:\tlearn: 0.2192727\ttotal: 1.21s\tremaining: 713ms\n",
            "63:\tlearn: 0.2185880\ttotal: 1.23s\tremaining: 693ms\n",
            "64:\tlearn: 0.2174937\ttotal: 1.25s\tremaining: 674ms\n",
            "65:\tlearn: 0.2168525\ttotal: 1.27s\tremaining: 655ms\n",
            "66:\tlearn: 0.2162602\ttotal: 1.29s\tremaining: 636ms\n",
            "67:\tlearn: 0.2155068\ttotal: 1.31s\tremaining: 616ms\n",
            "68:\tlearn: 0.2148264\ttotal: 1.32s\tremaining: 596ms\n",
            "69:\tlearn: 0.2140404\ttotal: 1.34s\tremaining: 575ms\n",
            "70:\tlearn: 0.2133540\ttotal: 1.36s\tremaining: 556ms\n",
            "71:\tlearn: 0.2127742\ttotal: 1.38s\tremaining: 537ms\n",
            "72:\tlearn: 0.2118654\ttotal: 1.4s\tremaining: 517ms\n",
            "73:\tlearn: 0.2111947\ttotal: 1.41s\tremaining: 497ms\n",
            "74:\tlearn: 0.2102374\ttotal: 1.43s\tremaining: 477ms\n",
            "75:\tlearn: 0.2097241\ttotal: 1.45s\tremaining: 458ms\n",
            "76:\tlearn: 0.2093143\ttotal: 1.47s\tremaining: 438ms\n",
            "77:\tlearn: 0.2086098\ttotal: 1.49s\tremaining: 419ms\n",
            "78:\tlearn: 0.2080471\ttotal: 1.5s\tremaining: 400ms\n",
            "79:\tlearn: 0.2074098\ttotal: 1.52s\tremaining: 380ms\n",
            "80:\tlearn: 0.2068709\ttotal: 1.54s\tremaining: 361ms\n",
            "81:\tlearn: 0.2064407\ttotal: 1.55s\tremaining: 341ms\n",
            "82:\tlearn: 0.2060174\ttotal: 1.58s\tremaining: 323ms\n",
            "83:\tlearn: 0.2056424\ttotal: 1.6s\tremaining: 305ms\n",
            "84:\tlearn: 0.2049889\ttotal: 1.62s\tremaining: 286ms\n",
            "85:\tlearn: 0.2046772\ttotal: 1.64s\tremaining: 267ms\n",
            "86:\tlearn: 0.2040498\ttotal: 1.67s\tremaining: 249ms\n",
            "87:\tlearn: 0.2033340\ttotal: 1.69s\tremaining: 231ms\n",
            "88:\tlearn: 0.2027984\ttotal: 1.71s\tremaining: 211ms\n",
            "89:\tlearn: 0.2026065\ttotal: 1.73s\tremaining: 192ms\n",
            "90:\tlearn: 0.2020285\ttotal: 1.74s\tremaining: 173ms\n",
            "91:\tlearn: 0.2015085\ttotal: 1.76s\tremaining: 153ms\n",
            "92:\tlearn: 0.2010300\ttotal: 1.78s\tremaining: 134ms\n",
            "93:\tlearn: 0.2007845\ttotal: 1.8s\tremaining: 115ms\n",
            "94:\tlearn: 0.2002107\ttotal: 1.81s\tremaining: 95.5ms\n",
            "95:\tlearn: 0.1995570\ttotal: 1.83s\tremaining: 76.3ms\n",
            "96:\tlearn: 0.1989688\ttotal: 1.85s\tremaining: 57.2ms\n",
            "97:\tlearn: 0.1987068\ttotal: 1.87s\tremaining: 38.1ms\n",
            "98:\tlearn: 0.1982334\ttotal: 1.88s\tremaining: 19ms\n",
            "99:\tlearn: 0.1976523\ttotal: 1.91s\tremaining: 0us\n",
            "0.9427747732387641\n"
          ],
          "name": "stdout"
        }
      ]
    },
    {
      "cell_type": "markdown",
      "metadata": {
        "id": "RcFKHv0qxsO_",
        "colab_type": "text"
      },
      "source": [
        "##Test Data"
      ]
    },
    {
      "cell_type": "code",
      "metadata": {
        "id": "P3WRqRuIxLmi",
        "colab_type": "code",
        "outputId": "69b433f0-3a3d-4319-f673-b0b8fb3d3cda",
        "colab": {
          "base_uri": "https://localhost:8080/",
          "height": 224
        }
      },
      "source": [
        "dft  = pd.read_csv('/content/drive/My Drive/test_1.csv')\n",
        "dft.head()"
      ],
      "execution_count": 459,
      "outputs": [
        {
          "output_type": "execute_result",
          "data": {
            "text/html": [
              "<div>\n",
              "<style scoped>\n",
              "    .dataframe tbody tr th:only-of-type {\n",
              "        vertical-align: middle;\n",
              "    }\n",
              "\n",
              "    .dataframe tbody tr th {\n",
              "        vertical-align: top;\n",
              "    }\n",
              "\n",
              "    .dataframe thead th {\n",
              "        text-align: right;\n",
              "    }\n",
              "</style>\n",
              "<table border=\"1\" class=\"dataframe\">\n",
              "  <thead>\n",
              "    <tr style=\"text-align: right;\">\n",
              "      <th></th>\n",
              "      <th>enrollee_id</th>\n",
              "      <th>city</th>\n",
              "      <th>city_development_index</th>\n",
              "      <th>gender</th>\n",
              "      <th>relevent_experience</th>\n",
              "      <th>enrolled_university</th>\n",
              "      <th>education_level</th>\n",
              "      <th>major_discipline</th>\n",
              "      <th>experience</th>\n",
              "      <th>company_size</th>\n",
              "      <th>company_type</th>\n",
              "      <th>last_new_job</th>\n",
              "      <th>training_hours</th>\n",
              "    </tr>\n",
              "  </thead>\n",
              "  <tbody>\n",
              "    <tr>\n",
              "      <th>0</th>\n",
              "      <td>16548</td>\n",
              "      <td>city_33</td>\n",
              "      <td>0.448</td>\n",
              "      <td>NaN</td>\n",
              "      <td>No relevent experience</td>\n",
              "      <td>Full time course</td>\n",
              "      <td>Graduate</td>\n",
              "      <td>STEM</td>\n",
              "      <td>&lt;1</td>\n",
              "      <td>1000-4999</td>\n",
              "      <td>Public Sector</td>\n",
              "      <td>NaN</td>\n",
              "      <td>15</td>\n",
              "    </tr>\n",
              "    <tr>\n",
              "      <th>1</th>\n",
              "      <td>12036</td>\n",
              "      <td>city_28</td>\n",
              "      <td>0.939</td>\n",
              "      <td>Male</td>\n",
              "      <td>No relevent experience</td>\n",
              "      <td>no_enrollment</td>\n",
              "      <td>Graduate</td>\n",
              "      <td>STEM</td>\n",
              "      <td>&gt;20</td>\n",
              "      <td>50-99</td>\n",
              "      <td>Pvt Ltd</td>\n",
              "      <td>1</td>\n",
              "      <td>94</td>\n",
              "    </tr>\n",
              "    <tr>\n",
              "      <th>2</th>\n",
              "      <td>11061</td>\n",
              "      <td>city_103</td>\n",
              "      <td>0.920</td>\n",
              "      <td>Male</td>\n",
              "      <td>No relevent experience</td>\n",
              "      <td>Full time course</td>\n",
              "      <td>Graduate</td>\n",
              "      <td>STEM</td>\n",
              "      <td>3</td>\n",
              "      <td>NaN</td>\n",
              "      <td>NaN</td>\n",
              "      <td>1</td>\n",
              "      <td>17</td>\n",
              "    </tr>\n",
              "    <tr>\n",
              "      <th>3</th>\n",
              "      <td>5032</td>\n",
              "      <td>city_104</td>\n",
              "      <td>0.924</td>\n",
              "      <td>Male</td>\n",
              "      <td>No relevent experience</td>\n",
              "      <td>no_enrollment</td>\n",
              "      <td>Phd</td>\n",
              "      <td>STEM</td>\n",
              "      <td>&gt;20</td>\n",
              "      <td>50-99</td>\n",
              "      <td>Pvt Ltd</td>\n",
              "      <td>2</td>\n",
              "      <td>76</td>\n",
              "    </tr>\n",
              "    <tr>\n",
              "      <th>4</th>\n",
              "      <td>17599</td>\n",
              "      <td>city_77</td>\n",
              "      <td>0.830</td>\n",
              "      <td>Male</td>\n",
              "      <td>Has relevent experience</td>\n",
              "      <td>no_enrollment</td>\n",
              "      <td>Graduate</td>\n",
              "      <td>STEM</td>\n",
              "      <td>6</td>\n",
              "      <td>&lt;10</td>\n",
              "      <td>Pvt Ltd</td>\n",
              "      <td>2</td>\n",
              "      <td>65</td>\n",
              "    </tr>\n",
              "  </tbody>\n",
              "</table>\n",
              "</div>"
            ],
            "text/plain": [
              "   enrollee_id      city  ...  last_new_job training_hours\n",
              "0        16548   city_33  ...           NaN             15\n",
              "1        12036   city_28  ...             1             94\n",
              "2        11061  city_103  ...             1             17\n",
              "3         5032  city_104  ...             2             76\n",
              "4        17599   city_77  ...             2             65\n",
              "\n",
              "[5 rows x 13 columns]"
            ]
          },
          "metadata": {
            "tags": []
          },
          "execution_count": 459
        }
      ]
    },
    {
      "cell_type": "code",
      "metadata": {
        "id": "wUI4cqUGxyd-",
        "colab_type": "code",
        "outputId": "afb43bf1-e740-4622-a4da-4073d80ef6ce",
        "colab": {
          "base_uri": "https://localhost:8080/",
          "height": 255
        }
      },
      "source": [
        "dft.isnull().sum()"
      ],
      "execution_count": 460,
      "outputs": [
        {
          "output_type": "execute_result",
          "data": {
            "text/plain": [
              "enrollee_id                  0\n",
              "city                         0\n",
              "city_development_index       0\n",
              "gender                    3388\n",
              "relevent_experience          0\n",
              "enrolled_university        279\n",
              "education_level            395\n",
              "major_discipline          2393\n",
              "experience                  44\n",
              "company_size              4051\n",
              "company_type              4330\n",
              "last_new_job               304\n",
              "training_hours               0\n",
              "dtype: int64"
            ]
          },
          "metadata": {
            "tags": []
          },
          "execution_count": 460
        }
      ]
    },
    {
      "cell_type": "code",
      "metadata": {
        "id": "y3BJGViWyGWk",
        "colab_type": "code",
        "colab": {}
      },
      "source": [
        "dft['experience'] = dft['experience'].apply(lambda x : check(x))"
      ],
      "execution_count": 0,
      "outputs": []
    },
    {
      "cell_type": "code",
      "metadata": {
        "id": "oTx9BHvuyagK",
        "colab_type": "code",
        "colab": {}
      },
      "source": [
        "dft['experience'] = dft['experience'].apply(lambda x : convertint(x))"
      ],
      "execution_count": 0,
      "outputs": []
    },
    {
      "cell_type": "code",
      "metadata": {
        "id": "6SUAAuenyxJv",
        "colab_type": "code",
        "colab": {}
      },
      "source": [
        "tempdf = dft[['relevent_experience','experience']]"
      ],
      "execution_count": 0,
      "outputs": []
    },
    {
      "cell_type": "code",
      "metadata": {
        "id": "7jnAlyLVy4C2",
        "colab_type": "code",
        "colab": {}
      },
      "source": [
        "tempdf = tempdf.dropna()\n",
        "\n",
        "dft['experience'] = dft.apply(lambda x : update(x['experience'],x['relevent_experience']), axis= 1)"
      ],
      "execution_count": 0,
      "outputs": []
    },
    {
      "cell_type": "code",
      "metadata": {
        "id": "v91_D898zpEt",
        "colab_type": "code",
        "outputId": "b746dc17-3c01-4893-8455-8014d83edd59",
        "colab": {
          "base_uri": "https://localhost:8080/",
          "height": 255
        }
      },
      "source": [
        "dft.isnull().sum()"
      ],
      "execution_count": 465,
      "outputs": [
        {
          "output_type": "execute_result",
          "data": {
            "text/plain": [
              "enrollee_id                  0\n",
              "city                         0\n",
              "city_development_index       0\n",
              "gender                    3388\n",
              "relevent_experience          0\n",
              "enrolled_university        279\n",
              "education_level            395\n",
              "major_discipline          2393\n",
              "experience                   0\n",
              "company_size              4051\n",
              "company_type              4330\n",
              "last_new_job               304\n",
              "training_hours               0\n",
              "dtype: int64"
            ]
          },
          "metadata": {
            "tags": []
          },
          "execution_count": 465
        }
      ]
    },
    {
      "cell_type": "code",
      "metadata": {
        "id": "fgDf47_3ztuF",
        "colab_type": "code",
        "outputId": "624f6ecd-ea04-473c-f047-263ac940494f",
        "colab": {
          "base_uri": "https://localhost:8080/",
          "height": 102
        }
      },
      "source": [
        "appenddf = pd.get_dummies(dft['relevent_experience'])\n",
        "appenddf = appenddf[['Has relevent experience']]\n",
        "appenddf.head()\n",
        "\n",
        "dft = pd.concat([dft.drop('relevent_experience',axis=1),appenddf], axis=1)\n",
        "\n",
        "dft.head()\n",
        "\n",
        "dft['last_new_job'] = dft['last_new_job'].apply(lambda x : check1(x))\n",
        "\n",
        "dft['last_new_job'] = dft['last_new_job'].apply(lambda x : convertint1(x))\n",
        "\n",
        "X = dft[['city_development_index','experience','Has relevent experience','last_new_job']]\n",
        "X.head()\n",
        "\n",
        "nullindexlist=X[X['last_new_job'].isnull()].index.tolist()\n",
        "\n",
        "pd.DataFrame(X.iloc[nullindexlist[0]]).transpose()\n",
        "predictdf = pd.DataFrame(columns=['city_development_index','experience', 'Has relevent experience','last_new_job'])\n",
        "\n",
        "for num in nullindexlist:\n",
        "    predictdf = pd.concat([predictdf,pd.DataFrame(X.iloc[num]).transpose()],sort=False)\n",
        "\n",
        "predictdf.drop('last_new_job',axis=1,inplace=True)\n",
        "\n",
        "newX = X.dropna()\n",
        "\n",
        "variable = newX.drop('last_new_job',axis=1)\n",
        "target = newX['last_new_job']\n",
        "\n",
        "lr = LinearRegression()\n",
        "\n",
        "lr.fit(variable,target)\n",
        "\n",
        "\n",
        "ans = pd.DataFrame(lr.predict(predictdf),columns=['last_new_job'])\n",
        "\n",
        "for i,num in enumerate(nullindexlist):\n",
        "    dft['last_new_job'].iloc[num] = ans.iloc[i].values"
      ],
      "execution_count": 466,
      "outputs": [
        {
          "output_type": "stream",
          "text": [
            "/usr/local/lib/python3.6/dist-packages/pandas/core/indexing.py:671: SettingWithCopyWarning: \n",
            "A value is trying to be set on a copy of a slice from a DataFrame\n",
            "\n",
            "See the caveats in the documentation: https://pandas.pydata.org/pandas-docs/stable/user_guide/indexing.html#returning-a-view-versus-a-copy\n",
            "  self._setitem_with_indexer(indexer, value)\n"
          ],
          "name": "stderr"
        }
      ]
    },
    {
      "cell_type": "code",
      "metadata": {
        "id": "jyekJbrl1Vrx",
        "colab_type": "code",
        "outputId": "648e5e2b-4e87-41a4-9a88-93f5d608d43e",
        "colab": {
          "base_uri": "https://localhost:8080/",
          "height": 255
        }
      },
      "source": [
        "dft.isnull().sum()"
      ],
      "execution_count": 467,
      "outputs": [
        {
          "output_type": "execute_result",
          "data": {
            "text/plain": [
              "enrollee_id                   0\n",
              "city                          0\n",
              "city_development_index        0\n",
              "gender                     3388\n",
              "enrolled_university         279\n",
              "education_level             395\n",
              "major_discipline           2393\n",
              "experience                    0\n",
              "company_size               4051\n",
              "company_type               4330\n",
              "last_new_job                  0\n",
              "training_hours                0\n",
              "Has relevent experience       0\n",
              "dtype: int64"
            ]
          },
          "metadata": {
            "tags": []
          },
          "execution_count": 467
        }
      ]
    },
    {
      "cell_type": "code",
      "metadata": {
        "id": "tqDtJziz1swl",
        "colab_type": "code",
        "colab": {}
      },
      "source": [
        "tempdf = dft[['enrolled_university','education_level']]\n",
        "\n",
        "tempdf = tempdf.dropna()\n",
        "\n",
        "appenddf = pd.get_dummies(tempdf['enrolled_university'])\n",
        "appenddf.head()\n",
        "\n",
        "tempdf = pd.concat([tempdf.drop('enrolled_university',axis=1),appenddf], axis=1)\n",
        "\n",
        "appenddf = pd.get_dummies(tempdf['education_level'])\n",
        "appenddf.head()\n",
        "\n",
        "tempdf = pd.concat([tempdf.drop('education_level',axis=1),appenddf], axis=1)\n",
        "\n",
        "dft['enrolled_university'] = dft.apply(lambda x : puttype(x['enrolled_university'],x['education_level']),axis=1)\n",
        "dft['education_level'] = dft.apply(lambda x : putedulevel(x['education_level'],x['enrolled_university']),axis=1)"
      ],
      "execution_count": 0,
      "outputs": []
    },
    {
      "cell_type": "code",
      "metadata": {
        "id": "ECkqb7so2e4b",
        "colab_type": "code",
        "outputId": "6cb64d8a-d79d-40bd-c1db-b83729a533b7",
        "colab": {
          "base_uri": "https://localhost:8080/",
          "height": 255
        }
      },
      "source": [
        "dft.isnull().sum()"
      ],
      "execution_count": 469,
      "outputs": [
        {
          "output_type": "execute_result",
          "data": {
            "text/plain": [
              "enrollee_id                   0\n",
              "city                          0\n",
              "city_development_index        0\n",
              "gender                     3388\n",
              "enrolled_university           0\n",
              "education_level               0\n",
              "major_discipline           2393\n",
              "experience                    0\n",
              "company_size               4051\n",
              "company_type               4330\n",
              "last_new_job                  0\n",
              "training_hours                0\n",
              "Has relevent experience       0\n",
              "dtype: int64"
            ]
          },
          "metadata": {
            "tags": []
          },
          "execution_count": 469
        }
      ]
    },
    {
      "cell_type": "code",
      "metadata": {
        "id": "AOTn0o6C2jXt",
        "colab_type": "code",
        "colab": {}
      },
      "source": [
        "dft['major_discipline'] = dft.apply(lambda x : applymajor(x['education_level'],x['major_discipline']),axis=1)"
      ],
      "execution_count": 0,
      "outputs": []
    },
    {
      "cell_type": "code",
      "metadata": {
        "id": "KEjrMF8t28uu",
        "colab_type": "code",
        "outputId": "e8ac6a4a-4857-40af-845e-9387fe79b49e",
        "colab": {
          "base_uri": "https://localhost:8080/",
          "height": 255
        }
      },
      "source": [
        "dft.isnull().sum()"
      ],
      "execution_count": 471,
      "outputs": [
        {
          "output_type": "execute_result",
          "data": {
            "text/plain": [
              "enrollee_id                   0\n",
              "city                          0\n",
              "city_development_index        0\n",
              "gender                     3388\n",
              "enrolled_university           0\n",
              "education_level               0\n",
              "major_discipline              0\n",
              "experience                    0\n",
              "company_size               4051\n",
              "company_type               4330\n",
              "last_new_job                  0\n",
              "training_hours                0\n",
              "Has relevent experience       0\n",
              "dtype: int64"
            ]
          },
          "metadata": {
            "tags": []
          },
          "execution_count": 471
        }
      ]
    },
    {
      "cell_type": "code",
      "metadata": {
        "id": "NDEe4F7e2_dJ",
        "colab_type": "code",
        "colab": {}
      },
      "source": [
        "dft['company_type'] = dft.apply(lambda x : applycomtype(x['company_type']),axis=1)\n",
        "dft['company_size'] = dft.apply(lambda x : applycomsize(x['company_type'], x['company_size']),axis=1)"
      ],
      "execution_count": 0,
      "outputs": []
    },
    {
      "cell_type": "code",
      "metadata": {
        "id": "AXb0h3Vv3eIw",
        "colab_type": "code",
        "outputId": "b2a43983-1d0b-4a08-a039-b754d6bd3663",
        "colab": {
          "base_uri": "https://localhost:8080/",
          "height": 255
        }
      },
      "source": [
        "dft.isnull().sum()"
      ],
      "execution_count": 473,
      "outputs": [
        {
          "output_type": "execute_result",
          "data": {
            "text/plain": [
              "enrollee_id                   0\n",
              "city                          0\n",
              "city_development_index        0\n",
              "gender                     3388\n",
              "enrolled_university           0\n",
              "education_level               0\n",
              "major_discipline              0\n",
              "experience                    0\n",
              "company_size                  0\n",
              "company_type                  0\n",
              "last_new_job                  0\n",
              "training_hours                0\n",
              "Has relevent experience       0\n",
              "dtype: int64"
            ]
          },
          "metadata": {
            "tags": []
          },
          "execution_count": 473
        }
      ]
    },
    {
      "cell_type": "code",
      "metadata": {
        "id": "0Szn_gy63hNM",
        "colab_type": "code",
        "outputId": "40822623-1136-4efe-c307-ed9a11b9c7a2",
        "colab": {
          "base_uri": "https://localhost:8080/",
          "height": 258
        }
      },
      "source": [
        "appenddf = pd.get_dummies(dft['enrolled_university'])\n",
        "\n",
        "\n",
        "dft = pd.concat([dft.drop('enrolled_university',axis=1),appenddf], axis=1)\n",
        "\n",
        "dft.head()\n",
        "\n",
        "dft.drop('Full time course',inplace = True,axis=1)\n",
        "appenddf = pd.get_dummies(dft['education_level'],drop_first=True)\n",
        "\n",
        "\n",
        "dft = pd.concat([dft.drop('education_level',axis=1),appenddf], axis=1)\n",
        "\n",
        "dft.head()\n",
        "\n",
        "appenddf = pd.get_dummies(dft['major_discipline'],drop_first=True)\n",
        "\n",
        "\n",
        "dft = pd.concat([dft.drop('major_discipline',axis=1),appenddf], axis=1)\n",
        "\n",
        "dft.head()\n",
        "\n",
        "appenddf = pd.get_dummies(dft['company_size'],drop_first=True)\n",
        "\n",
        "\n",
        "dft = pd.concat([dft.drop('company_size',axis=1),appenddf], axis=1)\n",
        "\n",
        "dft.head()\n",
        "\n",
        "appenddf = pd.get_dummies(dft['company_type'],drop_first=True)\n",
        "\n",
        "\n",
        "dft = pd.concat([dft.drop('company_type',axis=1),appenddf], axis=1)\n",
        "\n",
        "dft.head()"
      ],
      "execution_count": 474,
      "outputs": [
        {
          "output_type": "execute_result",
          "data": {
            "text/html": [
              "<div>\n",
              "<style scoped>\n",
              "    .dataframe tbody tr th:only-of-type {\n",
              "        vertical-align: middle;\n",
              "    }\n",
              "\n",
              "    .dataframe tbody tr th {\n",
              "        vertical-align: top;\n",
              "    }\n",
              "\n",
              "    .dataframe thead th {\n",
              "        text-align: right;\n",
              "    }\n",
              "</style>\n",
              "<table border=\"1\" class=\"dataframe\">\n",
              "  <thead>\n",
              "    <tr style=\"text-align: right;\">\n",
              "      <th></th>\n",
              "      <th>enrollee_id</th>\n",
              "      <th>city</th>\n",
              "      <th>city_development_index</th>\n",
              "      <th>gender</th>\n",
              "      <th>experience</th>\n",
              "      <th>last_new_job</th>\n",
              "      <th>training_hours</th>\n",
              "      <th>Has relevent experience</th>\n",
              "      <th>Part time course</th>\n",
              "      <th>no_enrollment</th>\n",
              "      <th>High School</th>\n",
              "      <th>Masters</th>\n",
              "      <th>Phd</th>\n",
              "      <th>Primary School</th>\n",
              "      <th>Business Degree</th>\n",
              "      <th>Humanities</th>\n",
              "      <th>No Major</th>\n",
              "      <th>Other</th>\n",
              "      <th>STEM</th>\n",
              "      <th>100-500</th>\n",
              "      <th>1000-4999</th>\n",
              "      <th>10000+</th>\n",
              "      <th>50-99</th>\n",
              "      <th>500-999</th>\n",
              "      <th>5000-9999</th>\n",
              "      <th>&lt;10</th>\n",
              "      <th>Funded Startup</th>\n",
              "      <th>NGO</th>\n",
              "      <th>Other</th>\n",
              "      <th>Public Sector</th>\n",
              "      <th>Pvt Ltd</th>\n",
              "    </tr>\n",
              "  </thead>\n",
              "  <tbody>\n",
              "    <tr>\n",
              "      <th>0</th>\n",
              "      <td>16548</td>\n",
              "      <td>city_33</td>\n",
              "      <td>0.448</td>\n",
              "      <td>NaN</td>\n",
              "      <td>0.0</td>\n",
              "      <td>0.441725</td>\n",
              "      <td>15</td>\n",
              "      <td>0</td>\n",
              "      <td>0</td>\n",
              "      <td>0</td>\n",
              "      <td>0</td>\n",
              "      <td>0</td>\n",
              "      <td>0</td>\n",
              "      <td>0</td>\n",
              "      <td>0</td>\n",
              "      <td>0</td>\n",
              "      <td>0</td>\n",
              "      <td>0</td>\n",
              "      <td>1</td>\n",
              "      <td>0</td>\n",
              "      <td>1</td>\n",
              "      <td>0</td>\n",
              "      <td>0</td>\n",
              "      <td>0</td>\n",
              "      <td>0</td>\n",
              "      <td>0</td>\n",
              "      <td>0</td>\n",
              "      <td>0</td>\n",
              "      <td>0</td>\n",
              "      <td>1</td>\n",
              "      <td>0</td>\n",
              "    </tr>\n",
              "    <tr>\n",
              "      <th>1</th>\n",
              "      <td>12036</td>\n",
              "      <td>city_28</td>\n",
              "      <td>0.939</td>\n",
              "      <td>Male</td>\n",
              "      <td>20.0</td>\n",
              "      <td>1.000000</td>\n",
              "      <td>94</td>\n",
              "      <td>0</td>\n",
              "      <td>0</td>\n",
              "      <td>1</td>\n",
              "      <td>0</td>\n",
              "      <td>0</td>\n",
              "      <td>0</td>\n",
              "      <td>0</td>\n",
              "      <td>0</td>\n",
              "      <td>0</td>\n",
              "      <td>0</td>\n",
              "      <td>0</td>\n",
              "      <td>1</td>\n",
              "      <td>0</td>\n",
              "      <td>0</td>\n",
              "      <td>0</td>\n",
              "      <td>1</td>\n",
              "      <td>0</td>\n",
              "      <td>0</td>\n",
              "      <td>0</td>\n",
              "      <td>0</td>\n",
              "      <td>0</td>\n",
              "      <td>0</td>\n",
              "      <td>0</td>\n",
              "      <td>1</td>\n",
              "    </tr>\n",
              "    <tr>\n",
              "      <th>2</th>\n",
              "      <td>11061</td>\n",
              "      <td>city_103</td>\n",
              "      <td>0.920</td>\n",
              "      <td>Male</td>\n",
              "      <td>3.0</td>\n",
              "      <td>1.000000</td>\n",
              "      <td>17</td>\n",
              "      <td>0</td>\n",
              "      <td>0</td>\n",
              "      <td>0</td>\n",
              "      <td>0</td>\n",
              "      <td>0</td>\n",
              "      <td>0</td>\n",
              "      <td>0</td>\n",
              "      <td>0</td>\n",
              "      <td>0</td>\n",
              "      <td>0</td>\n",
              "      <td>0</td>\n",
              "      <td>1</td>\n",
              "      <td>0</td>\n",
              "      <td>1</td>\n",
              "      <td>0</td>\n",
              "      <td>0</td>\n",
              "      <td>0</td>\n",
              "      <td>0</td>\n",
              "      <td>0</td>\n",
              "      <td>0</td>\n",
              "      <td>0</td>\n",
              "      <td>0</td>\n",
              "      <td>0</td>\n",
              "      <td>1</td>\n",
              "    </tr>\n",
              "    <tr>\n",
              "      <th>3</th>\n",
              "      <td>5032</td>\n",
              "      <td>city_104</td>\n",
              "      <td>0.924</td>\n",
              "      <td>Male</td>\n",
              "      <td>20.0</td>\n",
              "      <td>2.000000</td>\n",
              "      <td>76</td>\n",
              "      <td>0</td>\n",
              "      <td>0</td>\n",
              "      <td>1</td>\n",
              "      <td>0</td>\n",
              "      <td>0</td>\n",
              "      <td>1</td>\n",
              "      <td>0</td>\n",
              "      <td>0</td>\n",
              "      <td>0</td>\n",
              "      <td>0</td>\n",
              "      <td>0</td>\n",
              "      <td>1</td>\n",
              "      <td>0</td>\n",
              "      <td>0</td>\n",
              "      <td>0</td>\n",
              "      <td>1</td>\n",
              "      <td>0</td>\n",
              "      <td>0</td>\n",
              "      <td>0</td>\n",
              "      <td>0</td>\n",
              "      <td>0</td>\n",
              "      <td>0</td>\n",
              "      <td>0</td>\n",
              "      <td>1</td>\n",
              "    </tr>\n",
              "    <tr>\n",
              "      <th>4</th>\n",
              "      <td>17599</td>\n",
              "      <td>city_77</td>\n",
              "      <td>0.830</td>\n",
              "      <td>Male</td>\n",
              "      <td>6.0</td>\n",
              "      <td>2.000000</td>\n",
              "      <td>65</td>\n",
              "      <td>1</td>\n",
              "      <td>0</td>\n",
              "      <td>1</td>\n",
              "      <td>0</td>\n",
              "      <td>0</td>\n",
              "      <td>0</td>\n",
              "      <td>0</td>\n",
              "      <td>0</td>\n",
              "      <td>0</td>\n",
              "      <td>0</td>\n",
              "      <td>0</td>\n",
              "      <td>1</td>\n",
              "      <td>0</td>\n",
              "      <td>0</td>\n",
              "      <td>0</td>\n",
              "      <td>0</td>\n",
              "      <td>0</td>\n",
              "      <td>0</td>\n",
              "      <td>1</td>\n",
              "      <td>0</td>\n",
              "      <td>0</td>\n",
              "      <td>0</td>\n",
              "      <td>0</td>\n",
              "      <td>1</td>\n",
              "    </tr>\n",
              "  </tbody>\n",
              "</table>\n",
              "</div>"
            ],
            "text/plain": [
              "   enrollee_id      city  city_development_index  ... Other  Public Sector  Pvt Ltd\n",
              "0        16548   city_33                   0.448  ...     0              1        0\n",
              "1        12036   city_28                   0.939  ...     0              0        1\n",
              "2        11061  city_103                   0.920  ...     0              0        1\n",
              "3         5032  city_104                   0.924  ...     0              0        1\n",
              "4        17599   city_77                   0.830  ...     0              0        1\n",
              "\n",
              "[5 rows x 31 columns]"
            ]
          },
          "metadata": {
            "tags": []
          },
          "execution_count": 474
        }
      ]
    },
    {
      "cell_type": "code",
      "metadata": {
        "id": "d1qNvXGU4Vgf",
        "colab_type": "code",
        "colab": {}
      },
      "source": [
        "X = dft.drop(['gender','city','enrollee_id'],axis=1)\n",
        "\n",
        "X.columns = ['city_development_index', 'experience', 'last_new_job',\n",
        "       'training_hours', 'Has relevent experience', 'Part time course',\n",
        "       'no_enrollment', 'High School', 'Masters', 'Phd', 'Primary School',\n",
        "       'Business Degree', 'Humanities', 'No Major', 'Otherstudies', 'STEM', '100-500',\n",
        "       '1000-4999', '10000+', '50-99', '500-999', '5000-9999', '10',\n",
        "       'Funded Startup', 'NGO', 'Other', 'Public Sector', 'Pvt Ltd']\n"
      ],
      "execution_count": 0,
      "outputs": []
    },
    {
      "cell_type": "code",
      "metadata": {
        "id": "JunQK9MN5O7o",
        "colab_type": "code",
        "colab": {}
      },
      "source": [
        ""
      ],
      "execution_count": 0,
      "outputs": []
    },
    {
      "cell_type": "code",
      "metadata": {
        "id": "vvTIsVeV7NvM",
        "colab_type": "code",
        "colab": {}
      },
      "source": [
        ""
      ],
      "execution_count": 0,
      "outputs": []
    },
    {
      "cell_type": "markdown",
      "metadata": {
        "id": "02R7sFdc7Or-",
        "colab_type": "text"
      },
      "source": [
        "##Making Submission file"
      ]
    },
    {
      "cell_type": "code",
      "metadata": {
        "id": "kh1mZox57Sao",
        "colab_type": "code",
        "colab": {}
      },
      "source": [
        "predictionstest = rfc.predict_proba(X)[:,1]#predict with models"
      ],
      "execution_count": 0,
      "outputs": []
    },
    {
      "cell_type": "code",
      "metadata": {
        "id": "7L7criZ57RMg",
        "colab_type": "code",
        "colab": {}
      },
      "source": [
        "submission = pd.DataFrame(predictionstest,columns=['target'])\n",
        "\n",
        "finalsubmission = pd.concat([dft[['enrollee_id']],submission],axis=1)\n",
        "\n",
        "finalsubmission.to_csv('/content/drive/My Drive/submission_rfc.csv',index=False)"
      ],
      "execution_count": 0,
      "outputs": []
    },
    {
      "cell_type": "code",
      "metadata": {
        "id": "l-F4A-kcESKD",
        "colab_type": "code",
        "colab": {}
      },
      "source": [
        "predictionstest = model.predict_proba(X)[:,1]"
      ],
      "execution_count": 0,
      "outputs": []
    },
    {
      "cell_type": "code",
      "metadata": {
        "id": "n5eI8uTzEk3S",
        "colab_type": "code",
        "colab": {}
      },
      "source": [
        "submission = pd.DataFrame(predictionstest,columns=['target'])\n",
        "\n",
        "finalsubmission = pd.concat([dft[['enrollee_id']],submission],axis=1)\n",
        "\n",
        "finalsubmission.to_csv('/content/drive/My Drive/submission_cb.csv',index=False)"
      ],
      "execution_count": 0,
      "outputs": []
    },
    {
      "cell_type": "code",
      "metadata": {
        "id": "-Kw2C6jQE-9N",
        "colab_type": "code",
        "colab": {}
      },
      "source": [
        "predictionstest = NN_model.predict(X)"
      ],
      "execution_count": 0,
      "outputs": []
    },
    {
      "cell_type": "code",
      "metadata": {
        "id": "-lNs9l1KFXeL",
        "colab_type": "code",
        "colab": {}
      },
      "source": [
        "submission = pd.DataFrame(predictionstest,columns=['target'])\n",
        "\n",
        "finalsubmission = pd.concat([dft[['enrollee_id']],submission],axis=1)\n",
        "\n",
        "finalsubmission.to_csv('/content/drive/My Drive/submission_nn.csv',index=False)"
      ],
      "execution_count": 0,
      "outputs": []
    },
    {
      "cell_type": "code",
      "metadata": {
        "id": "OjgT3rlmGIhh",
        "colab_type": "code",
        "colab": {
          "base_uri": "https://localhost:8080/",
          "height": 204
        },
        "outputId": "61789805-63f4-469a-fa04-8b47e25308a0"
      },
      "source": [
        "dff = pd.read_csv('/content/drive/My Drive/submission_nn.csv')\n",
        "dff.head()"
      ],
      "execution_count": 484,
      "outputs": [
        {
          "output_type": "execute_result",
          "data": {
            "text/html": [
              "<div>\n",
              "<style scoped>\n",
              "    .dataframe tbody tr th:only-of-type {\n",
              "        vertical-align: middle;\n",
              "    }\n",
              "\n",
              "    .dataframe tbody tr th {\n",
              "        vertical-align: top;\n",
              "    }\n",
              "\n",
              "    .dataframe thead th {\n",
              "        text-align: right;\n",
              "    }\n",
              "</style>\n",
              "<table border=\"1\" class=\"dataframe\">\n",
              "  <thead>\n",
              "    <tr style=\"text-align: right;\">\n",
              "      <th></th>\n",
              "      <th>enrollee_id</th>\n",
              "      <th>target</th>\n",
              "    </tr>\n",
              "  </thead>\n",
              "  <tbody>\n",
              "    <tr>\n",
              "      <th>0</th>\n",
              "      <td>16548</td>\n",
              "      <td>0.870258</td>\n",
              "    </tr>\n",
              "    <tr>\n",
              "      <th>1</th>\n",
              "      <td>12036</td>\n",
              "      <td>0.132636</td>\n",
              "    </tr>\n",
              "    <tr>\n",
              "      <th>2</th>\n",
              "      <td>11061</td>\n",
              "      <td>0.634482</td>\n",
              "    </tr>\n",
              "    <tr>\n",
              "      <th>3</th>\n",
              "      <td>5032</td>\n",
              "      <td>0.044356</td>\n",
              "    </tr>\n",
              "    <tr>\n",
              "      <th>4</th>\n",
              "      <td>17599</td>\n",
              "      <td>0.762552</td>\n",
              "    </tr>\n",
              "  </tbody>\n",
              "</table>\n",
              "</div>"
            ],
            "text/plain": [
              "   enrollee_id    target\n",
              "0        16548  0.870258\n",
              "1        12036  0.132636\n",
              "2        11061  0.634482\n",
              "3         5032  0.044356\n",
              "4        17599  0.762552"
            ]
          },
          "metadata": {
            "tags": []
          },
          "execution_count": 484
        }
      ]
    },
    {
      "cell_type": "code",
      "metadata": {
        "id": "iKMjVVGKG7By",
        "colab_type": "code",
        "colab": {
          "base_uri": "https://localhost:8080/",
          "height": 204
        },
        "outputId": "75705bde-9bc5-4fc2-a419-53423b3f508d"
      },
      "source": [
        "dff = pd.read_csv('/content/drive/My Drive/submission_cb.csv')\n",
        "dff.head()"
      ],
      "execution_count": 485,
      "outputs": [
        {
          "output_type": "execute_result",
          "data": {
            "text/html": [
              "<div>\n",
              "<style scoped>\n",
              "    .dataframe tbody tr th:only-of-type {\n",
              "        vertical-align: middle;\n",
              "    }\n",
              "\n",
              "    .dataframe tbody tr th {\n",
              "        vertical-align: top;\n",
              "    }\n",
              "\n",
              "    .dataframe thead th {\n",
              "        text-align: right;\n",
              "    }\n",
              "</style>\n",
              "<table border=\"1\" class=\"dataframe\">\n",
              "  <thead>\n",
              "    <tr style=\"text-align: right;\">\n",
              "      <th></th>\n",
              "      <th>enrollee_id</th>\n",
              "      <th>target</th>\n",
              "    </tr>\n",
              "  </thead>\n",
              "  <tbody>\n",
              "    <tr>\n",
              "      <th>0</th>\n",
              "      <td>16548</td>\n",
              "      <td>0.993493</td>\n",
              "    </tr>\n",
              "    <tr>\n",
              "      <th>1</th>\n",
              "      <td>12036</td>\n",
              "      <td>0.091968</td>\n",
              "    </tr>\n",
              "    <tr>\n",
              "      <th>2</th>\n",
              "      <td>11061</td>\n",
              "      <td>0.439262</td>\n",
              "    </tr>\n",
              "    <tr>\n",
              "      <th>3</th>\n",
              "      <td>5032</td>\n",
              "      <td>0.062683</td>\n",
              "    </tr>\n",
              "    <tr>\n",
              "      <th>4</th>\n",
              "      <td>17599</td>\n",
              "      <td>0.204151</td>\n",
              "    </tr>\n",
              "  </tbody>\n",
              "</table>\n",
              "</div>"
            ],
            "text/plain": [
              "   enrollee_id    target\n",
              "0        16548  0.993493\n",
              "1        12036  0.091968\n",
              "2        11061  0.439262\n",
              "3         5032  0.062683\n",
              "4        17599  0.204151"
            ]
          },
          "metadata": {
            "tags": []
          },
          "execution_count": 485
        }
      ]
    },
    {
      "cell_type": "code",
      "metadata": {
        "id": "vyR8oAqpHjlM",
        "colab_type": "code",
        "colab": {
          "base_uri": "https://localhost:8080/",
          "height": 204
        },
        "outputId": "60247c8f-4cf8-4571-e2d9-5bfd14e77665"
      },
      "source": [
        "dff = pd.read_csv('/content/drive/My Drive/submission_rfc.csv')\n",
        "dff.head()"
      ],
      "execution_count": 489,
      "outputs": [
        {
          "output_type": "execute_result",
          "data": {
            "text/html": [
              "<div>\n",
              "<style scoped>\n",
              "    .dataframe tbody tr th:only-of-type {\n",
              "        vertical-align: middle;\n",
              "    }\n",
              "\n",
              "    .dataframe tbody tr th {\n",
              "        vertical-align: top;\n",
              "    }\n",
              "\n",
              "    .dataframe thead th {\n",
              "        text-align: right;\n",
              "    }\n",
              "</style>\n",
              "<table border=\"1\" class=\"dataframe\">\n",
              "  <thead>\n",
              "    <tr style=\"text-align: right;\">\n",
              "      <th></th>\n",
              "      <th>enrollee_id</th>\n",
              "      <th>target</th>\n",
              "    </tr>\n",
              "  </thead>\n",
              "  <tbody>\n",
              "    <tr>\n",
              "      <th>0</th>\n",
              "      <td>16548</td>\n",
              "      <td>0.636654</td>\n",
              "    </tr>\n",
              "    <tr>\n",
              "      <th>1</th>\n",
              "      <td>12036</td>\n",
              "      <td>0.053869</td>\n",
              "    </tr>\n",
              "    <tr>\n",
              "      <th>2</th>\n",
              "      <td>11061</td>\n",
              "      <td>0.368143</td>\n",
              "    </tr>\n",
              "    <tr>\n",
              "      <th>3</th>\n",
              "      <td>5032</td>\n",
              "      <td>0.081416</td>\n",
              "    </tr>\n",
              "    <tr>\n",
              "      <th>4</th>\n",
              "      <td>17599</td>\n",
              "      <td>0.271489</td>\n",
              "    </tr>\n",
              "  </tbody>\n",
              "</table>\n",
              "</div>"
            ],
            "text/plain": [
              "   enrollee_id    target\n",
              "0        16548  0.636654\n",
              "1        12036  0.053869\n",
              "2        11061  0.368143\n",
              "3         5032  0.081416\n",
              "4        17599  0.271489"
            ]
          },
          "metadata": {
            "tags": []
          },
          "execution_count": 489
        }
      ]
    },
    {
      "cell_type": "code",
      "metadata": {
        "id": "jyiWUn6THnPA",
        "colab_type": "code",
        "colab": {}
      },
      "source": [
        ""
      ],
      "execution_count": 0,
      "outputs": []
    }
  ]
}