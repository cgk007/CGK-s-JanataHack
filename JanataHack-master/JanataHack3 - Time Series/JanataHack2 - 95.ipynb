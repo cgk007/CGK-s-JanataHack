{
 "cells": [
  {
   "cell_type": "code",
   "execution_count": 1,
   "metadata": {},
   "outputs": [],
   "source": [
    "import pandas as pd\n",
    "import seaborn as sns\n",
    "import numpy as np\n",
    "import matplotlib.pyplot as plt\n",
    "\n",
    "%matplotlib inline"
   ]
  },
  {
   "cell_type": "code",
   "execution_count": 2,
   "metadata": {},
   "outputs": [],
   "source": [
    "newdf = pd.read_csv('train.csv')\n",
    "\n",
    "appendvr2newdf = pd.get_dummies(newdf['var2'],drop_first=True)\n",
    "newdf = pd.concat([newdf.drop('var2',axis=1),appendvr2newdf], axis=1)\n",
    "\n",
    "newdf['datetime'] = pd.to_datetime(newdf['datetime'])\n",
    "\n",
    "newdf['day'] = newdf['datetime'].dt.day\n",
    "newdf['month'] = newdf['datetime'].dt.month\n",
    "newdf['year'] = newdf['datetime'].dt.year\n",
    "newdf['time'] = newdf['datetime'].dt.time\n",
    "\n",
    "newdf.drop('datetime',axis = 1,inplace = True)\n",
    "\n",
    "newdf['hour'] = newdf['time'].apply(lambda x : x.hour)\n",
    "newdf.drop('time',axis =1 , inplace = True)"
   ]
  },
  {
   "cell_type": "code",
   "execution_count": 3,
   "metadata": {},
   "outputs": [],
   "source": [
    "appendvr2newdf = pd.get_dummies(newdf['month'],drop_first=True)\n",
    "newdf = pd.concat([newdf.drop('month',axis=1),appendvr2newdf], axis=1)\n",
    "\n",
    "appendvr2newdf = pd.get_dummies(newdf['year'],drop_first=True)\n",
    "newdf = pd.concat([newdf.drop('year',axis=1),appendvr2newdf], axis=1)\n",
    "\n",
    "appendvr2newdf = pd.get_dummies(newdf['hour'],drop_first=True)\n",
    "newdf = pd.concat([newdf.drop('hour',axis=1),appendvr2newdf], axis=1)"
   ]
  },
  {
   "cell_type": "code",
   "execution_count": 4,
   "metadata": {},
   "outputs": [],
   "source": [
    "from sklearn.model_selection import train_test_split\n",
    "\n",
    "X = newdf.drop(['ID','electricity_consumption'],axis = 1)\n",
    "y = newdf['electricity_consumption']\n",
    "\n",
    "X_train, X_test, y_train, y_test = train_test_split(X, y, test_size=0.3, random_state=42)"
   ]
  },
  {
   "cell_type": "code",
   "execution_count": 5,
   "metadata": {},
   "outputs": [
    {
     "data": {
      "text/plain": [
       "LinearRegression(copy_X=True, fit_intercept=True, n_jobs=None, normalize=False)"
      ]
     },
     "execution_count": 5,
     "metadata": {},
     "output_type": "execute_result"
    }
   ],
   "source": [
    "from sklearn.linear_model import LinearRegression\n",
    "\n",
    "lr = LinearRegression()\n",
    "lr.fit(X_train,y_train)"
   ]
  },
  {
   "cell_type": "code",
   "execution_count": 6,
   "metadata": {},
   "outputs": [],
   "source": [
    "predictions2 = lr.predict(X_test)"
   ]
  },
  {
   "cell_type": "code",
   "execution_count": 13,
   "metadata": {
    "scrolled": true
   },
   "outputs": [
    {
     "data": {
      "text/plain": [
       "array([296.16036481, 136.78438623, 311.59790205, ..., 261.27672671,\n",
       "       255.94586047, 318.44369973])"
      ]
     },
     "execution_count": 13,
     "metadata": {},
     "output_type": "execute_result"
    }
   ],
   "source": [
    "predictions2"
   ]
  },
  {
   "cell_type": "code",
   "execution_count": 7,
   "metadata": {
    "scrolled": true
   },
   "outputs": [
    {
     "name": "stdout",
     "output_type": "stream",
     "text": [
      "RMSE: 85.48759091034422\n"
     ]
    }
   ],
   "source": [
    "from sklearn import metrics\n",
    "print('RMSE:', np.sqrt(metrics.mean_squared_error(y_test, predictions2)))"
   ]
  },
  {
   "cell_type": "markdown",
   "metadata": {},
   "source": [
    "# For Test data"
   ]
  },
  {
   "cell_type": "code",
   "execution_count": 8,
   "metadata": {},
   "outputs": [],
   "source": [
    "testdf = pd.read_csv('test.csv')\n",
    "\n",
    "appendvr2testdf = pd.get_dummies(testdf['var2'],drop_first=True)\n",
    "testdf = pd.concat([testdf.drop('var2',axis=1),appendvr2testdf], axis=1)\n",
    "\n",
    "testdf['datetime'] = pd.to_datetime(testdf['datetime'])\n",
    "\n",
    "testdf['day'] = testdf['datetime'].dt.day\n",
    "testdf['month'] = testdf['datetime'].dt.month\n",
    "testdf['year'] = testdf['datetime'].dt.year\n",
    "testdf['time'] = testdf['datetime'].dt.time\n",
    "\n",
    "testdf.drop('datetime',axis = 1,inplace = True)\n",
    "\n",
    "testdf['hour'] = testdf['time'].apply(lambda x : x.hour)\n",
    "testdf.drop('time',axis =1 , inplace = True)\n",
    "\n",
    "\n",
    "appendvr2testdf = pd.get_dummies(testdf['month'],drop_first=True)\n",
    "testdf = pd.concat([testdf.drop('month',axis=1),appendvr2testdf], axis=1)\n",
    "appendvr2testdf = pd.get_dummies(testdf['year'],drop_first=True)\n",
    "testdf = pd.concat([testdf.drop('year',axis=1),appendvr2testdf], axis=1)\n",
    "appendvr2testdf = pd.get_dummies(testdf['hour'],drop_first=True)\n",
    "testdf = pd.concat([testdf.drop('hour',axis=1),appendvr2testdf], axis=1)"
   ]
  },
  {
   "cell_type": "code",
   "execution_count": 9,
   "metadata": {},
   "outputs": [],
   "source": [
    "X_test = testdf.drop(['ID'],axis = 1)"
   ]
  },
  {
   "cell_type": "code",
   "execution_count": 10,
   "metadata": {},
   "outputs": [],
   "source": [
    "predictionstest = lr.predict(X_test)"
   ]
  },
  {
   "cell_type": "code",
   "execution_count": 11,
   "metadata": {},
   "outputs": [],
   "source": [
    "submission = pd.DataFrame(predictionstest,columns=['electricity_consumption'])\n",
    "\n",
    "finalsubmission = pd.concat([testdf[['ID']],submission],axis=1)\n",
    "\n",
    "finalsubmission.to_csv('submission2.csv',index=False)"
   ]
  },
  {
   "cell_type": "code",
   "execution_count": 12,
   "metadata": {},
   "outputs": [
    {
     "ename": "AttributeError",
     "evalue": "'LinearRegression' object has no attribute 'evaluate'",
     "output_type": "error",
     "traceback": [
      "\u001b[1;31m---------------------------------------------------------------------------\u001b[0m",
      "\u001b[1;31mAttributeError\u001b[0m                            Traceback (most recent call last)",
      "\u001b[1;32m<ipython-input-12-27f7286ef3fd>\u001b[0m in \u001b[0;36m<module>\u001b[1;34m\u001b[0m\n\u001b[1;32m----> 1\u001b[1;33m \u001b[0mlr\u001b[0m\u001b[1;33m.\u001b[0m\u001b[0mevaluate\u001b[0m\u001b[1;33m(\u001b[0m\u001b[0mX_test\u001b[0m\u001b[1;33m,\u001b[0m\u001b[0my_test\u001b[0m\u001b[1;33m)\u001b[0m\u001b[1;33m\u001b[0m\u001b[1;33m\u001b[0m\u001b[0m\n\u001b[0m",
      "\u001b[1;31mAttributeError\u001b[0m: 'LinearRegression' object has no attribute 'evaluate'"
     ]
    }
   ],
   "source": [
    "lr.evaluate(X_test,y_test)"
   ]
  },
  {
   "cell_type": "code",
   "execution_count": null,
   "metadata": {},
   "outputs": [],
   "source": []
  }
 ],
 "metadata": {
  "kernelspec": {
   "display_name": "Python 3",
   "language": "python",
   "name": "python3"
  },
  "language_info": {
   "codemirror_mode": {
    "name": "ipython",
    "version": 3
   },
   "file_extension": ".py",
   "mimetype": "text/x-python",
   "name": "python",
   "nbconvert_exporter": "python",
   "pygments_lexer": "ipython3",
   "version": "3.7.4"
  }
 },
 "nbformat": 4,
 "nbformat_minor": 2
}
