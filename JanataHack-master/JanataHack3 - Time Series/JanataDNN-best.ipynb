{
  "nbformat": 4,
  "nbformat_minor": 0,
  "metadata": {
    "colab": {
      "name": "Janatanew.ipynb",
      "provenance": []
    },
    "kernelspec": {
      "name": "python3",
      "display_name": "Python 3"
    },
    "accelerator": "GPU"
  },
  "cells": [
    {
      "cell_type": "code",
      "metadata": {
        "id": "FOGvXuf6G-YX",
        "colab_type": "code",
        "colab": {
          "base_uri": "https://localhost:8080/",
          "height": 121
        },
        "outputId": "54703136-7c6c-4987-a22e-27ad460171e3"
      },
      "source": [
        "from google.colab import drive\n",
        "drive.mount('/content/drive')"
      ],
      "execution_count": 1,
      "outputs": [
        {
          "output_type": "stream",
          "text": [
            "Go to this URL in a browser: https://accounts.google.com/o/oauth2/auth?client_id=947318989803-6bn6qk8qdgf4n4g3pfee6491hc0brc4i.apps.googleusercontent.com&redirect_uri=urn%3aietf%3awg%3aoauth%3a2.0%3aoob&response_type=code&scope=email%20https%3a%2f%2fwww.googleapis.com%2fauth%2fdocs.test%20https%3a%2f%2fwww.googleapis.com%2fauth%2fdrive%20https%3a%2f%2fwww.googleapis.com%2fauth%2fdrive.photos.readonly%20https%3a%2f%2fwww.googleapis.com%2fauth%2fpeopleapi.readonly\n",
            "\n",
            "Enter your authorization code:\n",
            "··········\n",
            "Mounted at /content/drive\n"
          ],
          "name": "stdout"
        }
      ]
    },
    {
      "cell_type": "code",
      "metadata": {
        "id": "oeOpynfRHGwb",
        "colab_type": "code",
        "colab": {
          "base_uri": "https://localhost:8080/",
          "height": 134
        },
        "outputId": "262a713f-1583-48e1-8786-5b48506ce3cb"
      },
      "source": [
        "import os\n",
        "os.getcwd()\n",
        "os.chdir('drive')\n",
        "os.chdir('My Drive')\n",
        "os.chdir('Janata')\n",
        "os.listdir()\n",
        "# os.listdir()"
      ],
      "execution_count": 3,
      "outputs": [
        {
          "output_type": "execute_result",
          "data": {
            "text/plain": [
              "['train.csv',\n",
              " 'test.csv',\n",
              " 'submission2.csv',\n",
              " 'submission3.csv',\n",
              " 'submission4.csv',\n",
              " 'submission5.csv',\n",
              " 'Janata_DNN.ipynb']"
            ]
          },
          "metadata": {
            "tags": []
          },
          "execution_count": 3
        }
      ]
    },
    {
      "cell_type": "code",
      "metadata": {
        "id": "3ydKsTbhHHTn",
        "colab_type": "code",
        "colab": {
          "base_uri": "https://localhost:8080/",
          "height": 70
        },
        "outputId": "64460621-6325-4bf5-8e24-b22a132ebc96"
      },
      "source": [
        "import pandas as pd\n",
        "import seaborn as sns\n",
        "import numpy as np\n",
        "import matplotlib.pyplot as plt\n",
        "\n",
        "%matplotlib inline\n",
        "\n",
        "newdf = pd.read_csv('train.csv')\n",
        "\n",
        "appendvr2newdf = pd.get_dummies(newdf['var2'],drop_first=True)\n",
        "newdf = pd.concat([newdf.drop('var2',axis=1),appendvr2newdf], axis=1)\n",
        "\n",
        "newdf['datetime'] = pd.to_datetime(newdf['datetime'])\n",
        "\n",
        "newdf['day'] = newdf['datetime'].dt.day\n",
        "newdf['month'] = newdf['datetime'].dt.month\n",
        "newdf['year'] = newdf['datetime'].dt.year\n",
        "newdf['time'] = newdf['datetime'].dt.time\n",
        "\n",
        "newdf.drop('datetime',axis = 1,inplace = True)\n",
        "\n",
        "newdf['hour'] = newdf['time'].apply(lambda x : x.hour)\n",
        "newdf.drop('time',axis =1 , inplace = True)\n",
        "\n",
        "appendvr2newdf = pd.get_dummies(newdf['month'],drop_first=True)\n",
        "newdf = pd.concat([newdf.drop('month',axis=1),appendvr2newdf], axis=1)\n",
        "\n",
        "appendvr2newdf = pd.get_dummies(newdf['year'],drop_first=True)\n",
        "newdf = pd.concat([newdf.drop('year',axis=1),appendvr2newdf], axis=1)\n",
        "\n",
        "appendvr2newdf = pd.get_dummies(newdf['hour'],drop_first=True)\n",
        "newdf = pd.concat([newdf.drop('hour',axis=1),appendvr2newdf], axis=1)"
      ],
      "execution_count": 4,
      "outputs": [
        {
          "output_type": "stream",
          "text": [
            "/usr/local/lib/python3.6/dist-packages/statsmodels/tools/_testing.py:19: FutureWarning: pandas.util.testing is deprecated. Use the functions in the public API at pandas.testing instead.\n",
            "  import pandas.util.testing as tm\n"
          ],
          "name": "stderr"
        }
      ]
    },
    {
      "cell_type": "code",
      "metadata": {
        "id": "WqYpZvBNHTgg",
        "colab_type": "code",
        "colab": {}
      },
      "source": [
        "from sklearn.model_selection import train_test_split\n",
        "\n",
        "X = newdf.drop(['ID','electricity_consumption'],axis = 1)\n",
        "y = newdf['electricity_consumption']\n",
        "\n",
        "X_train, X_test, y_train, y_test = train_test_split(X, y, test_size=0.3)"
      ],
      "execution_count": 0,
      "outputs": []
    },
    {
      "cell_type": "code",
      "metadata": {
        "id": "Oeq99vaGHV6r",
        "colab_type": "code",
        "colab": {}
      },
      "source": [
        "from sklearn.preprocessing import StandardScaler\n",
        "\n",
        "scaler = StandardScaler()\n",
        "X_train= scaler.fit_transform(X_train)\n",
        "X_test = scaler.transform(X_test)"
      ],
      "execution_count": 0,
      "outputs": []
    },
    {
      "cell_type": "code",
      "metadata": {
        "id": "1eUULAUiHX6B",
        "colab_type": "code",
        "colab": {}
      },
      "source": [
        "from tensorflow.keras.models import Sequential\n",
        "from tensorflow.keras.layers import Dense, Activation\n",
        "from tensorflow.keras.optimizers import Adam"
      ],
      "execution_count": 0,
      "outputs": []
    },
    {
      "cell_type": "code",
      "metadata": {
        "id": "NKvT5YSYHZ3V",
        "colab_type": "code",
        "colab": {
          "base_uri": "https://localhost:8080/",
          "height": 319
        },
        "outputId": "0c84fa6a-b772-483a-ab32-b34ebf61618d"
      },
      "source": [
        "NN_model = Sequential()\n",
        "\n",
        "# The Input Layer :\n",
        "NN_model.add(Dense(45, activation='relu',input_dim = X_train.shape[1]))\n",
        "\n",
        "# The Hidden Layers :\n",
        "NN_model.add(Dense(45, kernel_initializer='normal',activation='relu'))\n",
        "NN_model.add(Dense(45, kernel_initializer='normal',activation='relu'))\n",
        "NN_model.add(Dense(45, kernel_initializer='normal',activation='relu'))\n",
        "\n",
        "# The Output Layer :\n",
        "NN_model.add(Dense(1, kernel_initializer='normal',activation='linear'))\n",
        "\n",
        "# Compile the network :\n",
        "NN_model.compile(loss='mean_absolute_error', optimizer='adam', metrics=['mean_absolute_error'])\n",
        "NN_model.summary()"
      ],
      "execution_count": 8,
      "outputs": [
        {
          "output_type": "stream",
          "text": [
            "Model: \"sequential\"\n",
            "_________________________________________________________________\n",
            "Layer (type)                 Output Shape              Param #   \n",
            "=================================================================\n",
            "dense (Dense)                (None, 45)                2070      \n",
            "_________________________________________________________________\n",
            "dense_1 (Dense)              (None, 45)                2070      \n",
            "_________________________________________________________________\n",
            "dense_2 (Dense)              (None, 45)                2070      \n",
            "_________________________________________________________________\n",
            "dense_3 (Dense)              (None, 45)                2070      \n",
            "_________________________________________________________________\n",
            "dense_4 (Dense)              (None, 1)                 46        \n",
            "=================================================================\n",
            "Total params: 8,326\n",
            "Trainable params: 8,326\n",
            "Non-trainable params: 0\n",
            "_________________________________________________________________\n"
          ],
          "name": "stdout"
        }
      ]
    },
    {
      "cell_type": "code",
      "metadata": {
        "id": "5pwCe9kCHcCb",
        "colab_type": "code",
        "colab": {
          "base_uri": "https://localhost:8080/",
          "height": 1000
        },
        "outputId": "ab67b3fb-3898-4ef6-d115-065cd2833a12"
      },
      "source": [
        "import tensorflow as tf\n",
        "\n",
        "es = tf.keras.callbacks.EarlyStopping(monitor = 'val_loss', patience =10, mode='min')\n",
        "\n",
        "NN_model.fit(X_train, y_train, epochs=500, batch_size=32, validation_split = 0.2, callbacks=[es])"
      ],
      "execution_count": 9,
      "outputs": [
        {
          "output_type": "stream",
          "text": [
            "Epoch 1/500\n",
            "464/464 [==============================] - 1s 3ms/step - loss: 106.9160 - mean_absolute_error: 106.9441 - val_loss: 66.0519 - val_mean_absolute_error: 66.0515\n",
            "Epoch 2/500\n",
            "464/464 [==============================] - 1s 2ms/step - loss: 64.0145 - mean_absolute_error: 64.0108 - val_loss: 61.2080 - val_mean_absolute_error: 61.2055\n",
            "Epoch 3/500\n",
            "464/464 [==============================] - 1s 2ms/step - loss: 60.2585 - mean_absolute_error: 60.2643 - val_loss: 58.9071 - val_mean_absolute_error: 58.9037\n",
            "Epoch 4/500\n",
            "464/464 [==============================] - 1s 2ms/step - loss: 57.8901 - mean_absolute_error: 57.8675 - val_loss: 57.6404 - val_mean_absolute_error: 57.6368\n",
            "Epoch 5/500\n",
            "464/464 [==============================] - 1s 2ms/step - loss: 56.6786 - mean_absolute_error: 56.6806 - val_loss: 56.3848 - val_mean_absolute_error: 56.3793\n",
            "Epoch 6/500\n",
            "464/464 [==============================] - 1s 3ms/step - loss: 55.4068 - mean_absolute_error: 55.3864 - val_loss: 56.3474 - val_mean_absolute_error: 56.3421\n",
            "Epoch 7/500\n",
            "464/464 [==============================] - 1s 2ms/step - loss: 54.6543 - mean_absolute_error: 54.6719 - val_loss: 55.5232 - val_mean_absolute_error: 55.5161\n",
            "Epoch 8/500\n",
            "464/464 [==============================] - 1s 2ms/step - loss: 53.7797 - mean_absolute_error: 53.7928 - val_loss: 54.5435 - val_mean_absolute_error: 54.5361\n",
            "Epoch 9/500\n",
            "464/464 [==============================] - 1s 2ms/step - loss: 53.2778 - mean_absolute_error: 53.2851 - val_loss: 55.4604 - val_mean_absolute_error: 55.4549\n",
            "Epoch 10/500\n",
            "464/464 [==============================] - 1s 2ms/step - loss: 52.6424 - mean_absolute_error: 52.6478 - val_loss: 53.6173 - val_mean_absolute_error: 53.6090\n",
            "Epoch 11/500\n",
            "464/464 [==============================] - 1s 2ms/step - loss: 52.1832 - mean_absolute_error: 52.1735 - val_loss: 53.4776 - val_mean_absolute_error: 53.4723\n",
            "Epoch 12/500\n",
            "464/464 [==============================] - 1s 3ms/step - loss: 51.7481 - mean_absolute_error: 51.7483 - val_loss: 53.3917 - val_mean_absolute_error: 53.3827\n",
            "Epoch 13/500\n",
            "464/464 [==============================] - 1s 2ms/step - loss: 51.2842 - mean_absolute_error: 51.2918 - val_loss: 53.4538 - val_mean_absolute_error: 53.4466\n",
            "Epoch 14/500\n",
            "464/464 [==============================] - 1s 2ms/step - loss: 51.1017 - mean_absolute_error: 51.1120 - val_loss: 52.6778 - val_mean_absolute_error: 52.6683\n",
            "Epoch 15/500\n",
            "464/464 [==============================] - 1s 2ms/step - loss: 50.8140 - mean_absolute_error: 50.8127 - val_loss: 52.4991 - val_mean_absolute_error: 52.4916\n",
            "Epoch 16/500\n",
            "464/464 [==============================] - 1s 2ms/step - loss: 50.4768 - mean_absolute_error: 50.4819 - val_loss: 52.5517 - val_mean_absolute_error: 52.5423\n",
            "Epoch 17/500\n",
            "464/464 [==============================] - 1s 2ms/step - loss: 50.3077 - mean_absolute_error: 50.2919 - val_loss: 52.4406 - val_mean_absolute_error: 52.4339\n",
            "Epoch 18/500\n",
            "464/464 [==============================] - 1s 2ms/step - loss: 50.3129 - mean_absolute_error: 50.2919 - val_loss: 52.3506 - val_mean_absolute_error: 52.3407\n",
            "Epoch 19/500\n",
            "464/464 [==============================] - 1s 2ms/step - loss: 50.0223 - mean_absolute_error: 50.0130 - val_loss: 52.1690 - val_mean_absolute_error: 52.1580\n",
            "Epoch 20/500\n",
            "464/464 [==============================] - 1s 3ms/step - loss: 49.7750 - mean_absolute_error: 49.7776 - val_loss: 52.1750 - val_mean_absolute_error: 52.1659\n",
            "Epoch 21/500\n",
            "464/464 [==============================] - 1s 2ms/step - loss: 49.6712 - mean_absolute_error: 49.6665 - val_loss: 51.9078 - val_mean_absolute_error: 51.8980\n",
            "Epoch 22/500\n",
            "464/464 [==============================] - 1s 2ms/step - loss: 49.5998 - mean_absolute_error: 49.6023 - val_loss: 52.3602 - val_mean_absolute_error: 52.3521\n",
            "Epoch 23/500\n",
            "464/464 [==============================] - 1s 2ms/step - loss: 49.4074 - mean_absolute_error: 49.4111 - val_loss: 51.8902 - val_mean_absolute_error: 51.8785\n",
            "Epoch 24/500\n",
            "464/464 [==============================] - 1s 2ms/step - loss: 49.2621 - mean_absolute_error: 49.2687 - val_loss: 52.2874 - val_mean_absolute_error: 52.2764\n",
            "Epoch 25/500\n",
            "464/464 [==============================] - 1s 2ms/step - loss: 48.9145 - mean_absolute_error: 48.9242 - val_loss: 52.1238 - val_mean_absolute_error: 52.1137\n",
            "Epoch 26/500\n",
            "464/464 [==============================] - 1s 2ms/step - loss: 48.8559 - mean_absolute_error: 48.8643 - val_loss: 51.4872 - val_mean_absolute_error: 51.4777\n",
            "Epoch 27/500\n",
            "464/464 [==============================] - 1s 2ms/step - loss: 48.8624 - mean_absolute_error: 48.8579 - val_loss: 51.6869 - val_mean_absolute_error: 51.6748\n",
            "Epoch 28/500\n",
            "464/464 [==============================] - 1s 2ms/step - loss: 48.7392 - mean_absolute_error: 48.7405 - val_loss: 51.5211 - val_mean_absolute_error: 51.5085\n",
            "Epoch 29/500\n",
            "464/464 [==============================] - 1s 3ms/step - loss: 48.6497 - mean_absolute_error: 48.6349 - val_loss: 51.5359 - val_mean_absolute_error: 51.5246\n",
            "Epoch 30/500\n",
            "464/464 [==============================] - 1s 3ms/step - loss: 48.5299 - mean_absolute_error: 48.5268 - val_loss: 51.1805 - val_mean_absolute_error: 51.1713\n",
            "Epoch 31/500\n",
            "464/464 [==============================] - 1s 2ms/step - loss: 48.4611 - mean_absolute_error: 48.4734 - val_loss: 52.0151 - val_mean_absolute_error: 52.0049\n",
            "Epoch 32/500\n",
            "464/464 [==============================] - 1s 2ms/step - loss: 48.3704 - mean_absolute_error: 48.3700 - val_loss: 51.3169 - val_mean_absolute_error: 51.3064\n",
            "Epoch 33/500\n",
            "464/464 [==============================] - 1s 2ms/step - loss: 48.5587 - mean_absolute_error: 48.5558 - val_loss: 51.2501 - val_mean_absolute_error: 51.2387\n",
            "Epoch 34/500\n",
            "464/464 [==============================] - 1s 2ms/step - loss: 48.3011 - mean_absolute_error: 48.2923 - val_loss: 51.2579 - val_mean_absolute_error: 51.2456\n",
            "Epoch 35/500\n",
            "464/464 [==============================] - 1s 2ms/step - loss: 48.1166 - mean_absolute_error: 48.1143 - val_loss: 52.0628 - val_mean_absolute_error: 52.0479\n",
            "Epoch 36/500\n",
            "464/464 [==============================] - 1s 2ms/step - loss: 48.0404 - mean_absolute_error: 48.0432 - val_loss: 51.3185 - val_mean_absolute_error: 51.3055\n",
            "Epoch 37/500\n",
            "464/464 [==============================] - 1s 2ms/step - loss: 47.8878 - mean_absolute_error: 47.8781 - val_loss: 51.6411 - val_mean_absolute_error: 51.6326\n",
            "Epoch 38/500\n",
            "464/464 [==============================] - 1s 2ms/step - loss: 47.8479 - mean_absolute_error: 47.8479 - val_loss: 51.2760 - val_mean_absolute_error: 51.2672\n",
            "Epoch 39/500\n",
            "464/464 [==============================] - 1s 2ms/step - loss: 47.7054 - mean_absolute_error: 47.6969 - val_loss: 51.7794 - val_mean_absolute_error: 51.7679\n",
            "Epoch 40/500\n",
            "464/464 [==============================] - 1s 3ms/step - loss: 47.7343 - mean_absolute_error: 47.7263 - val_loss: 51.6133 - val_mean_absolute_error: 51.5994\n"
          ],
          "name": "stdout"
        },
        {
          "output_type": "execute_result",
          "data": {
            "text/plain": [
              "<tensorflow.python.keras.callbacks.History at 0x7f37001c4748>"
            ]
          },
          "metadata": {
            "tags": []
          },
          "execution_count": 9
        }
      ]
    },
    {
      "cell_type": "code",
      "metadata": {
        "id": "iuYUws3dHehn",
        "colab_type": "code",
        "colab": {
          "base_uri": "https://localhost:8080/",
          "height": 34
        },
        "outputId": "97d3c1c7-2fe4-448f-fc2d-75307cfd5596"
      },
      "source": [
        "predictions = NN_model.predict(X_test)\n",
        "\n",
        "from sklearn import metrics\n",
        "print('RMSE:', np.sqrt(metrics.mean_squared_error(y_test, predictions)))"
      ],
      "execution_count": 10,
      "outputs": [
        {
          "output_type": "stream",
          "text": [
            "RMSE: 74.2114688128947\n"
          ],
          "name": "stdout"
        }
      ]
    },
    {
      "cell_type": "code",
      "metadata": {
        "id": "M01sUJr6Hhbx",
        "colab_type": "code",
        "colab": {}
      },
      "source": [
        "testdf = pd.read_csv('test.csv')\n",
        "\n",
        "appendvr2testdf = pd.get_dummies(testdf['var2'],drop_first=True)\n",
        "testdf = pd.concat([testdf.drop('var2',axis=1),appendvr2testdf], axis=1)\n",
        "\n",
        "testdf['datetime'] = pd.to_datetime(testdf['datetime'])\n",
        "\n",
        "testdf['day'] = testdf['datetime'].dt.day\n",
        "testdf['month'] = testdf['datetime'].dt.month\n",
        "testdf['year'] = testdf['datetime'].dt.year\n",
        "testdf['time'] = testdf['datetime'].dt.time\n",
        "\n",
        "testdf.drop('datetime',axis = 1,inplace = True)\n",
        "\n",
        "testdf['hour'] = testdf['time'].apply(lambda x : x.hour)\n",
        "testdf.drop('time',axis =1 , inplace = True)\n",
        "\n",
        "\n",
        "appendvr2testdf = pd.get_dummies(testdf['month'],drop_first=True)\n",
        "testdf = pd.concat([testdf.drop('month',axis=1),appendvr2testdf], axis=1)\n",
        "appendvr2testdf = pd.get_dummies(testdf['year'],drop_first=True)\n",
        "testdf = pd.concat([testdf.drop('year',axis=1),appendvr2testdf], axis=1)\n",
        "appendvr2testdf = pd.get_dummies(testdf['hour'],drop_first=True)\n",
        "testdf = pd.concat([testdf.drop('hour',axis=1),appendvr2testdf], axis=1)"
      ],
      "execution_count": 0,
      "outputs": []
    },
    {
      "cell_type": "code",
      "metadata": {
        "id": "g-CgLemIHjgr",
        "colab_type": "code",
        "colab": {}
      },
      "source": [
        "X_test = testdf.drop(['ID'],axis = 1)\n",
        "X_test = scaler.transform(X_test)"
      ],
      "execution_count": 0,
      "outputs": []
    },
    {
      "cell_type": "code",
      "metadata": {
        "id": "1UnxdqXGHlti",
        "colab_type": "code",
        "colab": {}
      },
      "source": [
        "predictionstest = NN_model.predict(X_test)"
      ],
      "execution_count": 0,
      "outputs": []
    },
    {
      "cell_type": "code",
      "metadata": {
        "id": "Ba5I7jPjHn1C",
        "colab_type": "code",
        "colab": {}
      },
      "source": [
        "submission = pd.DataFrame(predictionstest,columns=['electricity_consumption'])\n",
        "\n",
        "finalsubmission = pd.concat([testdf[['ID']],submission],axis=1)\n",
        "\n",
        "finalsubmission.to_csv('submission5.csv',index=False)"
      ],
      "execution_count": 0,
      "outputs": []
    },
    {
      "cell_type": "code",
      "metadata": {
        "id": "1OwWMglUHqQ4",
        "colab_type": "code",
        "colab": {}
      },
      "source": [
        ""
      ],
      "execution_count": 0,
      "outputs": []
    }
  ]
}