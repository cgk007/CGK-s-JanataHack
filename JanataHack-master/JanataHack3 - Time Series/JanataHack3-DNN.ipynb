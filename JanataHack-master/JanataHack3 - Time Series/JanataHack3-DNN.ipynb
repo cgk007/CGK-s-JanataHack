{
  "nbformat": 4,
  "nbformat_minor": 0,
  "metadata": {
    "colab": {
      "name": "Janata3-DNN.ipynb",
      "provenance": []
    },
    "kernelspec": {
      "name": "python3",
      "display_name": "Python 3"
    },
    "accelerator": "GPU"
  },
  "cells": [
    {
      "cell_type": "code",
      "metadata": {
        "id": "py6fzZDoj42O",
        "colab_type": "code",
        "colab": {
          "base_uri": "https://localhost:8080/",
          "height": 120
        },
        "outputId": "3ff5ce08-38d3-4888-8202-047105fc6333"
      },
      "source": [
        "from google.colab import drive\n",
        "drive.mount('/content/drive')"
      ],
      "execution_count": 1,
      "outputs": [
        {
          "output_type": "stream",
          "text": [
            "Go to this URL in a browser: https://accounts.google.com/o/oauth2/auth?client_id=947318989803-6bn6qk8qdgf4n4g3pfee6491hc0brc4i.apps.googleusercontent.com&redirect_uri=urn%3aietf%3awg%3aoauth%3a2.0%3aoob&response_type=code&scope=email%20https%3a%2f%2fwww.googleapis.com%2fauth%2fdocs.test%20https%3a%2f%2fwww.googleapis.com%2fauth%2fdrive%20https%3a%2f%2fwww.googleapis.com%2fauth%2fdrive.photos.readonly%20https%3a%2f%2fwww.googleapis.com%2fauth%2fpeopleapi.readonly\n",
            "\n",
            "Enter your authorization code:\n",
            "··········\n",
            "Mounted at /content/drive\n"
          ],
          "name": "stdout"
        }
      ]
    },
    {
      "cell_type": "code",
      "metadata": {
        "id": "pEoApMl3kHnm",
        "colab_type": "code",
        "colab": {
          "base_uri": "https://localhost:8080/",
          "height": 33
        },
        "outputId": "69e55dc5-65b6-48e9-8b7e-4b88450a9b0c"
      },
      "source": [
        "import os\n",
        "os.getcwd()\n",
        "os.chdir('drive')\n",
        "os.chdir('My Drive')\n",
        "os.chdir('Janata')\n",
        "os.listdir()\n",
        "# os.listdir()"
      ],
      "execution_count": 2,
      "outputs": [
        {
          "output_type": "execute_result",
          "data": {
            "text/plain": [
              "['train.csv', 'test.csv']"
            ]
          },
          "metadata": {
            "tags": []
          },
          "execution_count": 2
        }
      ]
    },
    {
      "cell_type": "code",
      "metadata": {
        "id": "FStFMlHLkS40",
        "colab_type": "code",
        "colab": {
          "base_uri": "https://localhost:8080/",
          "height": 70
        },
        "outputId": "e52b557a-7cb8-420a-89bd-57a6822f5662"
      },
      "source": [
        "import pandas as pd\n",
        "import seaborn as sns\n",
        "import numpy as np\n",
        "import matplotlib.pyplot as plt\n",
        "\n",
        "%matplotlib inline\n",
        "\n",
        "newdf = pd.read_csv('train.csv')\n",
        "\n",
        "appendvr2newdf = pd.get_dummies(newdf['var2'],drop_first=True)\n",
        "newdf = pd.concat([newdf.drop('var2',axis=1),appendvr2newdf], axis=1)\n",
        "\n",
        "newdf['datetime'] = pd.to_datetime(newdf['datetime'])\n",
        "\n",
        "newdf['day'] = newdf['datetime'].dt.day\n",
        "newdf['month'] = newdf['datetime'].dt.month\n",
        "newdf['year'] = newdf['datetime'].dt.year\n",
        "newdf['time'] = newdf['datetime'].dt.time\n",
        "\n",
        "newdf.drop('datetime',axis = 1,inplace = True)\n",
        "\n",
        "newdf['hour'] = newdf['time'].apply(lambda x : x.hour)\n",
        "newdf.drop('time',axis =1 , inplace = True)\n",
        "\n",
        "appendvr2newdf = pd.get_dummies(newdf['month'],drop_first=True)\n",
        "newdf = pd.concat([newdf.drop('month',axis=1),appendvr2newdf], axis=1)\n",
        "\n",
        "appendvr2newdf = pd.get_dummies(newdf['year'],drop_first=True)\n",
        "newdf = pd.concat([newdf.drop('year',axis=1),appendvr2newdf], axis=1)\n",
        "\n",
        "appendvr2newdf = pd.get_dummies(newdf['hour'],drop_first=True)\n",
        "newdf = pd.concat([newdf.drop('hour',axis=1),appendvr2newdf], axis=1)"
      ],
      "execution_count": 3,
      "outputs": [
        {
          "output_type": "stream",
          "text": [
            "/usr/local/lib/python3.6/dist-packages/statsmodels/tools/_testing.py:19: FutureWarning: pandas.util.testing is deprecated. Use the functions in the public API at pandas.testing instead.\n",
            "  import pandas.util.testing as tm\n"
          ],
          "name": "stderr"
        }
      ]
    },
    {
      "cell_type": "code",
      "metadata": {
        "id": "i1K9Onh0kiML",
        "colab_type": "code",
        "colab": {}
      },
      "source": [
        "from sklearn.model_selection import train_test_split\n",
        "\n",
        "X = newdf.drop(['ID','electricity_consumption'],axis = 1)\n",
        "y = newdf['electricity_consumption']\n",
        "\n",
        "X_train, X_test, y_train, y_test = train_test_split(X, y, test_size=0.3, random_state=42)"
      ],
      "execution_count": 0,
      "outputs": []
    },
    {
      "cell_type": "code",
      "metadata": {
        "id": "EEmNfrbZkmlx",
        "colab_type": "code",
        "colab": {}
      },
      "source": [
        "from tensorflow.keras.models import Sequential\n",
        "from tensorflow.keras.layers import Dense, Activation\n",
        "from tensorflow.keras.optimizers import Adam"
      ],
      "execution_count": 0,
      "outputs": []
    },
    {
      "cell_type": "code",
      "metadata": {
        "id": "yq-YOeDHkpO3",
        "colab_type": "code",
        "colab": {
          "base_uri": "https://localhost:8080/",
          "height": 318
        },
        "outputId": "11d245e5-5f5f-472f-c148-f47c6e5fe924"
      },
      "source": [
        "NN_model = Sequential()\n",
        "\n",
        "# The Input Layer :\n",
        "NN_model.add(Dense(128, kernel_initializer='normal',input_dim = X_train.shape[1], activation='relu'))\n",
        "\n",
        "# The Hidden Layers :\n",
        "NN_model.add(Dense(256, kernel_initializer='normal',activation='relu'))\n",
        "NN_model.add(Dense(256, kernel_initializer='normal',activation='relu'))\n",
        "NN_model.add(Dense(256, kernel_initializer='normal',activation='relu'))\n",
        "\n",
        "# The Output Layer :\n",
        "NN_model.add(Dense(1, kernel_initializer='normal',activation='linear'))\n",
        "\n",
        "# Compile the network :\n",
        "NN_model.compile(loss='mean_absolute_error', optimizer='adam', metrics=['mean_absolute_error'])\n",
        "NN_model.summary()"
      ],
      "execution_count": 6,
      "outputs": [
        {
          "output_type": "stream",
          "text": [
            "Model: \"sequential\"\n",
            "_________________________________________________________________\n",
            "Layer (type)                 Output Shape              Param #   \n",
            "=================================================================\n",
            "dense (Dense)                (None, 128)               5888      \n",
            "_________________________________________________________________\n",
            "dense_1 (Dense)              (None, 256)               33024     \n",
            "_________________________________________________________________\n",
            "dense_2 (Dense)              (None, 256)               65792     \n",
            "_________________________________________________________________\n",
            "dense_3 (Dense)              (None, 256)               65792     \n",
            "_________________________________________________________________\n",
            "dense_4 (Dense)              (None, 1)                 257       \n",
            "=================================================================\n",
            "Total params: 170,753\n",
            "Trainable params: 170,753\n",
            "Non-trainable params: 0\n",
            "_________________________________________________________________\n"
          ],
          "name": "stdout"
        }
      ]
    },
    {
      "cell_type": "code",
      "metadata": {
        "id": "uizns4HXkrDN",
        "colab_type": "code",
        "colab": {
          "base_uri": "https://localhost:8080/",
          "height": 1000
        },
        "outputId": "6dcaf02c-a755-4675-c69c-ffb2f7076d86"
      },
      "source": [
        "import tensorflow as tf\n",
        "\n",
        "es = tf.keras.callbacks.EarlyStopping(monitor = 'val_loss', patience =10, mode='min')\n",
        "\n",
        "NN_model.fit(X_train, y_train, epochs=500, batch_size=32, validation_split = 0.2, callbacks=[es])"
      ],
      "execution_count": 7,
      "outputs": [
        {
          "output_type": "stream",
          "text": [
            "Epoch 1/500\n",
            "464/464 [==============================] - 1s 3ms/step - loss: 76.7777 - mean_absolute_error: 76.7850 - val_loss: 74.5553 - val_mean_absolute_error: 74.5571\n",
            "Epoch 2/500\n",
            "464/464 [==============================] - 1s 2ms/step - loss: 68.4256 - mean_absolute_error: 68.4270 - val_loss: 71.7189 - val_mean_absolute_error: 71.7215\n",
            "Epoch 3/500\n",
            "464/464 [==============================] - 1s 3ms/step - loss: 65.9016 - mean_absolute_error: 65.8963 - val_loss: 63.6024 - val_mean_absolute_error: 63.6074\n",
            "Epoch 4/500\n",
            "464/464 [==============================] - 1s 3ms/step - loss: 64.7769 - mean_absolute_error: 64.7794 - val_loss: 61.7441 - val_mean_absolute_error: 61.7496\n",
            "Epoch 5/500\n",
            "464/464 [==============================] - 1s 3ms/step - loss: 63.4362 - mean_absolute_error: 63.4390 - val_loss: 61.1603 - val_mean_absolute_error: 61.1663\n",
            "Epoch 6/500\n",
            "464/464 [==============================] - 1s 3ms/step - loss: 62.8001 - mean_absolute_error: 62.7930 - val_loss: 60.5913 - val_mean_absolute_error: 60.5974\n",
            "Epoch 7/500\n",
            "464/464 [==============================] - 1s 3ms/step - loss: 62.1813 - mean_absolute_error: 62.1794 - val_loss: 59.6511 - val_mean_absolute_error: 59.6572\n",
            "Epoch 8/500\n",
            "464/464 [==============================] - 1s 3ms/step - loss: 61.1343 - mean_absolute_error: 61.1365 - val_loss: 60.9692 - val_mean_absolute_error: 60.9740\n",
            "Epoch 9/500\n",
            "464/464 [==============================] - 1s 3ms/step - loss: 60.6098 - mean_absolute_error: 60.5990 - val_loss: 66.2406 - val_mean_absolute_error: 66.2442\n",
            "Epoch 10/500\n",
            "464/464 [==============================] - 1s 3ms/step - loss: 60.6971 - mean_absolute_error: 60.7052 - val_loss: 60.9147 - val_mean_absolute_error: 60.9186\n",
            "Epoch 11/500\n",
            "464/464 [==============================] - 1s 3ms/step - loss: 60.5003 - mean_absolute_error: 60.5117 - val_loss: 59.3960 - val_mean_absolute_error: 59.4009\n",
            "Epoch 12/500\n",
            "464/464 [==============================] - 1s 3ms/step - loss: 59.0401 - mean_absolute_error: 59.0331 - val_loss: 73.2191 - val_mean_absolute_error: 73.2191\n",
            "Epoch 13/500\n",
            "464/464 [==============================] - 1s 3ms/step - loss: 59.8712 - mean_absolute_error: 59.8736 - val_loss: 60.8604 - val_mean_absolute_error: 60.8644\n",
            "Epoch 14/500\n",
            "464/464 [==============================] - 1s 3ms/step - loss: 59.6750 - mean_absolute_error: 59.6662 - val_loss: 67.8749 - val_mean_absolute_error: 67.8837\n",
            "Epoch 15/500\n",
            "464/464 [==============================] - 1s 3ms/step - loss: 58.6840 - mean_absolute_error: 58.6793 - val_loss: 60.6423 - val_mean_absolute_error: 60.6497\n",
            "Epoch 16/500\n",
            "464/464 [==============================] - 1s 3ms/step - loss: 59.0439 - mean_absolute_error: 59.0455 - val_loss: 57.9178 - val_mean_absolute_error: 57.9212\n",
            "Epoch 17/500\n",
            "464/464 [==============================] - 1s 3ms/step - loss: 58.9960 - mean_absolute_error: 58.9933 - val_loss: 58.5642 - val_mean_absolute_error: 58.5668\n",
            "Epoch 18/500\n",
            "464/464 [==============================] - 1s 3ms/step - loss: 58.7493 - mean_absolute_error: 58.7514 - val_loss: 57.5228 - val_mean_absolute_error: 57.5291\n",
            "Epoch 19/500\n",
            "464/464 [==============================] - 1s 3ms/step - loss: 58.2751 - mean_absolute_error: 58.2517 - val_loss: 56.7805 - val_mean_absolute_error: 56.7859\n",
            "Epoch 20/500\n",
            "464/464 [==============================] - 1s 3ms/step - loss: 58.2325 - mean_absolute_error: 58.2154 - val_loss: 56.8610 - val_mean_absolute_error: 56.8664\n",
            "Epoch 21/500\n",
            "464/464 [==============================] - 1s 3ms/step - loss: 57.7684 - mean_absolute_error: 57.7725 - val_loss: 60.4554 - val_mean_absolute_error: 60.4626\n",
            "Epoch 22/500\n",
            "464/464 [==============================] - 1s 3ms/step - loss: 57.5221 - mean_absolute_error: 57.5226 - val_loss: 62.0016 - val_mean_absolute_error: 62.0109\n",
            "Epoch 23/500\n",
            "464/464 [==============================] - 1s 3ms/step - loss: 57.8032 - mean_absolute_error: 57.8004 - val_loss: 59.8510 - val_mean_absolute_error: 59.8523\n",
            "Epoch 24/500\n",
            "464/464 [==============================] - 1s 3ms/step - loss: 57.1056 - mean_absolute_error: 57.1013 - val_loss: 57.9171 - val_mean_absolute_error: 57.9243\n",
            "Epoch 25/500\n",
            "464/464 [==============================] - 1s 3ms/step - loss: 57.1102 - mean_absolute_error: 57.1081 - val_loss: 56.4949 - val_mean_absolute_error: 56.5003\n",
            "Epoch 26/500\n",
            "464/464 [==============================] - 1s 3ms/step - loss: 56.5592 - mean_absolute_error: 56.5638 - val_loss: 62.3374 - val_mean_absolute_error: 62.3449\n",
            "Epoch 27/500\n",
            "464/464 [==============================] - 1s 3ms/step - loss: 56.7926 - mean_absolute_error: 56.7909 - val_loss: 55.0654 - val_mean_absolute_error: 55.0675\n",
            "Epoch 28/500\n",
            "464/464 [==============================] - 1s 3ms/step - loss: 56.6054 - mean_absolute_error: 56.6224 - val_loss: 58.7531 - val_mean_absolute_error: 58.7609\n",
            "Epoch 29/500\n",
            "464/464 [==============================] - 1s 3ms/step - loss: 55.9533 - mean_absolute_error: 55.9684 - val_loss: 63.1923 - val_mean_absolute_error: 63.1993\n",
            "Epoch 30/500\n",
            "464/464 [==============================] - 1s 3ms/step - loss: 56.6644 - mean_absolute_error: 56.6650 - val_loss: 55.7378 - val_mean_absolute_error: 55.7440\n",
            "Epoch 31/500\n",
            "464/464 [==============================] - 1s 3ms/step - loss: 56.0417 - mean_absolute_error: 56.0458 - val_loss: 54.9287 - val_mean_absolute_error: 54.9306\n",
            "Epoch 32/500\n",
            "464/464 [==============================] - 1s 3ms/step - loss: 55.5812 - mean_absolute_error: 55.5880 - val_loss: 56.1018 - val_mean_absolute_error: 56.1038\n",
            "Epoch 33/500\n",
            "464/464 [==============================] - 1s 3ms/step - loss: 55.8204 - mean_absolute_error: 55.8147 - val_loss: 55.1410 - val_mean_absolute_error: 55.1455\n",
            "Epoch 34/500\n",
            "464/464 [==============================] - 1s 3ms/step - loss: 56.2214 - mean_absolute_error: 56.2265 - val_loss: 54.2967 - val_mean_absolute_error: 54.2997\n",
            "Epoch 35/500\n",
            "464/464 [==============================] - 1s 3ms/step - loss: 54.7885 - mean_absolute_error: 54.8003 - val_loss: 54.0230 - val_mean_absolute_error: 54.0265\n",
            "Epoch 36/500\n",
            "464/464 [==============================] - 1s 3ms/step - loss: 55.5176 - mean_absolute_error: 55.5193 - val_loss: 54.6970 - val_mean_absolute_error: 54.6966\n",
            "Epoch 37/500\n",
            "464/464 [==============================] - 1s 3ms/step - loss: 55.4830 - mean_absolute_error: 55.4614 - val_loss: 54.1954 - val_mean_absolute_error: 54.2001\n",
            "Epoch 38/500\n",
            "464/464 [==============================] - 1s 2ms/step - loss: 54.6158 - mean_absolute_error: 54.6185 - val_loss: 53.5426 - val_mean_absolute_error: 53.5460\n",
            "Epoch 39/500\n",
            "464/464 [==============================] - 1s 3ms/step - loss: 55.1543 - mean_absolute_error: 55.1332 - val_loss: 59.1225 - val_mean_absolute_error: 59.1238\n",
            "Epoch 40/500\n",
            "464/464 [==============================] - 1s 3ms/step - loss: 54.8141 - mean_absolute_error: 54.8201 - val_loss: 54.1203 - val_mean_absolute_error: 54.1261\n",
            "Epoch 41/500\n",
            "464/464 [==============================] - 1s 2ms/step - loss: 54.7498 - mean_absolute_error: 54.7423 - val_loss: 53.4318 - val_mean_absolute_error: 53.4337\n",
            "Epoch 42/500\n",
            "464/464 [==============================] - 1s 2ms/step - loss: 54.2301 - mean_absolute_error: 54.2327 - val_loss: 55.1547 - val_mean_absolute_error: 55.1606\n",
            "Epoch 43/500\n",
            "464/464 [==============================] - 1s 2ms/step - loss: 54.1150 - mean_absolute_error: 54.1183 - val_loss: 53.1854 - val_mean_absolute_error: 53.1863\n",
            "Epoch 44/500\n",
            "464/464 [==============================] - 1s 2ms/step - loss: 53.7903 - mean_absolute_error: 53.7929 - val_loss: 57.7237 - val_mean_absolute_error: 57.7347\n",
            "Epoch 45/500\n",
            "464/464 [==============================] - 1s 3ms/step - loss: 53.9524 - mean_absolute_error: 53.9471 - val_loss: 52.5351 - val_mean_absolute_error: 52.5391\n",
            "Epoch 46/500\n",
            "464/464 [==============================] - 1s 2ms/step - loss: 53.7462 - mean_absolute_error: 53.7625 - val_loss: 56.9414 - val_mean_absolute_error: 56.9493\n",
            "Epoch 47/500\n",
            "464/464 [==============================] - 1s 2ms/step - loss: 54.0786 - mean_absolute_error: 54.0651 - val_loss: 55.2594 - val_mean_absolute_error: 55.2589\n",
            "Epoch 48/500\n",
            "464/464 [==============================] - 1s 2ms/step - loss: 53.6332 - mean_absolute_error: 53.6349 - val_loss: 60.9882 - val_mean_absolute_error: 60.9890\n",
            "Epoch 49/500\n",
            "464/464 [==============================] - 1s 3ms/step - loss: 53.4623 - mean_absolute_error: 53.4696 - val_loss: 52.7746 - val_mean_absolute_error: 52.7762\n",
            "Epoch 50/500\n",
            "464/464 [==============================] - 1s 2ms/step - loss: 53.9385 - mean_absolute_error: 53.9309 - val_loss: 56.6787 - val_mean_absolute_error: 56.6780\n",
            "Epoch 51/500\n",
            "464/464 [==============================] - 1s 2ms/step - loss: 53.3823 - mean_absolute_error: 53.3802 - val_loss: 53.4836 - val_mean_absolute_error: 53.4887\n",
            "Epoch 52/500\n",
            "464/464 [==============================] - 1s 3ms/step - loss: 53.2197 - mean_absolute_error: 53.2064 - val_loss: 53.6726 - val_mean_absolute_error: 53.6787\n",
            "Epoch 53/500\n",
            "464/464 [==============================] - 1s 2ms/step - loss: 53.0677 - mean_absolute_error: 53.0325 - val_loss: 51.9096 - val_mean_absolute_error: 51.9124\n",
            "Epoch 54/500\n",
            "464/464 [==============================] - 1s 2ms/step - loss: 52.7607 - mean_absolute_error: 52.7679 - val_loss: 53.3598 - val_mean_absolute_error: 53.3599\n",
            "Epoch 55/500\n",
            "464/464 [==============================] - 1s 2ms/step - loss: 53.1229 - mean_absolute_error: 53.1273 - val_loss: 53.7266 - val_mean_absolute_error: 53.7343\n",
            "Epoch 56/500\n",
            "464/464 [==============================] - 1s 2ms/step - loss: 53.0462 - mean_absolute_error: 53.0472 - val_loss: 53.3147 - val_mean_absolute_error: 53.3208\n",
            "Epoch 57/500\n",
            "464/464 [==============================] - 1s 2ms/step - loss: 53.0236 - mean_absolute_error: 53.0243 - val_loss: 52.4696 - val_mean_absolute_error: 52.4711\n",
            "Epoch 58/500\n",
            "464/464 [==============================] - 1s 3ms/step - loss: 53.0105 - mean_absolute_error: 53.0120 - val_loss: 52.9432 - val_mean_absolute_error: 52.9490\n",
            "Epoch 59/500\n",
            "464/464 [==============================] - 1s 2ms/step - loss: 52.6068 - mean_absolute_error: 52.5846 - val_loss: 53.9959 - val_mean_absolute_error: 54.0010\n",
            "Epoch 60/500\n",
            "464/464 [==============================] - 1s 3ms/step - loss: 53.1487 - mean_absolute_error: 53.1586 - val_loss: 53.4311 - val_mean_absolute_error: 53.4300\n",
            "Epoch 61/500\n",
            "464/464 [==============================] - 1s 3ms/step - loss: 51.8317 - mean_absolute_error: 51.8337 - val_loss: 51.8558 - val_mean_absolute_error: 51.8593\n",
            "Epoch 62/500\n",
            "464/464 [==============================] - 1s 3ms/step - loss: 52.2591 - mean_absolute_error: 52.2615 - val_loss: 54.5256 - val_mean_absolute_error: 54.5285\n",
            "Epoch 63/500\n",
            "464/464 [==============================] - 1s 3ms/step - loss: 52.2366 - mean_absolute_error: 52.2421 - val_loss: 53.8114 - val_mean_absolute_error: 53.8193\n",
            "Epoch 64/500\n",
            "464/464 [==============================] - 1s 3ms/step - loss: 52.0449 - mean_absolute_error: 52.0492 - val_loss: 51.2786 - val_mean_absolute_error: 51.2812\n",
            "Epoch 65/500\n",
            "464/464 [==============================] - 1s 3ms/step - loss: 52.2344 - mean_absolute_error: 52.2130 - val_loss: 56.7657 - val_mean_absolute_error: 56.7639\n",
            "Epoch 66/500\n",
            "464/464 [==============================] - 1s 3ms/step - loss: 52.0117 - mean_absolute_error: 52.0124 - val_loss: 52.5739 - val_mean_absolute_error: 52.5768\n",
            "Epoch 67/500\n",
            "464/464 [==============================] - 1s 3ms/step - loss: 52.0556 - mean_absolute_error: 52.0595 - val_loss: 51.7484 - val_mean_absolute_error: 51.7513\n",
            "Epoch 68/500\n",
            "464/464 [==============================] - 1s 3ms/step - loss: 51.8455 - mean_absolute_error: 51.8498 - val_loss: 55.4497 - val_mean_absolute_error: 55.4598\n",
            "Epoch 69/500\n",
            "464/464 [==============================] - 1s 3ms/step - loss: 51.8301 - mean_absolute_error: 51.8347 - val_loss: 52.1070 - val_mean_absolute_error: 52.1168\n",
            "Epoch 70/500\n",
            "464/464 [==============================] - 1s 2ms/step - loss: 51.9858 - mean_absolute_error: 52.0001 - val_loss: 53.3741 - val_mean_absolute_error: 53.3738\n",
            "Epoch 71/500\n",
            "464/464 [==============================] - 1s 2ms/step - loss: 52.1248 - mean_absolute_error: 52.1266 - val_loss: 56.3204 - val_mean_absolute_error: 56.3218\n",
            "Epoch 72/500\n",
            "464/464 [==============================] - 1s 2ms/step - loss: 51.5024 - mean_absolute_error: 51.5096 - val_loss: 54.5267 - val_mean_absolute_error: 54.5268\n",
            "Epoch 73/500\n",
            "464/464 [==============================] - 1s 2ms/step - loss: 52.1439 - mean_absolute_error: 52.1429 - val_loss: 50.8500 - val_mean_absolute_error: 50.8542\n",
            "Epoch 74/500\n",
            "464/464 [==============================] - 1s 2ms/step - loss: 50.9281 - mean_absolute_error: 50.9320 - val_loss: 52.5030 - val_mean_absolute_error: 52.5094\n",
            "Epoch 75/500\n",
            "464/464 [==============================] - 1s 2ms/step - loss: 50.8848 - mean_absolute_error: 50.8682 - val_loss: 54.6625 - val_mean_absolute_error: 54.6633\n",
            "Epoch 76/500\n",
            "464/464 [==============================] - 1s 2ms/step - loss: 51.7383 - mean_absolute_error: 51.7474 - val_loss: 51.8599 - val_mean_absolute_error: 51.8631\n",
            "Epoch 77/500\n",
            "464/464 [==============================] - 1s 2ms/step - loss: 51.0437 - mean_absolute_error: 51.0429 - val_loss: 50.3617 - val_mean_absolute_error: 50.3665\n",
            "Epoch 78/500\n",
            "464/464 [==============================] - 1s 2ms/step - loss: 51.6178 - mean_absolute_error: 51.6235 - val_loss: 50.2566 - val_mean_absolute_error: 50.2616\n",
            "Epoch 79/500\n",
            "464/464 [==============================] - 1s 2ms/step - loss: 51.1120 - mean_absolute_error: 51.1169 - val_loss: 58.0163 - val_mean_absolute_error: 58.0248\n",
            "Epoch 80/500\n",
            "464/464 [==============================] - 1s 2ms/step - loss: 51.5558 - mean_absolute_error: 51.5573 - val_loss: 50.5613 - val_mean_absolute_error: 50.5622\n",
            "Epoch 81/500\n",
            "464/464 [==============================] - 1s 2ms/step - loss: 51.2310 - mean_absolute_error: 51.2287 - val_loss: 53.2056 - val_mean_absolute_error: 53.2112\n",
            "Epoch 82/500\n",
            "464/464 [==============================] - 1s 2ms/step - loss: 50.8912 - mean_absolute_error: 50.8737 - val_loss: 51.5251 - val_mean_absolute_error: 51.5328\n",
            "Epoch 83/500\n",
            "464/464 [==============================] - 1s 2ms/step - loss: 51.1768 - mean_absolute_error: 51.1887 - val_loss: 54.6013 - val_mean_absolute_error: 54.6011\n",
            "Epoch 84/500\n",
            "464/464 [==============================] - 1s 2ms/step - loss: 50.8912 - mean_absolute_error: 50.8874 - val_loss: 51.3162 - val_mean_absolute_error: 51.3226\n",
            "Epoch 85/500\n",
            "464/464 [==============================] - 1s 3ms/step - loss: 50.6362 - mean_absolute_error: 50.6337 - val_loss: 50.5787 - val_mean_absolute_error: 50.5836\n",
            "Epoch 86/500\n",
            "464/464 [==============================] - 1s 3ms/step - loss: 50.9193 - mean_absolute_error: 50.9011 - val_loss: 51.7503 - val_mean_absolute_error: 51.7567\n",
            "Epoch 87/500\n",
            "464/464 [==============================] - 1s 2ms/step - loss: 50.6220 - mean_absolute_error: 50.6256 - val_loss: 50.3507 - val_mean_absolute_error: 50.3535\n",
            "Epoch 88/500\n",
            "464/464 [==============================] - 1s 2ms/step - loss: 50.9470 - mean_absolute_error: 50.9326 - val_loss: 55.6377 - val_mean_absolute_error: 55.6436\n"
          ],
          "name": "stdout"
        },
        {
          "output_type": "execute_result",
          "data": {
            "text/plain": [
              "<tensorflow.python.keras.callbacks.History at 0x7f9f7055a4a8>"
            ]
          },
          "metadata": {
            "tags": []
          },
          "execution_count": 7
        }
      ]
    },
    {
      "cell_type": "code",
      "metadata": {
        "id": "nvaalcSuktiY",
        "colab_type": "code",
        "colab": {
          "base_uri": "https://localhost:8080/",
          "height": 33
        },
        "outputId": "1b8c2656-e4cb-4952-b0f4-587af998ce6a"
      },
      "source": [
        "predictions = NN_model.predict(X_test)\n",
        "\n",
        "from sklearn import metrics\n",
        "print('RMSE:', np.sqrt(metrics.mean_squared_error(y_test, predictions)))"
      ],
      "execution_count": 10,
      "outputs": [
        {
          "output_type": "stream",
          "text": [
            "RMSE: 83.82760781602731\n"
          ],
          "name": "stdout"
        }
      ]
    },
    {
      "cell_type": "code",
      "metadata": {
        "id": "sx5JdxsmkwSN",
        "colab_type": "code",
        "colab": {}
      },
      "source": [
        "testdf = pd.read_csv('test.csv')\n",
        "\n",
        "appendvr2testdf = pd.get_dummies(testdf['var2'],drop_first=True)\n",
        "testdf = pd.concat([testdf.drop('var2',axis=1),appendvr2testdf], axis=1)\n",
        "\n",
        "testdf['datetime'] = pd.to_datetime(testdf['datetime'])\n",
        "\n",
        "testdf['day'] = testdf['datetime'].dt.day\n",
        "testdf['month'] = testdf['datetime'].dt.month\n",
        "testdf['year'] = testdf['datetime'].dt.year\n",
        "testdf['time'] = testdf['datetime'].dt.time\n",
        "\n",
        "testdf.drop('datetime',axis = 1,inplace = True)\n",
        "\n",
        "testdf['hour'] = testdf['time'].apply(lambda x : x.hour)\n",
        "testdf.drop('time',axis =1 , inplace = True)\n",
        "\n",
        "\n",
        "appendvr2testdf = pd.get_dummies(testdf['month'],drop_first=True)\n",
        "testdf = pd.concat([testdf.drop('month',axis=1),appendvr2testdf], axis=1)\n",
        "appendvr2testdf = pd.get_dummies(testdf['year'],drop_first=True)\n",
        "testdf = pd.concat([testdf.drop('year',axis=1),appendvr2testdf], axis=1)\n",
        "appendvr2testdf = pd.get_dummies(testdf['hour'],drop_first=True)\n",
        "testdf = pd.concat([testdf.drop('hour',axis=1),appendvr2testdf], axis=1)"
      ],
      "execution_count": 0,
      "outputs": []
    },
    {
      "cell_type": "code",
      "metadata": {
        "id": "b6xL4MbFkzH5",
        "colab_type": "code",
        "colab": {}
      },
      "source": [
        "X_test = testdf.drop(['ID'],axis = 1)"
      ],
      "execution_count": 0,
      "outputs": []
    },
    {
      "cell_type": "code",
      "metadata": {
        "id": "H6p-Pq55k034",
        "colab_type": "code",
        "colab": {}
      },
      "source": [
        "predictionstest = NN_model.predict(X_test)"
      ],
      "execution_count": 0,
      "outputs": []
    },
    {
      "cell_type": "code",
      "metadata": {
        "id": "D_w0jVNPk20l",
        "colab_type": "code",
        "colab": {}
      },
      "source": [
        "submission = pd.DataFrame(predictionstest,columns=['electricity_consumption'])\n",
        "\n",
        "finalsubmission = pd.concat([testdf[['ID']],submission],axis=1)\n",
        "\n",
        "finalsubmission.to_csv('submission2.csv',index=False)"
      ],
      "execution_count": 0,
      "outputs": []
    },
    {
      "cell_type": "code",
      "metadata": {
        "id": "_tfPuQ19k48p",
        "colab_type": "code",
        "colab": {
          "base_uri": "https://localhost:8080/",
          "height": 196
        },
        "outputId": "aafbc35d-2b85-4128-ef56-ffc78c633714"
      },
      "source": [
        "finalsubmission.head()"
      ],
      "execution_count": 16,
      "outputs": [
        {
          "output_type": "execute_result",
          "data": {
            "text/html": [
              "<div>\n",
              "<style scoped>\n",
              "    .dataframe tbody tr th:only-of-type {\n",
              "        vertical-align: middle;\n",
              "    }\n",
              "\n",
              "    .dataframe tbody tr th {\n",
              "        vertical-align: top;\n",
              "    }\n",
              "\n",
              "    .dataframe thead th {\n",
              "        text-align: right;\n",
              "    }\n",
              "</style>\n",
              "<table border=\"1\" class=\"dataframe\">\n",
              "  <thead>\n",
              "    <tr style=\"text-align: right;\">\n",
              "      <th></th>\n",
              "      <th>ID</th>\n",
              "      <th>electricity_consumption</th>\n",
              "    </tr>\n",
              "  </thead>\n",
              "  <tbody>\n",
              "    <tr>\n",
              "      <th>0</th>\n",
              "      <td>552</td>\n",
              "      <td>192.890244</td>\n",
              "    </tr>\n",
              "    <tr>\n",
              "      <th>1</th>\n",
              "      <td>553</td>\n",
              "      <td>187.077850</td>\n",
              "    </tr>\n",
              "    <tr>\n",
              "      <th>2</th>\n",
              "      <td>554</td>\n",
              "      <td>187.704636</td>\n",
              "    </tr>\n",
              "    <tr>\n",
              "      <th>3</th>\n",
              "      <td>555</td>\n",
              "      <td>183.594070</td>\n",
              "    </tr>\n",
              "    <tr>\n",
              "      <th>4</th>\n",
              "      <td>556</td>\n",
              "      <td>294.902252</td>\n",
              "    </tr>\n",
              "  </tbody>\n",
              "</table>\n",
              "</div>"
            ],
            "text/plain": [
              "    ID  electricity_consumption\n",
              "0  552               192.890244\n",
              "1  553               187.077850\n",
              "2  554               187.704636\n",
              "3  555               183.594070\n",
              "4  556               294.902252"
            ]
          },
          "metadata": {
            "tags": []
          },
          "execution_count": 16
        }
      ]
    },
    {
      "cell_type": "code",
      "metadata": {
        "id": "rTLPyFdJk66e",
        "colab_type": "code",
        "colab": {}
      },
      "source": [
        ""
      ],
      "execution_count": 0,
      "outputs": []
    }
  ]
}