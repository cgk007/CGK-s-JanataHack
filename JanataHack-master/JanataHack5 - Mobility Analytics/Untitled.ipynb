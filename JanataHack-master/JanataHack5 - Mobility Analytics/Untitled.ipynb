{
 "cells": [
  {
   "cell_type": "code",
   "execution_count": 1,
   "metadata": {},
   "outputs": [],
   "source": [
    "import pandas as pd\n",
    "import numpy as np\n",
    "import matplotlib.pyplot as plt\n",
    "import seaborn as sns\n",
    "\n",
    "%matplotlib inline"
   ]
  },
  {
   "cell_type": "code",
   "execution_count": 2,
   "metadata": {
    "scrolled": true
   },
   "outputs": [
    {
     "data": {
      "text/html": [
       "<div>\n",
       "<style scoped>\n",
       "    .dataframe tbody tr th:only-of-type {\n",
       "        vertical-align: middle;\n",
       "    }\n",
       "\n",
       "    .dataframe tbody tr th {\n",
       "        vertical-align: top;\n",
       "    }\n",
       "\n",
       "    .dataframe thead th {\n",
       "        text-align: right;\n",
       "    }\n",
       "</style>\n",
       "<table border=\"1\" class=\"dataframe\">\n",
       "  <thead>\n",
       "    <tr style=\"text-align: right;\">\n",
       "      <th></th>\n",
       "      <th>Trip_ID</th>\n",
       "      <th>Trip_Distance</th>\n",
       "      <th>Type_of_Cab</th>\n",
       "      <th>Customer_Since_Months</th>\n",
       "      <th>Life_Style_Index</th>\n",
       "      <th>Confidence_Life_Style_Index</th>\n",
       "      <th>Destination_Type</th>\n",
       "      <th>Customer_Rating</th>\n",
       "      <th>Cancellation_Last_1Month</th>\n",
       "      <th>Var1</th>\n",
       "      <th>Var2</th>\n",
       "      <th>Var3</th>\n",
       "      <th>Gender</th>\n",
       "      <th>Surge_Pricing_Type</th>\n",
       "    </tr>\n",
       "  </thead>\n",
       "  <tbody>\n",
       "    <tr>\n",
       "      <th>0</th>\n",
       "      <td>T0005689460</td>\n",
       "      <td>6.77</td>\n",
       "      <td>B</td>\n",
       "      <td>1.0</td>\n",
       "      <td>2.42769</td>\n",
       "      <td>A</td>\n",
       "      <td>A</td>\n",
       "      <td>3.90500</td>\n",
       "      <td>0</td>\n",
       "      <td>40.0</td>\n",
       "      <td>46</td>\n",
       "      <td>60</td>\n",
       "      <td>Female</td>\n",
       "      <td>2</td>\n",
       "    </tr>\n",
       "    <tr>\n",
       "      <th>1</th>\n",
       "      <td>T0005689461</td>\n",
       "      <td>29.47</td>\n",
       "      <td>B</td>\n",
       "      <td>10.0</td>\n",
       "      <td>2.78245</td>\n",
       "      <td>B</td>\n",
       "      <td>A</td>\n",
       "      <td>3.45000</td>\n",
       "      <td>0</td>\n",
       "      <td>38.0</td>\n",
       "      <td>56</td>\n",
       "      <td>78</td>\n",
       "      <td>Male</td>\n",
       "      <td>2</td>\n",
       "    </tr>\n",
       "    <tr>\n",
       "      <th>2</th>\n",
       "      <td>T0005689464</td>\n",
       "      <td>41.58</td>\n",
       "      <td>NaN</td>\n",
       "      <td>10.0</td>\n",
       "      <td>NaN</td>\n",
       "      <td>NaN</td>\n",
       "      <td>E</td>\n",
       "      <td>3.50125</td>\n",
       "      <td>2</td>\n",
       "      <td>NaN</td>\n",
       "      <td>56</td>\n",
       "      <td>77</td>\n",
       "      <td>Male</td>\n",
       "      <td>2</td>\n",
       "    </tr>\n",
       "    <tr>\n",
       "      <th>3</th>\n",
       "      <td>T0005689465</td>\n",
       "      <td>61.56</td>\n",
       "      <td>C</td>\n",
       "      <td>10.0</td>\n",
       "      <td>NaN</td>\n",
       "      <td>NaN</td>\n",
       "      <td>A</td>\n",
       "      <td>3.45375</td>\n",
       "      <td>0</td>\n",
       "      <td>NaN</td>\n",
       "      <td>52</td>\n",
       "      <td>74</td>\n",
       "      <td>Male</td>\n",
       "      <td>3</td>\n",
       "    </tr>\n",
       "    <tr>\n",
       "      <th>4</th>\n",
       "      <td>T0005689467</td>\n",
       "      <td>54.95</td>\n",
       "      <td>C</td>\n",
       "      <td>10.0</td>\n",
       "      <td>3.03453</td>\n",
       "      <td>B</td>\n",
       "      <td>A</td>\n",
       "      <td>3.40250</td>\n",
       "      <td>4</td>\n",
       "      <td>51.0</td>\n",
       "      <td>49</td>\n",
       "      <td>102</td>\n",
       "      <td>Male</td>\n",
       "      <td>2</td>\n",
       "    </tr>\n",
       "  </tbody>\n",
       "</table>\n",
       "</div>"
      ],
      "text/plain": [
       "       Trip_ID  Trip_Distance Type_of_Cab  Customer_Since_Months  \\\n",
       "0  T0005689460           6.77           B                    1.0   \n",
       "1  T0005689461          29.47           B                   10.0   \n",
       "2  T0005689464          41.58         NaN                   10.0   \n",
       "3  T0005689465          61.56           C                   10.0   \n",
       "4  T0005689467          54.95           C                   10.0   \n",
       "\n",
       "   Life_Style_Index Confidence_Life_Style_Index Destination_Type  \\\n",
       "0           2.42769                           A                A   \n",
       "1           2.78245                           B                A   \n",
       "2               NaN                         NaN                E   \n",
       "3               NaN                         NaN                A   \n",
       "4           3.03453                           B                A   \n",
       "\n",
       "   Customer_Rating  Cancellation_Last_1Month  Var1  Var2  Var3  Gender  \\\n",
       "0          3.90500                         0  40.0    46    60  Female   \n",
       "1          3.45000                         0  38.0    56    78    Male   \n",
       "2          3.50125                         2   NaN    56    77    Male   \n",
       "3          3.45375                         0   NaN    52    74    Male   \n",
       "4          3.40250                         4  51.0    49   102    Male   \n",
       "\n",
       "   Surge_Pricing_Type  \n",
       "0                   2  \n",
       "1                   2  \n",
       "2                   2  \n",
       "3                   3  \n",
       "4                   2  "
      ]
     },
     "execution_count": 2,
     "metadata": {},
     "output_type": "execute_result"
    }
   ],
   "source": [
    "df = pd.read_csv('train.csv')\n",
    "df.head()"
   ]
  },
  {
   "cell_type": "code",
   "execution_count": 3,
   "metadata": {},
   "outputs": [
    {
     "data": {
      "text/plain": [
       "Trip_ID                            0\n",
       "Trip_Distance                      0\n",
       "Type_of_Cab                    20210\n",
       "Customer_Since_Months           5920\n",
       "Life_Style_Index               20193\n",
       "Confidence_Life_Style_Index    20193\n",
       "Destination_Type                   0\n",
       "Customer_Rating                    0\n",
       "Cancellation_Last_1Month           0\n",
       "Var1                           71030\n",
       "Var2                               0\n",
       "Var3                               0\n",
       "Gender                             0\n",
       "Surge_Pricing_Type                 0\n",
       "dtype: int64"
      ]
     },
     "execution_count": 3,
     "metadata": {},
     "output_type": "execute_result"
    }
   ],
   "source": [
    "df.isnull().sum()"
   ]
  },
  {
   "cell_type": "code",
   "execution_count": 4,
   "metadata": {},
   "outputs": [
    {
     "name": "stdout",
     "output_type": "stream",
     "text": [
      "<class 'pandas.core.frame.DataFrame'>\n",
      "RangeIndex: 131662 entries, 0 to 131661\n",
      "Data columns (total 14 columns):\n",
      " #   Column                       Non-Null Count   Dtype  \n",
      "---  ------                       --------------   -----  \n",
      " 0   Trip_ID                      131662 non-null  object \n",
      " 1   Trip_Distance                131662 non-null  float64\n",
      " 2   Type_of_Cab                  111452 non-null  object \n",
      " 3   Customer_Since_Months        125742 non-null  float64\n",
      " 4   Life_Style_Index             111469 non-null  float64\n",
      " 5   Confidence_Life_Style_Index  111469 non-null  object \n",
      " 6   Destination_Type             131662 non-null  object \n",
      " 7   Customer_Rating              131662 non-null  float64\n",
      " 8   Cancellation_Last_1Month     131662 non-null  int64  \n",
      " 9   Var1                         60632 non-null   float64\n",
      " 10  Var2                         131662 non-null  int64  \n",
      " 11  Var3                         131662 non-null  int64  \n",
      " 12  Gender                       131662 non-null  object \n",
      " 13  Surge_Pricing_Type           131662 non-null  int64  \n",
      "dtypes: float64(5), int64(4), object(5)\n",
      "memory usage: 14.1+ MB\n"
     ]
    }
   ],
   "source": [
    "df.info()"
   ]
  },
  {
   "cell_type": "code",
   "execution_count": 5,
   "metadata": {},
   "outputs": [
    {
     "data": {
      "text/plain": [
       "B    31136\n",
       "C    28122\n",
       "A    21569\n",
       "D    18991\n",
       "E    11634\n",
       "Name: Type_of_Cab, dtype: int64"
      ]
     },
     "execution_count": 5,
     "metadata": {},
     "output_type": "execute_result"
    }
   ],
   "source": [
    "df['Type_of_Cab'].value_counts()"
   ]
  },
  {
   "cell_type": "code",
   "execution_count": 6,
   "metadata": {},
   "outputs": [
    {
     "data": {
      "text/plain": [
       "2    56728\n",
       "3    47720\n",
       "1    27214\n",
       "Name: Surge_Pricing_Type, dtype: int64"
      ]
     },
     "execution_count": 6,
     "metadata": {},
     "output_type": "execute_result"
    }
   ],
   "source": [
    "df['Surge_Pricing_Type'].value_counts()"
   ]
  },
  {
   "cell_type": "code",
   "execution_count": 7,
   "metadata": {},
   "outputs": [
    {
     "data": {
      "text/plain": [
       "2.75000    122\n",
       "3.50000    120\n",
       "3.35000    116\n",
       "2.60000    112\n",
       "3.20000    109\n",
       "          ... \n",
       "4.94875      1\n",
       "0.14500      1\n",
       "0.12375      1\n",
       "0.60500      1\n",
       "0.03125      1\n",
       "Name: Customer_Rating, Length: 3931, dtype: int64"
      ]
     },
     "execution_count": 7,
     "metadata": {},
     "output_type": "execute_result"
    }
   ],
   "source": [
    "df['Customer_Rating'].value_counts()"
   ]
  },
  {
   "cell_type": "code",
   "execution_count": 8,
   "metadata": {},
   "outputs": [],
   "source": [
    "temp = df.dropna()"
   ]
  },
  {
   "cell_type": "code",
   "execution_count": 9,
   "metadata": {
    "scrolled": true
   },
   "outputs": [
    {
     "data": {
      "text/plain": [
       "Trip_ID                        0\n",
       "Trip_Distance                  0\n",
       "Type_of_Cab                    0\n",
       "Customer_Since_Months          0\n",
       "Life_Style_Index               0\n",
       "Confidence_Life_Style_Index    0\n",
       "Destination_Type               0\n",
       "Customer_Rating                0\n",
       "Cancellation_Last_1Month       0\n",
       "Var1                           0\n",
       "Var2                           0\n",
       "Var3                           0\n",
       "Gender                         0\n",
       "Surge_Pricing_Type             0\n",
       "dtype: int64"
      ]
     },
     "execution_count": 9,
     "metadata": {},
     "output_type": "execute_result"
    }
   ],
   "source": [
    "temp.isnull().sum()"
   ]
  },
  {
   "cell_type": "code",
   "execution_count": null,
   "metadata": {},
   "outputs": [],
   "source": [
    "appendvr2testdf = pd.get_dummies(temp['Type_of_Cab'],drop_first=True)\n",
    "temp = pd.concat([temp.drop('Type_of_Cab',axis=1),appendvr2testdf], axis=1)\n",
    "\n",
    "temp.head()"
   ]
  },
  {
   "cell_type": "code",
   "execution_count": null,
   "metadata": {},
   "outputs": [],
   "source": [
    "appendvr2testdf = pd.get_dummies(temp['Confidence_Life_Style_Index'],drop_first=True)\n",
    "temp = pd.concat([temp.drop('Confidence_Life_Style_Index',axis=1),appendvr2testdf], axis=1)\n",
    "appendvr2testdf = pd.get_dummies(temp['Destination_Type'],drop_first=True)\n",
    "temp = pd.concat([temp.drop('Destination_Type',axis=1),appendvr2testdf], axis=1)\n",
    "appendvr2testdf = pd.get_dummies(temp['Gender'],drop_first=True)\n",
    "temp = pd.concat([temp.drop('Gender',axis=1),appendvr2testdf], axis=1)\n",
    "temp.head()"
   ]
  },
  {
   "cell_type": "code",
   "execution_count": null,
   "metadata": {},
   "outputs": [],
   "source": [
    "temp.corr()['Life_Style_Index']"
   ]
  },
  {
   "cell_type": "code",
   "execution_count": 10,
   "metadata": {},
   "outputs": [
    {
     "data": {
      "text/plain": [
       "LinearRegression(copy_X=True, fit_intercept=True, n_jobs=None, normalize=False)"
      ]
     },
     "execution_count": 10,
     "metadata": {},
     "output_type": "execute_result"
    }
   ],
   "source": [
    "X = temp[['Trip_Distance','Customer_Rating','Var2','Var3']]\n",
    "y= temp['Life_Style_Index']\n",
    "\n",
    "from sklearn.linear_model import LinearRegression\n",
    "\n",
    "lr = LinearRegression()\n",
    "\n",
    "lr.fit(X,y)"
   ]
  },
  {
   "cell_type": "code",
   "execution_count": 11,
   "metadata": {},
   "outputs": [],
   "source": [
    "def lsi_miss(Var2,Var3,Trip_Distance,Customer_Rating,Life_Style_Index):\n",
    "    if np.isnan(Life_Style_Index)==False:\n",
    "        return Life_Style_Index\n",
    "    else:\n",
    "        X = np.array([Var2, Var3,Trip_Distance,Customer_Rating])\n",
    "        X = X.reshape(1, -1)\n",
    "        res = lr.predict(X)\n",
    "        #print(res[0])\n",
    "        return float(res[0])"
   ]
  },
  {
   "cell_type": "code",
   "execution_count": 12,
   "metadata": {},
   "outputs": [
    {
     "data": {
      "text/plain": [
       "Trip_ID                            0\n",
       "Trip_Distance                      0\n",
       "Type_of_Cab                    20210\n",
       "Customer_Since_Months           5920\n",
       "Life_Style_Index                   0\n",
       "Confidence_Life_Style_Index    20193\n",
       "Destination_Type                   0\n",
       "Customer_Rating                    0\n",
       "Cancellation_Last_1Month           0\n",
       "Var1                           71030\n",
       "Var2                               0\n",
       "Var3                               0\n",
       "Gender                             0\n",
       "Surge_Pricing_Type                 0\n",
       "dtype: int64"
      ]
     },
     "execution_count": 12,
     "metadata": {},
     "output_type": "execute_result"
    }
   ],
   "source": [
    "df['Life_Style_Index'] = df.apply(lambda x : lsi_miss(x['Var2'], x['Var3'] , x['Trip_Distance'] , x['Customer_Rating'],x['Life_Style_Index']), axis= 1)\n",
    "df.isnull().sum()"
   ]
  },
  {
   "cell_type": "code",
   "execution_count": 13,
   "metadata": {},
   "outputs": [
    {
     "data": {
      "text/plain": [
       "7.408643553015134"
      ]
     },
     "execution_count": 13,
     "metadata": {},
     "output_type": "execute_result"
    }
   ],
   "source": [
    "(df['Life_Style_Index'][69])"
   ]
  },
  {
   "cell_type": "code",
   "execution_count": 14,
   "metadata": {
    "scrolled": false
   },
   "outputs": [
    {
     "data": {
      "text/html": [
       "<div>\n",
       "<style scoped>\n",
       "    .dataframe tbody tr th:only-of-type {\n",
       "        vertical-align: middle;\n",
       "    }\n",
       "\n",
       "    .dataframe tbody tr th {\n",
       "        vertical-align: top;\n",
       "    }\n",
       "\n",
       "    .dataframe thead th {\n",
       "        text-align: right;\n",
       "    }\n",
       "</style>\n",
       "<table border=\"1\" class=\"dataframe\">\n",
       "  <thead>\n",
       "    <tr style=\"text-align: right;\">\n",
       "      <th></th>\n",
       "      <th>Trip_ID</th>\n",
       "      <th>Trip_Distance</th>\n",
       "      <th>Type_of_Cab</th>\n",
       "      <th>Customer_Since_Months</th>\n",
       "      <th>Life_Style_Index</th>\n",
       "      <th>Confidence_Life_Style_Index</th>\n",
       "      <th>Destination_Type</th>\n",
       "      <th>Customer_Rating</th>\n",
       "      <th>Cancellation_Last_1Month</th>\n",
       "      <th>Var1</th>\n",
       "      <th>Var2</th>\n",
       "      <th>Var3</th>\n",
       "      <th>Gender</th>\n",
       "      <th>Surge_Pricing_Type</th>\n",
       "    </tr>\n",
       "  </thead>\n",
       "  <tbody>\n",
       "    <tr>\n",
       "      <th>0</th>\n",
       "      <td>T0005689460</td>\n",
       "      <td>6.77</td>\n",
       "      <td>B</td>\n",
       "      <td>1.0</td>\n",
       "      <td>2.42769</td>\n",
       "      <td>A</td>\n",
       "      <td>A</td>\n",
       "      <td>3.9050</td>\n",
       "      <td>0</td>\n",
       "      <td>40.0</td>\n",
       "      <td>46</td>\n",
       "      <td>60</td>\n",
       "      <td>Female</td>\n",
       "      <td>2</td>\n",
       "    </tr>\n",
       "    <tr>\n",
       "      <th>1</th>\n",
       "      <td>T0005689461</td>\n",
       "      <td>29.47</td>\n",
       "      <td>B</td>\n",
       "      <td>10.0</td>\n",
       "      <td>2.78245</td>\n",
       "      <td>B</td>\n",
       "      <td>A</td>\n",
       "      <td>3.4500</td>\n",
       "      <td>0</td>\n",
       "      <td>38.0</td>\n",
       "      <td>56</td>\n",
       "      <td>78</td>\n",
       "      <td>Male</td>\n",
       "      <td>2</td>\n",
       "    </tr>\n",
       "    <tr>\n",
       "      <th>4</th>\n",
       "      <td>T0005689467</td>\n",
       "      <td>54.95</td>\n",
       "      <td>C</td>\n",
       "      <td>10.0</td>\n",
       "      <td>3.03453</td>\n",
       "      <td>B</td>\n",
       "      <td>A</td>\n",
       "      <td>3.4025</td>\n",
       "      <td>4</td>\n",
       "      <td>51.0</td>\n",
       "      <td>49</td>\n",
       "      <td>102</td>\n",
       "      <td>Male</td>\n",
       "      <td>2</td>\n",
       "    </tr>\n",
       "    <tr>\n",
       "      <th>6</th>\n",
       "      <td>T0005689470</td>\n",
       "      <td>29.72</td>\n",
       "      <td>E</td>\n",
       "      <td>10.0</td>\n",
       "      <td>2.83958</td>\n",
       "      <td>C</td>\n",
       "      <td>B</td>\n",
       "      <td>2.9750</td>\n",
       "      <td>1</td>\n",
       "      <td>83.0</td>\n",
       "      <td>50</td>\n",
       "      <td>75</td>\n",
       "      <td>Male</td>\n",
       "      <td>2</td>\n",
       "    </tr>\n",
       "    <tr>\n",
       "      <th>7</th>\n",
       "      <td>T0005689472</td>\n",
       "      <td>18.44</td>\n",
       "      <td>B</td>\n",
       "      <td>2.0</td>\n",
       "      <td>2.81871</td>\n",
       "      <td>B</td>\n",
       "      <td>A</td>\n",
       "      <td>3.5825</td>\n",
       "      <td>0</td>\n",
       "      <td>103.0</td>\n",
       "      <td>46</td>\n",
       "      <td>63</td>\n",
       "      <td>Male</td>\n",
       "      <td>2</td>\n",
       "    </tr>\n",
       "  </tbody>\n",
       "</table>\n",
       "</div>"
      ],
      "text/plain": [
       "       Trip_ID  Trip_Distance Type_of_Cab  Customer_Since_Months  \\\n",
       "0  T0005689460           6.77           B                    1.0   \n",
       "1  T0005689461          29.47           B                   10.0   \n",
       "4  T0005689467          54.95           C                   10.0   \n",
       "6  T0005689470          29.72           E                   10.0   \n",
       "7  T0005689472          18.44           B                    2.0   \n",
       "\n",
       "   Life_Style_Index Confidence_Life_Style_Index Destination_Type  \\\n",
       "0           2.42769                           A                A   \n",
       "1           2.78245                           B                A   \n",
       "4           3.03453                           B                A   \n",
       "6           2.83958                           C                B   \n",
       "7           2.81871                           B                A   \n",
       "\n",
       "   Customer_Rating  Cancellation_Last_1Month   Var1  Var2  Var3  Gender  \\\n",
       "0           3.9050                         0   40.0    46    60  Female   \n",
       "1           3.4500                         0   38.0    56    78    Male   \n",
       "4           3.4025                         4   51.0    49   102    Male   \n",
       "6           2.9750                         1   83.0    50    75    Male   \n",
       "7           3.5825                         0  103.0    46    63    Male   \n",
       "\n",
       "   Surge_Pricing_Type  \n",
       "0                   2  \n",
       "1                   2  \n",
       "4                   2  \n",
       "6                   2  \n",
       "7                   2  "
      ]
     },
     "execution_count": 14,
     "metadata": {},
     "output_type": "execute_result"
    }
   ],
   "source": [
    "tempdf = df.dropna()\n",
    "tempdf.head()"
   ]
  },
  {
   "cell_type": "code",
   "execution_count": 15,
   "metadata": {},
   "outputs": [
    {
     "data": {
      "text/plain": [
       "10.0    42680\n",
       "2.0     11621\n",
       "3.0     10351\n",
       "0.0     10169\n",
       "5.0      8641\n",
       "1.0      8297\n",
       "4.0      7726\n",
       "7.0      7407\n",
       "6.0      7375\n",
       "8.0      6328\n",
       "9.0      5147\n",
       "Name: Customer_Since_Months, dtype: int64"
      ]
     },
     "execution_count": 15,
     "metadata": {},
     "output_type": "execute_result"
    }
   ],
   "source": [
    "df['Customer_Since_Months'].value_counts()"
   ]
  },
  {
   "cell_type": "code",
   "execution_count": 16,
   "metadata": {},
   "outputs": [],
   "source": [
    "df['Customer_Since_Months'].fillna(10.0,inplace=True)"
   ]
  },
  {
   "cell_type": "code",
   "execution_count": 17,
   "metadata": {},
   "outputs": [
    {
     "data": {
      "text/plain": [
       "Trip_ID                            0\n",
       "Trip_Distance                      0\n",
       "Type_of_Cab                    20210\n",
       "Customer_Since_Months              0\n",
       "Life_Style_Index                   0\n",
       "Confidence_Life_Style_Index    20193\n",
       "Destination_Type                   0\n",
       "Customer_Rating                    0\n",
       "Cancellation_Last_1Month           0\n",
       "Var1                           71030\n",
       "Var2                               0\n",
       "Var3                               0\n",
       "Gender                             0\n",
       "Surge_Pricing_Type                 0\n",
       "dtype: int64"
      ]
     },
     "execution_count": 17,
     "metadata": {},
     "output_type": "execute_result"
    }
   ],
   "source": [
    "df.isnull().sum()"
   ]
  },
  {
   "cell_type": "code",
   "execution_count": 18,
   "metadata": {},
   "outputs": [],
   "source": [
    "#df = df.drop('Var1',axis=1)\n",
    "df['Var1'] = df['Var1'].fillna(df['Var1'].mean())"
   ]
  },
  {
   "cell_type": "code",
   "execution_count": 19,
   "metadata": {},
   "outputs": [
    {
     "data": {
      "text/plain": [
       "Trip_ID                            0\n",
       "Trip_Distance                      0\n",
       "Type_of_Cab                    20210\n",
       "Customer_Since_Months              0\n",
       "Life_Style_Index                   0\n",
       "Confidence_Life_Style_Index    20193\n",
       "Destination_Type                   0\n",
       "Customer_Rating                    0\n",
       "Cancellation_Last_1Month           0\n",
       "Var1                               0\n",
       "Var2                               0\n",
       "Var3                               0\n",
       "Gender                             0\n",
       "Surge_Pricing_Type                 0\n",
       "dtype: int64"
      ]
     },
     "execution_count": 19,
     "metadata": {},
     "output_type": "execute_result"
    }
   ],
   "source": [
    "df.isnull().sum()"
   ]
  },
  {
   "cell_type": "code",
   "execution_count": null,
   "metadata": {},
   "outputs": [],
   "source": [
    "df.groupby('Type_of_Cab').mean()"
   ]
  },
  {
   "cell_type": "code",
   "execution_count": null,
   "metadata": {
    "scrolled": true
   },
   "outputs": [],
   "source": [
    "sns.boxplot(x=tempdf['Type_of_Cab'],y=tempdf['Trip_Distance'])"
   ]
  },
  {
   "cell_type": "code",
   "execution_count": 20,
   "metadata": {},
   "outputs": [],
   "source": [
    "X = tempdf[['Trip_Distance','Customer_Rating','Life_Style_Index','Cancellation_Last_1Month','Customer_Since_Months']]\n",
    "y = tempdf['Type_of_Cab']"
   ]
  },
  {
   "cell_type": "code",
   "execution_count": 21,
   "metadata": {},
   "outputs": [],
   "source": [
    "from sklearn.preprocessing import StandardScaler\n",
    "\n",
    "sc = StandardScaler()\n",
    "\n",
    "X = sc.fit_transform(X)"
   ]
  },
  {
   "cell_type": "code",
   "execution_count": null,
   "metadata": {},
   "outputs": [],
   "source": [
    "X[2]"
   ]
  },
  {
   "cell_type": "code",
   "execution_count": 22,
   "metadata": {},
   "outputs": [
    {
     "data": {
      "text/plain": [
       "LogisticRegression(C=1.0, class_weight=None, dual=False, fit_intercept=True,\n",
       "                   intercept_scaling=1, l1_ratio=None, max_iter=100,\n",
       "                   multi_class='auto', n_jobs=None, penalty='l2',\n",
       "                   random_state=None, solver='lbfgs', tol=0.0001, verbose=0,\n",
       "                   warm_start=False)"
      ]
     },
     "execution_count": 22,
     "metadata": {},
     "output_type": "execute_result"
    }
   ],
   "source": [
    "from sklearn.linear_model import LogisticRegression\n",
    "\n",
    "logreg = LogisticRegression()\n",
    "\n",
    "logreg.fit(X,y)"
   ]
  },
  {
   "cell_type": "code",
   "execution_count": 23,
   "metadata": {},
   "outputs": [],
   "source": [
    "def toc_miss(Trip_Distance,Customer_Rating,Life_Style_Index,Cancellation_Last_1Month,Customer_Since_Months,Type_of_Cab):\n",
    "    if pd.isnull(Type_of_Cab) == False:\n",
    "        return str(Type_of_Cab)\n",
    "    else:\n",
    "        res = logreg.predict([[Trip_Distance,Customer_Rating,Life_Style_Index,Cancellation_Last_1Month,Customer_Since_Months]])\n",
    "        #print(res[0])\n",
    "        return res[0]"
   ]
  },
  {
   "cell_type": "code",
   "execution_count": 24,
   "metadata": {},
   "outputs": [
    {
     "data": {
      "text/html": [
       "<div>\n",
       "<style scoped>\n",
       "    .dataframe tbody tr th:only-of-type {\n",
       "        vertical-align: middle;\n",
       "    }\n",
       "\n",
       "    .dataframe tbody tr th {\n",
       "        vertical-align: top;\n",
       "    }\n",
       "\n",
       "    .dataframe thead th {\n",
       "        text-align: right;\n",
       "    }\n",
       "</style>\n",
       "<table border=\"1\" class=\"dataframe\">\n",
       "  <thead>\n",
       "    <tr style=\"text-align: right;\">\n",
       "      <th></th>\n",
       "      <th>Trip_ID</th>\n",
       "      <th>Trip_Distance</th>\n",
       "      <th>Type_of_Cab</th>\n",
       "      <th>Customer_Since_Months</th>\n",
       "      <th>Life_Style_Index</th>\n",
       "      <th>Confidence_Life_Style_Index</th>\n",
       "      <th>Destination_Type</th>\n",
       "      <th>Customer_Rating</th>\n",
       "      <th>Cancellation_Last_1Month</th>\n",
       "      <th>Var1</th>\n",
       "      <th>Var2</th>\n",
       "      <th>Var3</th>\n",
       "      <th>Gender</th>\n",
       "      <th>Surge_Pricing_Type</th>\n",
       "    </tr>\n",
       "  </thead>\n",
       "  <tbody>\n",
       "    <tr>\n",
       "      <th>0</th>\n",
       "      <td>T0005689460</td>\n",
       "      <td>-1.466568</td>\n",
       "      <td>B</td>\n",
       "      <td>-1.427705</td>\n",
       "      <td>-0.616808</td>\n",
       "      <td>A</td>\n",
       "      <td>A</td>\n",
       "      <td>1.076346</td>\n",
       "      <td>-0.754502</td>\n",
       "      <td>40.000000</td>\n",
       "      <td>46</td>\n",
       "      <td>60</td>\n",
       "      <td>Female</td>\n",
       "      <td>2</td>\n",
       "    </tr>\n",
       "    <tr>\n",
       "      <th>1</th>\n",
       "      <td>T0005689461</td>\n",
       "      <td>-0.577167</td>\n",
       "      <td>B</td>\n",
       "      <td>1.045336</td>\n",
       "      <td>-0.426190</td>\n",
       "      <td>B</td>\n",
       "      <td>A</td>\n",
       "      <td>0.612378</td>\n",
       "      <td>-0.754502</td>\n",
       "      <td>38.000000</td>\n",
       "      <td>56</td>\n",
       "      <td>78</td>\n",
       "      <td>Male</td>\n",
       "      <td>2</td>\n",
       "    </tr>\n",
       "    <tr>\n",
       "      <th>2</th>\n",
       "      <td>T0005689464</td>\n",
       "      <td>-0.102689</td>\n",
       "      <td>NaN</td>\n",
       "      <td>1.045336</td>\n",
       "      <td>2.382870</td>\n",
       "      <td>NaN</td>\n",
       "      <td>E</td>\n",
       "      <td>0.664638</td>\n",
       "      <td>1.173106</td>\n",
       "      <td>64.202698</td>\n",
       "      <td>56</td>\n",
       "      <td>77</td>\n",
       "      <td>Male</td>\n",
       "      <td>2</td>\n",
       "    </tr>\n",
       "    <tr>\n",
       "      <th>3</th>\n",
       "      <td>T0005689465</td>\n",
       "      <td>0.680141</td>\n",
       "      <td>C</td>\n",
       "      <td>1.045336</td>\n",
       "      <td>2.280343</td>\n",
       "      <td>NaN</td>\n",
       "      <td>A</td>\n",
       "      <td>0.616202</td>\n",
       "      <td>-0.754502</td>\n",
       "      <td>64.202698</td>\n",
       "      <td>52</td>\n",
       "      <td>74</td>\n",
       "      <td>Male</td>\n",
       "      <td>3</td>\n",
       "    </tr>\n",
       "    <tr>\n",
       "      <th>4</th>\n",
       "      <td>T0005689467</td>\n",
       "      <td>0.421157</td>\n",
       "      <td>C</td>\n",
       "      <td>1.045336</td>\n",
       "      <td>-0.290744</td>\n",
       "      <td>B</td>\n",
       "      <td>A</td>\n",
       "      <td>0.563942</td>\n",
       "      <td>3.100714</td>\n",
       "      <td>51.000000</td>\n",
       "      <td>49</td>\n",
       "      <td>102</td>\n",
       "      <td>Male</td>\n",
       "      <td>2</td>\n",
       "    </tr>\n",
       "  </tbody>\n",
       "</table>\n",
       "</div>"
      ],
      "text/plain": [
       "       Trip_ID  Trip_Distance Type_of_Cab  Customer_Since_Months  \\\n",
       "0  T0005689460      -1.466568           B              -1.427705   \n",
       "1  T0005689461      -0.577167           B               1.045336   \n",
       "2  T0005689464      -0.102689         NaN               1.045336   \n",
       "3  T0005689465       0.680141           C               1.045336   \n",
       "4  T0005689467       0.421157           C               1.045336   \n",
       "\n",
       "   Life_Style_Index Confidence_Life_Style_Index Destination_Type  \\\n",
       "0         -0.616808                           A                A   \n",
       "1         -0.426190                           B                A   \n",
       "2          2.382870                         NaN                E   \n",
       "3          2.280343                         NaN                A   \n",
       "4         -0.290744                           B                A   \n",
       "\n",
       "   Customer_Rating  Cancellation_Last_1Month       Var1  Var2  Var3  Gender  \\\n",
       "0         1.076346                 -0.754502  40.000000    46    60  Female   \n",
       "1         0.612378                 -0.754502  38.000000    56    78    Male   \n",
       "2         0.664638                  1.173106  64.202698    56    77    Male   \n",
       "3         0.616202                 -0.754502  64.202698    52    74    Male   \n",
       "4         0.563942                  3.100714  51.000000    49   102    Male   \n",
       "\n",
       "   Surge_Pricing_Type  \n",
       "0                   2  \n",
       "1                   2  \n",
       "2                   2  \n",
       "3                   3  \n",
       "4                   2  "
      ]
     },
     "execution_count": 24,
     "metadata": {},
     "output_type": "execute_result"
    }
   ],
   "source": [
    "scaled_features = df.copy()\n",
    "col_names = ['Trip_Distance','Customer_Rating','Life_Style_Index','Cancellation_Last_1Month','Customer_Since_Months']\n",
    "features = scaled_features[col_names]\n",
    "scaler = StandardScaler().fit(features.values)\n",
    "features = scaler.transform(features.values)\n",
    "\n",
    "scaled_features[col_names] = features\n",
    "scaled_features.head()"
   ]
  },
  {
   "cell_type": "code",
   "execution_count": 25,
   "metadata": {},
   "outputs": [
    {
     "data": {
      "text/plain": [
       "Trip_ID                            0\n",
       "Trip_Distance                      0\n",
       "Type_of_Cab                        0\n",
       "Customer_Since_Months              0\n",
       "Life_Style_Index                   0\n",
       "Confidence_Life_Style_Index    20193\n",
       "Destination_Type                   0\n",
       "Customer_Rating                    0\n",
       "Cancellation_Last_1Month           0\n",
       "Var1                               0\n",
       "Var2                               0\n",
       "Var3                               0\n",
       "Gender                             0\n",
       "Surge_Pricing_Type                 0\n",
       "dtype: int64"
      ]
     },
     "execution_count": 25,
     "metadata": {},
     "output_type": "execute_result"
    }
   ],
   "source": [
    "df['Type_of_Cab'] = scaled_features.apply(lambda x : toc_miss(x['Trip_Distance'], x['Customer_Rating'] , x['Life_Style_Index'],x['Cancellation_Last_1Month'], x['Customer_Since_Months'],x['Type_of_Cab']), axis= 1)\n",
    "df.isnull().sum()"
   ]
  },
  {
   "cell_type": "code",
   "execution_count": 26,
   "metadata": {},
   "outputs": [
    {
     "data": {
      "text/plain": [
       "B    42707\n",
       "C    35850\n",
       "A    21603\n",
       "D    19789\n",
       "E    11713\n",
       "Name: Type_of_Cab, dtype: int64"
      ]
     },
     "execution_count": 26,
     "metadata": {},
     "output_type": "execute_result"
    }
   ],
   "source": [
    "df['Type_of_Cab'].value_counts()\n",
    "\n",
    "# B    31136\n",
    "# C    28122\n",
    "# A    21569\n",
    "# D    18991\n",
    "# E    11634"
   ]
  },
  {
   "cell_type": "code",
   "execution_count": 39,
   "metadata": {},
   "outputs": [],
   "source": [
    "df = df.drop('Confidence_Life_Style_Index',axis = 1)"
   ]
  },
  {
   "cell_type": "code",
   "execution_count": 42,
   "metadata": {},
   "outputs": [],
   "source": [
    "screal = StandardScaler()"
   ]
  },
  {
   "cell_type": "code",
   "execution_count": null,
   "metadata": {},
   "outputs": [],
   "source": []
  },
  {
   "cell_type": "code",
   "execution_count": null,
   "metadata": {},
   "outputs": [],
   "source": []
  },
  {
   "cell_type": "code",
   "execution_count": null,
   "metadata": {},
   "outputs": [],
   "source": []
  },
  {
   "cell_type": "code",
   "execution_count": 27,
   "metadata": {},
   "outputs": [],
   "source": [
    "testdf = pd.read_csv('test.csv')"
   ]
  },
  {
   "cell_type": "code",
   "execution_count": 28,
   "metadata": {},
   "outputs": [
    {
     "data": {
      "text/plain": [
       "Trip_ID                            0\n",
       "Trip_Distance                      0\n",
       "Type_of_Cab                    13158\n",
       "Customer_Since_Months           3966\n",
       "Life_Style_Index                   0\n",
       "Confidence_Life_Style_Index    13327\n",
       "Destination_Type                   0\n",
       "Customer_Rating                    0\n",
       "Cancellation_Last_1Month           0\n",
       "Var1                           46789\n",
       "Var2                               0\n",
       "Var3                               0\n",
       "Gender                             0\n",
       "dtype: int64"
      ]
     },
     "execution_count": 28,
     "metadata": {},
     "output_type": "execute_result"
    }
   ],
   "source": [
    "testdf['Life_Style_Index'] = testdf.apply(lambda x : lsi_miss(x['Var2'], x['Var3'] , x['Trip_Distance'] , x['Customer_Rating'],x['Life_Style_Index']), axis= 1)\n",
    "testdf.isnull().sum()"
   ]
  },
  {
   "cell_type": "code",
   "execution_count": 30,
   "metadata": {},
   "outputs": [
    {
     "data": {
      "text/html": [
       "<div>\n",
       "<style scoped>\n",
       "    .dataframe tbody tr th:only-of-type {\n",
       "        vertical-align: middle;\n",
       "    }\n",
       "\n",
       "    .dataframe tbody tr th {\n",
       "        vertical-align: top;\n",
       "    }\n",
       "\n",
       "    .dataframe thead th {\n",
       "        text-align: right;\n",
       "    }\n",
       "</style>\n",
       "<table border=\"1\" class=\"dataframe\">\n",
       "  <thead>\n",
       "    <tr style=\"text-align: right;\">\n",
       "      <th></th>\n",
       "      <th>Trip_ID</th>\n",
       "      <th>Trip_Distance</th>\n",
       "      <th>Type_of_Cab</th>\n",
       "      <th>Customer_Since_Months</th>\n",
       "      <th>Life_Style_Index</th>\n",
       "      <th>Confidence_Life_Style_Index</th>\n",
       "      <th>Destination_Type</th>\n",
       "      <th>Customer_Rating</th>\n",
       "      <th>Cancellation_Last_1Month</th>\n",
       "      <th>Var1</th>\n",
       "      <th>Var2</th>\n",
       "      <th>Var3</th>\n",
       "      <th>Gender</th>\n",
       "    </tr>\n",
       "  </thead>\n",
       "  <tbody>\n",
       "    <tr>\n",
       "      <th>0</th>\n",
       "      <td>T0005689459</td>\n",
       "      <td>-1.361956</td>\n",
       "      <td>A</td>\n",
       "      <td>1.045336</td>\n",
       "      <td>-0.537989</td>\n",
       "      <td>A</td>\n",
       "      <td>B</td>\n",
       "      <td>0.846912</td>\n",
       "      <td>1.173106</td>\n",
       "      <td>NaN</td>\n",
       "      <td>46</td>\n",
       "      <td>63</td>\n",
       "      <td>Male</td>\n",
       "    </tr>\n",
       "    <tr>\n",
       "      <th>1</th>\n",
       "      <td>T0005689462</td>\n",
       "      <td>-0.472163</td>\n",
       "      <td>B</td>\n",
       "      <td>1.045336</td>\n",
       "      <td>-0.389126</td>\n",
       "      <td>A</td>\n",
       "      <td>A</td>\n",
       "      <td>-1.280457</td>\n",
       "      <td>-0.754502</td>\n",
       "      <td>65.0</td>\n",
       "      <td>49</td>\n",
       "      <td>80</td>\n",
       "      <td>Female</td>\n",
       "    </tr>\n",
       "    <tr>\n",
       "      <th>2</th>\n",
       "      <td>T0005689463</td>\n",
       "      <td>-1.325126</td>\n",
       "      <td>C</td>\n",
       "      <td>-0.603358</td>\n",
       "      <td>-0.467644</td>\n",
       "      <td>A</td>\n",
       "      <td>D</td>\n",
       "      <td>1.688172</td>\n",
       "      <td>-0.754502</td>\n",
       "      <td>NaN</td>\n",
       "      <td>47</td>\n",
       "      <td>74</td>\n",
       "      <td>Male</td>\n",
       "    </tr>\n",
       "    <tr>\n",
       "      <th>3</th>\n",
       "      <td>T0005689466</td>\n",
       "      <td>-1.146462</td>\n",
       "      <td>NaN</td>\n",
       "      <td>-0.053793</td>\n",
       "      <td>-0.587847</td>\n",
       "      <td>C</td>\n",
       "      <td>E</td>\n",
       "      <td>1.713664</td>\n",
       "      <td>-0.754502</td>\n",
       "      <td>63.0</td>\n",
       "      <td>43</td>\n",
       "      <td>54</td>\n",
       "      <td>Male</td>\n",
       "    </tr>\n",
       "    <tr>\n",
       "      <th>4</th>\n",
       "      <td>T0005689468</td>\n",
       "      <td>-0.476864</td>\n",
       "      <td>B</td>\n",
       "      <td>0.220989</td>\n",
       "      <td>-0.408174</td>\n",
       "      <td>A</td>\n",
       "      <td>K</td>\n",
       "      <td>1.786319</td>\n",
       "      <td>2.136910</td>\n",
       "      <td>96.0</td>\n",
       "      <td>44</td>\n",
       "      <td>56</td>\n",
       "      <td>Male</td>\n",
       "    </tr>\n",
       "  </tbody>\n",
       "</table>\n",
       "</div>"
      ],
      "text/plain": [
       "       Trip_ID  Trip_Distance Type_of_Cab  Customer_Since_Months  \\\n",
       "0  T0005689459      -1.361956           A               1.045336   \n",
       "1  T0005689462      -0.472163           B               1.045336   \n",
       "2  T0005689463      -1.325126           C              -0.603358   \n",
       "3  T0005689466      -1.146462         NaN              -0.053793   \n",
       "4  T0005689468      -0.476864           B               0.220989   \n",
       "\n",
       "   Life_Style_Index Confidence_Life_Style_Index Destination_Type  \\\n",
       "0         -0.537989                           A                B   \n",
       "1         -0.389126                           A                A   \n",
       "2         -0.467644                           A                D   \n",
       "3         -0.587847                           C                E   \n",
       "4         -0.408174                           A                K   \n",
       "\n",
       "   Customer_Rating  Cancellation_Last_1Month  Var1  Var2  Var3  Gender  \n",
       "0         0.846912                  1.173106   NaN    46    63    Male  \n",
       "1        -1.280457                 -0.754502  65.0    49    80  Female  \n",
       "2         1.688172                 -0.754502   NaN    47    74    Male  \n",
       "3         1.713664                 -0.754502  63.0    43    54    Male  \n",
       "4         1.786319                  2.136910  96.0    44    56    Male  "
      ]
     },
     "execution_count": 30,
     "metadata": {},
     "output_type": "execute_result"
    }
   ],
   "source": [
    "scaled_features_test = testdf.copy()\n",
    "col_names = ['Trip_Distance','Customer_Rating','Life_Style_Index','Cancellation_Last_1Month','Customer_Since_Months']\n",
    "features_test = scaled_features_test[col_names]\n",
    "features_test = scaler.transform(features_test.values)\n",
    "\n",
    "scaled_features_test[col_names] = features_test\n",
    "scaled_features_test.head()"
   ]
  },
  {
   "cell_type": "code",
   "execution_count": 33,
   "metadata": {},
   "outputs": [
    {
     "data": {
      "text/plain": [
       " 1.045336    28137\n",
       "-1.152922     7824\n",
       "-0.878140     6723\n",
       "-1.702487     6716\n",
       "-0.328575     5764\n",
       "-1.427705     5668\n",
       "-0.603358     5309\n",
       " 0.220989     4925\n",
       "-0.053793     4904\n",
       " 0.495771     4197\n",
       " 0.770554     3262\n",
       "Name: Customer_Since_Months, dtype: int64"
      ]
     },
     "execution_count": 33,
     "metadata": {},
     "output_type": "execute_result"
    }
   ],
   "source": [
    "scaled_features_test['Customer_Since_Months'].value_counts()"
   ]
  },
  {
   "cell_type": "code",
   "execution_count": 34,
   "metadata": {},
   "outputs": [],
   "source": [
    "scaled_features_test['Customer_Since_Months'].fillna(1.045336,inplace=True)"
   ]
  },
  {
   "cell_type": "code",
   "execution_count": 35,
   "metadata": {},
   "outputs": [
    {
     "data": {
      "text/plain": [
       "Trip_ID                            0\n",
       "Trip_Distance                      0\n",
       "Type_of_Cab                        0\n",
       "Customer_Since_Months           3966\n",
       "Life_Style_Index                   0\n",
       "Confidence_Life_Style_Index    13327\n",
       "Destination_Type                   0\n",
       "Customer_Rating                    0\n",
       "Cancellation_Last_1Month           0\n",
       "Var1                           46789\n",
       "Var2                               0\n",
       "Var3                               0\n",
       "Gender                             0\n",
       "dtype: int64"
      ]
     },
     "execution_count": 35,
     "metadata": {},
     "output_type": "execute_result"
    }
   ],
   "source": [
    "testdf['Type_of_Cab'] = scaled_features_test.apply(lambda x : toc_miss(x['Trip_Distance'], x['Customer_Rating'] , x['Life_Style_Index'],x['Cancellation_Last_1Month'], x['Customer_Since_Months'],x['Type_of_Cab']), axis= 1)\n",
    "testdf.isnull().sum()"
   ]
  },
  {
   "cell_type": "code",
   "execution_count": 36,
   "metadata": {},
   "outputs": [],
   "source": [
    "testdf['Customer_Since_Months'].fillna(10.0,inplace=True)"
   ]
  },
  {
   "cell_type": "code",
   "execution_count": 37,
   "metadata": {},
   "outputs": [],
   "source": [
    "testdf['Var1'] = testdf['Var1'].fillna(testdf['Var1'].mean())"
   ]
  },
  {
   "cell_type": "code",
   "execution_count": 41,
   "metadata": {},
   "outputs": [
    {
     "data": {
      "text/plain": [
       "Trip_ID                     0\n",
       "Trip_Distance               0\n",
       "Type_of_Cab                 0\n",
       "Customer_Since_Months       0\n",
       "Life_Style_Index            0\n",
       "Destination_Type            0\n",
       "Customer_Rating             0\n",
       "Cancellation_Last_1Month    0\n",
       "Var1                        0\n",
       "Var2                        0\n",
       "Var3                        0\n",
       "Gender                      0\n",
       "dtype: int64"
      ]
     },
     "execution_count": 41,
     "metadata": {},
     "output_type": "execute_result"
    }
   ],
   "source": [
    "testdf.isnull().sum()"
   ]
  },
  {
   "cell_type": "code",
   "execution_count": 40,
   "metadata": {},
   "outputs": [],
   "source": [
    "testdf = testdf.drop('Confidence_Life_Style_Index',axis=1)"
   ]
  },
  {
   "cell_type": "code",
   "execution_count": 47,
   "metadata": {},
   "outputs": [
    {
     "name": "stdout",
     "output_type": "stream",
     "text": [
      "<class 'pandas.core.frame.DataFrame'>\n",
      "RangeIndex: 87395 entries, 0 to 87394\n",
      "Data columns (total 12 columns):\n",
      " #   Column                    Non-Null Count  Dtype  \n",
      "---  ------                    --------------  -----  \n",
      " 0   Trip_ID                   87395 non-null  object \n",
      " 1   Trip_Distance             87395 non-null  float64\n",
      " 2   Type_of_Cab               87395 non-null  object \n",
      " 3   Customer_Since_Months     87395 non-null  float64\n",
      " 4   Life_Style_Index          87395 non-null  float64\n",
      " 5   Destination_Type          87395 non-null  object \n",
      " 6   Customer_Rating           87395 non-null  float64\n",
      " 7   Cancellation_Last_1Month  87395 non-null  int64  \n",
      " 8   Var1                      87395 non-null  float64\n",
      " 9   Var2                      87395 non-null  int64  \n",
      " 10  Var3                      87395 non-null  int64  \n",
      " 11  Gender                    87395 non-null  object \n",
      "dtypes: float64(5), int64(3), object(4)\n",
      "memory usage: 8.0+ MB\n"
     ]
    }
   ],
   "source": [
    "testdf.info()"
   ]
  },
  {
   "cell_type": "code",
   "execution_count": 46,
   "metadata": {
    "scrolled": true
   },
   "outputs": [
    {
     "data": {
      "text/html": [
       "<div>\n",
       "<style scoped>\n",
       "    .dataframe tbody tr th:only-of-type {\n",
       "        vertical-align: middle;\n",
       "    }\n",
       "\n",
       "    .dataframe tbody tr th {\n",
       "        vertical-align: top;\n",
       "    }\n",
       "\n",
       "    .dataframe thead th {\n",
       "        text-align: right;\n",
       "    }\n",
       "</style>\n",
       "<table border=\"1\" class=\"dataframe\">\n",
       "  <thead>\n",
       "    <tr style=\"text-align: right;\">\n",
       "      <th></th>\n",
       "      <th>Trip_ID</th>\n",
       "      <th>Trip_Distance</th>\n",
       "      <th>Type_of_Cab</th>\n",
       "      <th>Customer_Since_Months</th>\n",
       "      <th>Life_Style_Index</th>\n",
       "      <th>Destination_Type</th>\n",
       "      <th>Customer_Rating</th>\n",
       "      <th>Cancellation_Last_1Month</th>\n",
       "      <th>Var1</th>\n",
       "      <th>Var2</th>\n",
       "      <th>Var3</th>\n",
       "      <th>Gender</th>\n",
       "      <th>Surge_Pricing_Type</th>\n",
       "    </tr>\n",
       "  </thead>\n",
       "  <tbody>\n",
       "    <tr>\n",
       "      <th>0</th>\n",
       "      <td>T0005689460</td>\n",
       "      <td>6.77</td>\n",
       "      <td>B</td>\n",
       "      <td>1.0</td>\n",
       "      <td>2.427690</td>\n",
       "      <td>A</td>\n",
       "      <td>3.90500</td>\n",
       "      <td>0</td>\n",
       "      <td>40.000000</td>\n",
       "      <td>46</td>\n",
       "      <td>60</td>\n",
       "      <td>Female</td>\n",
       "      <td>2.0</td>\n",
       "    </tr>\n",
       "    <tr>\n",
       "      <th>1</th>\n",
       "      <td>T0005689461</td>\n",
       "      <td>29.47</td>\n",
       "      <td>B</td>\n",
       "      <td>10.0</td>\n",
       "      <td>2.782450</td>\n",
       "      <td>A</td>\n",
       "      <td>3.45000</td>\n",
       "      <td>0</td>\n",
       "      <td>38.000000</td>\n",
       "      <td>56</td>\n",
       "      <td>78</td>\n",
       "      <td>Male</td>\n",
       "      <td>2.0</td>\n",
       "    </tr>\n",
       "    <tr>\n",
       "      <th>2</th>\n",
       "      <td>T0005689464</td>\n",
       "      <td>41.58</td>\n",
       "      <td>B</td>\n",
       "      <td>10.0</td>\n",
       "      <td>8.010407</td>\n",
       "      <td>E</td>\n",
       "      <td>3.50125</td>\n",
       "      <td>2</td>\n",
       "      <td>64.202698</td>\n",
       "      <td>56</td>\n",
       "      <td>77</td>\n",
       "      <td>Male</td>\n",
       "      <td>2.0</td>\n",
       "    </tr>\n",
       "    <tr>\n",
       "      <th>3</th>\n",
       "      <td>T0005689465</td>\n",
       "      <td>61.56</td>\n",
       "      <td>C</td>\n",
       "      <td>10.0</td>\n",
       "      <td>7.819595</td>\n",
       "      <td>A</td>\n",
       "      <td>3.45375</td>\n",
       "      <td>0</td>\n",
       "      <td>64.202698</td>\n",
       "      <td>52</td>\n",
       "      <td>74</td>\n",
       "      <td>Male</td>\n",
       "      <td>3.0</td>\n",
       "    </tr>\n",
       "    <tr>\n",
       "      <th>4</th>\n",
       "      <td>T0005689467</td>\n",
       "      <td>54.95</td>\n",
       "      <td>C</td>\n",
       "      <td>10.0</td>\n",
       "      <td>3.034530</td>\n",
       "      <td>A</td>\n",
       "      <td>3.40250</td>\n",
       "      <td>4</td>\n",
       "      <td>51.000000</td>\n",
       "      <td>49</td>\n",
       "      <td>102</td>\n",
       "      <td>Male</td>\n",
       "      <td>2.0</td>\n",
       "    </tr>\n",
       "  </tbody>\n",
       "</table>\n",
       "</div>"
      ],
      "text/plain": [
       "       Trip_ID  Trip_Distance Type_of_Cab  Customer_Since_Months  \\\n",
       "0  T0005689460           6.77           B                    1.0   \n",
       "1  T0005689461          29.47           B                   10.0   \n",
       "2  T0005689464          41.58           B                   10.0   \n",
       "3  T0005689465          61.56           C                   10.0   \n",
       "4  T0005689467          54.95           C                   10.0   \n",
       "\n",
       "   Life_Style_Index Destination_Type  Customer_Rating  \\\n",
       "0          2.427690                A          3.90500   \n",
       "1          2.782450                A          3.45000   \n",
       "2          8.010407                E          3.50125   \n",
       "3          7.819595                A          3.45375   \n",
       "4          3.034530                A          3.40250   \n",
       "\n",
       "   Cancellation_Last_1Month       Var1  Var2  Var3  Gender  Surge_Pricing_Type  \n",
       "0                         0  40.000000    46    60  Female                 2.0  \n",
       "1                         0  38.000000    56    78    Male                 2.0  \n",
       "2                         2  64.202698    56    77    Male                 2.0  \n",
       "3                         0  64.202698    52    74    Male                 3.0  \n",
       "4                         4  51.000000    49   102    Male                 2.0  "
      ]
     },
     "execution_count": 46,
     "metadata": {},
     "output_type": "execute_result"
    }
   ],
   "source": [
    "combinedf = pd.concat([df,testdf],axis=0)\n",
    "combinedf.head()"
   ]
  },
  {
   "cell_type": "code",
   "execution_count": 49,
   "metadata": {
    "scrolled": false
   },
   "outputs": [
    {
     "name": "stdout",
     "output_type": "stream",
     "text": [
      "<class 'pandas.core.frame.DataFrame'>\n",
      "Int64Index: 219057 entries, 0 to 87394\n",
      "Data columns (total 13 columns):\n",
      " #   Column                    Non-Null Count   Dtype  \n",
      "---  ------                    --------------   -----  \n",
      " 0   Trip_ID                   219057 non-null  object \n",
      " 1   Trip_Distance             219057 non-null  float64\n",
      " 2   Type_of_Cab               219057 non-null  object \n",
      " 3   Customer_Since_Months     219057 non-null  float64\n",
      " 4   Life_Style_Index          219057 non-null  float64\n",
      " 5   Destination_Type          219057 non-null  object \n",
      " 6   Customer_Rating           219057 non-null  float64\n",
      " 7   Cancellation_Last_1Month  219057 non-null  int64  \n",
      " 8   Var1                      219057 non-null  float64\n",
      " 9   Var2                      219057 non-null  int64  \n",
      " 10  Var3                      219057 non-null  int64  \n",
      " 11  Gender                    219057 non-null  object \n",
      " 12  Surge_Pricing_Type        131662 non-null  float64\n",
      "dtypes: float64(6), int64(3), object(4)\n",
      "memory usage: 23.4+ MB\n"
     ]
    }
   ],
   "source": [
    "#131662 + 87395 = 219057\n",
    "\n",
    "combinedf.info()"
   ]
  },
  {
   "cell_type": "code",
   "execution_count": 52,
   "metadata": {},
   "outputs": [
    {
     "data": {
      "text/html": [
       "<div>\n",
       "<style scoped>\n",
       "    .dataframe tbody tr th:only-of-type {\n",
       "        vertical-align: middle;\n",
       "    }\n",
       "\n",
       "    .dataframe tbody tr th {\n",
       "        vertical-align: top;\n",
       "    }\n",
       "\n",
       "    .dataframe thead th {\n",
       "        text-align: right;\n",
       "    }\n",
       "</style>\n",
       "<table border=\"1\" class=\"dataframe\">\n",
       "  <thead>\n",
       "    <tr style=\"text-align: right;\">\n",
       "      <th></th>\n",
       "      <th>Trip_ID</th>\n",
       "      <th>Trip_Distance</th>\n",
       "      <th>Type_of_Cab</th>\n",
       "      <th>Customer_Since_Months</th>\n",
       "      <th>Life_Style_Index</th>\n",
       "      <th>Destination_Type</th>\n",
       "      <th>Customer_Rating</th>\n",
       "      <th>Cancellation_Last_1Month</th>\n",
       "      <th>Var1</th>\n",
       "      <th>Var2</th>\n",
       "      <th>Var3</th>\n",
       "      <th>Gender</th>\n",
       "      <th>Surge_Pricing_Type</th>\n",
       "    </tr>\n",
       "  </thead>\n",
       "  <tbody>\n",
       "    <tr>\n",
       "      <th>0</th>\n",
       "      <td>T0005689460</td>\n",
       "      <td>-1.465804</td>\n",
       "      <td>B</td>\n",
       "      <td>-1.424890</td>\n",
       "      <td>-0.616467</td>\n",
       "      <td>A</td>\n",
       "      <td>1.076720</td>\n",
       "      <td>-0.755533</td>\n",
       "      <td>-1.629876</td>\n",
       "      <td>-1.042638</td>\n",
       "      <td>-1.301007</td>\n",
       "      <td>Female</td>\n",
       "      <td>2.0</td>\n",
       "    </tr>\n",
       "    <tr>\n",
       "      <th>1</th>\n",
       "      <td>T0005689461</td>\n",
       "      <td>-0.575863</td>\n",
       "      <td>B</td>\n",
       "      <td>1.047783</td>\n",
       "      <td>-0.425869</td>\n",
       "      <td>A</td>\n",
       "      <td>0.612954</td>\n",
       "      <td>-0.755533</td>\n",
       "      <td>-1.765154</td>\n",
       "      <td>0.967620</td>\n",
       "      <td>0.253385</td>\n",
       "      <td>Male</td>\n",
       "      <td>2.0</td>\n",
       "    </tr>\n",
       "    <tr>\n",
       "      <th>2</th>\n",
       "      <td>T0005689464</td>\n",
       "      <td>-0.101097</td>\n",
       "      <td>B</td>\n",
       "      <td>1.047783</td>\n",
       "      <td>2.382891</td>\n",
       "      <td>E</td>\n",
       "      <td>0.665191</td>\n",
       "      <td>1.174518</td>\n",
       "      <td>0.007180</td>\n",
       "      <td>0.967620</td>\n",
       "      <td>0.167030</td>\n",
       "      <td>Male</td>\n",
       "      <td>2.0</td>\n",
       "    </tr>\n",
       "    <tr>\n",
       "      <th>3</th>\n",
       "      <td>T0005689465</td>\n",
       "      <td>0.682207</td>\n",
       "      <td>C</td>\n",
       "      <td>1.047783</td>\n",
       "      <td>2.280375</td>\n",
       "      <td>A</td>\n",
       "      <td>0.616776</td>\n",
       "      <td>-0.755533</td>\n",
       "      <td>0.007180</td>\n",
       "      <td>0.163517</td>\n",
       "      <td>-0.092035</td>\n",
       "      <td>Male</td>\n",
       "      <td>3.0</td>\n",
       "    </tr>\n",
       "    <tr>\n",
       "      <th>4</th>\n",
       "      <td>T0005689467</td>\n",
       "      <td>0.423066</td>\n",
       "      <td>C</td>\n",
       "      <td>1.047783</td>\n",
       "      <td>-0.290437</td>\n",
       "      <td>A</td>\n",
       "      <td>0.564539</td>\n",
       "      <td>3.104570</td>\n",
       "      <td>-0.885842</td>\n",
       "      <td>-0.439560</td>\n",
       "      <td>2.325909</td>\n",
       "      <td>Male</td>\n",
       "      <td>2.0</td>\n",
       "    </tr>\n",
       "  </tbody>\n",
       "</table>\n",
       "</div>"
      ],
      "text/plain": [
       "       Trip_ID  Trip_Distance Type_of_Cab  Customer_Since_Months  \\\n",
       "0  T0005689460      -1.465804           B              -1.424890   \n",
       "1  T0005689461      -0.575863           B               1.047783   \n",
       "2  T0005689464      -0.101097           B               1.047783   \n",
       "3  T0005689465       0.682207           C               1.047783   \n",
       "4  T0005689467       0.423066           C               1.047783   \n",
       "\n",
       "   Life_Style_Index Destination_Type  Customer_Rating  \\\n",
       "0         -0.616467                A         1.076720   \n",
       "1         -0.425869                A         0.612954   \n",
       "2          2.382891                E         0.665191   \n",
       "3          2.280375                A         0.616776   \n",
       "4         -0.290437                A         0.564539   \n",
       "\n",
       "   Cancellation_Last_1Month      Var1      Var2      Var3  Gender  \\\n",
       "0                 -0.755533 -1.629876 -1.042638 -1.301007  Female   \n",
       "1                 -0.755533 -1.765154  0.967620  0.253385    Male   \n",
       "2                  1.174518  0.007180  0.967620  0.167030    Male   \n",
       "3                 -0.755533  0.007180  0.163517 -0.092035    Male   \n",
       "4                  3.104570 -0.885842 -0.439560  2.325909    Male   \n",
       "\n",
       "   Surge_Pricing_Type  \n",
       "0                 2.0  \n",
       "1                 2.0  \n",
       "2                 2.0  \n",
       "3                 3.0  \n",
       "4                 2.0  "
      ]
     },
     "execution_count": 52,
     "metadata": {},
     "output_type": "execute_result"
    }
   ],
   "source": [
    "scaled_features_combined = combinedf.copy()\n",
    "col_names = ['Trip_Distance','Customer_Rating','Life_Style_Index','Cancellation_Last_1Month','Customer_Since_Months','Var1','Var2','Var3']\n",
    "features_combine = scaled_features_combined[col_names]\n",
    "features_combine = screal.fit_transform(features_combine.values)\n",
    "\n",
    "scaled_features_combined[col_names] = features_combine\n",
    "scaled_features_combined.head()"
   ]
  },
  {
   "cell_type": "code",
   "execution_count": 53,
   "metadata": {},
   "outputs": [
    {
     "data": {
      "text/plain": [
       "Trip_ID                         0\n",
       "Trip_Distance                   0\n",
       "Type_of_Cab                     0\n",
       "Customer_Since_Months           0\n",
       "Life_Style_Index                0\n",
       "Destination_Type                0\n",
       "Customer_Rating                 0\n",
       "Cancellation_Last_1Month        0\n",
       "Var1                            0\n",
       "Var2                            0\n",
       "Var3                            0\n",
       "Gender                          0\n",
       "Surge_Pricing_Type          87395\n",
       "dtype: int64"
      ]
     },
     "execution_count": 53,
     "metadata": {},
     "output_type": "execute_result"
    }
   ],
   "source": [
    "scaled_features_combined.isnull().sum()"
   ]
  },
  {
   "cell_type": "code",
   "execution_count": 55,
   "metadata": {},
   "outputs": [
    {
     "data": {
      "text/html": [
       "<div>\n",
       "<style scoped>\n",
       "    .dataframe tbody tr th:only-of-type {\n",
       "        vertical-align: middle;\n",
       "    }\n",
       "\n",
       "    .dataframe tbody tr th {\n",
       "        vertical-align: top;\n",
       "    }\n",
       "\n",
       "    .dataframe thead th {\n",
       "        text-align: right;\n",
       "    }\n",
       "</style>\n",
       "<table border=\"1\" class=\"dataframe\">\n",
       "  <thead>\n",
       "    <tr style=\"text-align: right;\">\n",
       "      <th></th>\n",
       "      <th>Trip_ID</th>\n",
       "      <th>Trip_Distance</th>\n",
       "      <th>Customer_Since_Months</th>\n",
       "      <th>Life_Style_Index</th>\n",
       "      <th>Customer_Rating</th>\n",
       "      <th>Cancellation_Last_1Month</th>\n",
       "      <th>Var1</th>\n",
       "      <th>Var2</th>\n",
       "      <th>Var3</th>\n",
       "      <th>Surge_Pricing_Type</th>\n",
       "      <th>...</th>\n",
       "      <th>F</th>\n",
       "      <th>G</th>\n",
       "      <th>H</th>\n",
       "      <th>I</th>\n",
       "      <th>J</th>\n",
       "      <th>K</th>\n",
       "      <th>L</th>\n",
       "      <th>M</th>\n",
       "      <th>N</th>\n",
       "      <th>Male</th>\n",
       "    </tr>\n",
       "  </thead>\n",
       "  <tbody>\n",
       "    <tr>\n",
       "      <th>0</th>\n",
       "      <td>T0005689460</td>\n",
       "      <td>-1.465804</td>\n",
       "      <td>-1.424890</td>\n",
       "      <td>-0.616467</td>\n",
       "      <td>1.076720</td>\n",
       "      <td>-0.755533</td>\n",
       "      <td>-1.629876</td>\n",
       "      <td>-1.042638</td>\n",
       "      <td>-1.301007</td>\n",
       "      <td>2.0</td>\n",
       "      <td>...</td>\n",
       "      <td>0</td>\n",
       "      <td>0</td>\n",
       "      <td>0</td>\n",
       "      <td>0</td>\n",
       "      <td>0</td>\n",
       "      <td>0</td>\n",
       "      <td>0</td>\n",
       "      <td>0</td>\n",
       "      <td>0</td>\n",
       "      <td>0</td>\n",
       "    </tr>\n",
       "    <tr>\n",
       "      <th>1</th>\n",
       "      <td>T0005689461</td>\n",
       "      <td>-0.575863</td>\n",
       "      <td>1.047783</td>\n",
       "      <td>-0.425869</td>\n",
       "      <td>0.612954</td>\n",
       "      <td>-0.755533</td>\n",
       "      <td>-1.765154</td>\n",
       "      <td>0.967620</td>\n",
       "      <td>0.253385</td>\n",
       "      <td>2.0</td>\n",
       "      <td>...</td>\n",
       "      <td>0</td>\n",
       "      <td>0</td>\n",
       "      <td>0</td>\n",
       "      <td>0</td>\n",
       "      <td>0</td>\n",
       "      <td>0</td>\n",
       "      <td>0</td>\n",
       "      <td>0</td>\n",
       "      <td>0</td>\n",
       "      <td>1</td>\n",
       "    </tr>\n",
       "    <tr>\n",
       "      <th>2</th>\n",
       "      <td>T0005689464</td>\n",
       "      <td>-0.101097</td>\n",
       "      <td>1.047783</td>\n",
       "      <td>2.382891</td>\n",
       "      <td>0.665191</td>\n",
       "      <td>1.174518</td>\n",
       "      <td>0.007180</td>\n",
       "      <td>0.967620</td>\n",
       "      <td>0.167030</td>\n",
       "      <td>2.0</td>\n",
       "      <td>...</td>\n",
       "      <td>0</td>\n",
       "      <td>0</td>\n",
       "      <td>0</td>\n",
       "      <td>0</td>\n",
       "      <td>0</td>\n",
       "      <td>0</td>\n",
       "      <td>0</td>\n",
       "      <td>0</td>\n",
       "      <td>0</td>\n",
       "      <td>1</td>\n",
       "    </tr>\n",
       "    <tr>\n",
       "      <th>3</th>\n",
       "      <td>T0005689465</td>\n",
       "      <td>0.682207</td>\n",
       "      <td>1.047783</td>\n",
       "      <td>2.280375</td>\n",
       "      <td>0.616776</td>\n",
       "      <td>-0.755533</td>\n",
       "      <td>0.007180</td>\n",
       "      <td>0.163517</td>\n",
       "      <td>-0.092035</td>\n",
       "      <td>3.0</td>\n",
       "      <td>...</td>\n",
       "      <td>0</td>\n",
       "      <td>0</td>\n",
       "      <td>0</td>\n",
       "      <td>0</td>\n",
       "      <td>0</td>\n",
       "      <td>0</td>\n",
       "      <td>0</td>\n",
       "      <td>0</td>\n",
       "      <td>0</td>\n",
       "      <td>1</td>\n",
       "    </tr>\n",
       "    <tr>\n",
       "      <th>4</th>\n",
       "      <td>T0005689467</td>\n",
       "      <td>0.423066</td>\n",
       "      <td>1.047783</td>\n",
       "      <td>-0.290437</td>\n",
       "      <td>0.564539</td>\n",
       "      <td>3.104570</td>\n",
       "      <td>-0.885842</td>\n",
       "      <td>-0.439560</td>\n",
       "      <td>2.325909</td>\n",
       "      <td>2.0</td>\n",
       "      <td>...</td>\n",
       "      <td>0</td>\n",
       "      <td>0</td>\n",
       "      <td>0</td>\n",
       "      <td>0</td>\n",
       "      <td>0</td>\n",
       "      <td>0</td>\n",
       "      <td>0</td>\n",
       "      <td>0</td>\n",
       "      <td>0</td>\n",
       "      <td>1</td>\n",
       "    </tr>\n",
       "  </tbody>\n",
       "</table>\n",
       "<p>5 rows × 28 columns</p>\n",
       "</div>"
      ],
      "text/plain": [
       "       Trip_ID  Trip_Distance  Customer_Since_Months  Life_Style_Index  \\\n",
       "0  T0005689460      -1.465804              -1.424890         -0.616467   \n",
       "1  T0005689461      -0.575863               1.047783         -0.425869   \n",
       "2  T0005689464      -0.101097               1.047783          2.382891   \n",
       "3  T0005689465       0.682207               1.047783          2.280375   \n",
       "4  T0005689467       0.423066               1.047783         -0.290437   \n",
       "\n",
       "   Customer_Rating  Cancellation_Last_1Month      Var1      Var2      Var3  \\\n",
       "0         1.076720                 -0.755533 -1.629876 -1.042638 -1.301007   \n",
       "1         0.612954                 -0.755533 -1.765154  0.967620  0.253385   \n",
       "2         0.665191                  1.174518  0.007180  0.967620  0.167030   \n",
       "3         0.616776                 -0.755533  0.007180  0.163517 -0.092035   \n",
       "4         0.564539                  3.104570 -0.885842 -0.439560  2.325909   \n",
       "\n",
       "   Surge_Pricing_Type  ...  F  G  H  I  J  K  L  M  N  Male  \n",
       "0                 2.0  ...  0  0  0  0  0  0  0  0  0     0  \n",
       "1                 2.0  ...  0  0  0  0  0  0  0  0  0     1  \n",
       "2                 2.0  ...  0  0  0  0  0  0  0  0  0     1  \n",
       "3                 3.0  ...  0  0  0  0  0  0  0  0  0     1  \n",
       "4                 2.0  ...  0  0  0  0  0  0  0  0  0     1  \n",
       "\n",
       "[5 rows x 28 columns]"
      ]
     },
     "execution_count": 55,
     "metadata": {},
     "output_type": "execute_result"
    }
   ],
   "source": [
    "appenddf = pd.get_dummies(scaled_features_combined['Type_of_Cab'],drop_first=True)\n",
    "scaled_features_combined = pd.concat([scaled_features_combined.drop('Type_of_Cab',axis=1),appenddf], axis=1)\n",
    "appenddf = pd.get_dummies(scaled_features_combined['Destination_Type'],drop_first=True)\n",
    "scaled_features_combined = pd.concat([scaled_features_combined.drop('Destination_Type',axis=1),appenddf], axis=1)\n",
    "appenddf = pd.get_dummies(scaled_features_combined['Gender'],drop_first=True)\n",
    "scaled_features_combined = pd.concat([scaled_features_combined.drop('Gender',axis=1),appenddf], axis=1)\n",
    "scaled_features_combined.head()"
   ]
  },
  {
   "cell_type": "code",
   "execution_count": null,
   "metadata": {},
   "outputs": [],
   "source": []
  },
  {
   "cell_type": "code",
   "execution_count": 56,
   "metadata": {
    "scrolled": true
   },
   "outputs": [
    {
     "name": "stdout",
     "output_type": "stream",
     "text": [
      "<class 'pandas.core.frame.DataFrame'>\n",
      "Int64Index: 219057 entries, 0 to 87394\n",
      "Data columns (total 28 columns):\n",
      " #   Column                    Non-Null Count   Dtype  \n",
      "---  ------                    --------------   -----  \n",
      " 0   Trip_ID                   219057 non-null  object \n",
      " 1   Trip_Distance             219057 non-null  float64\n",
      " 2   Customer_Since_Months     219057 non-null  float64\n",
      " 3   Life_Style_Index          219057 non-null  float64\n",
      " 4   Customer_Rating           219057 non-null  float64\n",
      " 5   Cancellation_Last_1Month  219057 non-null  float64\n",
      " 6   Var1                      219057 non-null  float64\n",
      " 7   Var2                      219057 non-null  float64\n",
      " 8   Var3                      219057 non-null  float64\n",
      " 9   Surge_Pricing_Type        131662 non-null  float64\n",
      " 10  B                         219057 non-null  uint8  \n",
      " 11  C                         219057 non-null  uint8  \n",
      " 12  D                         219057 non-null  uint8  \n",
      " 13  E                         219057 non-null  uint8  \n",
      " 14  B                         219057 non-null  uint8  \n",
      " 15  C                         219057 non-null  uint8  \n",
      " 16  D                         219057 non-null  uint8  \n",
      " 17  E                         219057 non-null  uint8  \n",
      " 18  F                         219057 non-null  uint8  \n",
      " 19  G                         219057 non-null  uint8  \n",
      " 20  H                         219057 non-null  uint8  \n",
      " 21  I                         219057 non-null  uint8  \n",
      " 22  J                         219057 non-null  uint8  \n",
      " 23  K                         219057 non-null  uint8  \n",
      " 24  L                         219057 non-null  uint8  \n",
      " 25  M                         219057 non-null  uint8  \n",
      " 26  N                         219057 non-null  uint8  \n",
      " 27  Male                      219057 non-null  uint8  \n",
      "dtypes: float64(9), object(1), uint8(18)\n",
      "memory usage: 22.1+ MB\n"
     ]
    }
   ],
   "source": [
    "scaled_features_combined.info()"
   ]
  },
  {
   "cell_type": "code",
   "execution_count": 66,
   "metadata": {},
   "outputs": [],
   "source": [
    "traindf = scaled_features_combined.iloc[:131662]\n",
    "testdf = scaled_features_combined.iloc[131662:]"
   ]
  },
  {
   "cell_type": "code",
   "execution_count": 67,
   "metadata": {},
   "outputs": [
    {
     "name": "stdout",
     "output_type": "stream",
     "text": [
      "<class 'pandas.core.frame.DataFrame'>\n",
      "Int64Index: 87395 entries, 0 to 87394\n",
      "Data columns (total 28 columns):\n",
      " #   Column                    Non-Null Count  Dtype  \n",
      "---  ------                    --------------  -----  \n",
      " 0   Trip_ID                   87395 non-null  object \n",
      " 1   Trip_Distance             87395 non-null  float64\n",
      " 2   Customer_Since_Months     87395 non-null  float64\n",
      " 3   Life_Style_Index          87395 non-null  float64\n",
      " 4   Customer_Rating           87395 non-null  float64\n",
      " 5   Cancellation_Last_1Month  87395 non-null  float64\n",
      " 6   Var1                      87395 non-null  float64\n",
      " 7   Var2                      87395 non-null  float64\n",
      " 8   Var3                      87395 non-null  float64\n",
      " 9   Surge_Pricing_Type        0 non-null      float64\n",
      " 10  B                         87395 non-null  uint8  \n",
      " 11  C                         87395 non-null  uint8  \n",
      " 12  D                         87395 non-null  uint8  \n",
      " 13  E                         87395 non-null  uint8  \n",
      " 14  B                         87395 non-null  uint8  \n",
      " 15  C                         87395 non-null  uint8  \n",
      " 16  D                         87395 non-null  uint8  \n",
      " 17  E                         87395 non-null  uint8  \n",
      " 18  F                         87395 non-null  uint8  \n",
      " 19  G                         87395 non-null  uint8  \n",
      " 20  H                         87395 non-null  uint8  \n",
      " 21  I                         87395 non-null  uint8  \n",
      " 22  J                         87395 non-null  uint8  \n",
      " 23  K                         87395 non-null  uint8  \n",
      " 24  L                         87395 non-null  uint8  \n",
      " 25  M                         87395 non-null  uint8  \n",
      " 26  N                         87395 non-null  uint8  \n",
      " 27  Male                      87395 non-null  uint8  \n",
      "dtypes: float64(9), object(1), uint8(18)\n",
      "memory usage: 8.8+ MB\n"
     ]
    }
   ],
   "source": [
    "testdf.info()"
   ]
  },
  {
   "cell_type": "code",
   "execution_count": 68,
   "metadata": {},
   "outputs": [
    {
     "name": "stdout",
     "output_type": "stream",
     "text": [
      "<class 'pandas.core.frame.DataFrame'>\n",
      "Int64Index: 131662 entries, 0 to 131661\n",
      "Data columns (total 28 columns):\n",
      " #   Column                    Non-Null Count   Dtype  \n",
      "---  ------                    --------------   -----  \n",
      " 0   Trip_ID                   131662 non-null  object \n",
      " 1   Trip_Distance             131662 non-null  float64\n",
      " 2   Customer_Since_Months     131662 non-null  float64\n",
      " 3   Life_Style_Index          131662 non-null  float64\n",
      " 4   Customer_Rating           131662 non-null  float64\n",
      " 5   Cancellation_Last_1Month  131662 non-null  float64\n",
      " 6   Var1                      131662 non-null  float64\n",
      " 7   Var2                      131662 non-null  float64\n",
      " 8   Var3                      131662 non-null  float64\n",
      " 9   Surge_Pricing_Type        131662 non-null  float64\n",
      " 10  B                         131662 non-null  uint8  \n",
      " 11  C                         131662 non-null  uint8  \n",
      " 12  D                         131662 non-null  uint8  \n",
      " 13  E                         131662 non-null  uint8  \n",
      " 14  B                         131662 non-null  uint8  \n",
      " 15  C                         131662 non-null  uint8  \n",
      " 16  D                         131662 non-null  uint8  \n",
      " 17  E                         131662 non-null  uint8  \n",
      " 18  F                         131662 non-null  uint8  \n",
      " 19  G                         131662 non-null  uint8  \n",
      " 20  H                         131662 non-null  uint8  \n",
      " 21  I                         131662 non-null  uint8  \n",
      " 22  J                         131662 non-null  uint8  \n",
      " 23  K                         131662 non-null  uint8  \n",
      " 24  L                         131662 non-null  uint8  \n",
      " 25  M                         131662 non-null  uint8  \n",
      " 26  N                         131662 non-null  uint8  \n",
      " 27  Male                      131662 non-null  uint8  \n",
      "dtypes: float64(9), object(1), uint8(18)\n",
      "memory usage: 13.3+ MB\n"
     ]
    }
   ],
   "source": [
    "traindf.info()"
   ]
  },
  {
   "cell_type": "markdown",
   "metadata": {},
   "source": [
    "# Models"
   ]
  },
  {
   "cell_type": "code",
   "execution_count": 69,
   "metadata": {},
   "outputs": [
    {
     "data": {
      "text/plain": [
       "Index(['Trip_ID', 'Trip_Distance', 'Customer_Since_Months', 'Life_Style_Index',\n",
       "       'Customer_Rating', 'Cancellation_Last_1Month', 'Var1', 'Var2', 'Var3',\n",
       "       'Surge_Pricing_Type', 'B', 'C', 'D', 'E', 'B', 'C', 'D', 'E', 'F', 'G',\n",
       "       'H', 'I', 'J', 'K', 'L', 'M', 'N', 'Male'],\n",
       "      dtype='object')"
      ]
     },
     "execution_count": 69,
     "metadata": {},
     "output_type": "execute_result"
    }
   ],
   "source": [
    "traindf.columns"
   ]
  },
  {
   "cell_type": "code",
   "execution_count": 72,
   "metadata": {},
   "outputs": [],
   "source": [
    "X_train = traindf[['Trip_Distance', 'Customer_Since_Months', 'Life_Style_Index',\n",
    "       'Customer_Rating', 'Cancellation_Last_1Month', 'Var1', 'Var2', 'Var3',\n",
    "        'B', 'C', 'D', 'E', 'B', 'C', 'D', 'E', 'F', 'G',\n",
    "       'H', 'I', 'J', 'K', 'L', 'M', 'N', 'Male']]\n",
    "y_train = traindf['Surge_Pricing_Type']"
   ]
  },
  {
   "cell_type": "code",
   "execution_count": 73,
   "metadata": {},
   "outputs": [
    {
     "name": "stderr",
     "output_type": "stream",
     "text": [
      "C:\\Anaconda\\lib\\site-packages\\sklearn\\linear_model\\_logistic.py:940: ConvergenceWarning: lbfgs failed to converge (status=1):\n",
      "STOP: TOTAL NO. of ITERATIONS REACHED LIMIT.\n",
      "\n",
      "Increase the number of iterations (max_iter) or scale the data as shown in:\n",
      "    https://scikit-learn.org/stable/modules/preprocessing.html\n",
      "Please also refer to the documentation for alternative solver options:\n",
      "    https://scikit-learn.org/stable/modules/linear_model.html#logistic-regression\n",
      "  extra_warning_msg=_LOGISTIC_SOLVER_CONVERGENCE_MSG)\n"
     ]
    },
    {
     "data": {
      "text/plain": [
       "LogisticRegression(C=1.0, class_weight=None, dual=False, fit_intercept=True,\n",
       "                   intercept_scaling=1, l1_ratio=None, max_iter=100,\n",
       "                   multi_class='auto', n_jobs=None, penalty='l2',\n",
       "                   random_state=None, solver='lbfgs', tol=0.0001, verbose=0,\n",
       "                   warm_start=False)"
      ]
     },
     "execution_count": 73,
     "metadata": {},
     "output_type": "execute_result"
    }
   ],
   "source": [
    "logicreg = LogisticRegression()\n",
    "\n",
    "logicreg.fit(X_train,y_train)"
   ]
  },
  {
   "cell_type": "code",
   "execution_count": 74,
   "metadata": {},
   "outputs": [],
   "source": [
    "X_test = testdf[['Trip_Distance', 'Customer_Since_Months', 'Life_Style_Index',\n",
    "       'Customer_Rating', 'Cancellation_Last_1Month', 'Var1', 'Var2', 'Var3',\n",
    "        'B', 'C', 'D', 'E', 'B', 'C', 'D', 'E', 'F', 'G',\n",
    "       'H', 'I', 'J', 'K', 'L', 'M', 'N', 'Male']]\n",
    "predictions = logicreg.predict(X_test)"
   ]
  },
  {
   "cell_type": "code",
   "execution_count": 100,
   "metadata": {},
   "outputs": [
    {
     "data": {
      "text/plain": [
       "RandomForestClassifier(bootstrap=True, ccp_alpha=0.0, class_weight=None,\n",
       "                       criterion='gini', max_depth=None, max_features='auto',\n",
       "                       max_leaf_nodes=None, max_samples=None,\n",
       "                       min_impurity_decrease=0.0, min_impurity_split=None,\n",
       "                       min_samples_leaf=1, min_samples_split=2,\n",
       "                       min_weight_fraction_leaf=0.0, n_estimators=100,\n",
       "                       n_jobs=None, oob_score=False, random_state=None,\n",
       "                       verbose=0, warm_start=False)"
      ]
     },
     "execution_count": 100,
     "metadata": {},
     "output_type": "execute_result"
    }
   ],
   "source": [
    "from sklearn.ensemble import RandomForestClassifier\n",
    "\n",
    "rfc = RandomForestClassifier()\n",
    "\n",
    "rfc.fit(X_train,y_train)"
   ]
  },
  {
   "cell_type": "code",
   "execution_count": 101,
   "metadata": {},
   "outputs": [],
   "source": [
    "predictions = rfc.predict(X_test)"
   ]
  },
  {
   "cell_type": "code",
   "execution_count": null,
   "metadata": {},
   "outputs": [
    {
     "name": "stdout",
     "output_type": "stream",
     "text": [
      "Fitting 3 folds for each of 288 candidates, totalling 864 fits\n"
     ]
    },
    {
     "name": "stderr",
     "output_type": "stream",
     "text": [
      "[Parallel(n_jobs=-1)]: Using backend LokyBackend with 4 concurrent workers.\n",
      "[Parallel(n_jobs=-1)]: Done  33 tasks      | elapsed: 12.7min\n"
     ]
    }
   ],
   "source": [
    "from sklearn.model_selection import GridSearchCV\n",
    "# Create the parameter grid based on the results of random search \n",
    "param_grid = {\n",
    "    'bootstrap': [True],\n",
    "    'max_depth': [80, 90, 100, 110],\n",
    "    'max_features': [2, 3],\n",
    "    'min_samples_leaf': [3, 4, 5],\n",
    "    'min_samples_split': [8, 10, 12],\n",
    "    'n_estimators': [100, 200, 300, 1000]\n",
    "}\n",
    "# Create a based model\n",
    "rf = RandomForestClassifier()\n",
    "# Instantiate the grid search model\n",
    "grid_search = GridSearchCV(estimator = rf, param_grid = param_grid, \n",
    "                          cv = 3, n_jobs = -1, verbose = 2)\n",
    "grid_search.fit(X_train, y_train)\n"
   ]
  },
  {
   "cell_type": "code",
   "execution_count": null,
   "metadata": {},
   "outputs": [],
   "source": []
  },
  {
   "cell_type": "code",
   "execution_count": null,
   "metadata": {},
   "outputs": [],
   "source": []
  },
  {
   "cell_type": "code",
   "execution_count": null,
   "metadata": {},
   "outputs": [],
   "source": []
  },
  {
   "cell_type": "code",
   "execution_count": null,
   "metadata": {},
   "outputs": [],
   "source": []
  },
  {
   "cell_type": "code",
   "execution_count": null,
   "metadata": {},
   "outputs": [],
   "source": []
  },
  {
   "cell_type": "code",
   "execution_count": 102,
   "metadata": {},
   "outputs": [],
   "source": [
    "ans = pd.DataFrame(predictions,columns=['Surge_Pricing_Type'])\n",
    "\n",
    "ans = pd.concat([ans,testdf['Trip_ID']],axis=1)\n",
    "\n",
    "ans.to_csv('submissionrfc.csv',index=False)"
   ]
  },
  {
   "cell_type": "code",
   "execution_count": 103,
   "metadata": {},
   "outputs": [
    {
     "data": {
      "text/html": [
       "<div>\n",
       "<style scoped>\n",
       "    .dataframe tbody tr th:only-of-type {\n",
       "        vertical-align: middle;\n",
       "    }\n",
       "\n",
       "    .dataframe tbody tr th {\n",
       "        vertical-align: top;\n",
       "    }\n",
       "\n",
       "    .dataframe thead th {\n",
       "        text-align: right;\n",
       "    }\n",
       "</style>\n",
       "<table border=\"1\" class=\"dataframe\">\n",
       "  <thead>\n",
       "    <tr style=\"text-align: right;\">\n",
       "      <th></th>\n",
       "      <th>Surge_Pricing_Type</th>\n",
       "      <th>Trip_ID</th>\n",
       "    </tr>\n",
       "  </thead>\n",
       "  <tbody>\n",
       "    <tr>\n",
       "      <th>0</th>\n",
       "      <td>1.0</td>\n",
       "      <td>T0005689459</td>\n",
       "    </tr>\n",
       "    <tr>\n",
       "      <th>1</th>\n",
       "      <td>2.0</td>\n",
       "      <td>T0005689462</td>\n",
       "    </tr>\n",
       "    <tr>\n",
       "      <th>2</th>\n",
       "      <td>2.0</td>\n",
       "      <td>T0005689463</td>\n",
       "    </tr>\n",
       "    <tr>\n",
       "      <th>3</th>\n",
       "      <td>2.0</td>\n",
       "      <td>T0005689466</td>\n",
       "    </tr>\n",
       "    <tr>\n",
       "      <th>4</th>\n",
       "      <td>2.0</td>\n",
       "      <td>T0005689468</td>\n",
       "    </tr>\n",
       "  </tbody>\n",
       "</table>\n",
       "</div>"
      ],
      "text/plain": [
       "   Surge_Pricing_Type      Trip_ID\n",
       "0                 1.0  T0005689459\n",
       "1                 2.0  T0005689462\n",
       "2                 2.0  T0005689463\n",
       "3                 2.0  T0005689466\n",
       "4                 2.0  T0005689468"
      ]
     },
     "execution_count": 103,
     "metadata": {},
     "output_type": "execute_result"
    }
   ],
   "source": [
    "ans.head()"
   ]
  },
  {
   "cell_type": "code",
   "execution_count": null,
   "metadata": {},
   "outputs": [],
   "source": []
  }
 ],
 "metadata": {
  "kernelspec": {
   "display_name": "Python 3",
   "language": "python",
   "name": "python3"
  },
  "language_info": {
   "codemirror_mode": {
    "name": "ipython",
    "version": 3
   },
   "file_extension": ".py",
   "mimetype": "text/x-python",
   "name": "python",
   "nbconvert_exporter": "python",
   "pygments_lexer": "ipython3",
   "version": "3.7.7"
  }
 },
 "nbformat": 4,
 "nbformat_minor": 4
}
